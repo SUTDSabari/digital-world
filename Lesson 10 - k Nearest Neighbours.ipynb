{
 "cells": [
  {
   "cell_type": "markdown",
   "metadata": {},
   "source": [
    "# Recall \n",
    " <ul> <li>confusion matrix </li> <li>positive case </li><li>accuracy / sensitivity </li></ul>\n",
    " \n",
    " accuracy = (predicted true and actually true + predicted false and actually false)/total\n",
    " \n",
    " sensitivity = (predicted true and actually true) / all that is actually true\n",
    " \n",
    " In the prediction of diseases like cancer, we are interested in maximising the sensitivity."
   ]
  },
  {
   "cell_type": "code",
   "execution_count": 7,
   "metadata": {},
   "outputs": [],
   "source": [
    "import numpy as np\n",
    "from sklearn import neighbors, datasets\n",
    "from sklearn.model_selection import train_test_split \n",
    "from sklearn.metrics import mean_squared_error\n",
    "import matplotlib.pyplot as plt"
   ]
  },
  {
   "cell_type": "markdown",
   "metadata": {},
   "source": [
    "# The Iris Dataset \n",
    "\n",
    "## The Iris dataset has four features <BR> In the target, three categories (type of flower)\n",
    "\n",
    "## When we plot them on a graph, records from <BR>each category seem to be near each other.\n",
    "\n",
    "I chose the Iris dataset to illustrate this because the groupings are really obvious."
   ]
  },
  {
   "cell_type": "code",
   "execution_count": 8,
   "metadata": {},
   "outputs": [
    {
     "data": {
      "image/png": "[encoded data removed]",
      "text/plain": [
       "<Figure size 432x288 with 1 Axes>"
      ]
     },
     "metadata": {},
     "output_type": "display_data"
    }
   ],
   "source": [
    "bunchobject = datasets.load_iris()\n",
    "feature_index = [0,2]\n",
    "my_data = bunchobject.data[:,feature_index]\n",
    "''' the colours are according to the category'''\n",
    "plt.scatter(my_data[:,0],my_data[:,1],c=bunchobject.target)\n",
    "my_x = bunchobject.feature_names[0]\n",
    "my_y = bunchobject.feature_names[2]\n",
    "plt.xlabel(my_x)\n",
    "plt.ylabel(my_y)\n",
    "plt.title('The Iris Dataset')\n",
    "plt.show()"
   ]
  },
  {
   "cell_type": "markdown",
   "metadata": {},
   "source": [
    "# The k-Nearest Neighbours model (kNN)\n",
    "\n",
    "So it would seem that if we had a new record to classify,  we can compare it against its neighbours and use the classification of its neighbours.\n",
    "\n",
    "This is the intuition behind the k-nearest neighbours model."
   ]
  },
  {
   "cell_type": "markdown",
   "metadata": {},
   "source": [
    "<font color = 'blue'> The classification of an (unknown) record is determined by the majority of the classifications of its <font color = 'red'> k </font> nearest neighbours.</font>"
   ]
  },
  {
   "cell_type": "markdown",
   "metadata": {
    "collapsed": true
   },
   "source": [
    "## Let's begin. Put your code for get_metrics and <BR>normalize_minmax in these cells."
   ]
  },
  {
   "cell_type": "code",
   "execution_count": null,
   "metadata": {},
   "outputs": [],
   "source": []
  },
  {
   "cell_type": "code",
   "execution_count": null,
   "metadata": {},
   "outputs": [],
   "source": []
  },
  {
   "cell_type": "code",
   "execution_count": null,
   "metadata": {},
   "outputs": [],
   "source": [
    "import numpy as np\n",
    "\n",
    "def normalize_minmax(data):\n",
    "    data = np.transpose(data)\n",
    "    result = []\n",
    "    for col in data:\n",
    "        col -= np.min(col)\n",
    "        col /= np.max(col)\n",
    "        result.append(col)\n",
    "    return np.transpose(result)"
   ]
  },
  {
   "cell_type": "code",
   "execution_count": null,
   "metadata": {},
   "outputs": [],
   "source": [
    "from sklearn.metrics import confusion_matrix\n",
    "\n",
    "def get_metrics(actual_targets, predicted_targets, labels):\n",
    "    dict_ = {}\n",
    "    cm = confusion_matrix(actual_targets, predicted_targets, labels)\n",
    "    dict_[\"confusion matrix\"] = cm\n",
    "    dict_[\"total records\"] = len(actual_targets)\n",
    "    dict_[\"accuracy\"] = np.round(sum([cm[i][i] for i in range(len(cm))])/len(actual_targets),3)\n",
    "    dict_[\"false positive rate\"] = np.round(cm[0][1]/(cm[0][1] + cm[0][0]),3)\n",
    "    dict_[\"sensitivity\"] = np.round(cm[1][1]/(cm[1][0] + cm[1][1]),3)\n",
    "#     print(cm)\n",
    "    return dict_\n",
    "\n",
    "\n",
    "#{'': array([[3, 1],\n",
    "# [2, 2]]), 'total records': 8, 'accuracy': 0.625, 'sensitivity':\n",
    "#0.5, 'false positive rate': 0.25}"
   ]
  },
  {
   "cell_type": "markdown",
   "metadata": {},
   "source": [
    "# The Python Code"
   ]
  },
  {
   "cell_type": "markdown",
   "metadata": {},
   "source": [
    "## Load the data and select the features you want to include \n",
    "\n",
    "For now the selection of features is an arbitrary decision"
   ]
  },
  {
   "cell_type": "code",
   "execution_count": null,
   "metadata": {},
   "outputs": [],
   "source": [
    "bunchobject = datasets.load_breast_cancer()\n",
    "feature_index = range(20)\n",
    "data = bunchobject.data[:,feature_index]"
   ]
  },
  {
   "cell_type": "markdown",
   "metadata": {},
   "source": [
    "## Normalize the data \n",
    "\n",
    "### Why normalize? The definition of \"nearest\" is by a distance measure \n",
    "\n",
    "### The default distance measure is the euclidean distance\n",
    "\n",
    "For features $x$ and $y$, the \"distance\" $= \\sqrt{ (x_1 - x_2)^2 + (y_1 - y_2)^2} $\n",
    "\n",
    "Any feature that has a larger order of magnitude will have a larger effect on this value. \n",
    "\n",
    "Therefore we normalize to ensure that no single feature will dominate this calculation. \n",
    "\n",
    "- makes sense"
   ]
  },
  {
   "cell_type": "code",
   "execution_count": null,
   "metadata": {},
   "outputs": [],
   "source": [
    "data = normalize_minmax(data)"
   ]
  },
  {
   "cell_type": "markdown",
   "metadata": {},
   "source": [
    "## Split the data into the training and test set "
   ]
  },
  {
   "cell_type": "code",
   "execution_count": null,
   "metadata": {},
   "outputs": [],
   "source": [
    "size = 0.4\n",
    "seed = 2752\n",
    "target = bunchobject.target\n",
    "data_train, data_test, target_train, target_test = train_test_split(data, \n",
    "                                                                    target, \n",
    "                                                                    test_size = size, \n",
    "                                                                    random_state = seed)"
   ]
  },
  {
   "cell_type": "markdown",
   "metadata": {},
   "source": [
    "## Get an instance of the classifier and fit it to the training set\n",
    "\n",
    "## The training set now becomes the nearest neighbours <BR> for the model to make predictions on the test set. \n",
    "\n",
    "## <font color = 'blue'> Your training set data IS the model</font>\n",
    "\n",
    "## Arbitrarily select the value of <font color = 'red'> k </font> (for now)"
   ]
  },
  {
   "cell_type": "code",
   "execution_count": null,
   "metadata": {},
   "outputs": [],
   "source": [
    "k = 3\n",
    "clf =  neighbors.KNeighborsClassifier(k)\n",
    "clf.fit(data_train, target_train)"
   ]
  },
  {
   "cell_type": "markdown",
   "metadata": {},
   "source": [
    "## Make predictions on the test set "
   ]
  },
  {
   "cell_type": "code",
   "execution_count": null,
   "metadata": {},
   "outputs": [],
   "source": [
    "target_predicted = clf.predict(data_test)"
   ]
  },
  {
   "cell_type": "markdown",
   "metadata": {},
   "source": [
    "## Generate the confusion matrix"
   ]
  },
  {
   "cell_type": "code",
   "execution_count": null,
   "metadata": {},
   "outputs": [],
   "source": [
    "from sklearn.metrics import confusion_matrix\n",
    "confusion_matrix(target_test, target_predicted)"
   ]
  },
  {
   "cell_type": "markdown",
   "metadata": {},
   "source": [
    "# Actually, divide your dataset into three parts\n",
    "\n",
    "## We need a validation process to select the value of <font color ='red'> k </font>\n",
    "\n",
    "Because you arbitrarily selected it just now. How do you know it produces the best accuracy? \n",
    "\n",
    "## The sets are now <ul> <li> training set</li><li><font color='red'>validation set</font></li> <li>test set </li></ul>\n",
    "### Make predictions on the <font color = 'red'>validation set</font> for different values of <font color = 'red'>k </font>. \n",
    "\n",
    "### Choose the <font color = 'red'> k </font> that gives you the best accuracy (or your chosen metric)\n",
    "\n",
    "### With this value of <font color = 'red'>k</font>, you have your final model. \n",
    "\n",
    "### Use the <font color = 'blue'>test set</font> to get an idea of how your model will perform on data that it has not seen. "
   ]
  },
  {
   "cell_type": "code",
   "execution_count": null,
   "metadata": {},
   "outputs": [],
   "source": [
    "from sklearn.model_selection import train_test_split \n",
    "from sklearn import neighbors, datasets\n",
    "from sklearn.metrics import confusion_matrix\n",
    "import numpy as np\n",
    "\n",
    "# place all other function definitions you need here\n",
    "#\n",
    "\n",
    "def knn_classifier(bunchobject, feature_list, size, seed, k): \n",
    "    '''extract and normalize data'''\n",
    "    bunchobject = datasets.load_breast_cancer()\n",
    "    data = bunchobject.data[:,feature_list]\n",
    "    data = normalize_minmax(data)\n",
    "    \n",
    "    target = bunchobject.target\n",
    "    data_train, data_test, target_train, target_test = train_test_split(\n",
    "        data, target, test_size = size, random_state = seed)\n",
    "    \n",
    "    clf =  neighbors.KNeighborsClassifier(k)\n",
    "    clf.fit(data_train, target_train)\n",
    "    \n",
    "    target_predicted = clf.predict(data_test)\n",
    "#     confusion_matrix_ = confusion_matrix(target_test, target_predicted)\n",
    "    \n",
    "    \n",
    "    result = get_metrics(target_test, target_predicted, [0,1])\n",
    "#     results = {}\n",
    "#     results['confusion matrix'] = confusion_matrix_\n",
    "#     results['total records'] = np.sum(np.sum(confusion_matrix_))\n",
    "#     results['accuracy'] = np.round((confusion_matrix_[0,0] + confusion_matrix_[1,1]) / results['total records'],3)\n",
    "#     results['sensitivity'] = np.round((confusion_matrix_[1,0] + confusion_matrix_[1,1]) / results['total records'],3)\n",
    "#     results['false positive rate'] = np.round(confusion_matrix_[0,0] / (confusion_matrix_[1,0] + confusion_matrix_[1,1]),3)\n",
    "    return result"
   ]
  },
  {
   "cell_type": "code",
   "execution_count": null,
   "metadata": {},
   "outputs": [],
   "source": [
    "features = range(20)\n",
    "results = knn_classifier(bunchobject, features, 0.40, 2752, 3)\n",
    "print(results)"
   ]
  },
  {
   "cell_type": "code",
   "execution_count": null,
   "metadata": {},
   "outputs": [],
   "source": [
    "{'confusion matrix': array([[ 73, 9],\n",
    " [ 5, 141]]), 'total records': 228, 'accuracy': 0.939,\n",
    "'sensitivity': 0.966, 'false positive rate': 0.11}"
   ]
  },
  {
   "cell_type": "code",
   "execution_count": null,
   "metadata": {},
   "outputs": [],
   "source": [
    "def knn_classifier(bunchobject, feature_list, size, seed , k ): \n",
    "    '''extract and normalize data'''\n",
    "    data_raw = bunchobject.data[:, feature_list]\n",
    "    target = bunchobject.target\n",
    "    data = normalize_minmax(data_raw)\n",
    "    \n",
    "    '''build training and test sets'''\n",
    "    data_train, data_test, target_train, target_test = train_test_split(\n",
    "        data,target,test_size = size, random_state = seed)\n",
    "    \n",
    "    '''perform classification'''\n",
    "    clf = neighbors.KNeighborsClassifier(n_neighbors = k)\n",
    "    clf.fit(data_train, target_train)\n",
    "    target_pred = clf.predict(data_test)\n",
    "    \n",
    "    result = get_metrics(target_test, target_pred, [0,1])\n",
    "    return result"
   ]
  },
  {
   "cell_type": "code",
   "execution_count": 4,
   "metadata": {},
   "outputs": [],
   "source": [
    "from sklearn.model_selection import train_test_split \n",
    "from sklearn import neighbors, datasets\n",
    "from sklearn.metrics import confusion_matrix\n",
    "\n",
    "\n",
    "\n",
    "def normalize_minmax(data):\n",
    "    data = np.transpose(data)\n",
    "    result = []\n",
    "    for col in data:\n",
    "        col -= np.min(col)\n",
    "        col /= np.max(col)\n",
    "        result.append(col)\n",
    "    return np.transpose(result)\n",
    "\n",
    "\n",
    "from sklearn.metrics import confusion_matrix\n",
    "\n",
    "def get_metrics(actual_targets, predicted_targets, labels):\n",
    "    dict_ = {}\n",
    "    cm = confusion_matrix(actual_targets, predicted_targets, labels)\n",
    "    dict_[\"confusion matrix\"] = cm\n",
    "    dict_[\"total records\"] = len(actual_targets)\n",
    "    dict_[\"accuracy\"] = np.round(sum([cm[i][i] for i in range(len(cm))])/len(actual_targets),3)\n",
    "    dict_[\"false positive rate\"] = np.round(cm[0][1]/(cm[0][1] + cm[0][0]),3)\n",
    "    dict_[\"sensitivity\"] = np.round(cm[1][1]/(cm[1][0] + cm[1][1]),3)\n",
    "    return dict_\n",
    "\n",
    "\n",
    "def knn_classifier(bunchobject, feature_list, size, seed, k): \n",
    "    '''extract and normalize data'''\n",
    "    bunchobject = datasets.load_breast_cancer()\n",
    "    data = bunchobject.data[:,feature_list]\n",
    "    data = normalize_minmax(data)\n",
    "    \n",
    "    target = bunchobject.target\n",
    "    data_train, data_test, target_train, target_test = train_test_split(\n",
    "        data, target, test_size = size, random_state = seed)\n",
    "    \n",
    "    clf =  neighbors.KNeighborsClassifier(k)\n",
    "    clf.fit(data_train, target_train)\n",
    "    \n",
    "    target_predicted = clf.predict(data_test)    \n",
    "    \n",
    "    result = get_metrics(target_test, target_predicted, [0,1])\n",
    "    return result\n",
    "\n",
    "\n",
    "import numpy as np\n",
    "\n",
    "# include all the necessary function definitions here\n",
    "   \n",
    "def knn_classifier_full(bunchobject, feature_list, size, seed):\n",
    "    bunchobject = datasets.load_breast_cancer()\n",
    "    data = bunchobject.data[:,feature_list]\n",
    "    data = normalize_minmax(data)\n",
    "    \n",
    "    target = bunchobject.target\n",
    "    data_train, data_test, target_train, target_test = train_test_split(\n",
    "        data, target, test_size = size, random_state = seed)\n",
    "    \n",
    "    data_test1, data_test2, target_test1, target_test2 = train_test_split(\n",
    "        data_test, target_test, test_size = 0.5, random_state = seed)\n",
    "#     print(len(target_test))\n",
    "    \n",
    "    k_acc = []\n",
    "    k_results = []\n",
    "    \n",
    "    for k in range(1,20):\n",
    "        clf =  neighbors.KNeighborsClassifier(k)\n",
    "        clf.fit(data_train, target_train)\n",
    "#         print(target_test1)\n",
    "        target_predicted = clf.predict(data_test1)\n",
    "#         print(target_predicted)\n",
    "        result = get_metrics(target_test1, target_predicted, [0,1])\n",
    "        k_acc.append(result['accuracy'])\n",
    "        k_results.append(result)\n",
    "        \n",
    "    index = np.argmax(k_acc)\n",
    "    k_test = index + 1\n",
    "    \n",
    "    clf =  neighbors.KNeighborsClassifier(k_test)\n",
    "    clf.fit(data_train, target_train)\n",
    "    target_predicted = clf.predict(data_test2)\n",
    "    test_result = get_metrics(target_test2, target_predicted, [0,1])\n",
    "    \n",
    "    dict_ = {}\n",
    "    dict_['best k'] = k_test\n",
    "    dict_['validation set'] = k_results[index]\n",
    "    dict_['test set'] = test_result\n",
    "    return dict_"
   ]
  },
  {
   "cell_type": "code",
   "execution_count": 5,
   "metadata": {},
   "outputs": [
    {
     "name": "stdout",
     "output_type": "stream",
     "text": [
      "228\n",
      "{'best k': 4, 'validation set': {'confusion matrix': array([[39,  2],\n",
      "       [ 2, 71]]), 'total records': 114, 'accuracy': 0.965, 'false positive rate': 0.049, 'sensitivity': 0.973}, 'test set': {'confusion matrix': array([[40,  1],\n",
      "       [ 4, 69]]), 'total records': 114, 'accuracy': 0.956, 'false positive rate': 0.024, 'sensitivity': 0.945}}\n"
     ]
    }
   ],
   "source": [
    "bunchobject = datasets.load_breast_cancer()\n",
    "feature_index = range(20)\n",
    "data = bunchobject.data[:,feature_index]\n",
    "\n",
    "features = range(20) #select features in cols 0 to 19\n",
    "results = knn_classifier_full(bunchobject, features, 0.40, 2752)\n",
    "print(results)"
   ]
  },
  {
   "cell_type": "code",
   "execution_count": null,
   "metadata": {},
   "outputs": [],
   "source": [
    "{'best k': 4, 'validation set': {'confusion matrix': array([[39, 2],\n",
    " [ 2, 71]]), 'total records': 114, 'accuracy': 0.965, 'sensitivity':\n",
    "0.973, 'false positive rate': 0.049}, 'test set': {'confusion matrix':\n",
    "array([[40, 1],\n",
    " [ 4, 69]]), 'total records': 114, 'accuracy': 0.956, 'sensitivity':\n",
    "0.945, 'false positive rate': 0.024}}"
   ]
  }
 ],
 "metadata": {
  "kernelspec": {
   "display_name": "Python [conda env:nus]",
   "language": "python",
   "name": "conda-env-nus-py"
  },
  "language_info": {
   "codemirror_mode": {
    "name": "ipython",
    "version": 3
   },
   "file_extension": ".py",
   "mimetype": "text/x-python",
   "name": "python",
   "nbconvert_exporter": "python",
   "pygments_lexer": "ipython3",
   "version": "3.6.4"
  }
 },
 "nbformat": 4,
 "nbformat_minor": 2
}
