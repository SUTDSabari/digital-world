{
 "cells": [
  {
   "cell_type": "markdown",
   "metadata": {},
   "source": [
    "# Error Log\n",
    "Mistakes that I have made, so that I will take better notice during exams."
   ]
  },
  {
   "cell_type": "markdown",
   "metadata": {},
   "source": [
    "## Vocareum"
   ]
  },
  {
   "cell_type": "markdown",
   "metadata": {},
   "source": [
    "#### Indentation\n",
    "Delete all spaces when you make a new line, and the indent with tabs."
   ]
  },
  {
   "cell_type": "markdown",
   "metadata": {},
   "source": [
    "#### Why my answer zero\n",
    "Probably you didn't have the return function."
   ]
  },
  {
   "cell_type": "markdown",
   "metadata": {},
   "source": [
    "#### Test cases\n",
    "Make sure you are not using their numbers in your implementation. You may get a few cases correct, though not all."
   ]
  },
  {
   "cell_type": "markdown",
   "metadata": {},
   "source": [
    "## Errors due to Python 3 differences"
   ]
  },
  {
   "cell_type": "code",
   "execution_count": null,
   "metadata": {
    "collapsed": true
   },
   "outputs": [],
   "source": [
    "# print now require parenthesis\n",
    "print(\"Hello World\")\n",
    "print \"Hello World\""
   ]
  },
  {
   "cell_type": "code",
   "execution_count": null,
   "metadata": {
    "collapsed": true
   },
   "outputs": [],
   "source": [
    "# Comparing with None on Python 3\n",
    "# https://stackoverflow.com/questions/2214194/is-everything-greater-than-none"
   ]
  },
  {
   "cell_type": "markdown",
   "metadata": {},
   "source": [
    "`None` is always less than any datatype in Python 2 (see [`object.c`](http://hg.python.org/cpython/file/ab05e7dd2788/Objects/object.c#l778)).\n",
    "\n",
    "In Python 3, this was changed; now doing comparisons on things without a sensible natural ordering results in a `TypeError`. From the **[3.0 \"what's new\" updates][1]**:\n",
    "\n",
    "> Python 3.0 has simplified the rules for ordering comparisons:\n",
    ">\n",
    "> The ordering comparison operators (`<`, `<=`, `>=`, `>`) raise a `TypeError` exception when the operands don’t have a meaningful natural ordering. Thus, expressions like: `1 < ''`, `0 > None` or `len <= len` are no longer valid, and e.g. `None < None` raises `TypeError` instead of returning `False`. A corollary is that sorting a heterogeneous list no longer makes sense – all the elements must be comparable to each other. Note that this does not apply to the `==` and `!=` operators: objects of different incomparable types always compare unequal to each other.\n",
    "\n",
    "This upset some people since it was often handy to do things like sort a list that had some `None` values in it, and have the `None` values appear clustered together at the beginning or end. **[There was a thread on the mailing list about this][2]** a while back, but the ultimate point is that Python 3 tries to avoid making arbitrary decisions about ordering (which is what happened a lot in Python 2).\n",
    "\n",
    "  [1]: https://docs.python.org/3/whatsnew/3.0.html#ordering-comparisons\n",
    "  [2]: http://markmail.org/message/qztbun75kcsewzuk#query:none%20comparability%20python+page:1+mid:tmxfw326w3efme7w+state:results"
   ]
  },
  {
   "cell_type": "markdown",
   "metadata": {},
   "source": [
    "## For Python in general"
   ]
  },
  {
   "cell_type": "code",
   "execution_count": null,
   "metadata": {
    "collapsed": true
   },
   "outputs": [],
   "source": [
    "# calling a function before definition\n",
    "# Python runs code line by line\n",
    "\n",
    "add(3,4)\n",
    "\n",
    "def add(a,b):\n",
    "    return a+b"
   ]
  },
  {
   "cell_type": "code",
   "execution_count": 6,
   "metadata": {},
   "outputs": [
    {
     "name": "stdout",
     "output_type": "stream",
     "text": [
      "Enter an integer: 1\n"
     ]
    },
    {
     "ename": "TypeError",
     "evalue": "unsupported operand type(s) for %: 'int' and 'str'",
     "output_type": "error",
     "traceback": [
      "\u001b[0;31m---------------------------------------------------------------------------\u001b[0m",
      "\u001b[0;31mTypeError\u001b[0m                                 Traceback (most recent call last)",
      "\u001b[0;32m<ipython-input-6-b6fb0c949d08>\u001b[0m in \u001b[0;36m<module>\u001b[0;34m()\u001b[0m\n\u001b[1;32m      1\u001b[0m \u001b[0;31m# you need to convert your input to an integer\u001b[0m\u001b[0;34m\u001b[0m\u001b[0;34m\u001b[0m\u001b[0m\n\u001b[1;32m      2\u001b[0m \u001b[0mx\u001b[0m \u001b[0;34m=\u001b[0m \u001b[0minput\u001b[0m\u001b[0;34m(\u001b[0m\u001b[0;34m\"Enter an integer: \"\u001b[0m\u001b[0;34m)\u001b[0m\u001b[0;34m\u001b[0m\u001b[0m\n\u001b[0;32m----> 3\u001b[0;31m \u001b[0my\u001b[0m \u001b[0;34m=\u001b[0m \u001b[0;36m5\u001b[0m\u001b[0;34m%\u001b[0m\u001b[0mx\u001b[0m\u001b[0;34m\u001b[0m\u001b[0m\n\u001b[0m",
      "\u001b[0;31mTypeError\u001b[0m: unsupported operand type(s) for %: 'int' and 'str'"
     ]
    }
   ],
   "source": [
    "# you need to convert your input to an integer\n",
    "x = input(\"Enter an integer: \")\n",
    "y = 5%x"
   ]
  },
  {
   "cell_type": "code",
   "execution_count": 4,
   "metadata": {},
   "outputs": [
    {
     "name": "stdout",
     "output_type": "stream",
     "text": [
      "(4.83, 22.03)\n",
      "(4.83, 22.02)\n"
     ]
    }
   ],
   "source": [
    "# do your rounding at the end\n",
    "# else your answer is inaccurate due to rounding errors\n",
    "# ref homework w2q2\n",
    "def area_vol_cylinder(radius, length):\n",
    "\tarea = 3.14159 * radius ** 2\n",
    "\tvolume = area * length\n",
    "\treturn round(area,2), round(volume,2)\n",
    "\n",
    "def inaccurate_area_vol_cylinder(radius, length):\n",
    "\tarea = round(3.14159 * radius ** 2, 2)\n",
    "\tvolume = round(area * length, 2)\n",
    "\treturn area, volume\n",
    "\n",
    "print(area_vol_cylinder(1.24,4.56))\n",
    "print(inaccurate_area_vol_cylinder(1.24,4.56))"
   ]
  },
  {
   "cell_type": "code",
   "execution_count": 7,
   "metadata": {},
   "outputs": [
    {
     "name": "stdout",
     "output_type": "stream",
     "text": [
      "123\n"
     ]
    },
    {
     "ename": "TypeError",
     "evalue": "'int' object is not callable",
     "output_type": "error",
     "traceback": [
      "\u001b[0;31m---------------------------------------------------------------------------\u001b[0m",
      "\u001b[0;31mTypeError\u001b[0m                                 Traceback (most recent call last)",
      "\u001b[0;32m<ipython-input-7-a968b36e17e6>\u001b[0m in \u001b[0;36m<module>\u001b[0;34m()\u001b[0m\n\u001b[1;32m      7\u001b[0m \u001b[0mp1\u001b[0m \u001b[0;34m=\u001b[0m \u001b[0mCoordinates\u001b[0m\u001b[0;34m(\u001b[0m\u001b[0;34m)\u001b[0m\u001b[0;34m\u001b[0m\u001b[0m\n\u001b[1;32m      8\u001b[0m \u001b[0mprint\u001b[0m\u001b[0;34m(\u001b[0m\u001b[0mp1\u001b[0m\u001b[0;34m.\u001b[0m\u001b[0mx\u001b[0m\u001b[0;34m)\u001b[0m\u001b[0;34m\u001b[0m\u001b[0m\n\u001b[0;32m----> 9\u001b[0;31m \u001b[0mprint\u001b[0m\u001b[0;34m(\u001b[0m\u001b[0mp1\u001b[0m\u001b[0;34m.\u001b[0m\u001b[0mx\u001b[0m\u001b[0;34m(\u001b[0m\u001b[0;34m)\u001b[0m\u001b[0;34m)\u001b[0m\u001b[0;34m\u001b[0m\u001b[0m\n\u001b[0m",
      "\u001b[0;31mTypeError\u001b[0m: 'int' object is not callable"
     ]
    }
   ],
   "source": [
    "# do not use bracket to request for instance variables(what do we call this?)\n",
    "class Coordinates:  # no brackets unless inheriting \n",
    "    def __init__(self):\n",
    "        self.x = 123\n",
    "        self.y = 234\n",
    "\n",
    "p1 = Coordinates()\n",
    "print(p1.x)\n",
    "print(p1.x())"
   ]
  },
  {
   "cell_type": "code",
   "execution_count": 1,
   "metadata": {},
   "outputs": [
    {
     "name": "stdout",
     "output_type": "stream",
     "text": [
      "False\n",
      "5.551115123125783e-17\n",
      "False\n",
      "True\n",
      "True\n"
     ]
    }
   ],
   "source": [
    "# do not to equality for float\n",
    "# follow should return false, as even a simple float like this is not exact\n",
    "print(0.1 + 0.1 + 0.1 == 0.3)\n",
    "print(0.1 + 0.1 + 0.1 - 0.3)\n",
    "print(0.1 + 0.1 + 0.1 < 0.3)\n",
    "print(0.1 + 0.1 + 0.1 > 0.3)\n",
    "# way out? use integers\n",
    "# have to use float? use absolute difference\n",
    "print(abs(0.1 + 0.1 + 0.1 - 0.3) < 0.000000001)\n",
    "\n",
    "# consider how to create a for loop like [0., 0.1, 0.2, ... , 0.9, 1.0] with numpy"
   ]
  },
  {
   "cell_type": "code",
   "execution_count": 13,
   "metadata": {},
   "outputs": [
    {
     "name": "stdout",
     "output_type": "stream",
     "text": [
      "Teehee\n"
     ]
    }
   ],
   "source": [
    "# remember the double equality sign when you compare values\n",
    "if 1 == 1:\n",
    "    print(\"Teehee\")"
   ]
  },
  {
   "cell_type": "code",
   "execution_count": 14,
   "metadata": {},
   "outputs": [
    {
     "ename": "SyntaxError",
     "evalue": "invalid syntax (<ipython-input-14-4d1924bd15c7>, line 1)",
     "output_type": "error",
     "traceback": [
      "\u001b[0;36m  File \u001b[0;32m\"<ipython-input-14-4d1924bd15c7>\"\u001b[0;36m, line \u001b[0;32m1\u001b[0m\n\u001b[0;31m    if 1 = 1:\u001b[0m\n\u001b[0m         ^\u001b[0m\n\u001b[0;31mSyntaxError\u001b[0m\u001b[0;31m:\u001b[0m invalid syntax\n"
     ]
    }
   ],
   "source": [
    "if 1 = 1:\n",
    "    print(\"You shouldn't be seeing this\")"
   ]
  },
  {
   "cell_type": "code",
   "execution_count": 26,
   "metadata": {},
   "outputs": [
    {
     "name": "stdout",
     "output_type": "stream",
     "text": [
      "2.0\n"
     ]
    }
   ],
   "source": [
    "# float and int\n",
    "\n",
    "import math\n",
    "\n",
    "def simpsons_rule(f, n, a, b):\n",
    "    interval = (b-a)/float(n)\n",
    "    end_points = [a + interval*x for x in range(n+1)]\n",
    "    mid_points = [a + interval/2. + interval*x for x in range(n)]\n",
    "    f_ends = [f(end_point) for end_point in end_points]\n",
    "    f_mids = [f(mid_point) for mid_point in mid_points]\n",
    "    sum_ends = 2.*sum(f_ends) - f_ends[0] - f_ends[-1]\n",
    "    sum_mids = 4.*sum(f_mids)\n",
    "    return round((sum_ends + sum_mids)*(interval/6.),2)\n",
    "\n",
    "print(simpsons_rule(f2, 1000, 0, math.pi))"
   ]
  },
  {
   "cell_type": "code",
   "execution_count": 9,
   "metadata": {},
   "outputs": [
    {
     "name": "stdout",
     "output_type": "stream",
     "text": [
      "a_list = [100, 20, 30] at 0x1087a5b48\n",
      "a_list = [100, 20, 30] at 0x1087a5b48\n",
      "a_list = [100, 20, 30] at 0x10877ef48\n",
      "a_list = [50, 20, 30] at 0x1087a5b48\n"
     ]
    }
   ],
   "source": [
    "# list connection issues\n",
    "a_list = [10,20,30]\n",
    "b_list = a_list  \n",
    "# assignment statement here means a_list is assigned to b_list\n",
    "# they have the same location in memory\n",
    "b_list[0] = 100  \n",
    "print(\"a_list = {} at {}\".format(a_list, hex(id(a_list))))  # why is a_list changed as well?\n",
    "print(\"a_list = {} at {}\".format(b_list, hex(id(b_list))))\n",
    "\n",
    "a_list = b_list[:]\n",
    "b_list[0] = 50\n",
    "print(\"a_list = {} at {}\".format(a_list, hex(id(a_list))))  \n",
    "print(\"a_list = {} at {}\".format(b_list, hex(id(b_list))))  # different address now"
   ]
  },
  {
   "cell_type": "code",
   "execution_count": null,
   "metadata": {
    "collapsed": true
   },
   "outputs": [],
   "source": []
  }
 ],
 "metadata": {
  "kernelspec": {
   "display_name": "Python 3",
   "language": "python",
   "name": "python3"
  },
  "language_info": {
   "codemirror_mode": {
    "name": "ipython",
    "version": 3
   },
   "file_extension": ".py",
   "mimetype": "text/x-python",
   "name": "python",
   "nbconvert_exporter": "python",
   "pygments_lexer": "ipython3",
   "version": "3.5.2"
  }
 },
 "nbformat": 4,
 "nbformat_minor": 2
}
