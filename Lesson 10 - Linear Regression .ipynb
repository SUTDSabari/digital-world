{
 "cells": [
  {
   "cell_type": "code",
   "execution_count": 11,
   "metadata": {},
   "outputs": [],
   "source": [
    "# put the import statements and load the dataset \n",
    "import numpy as np\n",
    "from sklearn import datasets\n",
    "bunchobject = datasets.load_breast_cancer()\n",
    "import matplotlib.pyplot as plt"
   ]
  },
  {
   "cell_type": "code",
   "execution_count": 14,
   "metadata": {},
   "outputs": [],
   "source": [
    "def display_scatter(x,y, xlabel='x', ylabel='y',title_name ='default'): \n",
    "    plt.xlabel(xlabel)\n",
    "    plt.ylabel(ylabel)\n",
    "    plt.scatter(x,y)\n",
    "    plt.show()"
   ]
  },
  {
   "cell_type": "code",
   "execution_count": 15,
   "metadata": {},
   "outputs": [
    {
     "data": {
      "image/png": "[encoded data removed]",
      "text/plain": [
       "<matplotlib.figure.Figure at 0x1a135ded30>"
      ]
     },
     "metadata": {},
     "output_type": "display_data"
    }
   ],
   "source": [
    "x_index = 0\n",
    "y_index = 3\n",
    "\n",
    "x = bunchobject.data[:,x_index]\n",
    "y = bunchobject.data[:,y_index]\n",
    "\n",
    "x_label = bunchobject.feature_names[x_index]\n",
    "y_label = bunchobject.feature_names[y_index]\n",
    "\n",
    "display_scatter(x,y,x_label,y_label)"
   ]
  },
  {
   "cell_type": "markdown",
   "metadata": {},
   "source": [
    "## Extracting one column from a numpy array gives you a 1D list i.e. a list of n elements. \n",
    "\n",
    "### the <font color = 'blue'>.shape </font> method gives you the dimensions of the array. The output tells you: \n",
    "<ul>\n",
    "<li> 1D array:  <font color = 'blue'> ( number of elements, ) </font>\n",
    "<li> 2D array <font color = 'blue'> (rows , columns) </font>\n",
    "</ul>\n",
    "\n",
    "### the <font color = 'blue'>np.newaxis </font> parameter increases the dimensions by 1.\n",
    "<ul>\n",
    "<li> add a row dimension:  <font color = 'blue'>a[np.newaxis,:] </font>\n",
    "<li> add a column dimension <font color = 'blue'>a[:,np.newaxis] </font>\n",
    "</ul>\n",
    "\n",
    "### A <font color = 'red'> 1D array </font> is like a list - there is no concept of rows or columns, just elements. \n",
    "\n",
    "### If you want a <font color = 'red'> 2D array </font>  ( n rows by 1 column array) then use the np.newaxis parameter to add a new dimension. "
   ]
  },
  {
   "cell_type": "code",
   "execution_count": 20,
   "metadata": {},
   "outputs": [
    {
     "name": "stdout",
     "output_type": "stream",
     "text": [
      "==this is a 1D array ==\n",
      "(10,)\n",
      "[0 1 2 3 4 5 6 7 8 9]\n",
      "\n",
      "==this is a 2D array ==\n",
      "(10, 1)\n",
      "[[0]\n",
      " [1]\n",
      " [2]\n",
      " [3]\n",
      " [4]\n",
      " [5]\n",
      " [6]\n",
      " [7]\n",
      " [8]\n",
      " [9]]\n",
      "\n",
      "==this is a 2D array ==\n",
      "(1, 10)\n",
      "[[0 1 2 3 4 5 6 7 8 9]]\n"
     ]
    }
   ],
   "source": [
    "z1 = np.array( range(10))\n",
    "print('==this is a 1D array ==')\n",
    "print(z1.shape)\n",
    "print(z1)\n",
    "\n",
    "print('\\n==this is a 2D array ==')\n",
    "z2 = z1[:,np.newaxis] # add a column\n",
    "print(z2.shape)\n",
    "print(z2)\n",
    "\n",
    "print('\\n==this is a 2D array ==')\n",
    "z3 = z1[np.newaxis,:] # add a row\n",
    "print(z3.shape)\n",
    "print(z3)"
   ]
  },
  {
   "cell_type": "markdown",
   "metadata": {},
   "source": [
    "## Similar for the breast cancer dataset"
   ]
  },
  {
   "cell_type": "code",
   "execution_count": 22,
   "metadata": {},
   "outputs": [
    {
     "name": "stdout",
     "output_type": "stream",
     "text": [
      "==this is a 1D array==\n",
      "(569,)\n",
      "==this is a 2D n by 1 array==\n",
      "(569, 1)\n",
      "==this is a 2D 1 by n array==\n",
      "you are not likely to need this\n",
      "(1, 569)\n"
     ]
    }
   ],
   "source": [
    "print('==this is a 1D array==')\n",
    "x1 = bunchobject.data[:, 0]\n",
    "print(x1.shape)\n",
    "#print(x1)\n",
    "\n",
    "print('==this is a 2D n by 1 array==')\n",
    "x2 = bunchobject.data[:, np.newaxis, 0] # add a column\n",
    "print(x2.shape)\n",
    "#print(x2)\n",
    "\n",
    "print('==this is a 2D 1 by n array==')\n",
    "print('you are not likely to need this')\n",
    "x3 = bunchobject.data[np.newaxis, :, 0] # add a row\n",
    "print(x3.shape)\n",
    "#print(x3)"
   ]
  },
  {
   "cell_type": "code",
   "execution_count": 51,
   "metadata": {},
   "outputs": [],
   "source": [
    "from sklearn.model_selection import train_test_split\n",
    "from sklearn import linear_model\n",
    "from sklearn.metrics import mean_squared_error, r2_score\n",
    "\n",
    "def linear_regression(bunchobject, x_index, y_index, size, seed):\n",
    "    \n",
    "    '''extracting the data'''\n",
    "    data = bunchobject.data\n",
    "    x = data[:, np.newaxis, x_index]\n",
    "    y = data[:, np.newaxis, y_index]\n",
    "    \n",
    "    '''split the data into the training and test set'''\n",
    "    '''size = fraction of records in the test set'''\n",
    "    x_train, x_test, y_train, y_test = train_test_split(x,y, test_size = size, random_state = seed)\n",
    "    \n",
    "    '''get an instance of the Linear Regression Classifier'''\n",
    "    regr = linear_model.LinearRegression()\n",
    "    \n",
    "    '''fit the model into the training set to get the equation'''\n",
    "    regr.fit(x_train, y_train)\n",
    "    print(regr.coef_, regr.intercept_)\n",
    "    \n",
    "    '''predicte the y_values given x_values from the test set'''\n",
    "    y_predicted = regr.predict(x_test)\n",
    "    \n",
    "    '''evaluate the error of the prediction from the test set'''\n",
    "    mse = mean_squared_error(y_test,y_predicted)\n",
    "    var = r2_score(y_test,y_predicted)\n",
    "    \n",
    "    '''na'''\n",
    "    results = {}\n",
    "    results['coefficients'] = regr.coef_\n",
    "    results['intercept'] = regr.intercept_\n",
    "    results['mean squared error'] = mse\n",
    "    results['r2 score'] = var\n",
    "    '''as stated in your problem set'''\n",
    "    \n",
    "    return x_train, y_train, x_test, y_predicted, results"
   ]
  },
  {
   "cell_type": "code",
   "execution_count": 52,
   "metadata": {},
   "outputs": [
    {
     "ename": "NameError",
     "evalue": "name 'array' is not defined",
     "output_type": "error",
     "traceback": [
      "\u001b[0;31m---------------------------------------------------------------------------\u001b[0m",
      "\u001b[0;31mNameError\u001b[0m                                 Traceback (most recent call last)",
      "\u001b[0;32m<ipython-input-52-f4cd8c6d5df1>\u001b[0m in \u001b[0;36m<module>\u001b[0;34m()\u001b[0m\n\u001b[0;32m----> 1\u001b[0;31m {'coefficients': array([[ 100.16755386]]),\n\u001b[0m\u001b[1;32m      2\u001b[0m \u001b[0;34m'intercept'\u001b[0m\u001b[0;34m:\u001b[0m \u001b[0marray\u001b[0m\u001b[0;34m(\u001b[0m\u001b[0;34m[\u001b[0m\u001b[0;34m-\u001b[0m\u001b[0;36m760.52027342\u001b[0m\u001b[0;34m]\u001b[0m\u001b[0;34m)\u001b[0m\u001b[0;34m,\u001b[0m\u001b[0;34m\u001b[0m\u001b[0m\n\u001b[1;32m      3\u001b[0m \u001b[0;34m'mean squared error'\u001b[0m\u001b[0;34m:\u001b[0m \u001b[0;36m2631.2988797244757\u001b[0m\u001b[0;34m,\u001b[0m\u001b[0;34m\u001b[0m\u001b[0m\n\u001b[1;32m      4\u001b[0m 'r2 score': 0.97772539335215169}\n",
      "\u001b[0;31mNameError\u001b[0m: name 'array' is not defined"
     ]
    }
   ],
   "source": [
    "{'coefficients': array([[ 100.16755386]]),\n",
    "'intercept': array([-760.52027342]),\n",
    "'mean squared error': 2631.2988797244757,\n",
    "'r2 score': 0.97772539335215169}"
   ]
  },
  {
   "cell_type": "code",
   "execution_count": 53,
   "metadata": {},
   "outputs": [],
   "source": [
    "# def plot_linear_regression (x1, y1, x2, y2, x_label= '' , y_label= '' ): \n",
    "#     plt.scatter(x1,y1, color= 'black')\n",
    "#     plt.plot(linear_regression) \n",
    "#     plt.show()"
   ]
  },
  {
   "cell_type": "code",
   "execution_count": 54,
   "metadata": {},
   "outputs": [],
   "source": [
    "# copy and paste the sample script here "
   ]
  },
  {
   "cell_type": "code",
   "execution_count": 57,
   "metadata": {},
   "outputs": [
    {
     "name": "stdout",
     "output_type": "stream",
     "text": [
      "[[100.16755386]] [-760.52027342]\n",
      "{'coefficients': array([[100.16755386]]), 'intercept': array([-760.52027342]), 'mean squared error': 2631.2988797244757, 'r2 score': 0.9777253933521517}\n"
     ]
    }
   ],
   "source": [
    "x_train, y_train, x_test, y_pred, results = linear_regression(bunchobject,0,3,0.4,2752)\n",
    "print(results)\n",
    "# plot_linear_regression(x_train, y_train, x_test, y_pred,\n",
    "#  bunchobject.feature_names[0],\n",
    "#  bunchobject.feature_names[3])"
   ]
  },
  {
   "cell_type": "code",
   "execution_count": 32,
   "metadata": {},
   "outputs": [
    {
     "name": "stdout",
     "output_type": "stream",
     "text": [
      "Object `regr.predict` not found.\n"
     ]
    }
   ],
   "source": []
  },
  {
   "cell_type": "code",
   "execution_count": null,
   "metadata": {},
   "outputs": [],
   "source": []
  }
 ],
 "metadata": {
  "kernelspec": {
   "display_name": "Python [default]",
   "language": "python",
   "name": "python3"
  },
  "language_info": {
   "codemirror_mode": {
    "name": "ipython",
    "version": 3
   },
   "file_extension": ".py",
   "mimetype": "text/x-python",
   "name": "python",
   "nbconvert_exporter": "python",
   "pygments_lexer": "ipython3",
   "version": "3.6.4"
  }
 },
 "nbformat": 4,
 "nbformat_minor": 2
}
