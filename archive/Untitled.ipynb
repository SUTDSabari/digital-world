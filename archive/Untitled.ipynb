{
 "cells": [
  {
   "cell_type": "code",
   "execution_count": 2,
   "metadata": {},
   "outputs": [
    {
     "name": "stdout",
     "output_type": "stream",
     "text": [
      "/anaconda3/bin/python\r\n"
     ]
    }
   ],
   "source": [
    "!which python"
   ]
  },
  {
   "cell_type": "code",
   "execution_count": 3,
   "metadata": {},
   "outputs": [
    {
     "ename": "SyntaxError",
     "evalue": "Missing parentheses in call to 'print'. Did you mean print(a)? (<ipython-input-3-da1608c9d425>, line 1)",
     "output_type": "error",
     "traceback": [
      "\u001b[0;36m  File \u001b[0;32m\"<ipython-input-3-da1608c9d425>\"\u001b[0;36m, line \u001b[0;32m1\u001b[0m\n\u001b[0;31m    print a\u001b[0m\n\u001b[0m          ^\u001b[0m\n\u001b[0;31mSyntaxError\u001b[0m\u001b[0;31m:\u001b[0m Missing parentheses in call to 'print'. Did you mean print(a)?\n"
     ]
    }
   ],
   "source": [
    "print a"
   ]
  },
  {
   "cell_type": "code",
   "execution_count": 4,
   "metadata": {},
   "outputs": [],
   "source": [
    "import numpy as np\n",
    "import matplotlib.pyplot as plt\n",
    "from matplotlib.colors import ListedColormap\n",
    "from sklearn import neighbors, datasets"
   ]
  },
  {
   "cell_type": "code",
   "execution_count": 20,
   "metadata": {},
   "outputs": [
    {
     "name": "stdout",
     "output_type": "stream",
     "text": [
      "Breast Cancer Wisconsin (Diagnostic) Database\n",
      "=============================================\n",
      "\n",
      "Notes\n",
      "-----\n",
      "Data Set Characteristics:\n",
      "    :Number of Instances: 569\n",
      "\n",
      "    :Number of Attributes: 30 numeric, predictive attributes and the class\n",
      "\n",
      "    :Attribute Information:\n",
      "        - radius (mean of distances from center to points on the perimeter)\n",
      "        - texture (standard deviation of gray-scale values)\n",
      "        - perimeter\n",
      "        - area\n",
      "        - smoothness (local variation in radius lengths)\n",
      "        - compactness (perimeter^2 / area - 1.0)\n",
      "        - concavity (severity of concave portions of the contour)\n",
      "        - concave points (number of concave portions of the contour)\n",
      "        - symmetry \n",
      "        - fractal dimension (\"coastline approximation\" - 1)\n",
      "\n",
      "        The mean, standard error, and \"worst\" or largest (mean of the three\n",
      "        largest values) of these features were computed for each image,\n",
      "        resulting in 30 features.  For instance, field 3 is Mean Radius, field\n",
      "        13 is Radius SE, field 23 is Worst Radius.\n",
      "\n",
      "        - class:\n",
      "                - WDBC-Malignant\n",
      "                - WDBC-Benign\n",
      "\n",
      "    :Summary Statistics:\n",
      "\n",
      "    ===================================== ====== ======\n",
      "                                           Min    Max\n",
      "    ===================================== ====== ======\n",
      "    radius (mean):                        6.981  28.11\n",
      "    texture (mean):                       9.71   39.28\n",
      "    perimeter (mean):                     43.79  188.5\n",
      "    area (mean):                          143.5  2501.0\n",
      "    smoothness (mean):                    0.053  0.163\n",
      "    compactness (mean):                   0.019  0.345\n",
      "    concavity (mean):                     0.0    0.427\n",
      "    concave points (mean):                0.0    0.201\n",
      "    symmetry (mean):                      0.106  0.304\n",
      "    fractal dimension (mean):             0.05   0.097\n",
      "    radius (standard error):              0.112  2.873\n",
      "    texture (standard error):             0.36   4.885\n",
      "    perimeter (standard error):           0.757  21.98\n",
      "    area (standard error):                6.802  542.2\n",
      "    smoothness (standard error):          0.002  0.031\n",
      "    compactness (standard error):         0.002  0.135\n",
      "    concavity (standard error):           0.0    0.396\n",
      "    concave points (standard error):      0.0    0.053\n",
      "    symmetry (standard error):            0.008  0.079\n",
      "    fractal dimension (standard error):   0.001  0.03\n",
      "    radius (worst):                       7.93   36.04\n",
      "    texture (worst):                      12.02  49.54\n",
      "    perimeter (worst):                    50.41  251.2\n",
      "    area (worst):                         185.2  4254.0\n",
      "    smoothness (worst):                   0.071  0.223\n",
      "    compactness (worst):                  0.027  1.058\n",
      "    concavity (worst):                    0.0    1.252\n",
      "    concave points (worst):               0.0    0.291\n",
      "    symmetry (worst):                     0.156  0.664\n",
      "    fractal dimension (worst):            0.055  0.208\n",
      "    ===================================== ====== ======\n",
      "\n",
      "    :Missing Attribute Values: None\n",
      "\n",
      "    :Class Distribution: 212 - Malignant, 357 - Benign\n",
      "\n",
      "    :Creator:  Dr. William H. Wolberg, W. Nick Street, Olvi L. Mangasarian\n",
      "\n",
      "    :Donor: Nick Street\n",
      "\n",
      "    :Date: November, 1995\n",
      "\n",
      "This is a copy of UCI ML Breast Cancer Wisconsin (Diagnostic) datasets.\n",
      "https://goo.gl/U2Uwz2\n",
      "\n",
      "Features are computed from a digitized image of a fine needle\n",
      "aspirate (FNA) of a breast mass.  They describe\n",
      "characteristics of the cell nuclei present in the image.\n",
      "\n",
      "Separating plane described above was obtained using\n",
      "Multisurface Method-Tree (MSM-T) [K. P. Bennett, \"Decision Tree\n",
      "Construction Via Linear Programming.\" Proceedings of the 4th\n",
      "Midwest Artificial Intelligence and Cognitive Science Society,\n",
      "pp. 97-101, 1992], a classification method which uses linear\n",
      "programming to construct a decision tree.  Relevant features\n",
      "were selected using an exhaustive search in the space of 1-4\n",
      "features and 1-3 separating planes.\n",
      "\n",
      "The actual linear program used to obtain the separating plane\n",
      "in the 3-dimensional space is that described in:\n",
      "[K. P. Bennett and O. L. Mangasarian: \"Robust Linear\n",
      "Programming Discrimination of Two Linearly Inseparable Sets\",\n",
      "Optimization Methods and Software 1, 1992, 23-34].\n",
      "\n",
      "This database is also available through the UW CS ftp server:\n",
      "\n",
      "ftp ftp.cs.wisc.edu\n",
      "cd math-prog/cpo-dataset/machine-learn/WDBC/\n",
      "\n",
      "References\n",
      "----------\n",
      "   - W.N. Street, W.H. Wolberg and O.L. Mangasarian. Nuclear feature extraction \n",
      "     for breast tumor diagnosis. IS&T/SPIE 1993 International Symposium on \n",
      "     Electronic Imaging: Science and Technology, volume 1905, pages 861-870,\n",
      "     San Jose, CA, 1993.\n",
      "   - O.L. Mangasarian, W.N. Street and W.H. Wolberg. Breast cancer diagnosis and \n",
      "     prognosis via linear programming. Operations Research, 43(4), pages 570-577, \n",
      "     July-August 1995.\n",
      "   - W.H. Wolberg, W.N. Street, and O.L. Mangasarian. Machine learning techniques\n",
      "     to diagnose breast cancer from fine-needle aspirates. Cancer Letters 77 (1994) \n",
      "     163-171.\n",
      "\n",
      "['mean radius' 'mean texture' 'mean perimeter' 'mean area'\n",
      " 'mean smoothness' 'mean compactness' 'mean concavity'\n",
      " 'mean concave points' 'mean symmetry' 'mean fractal dimension'\n",
      " 'radius error' 'texture error' 'perimeter error' 'area error'\n",
      " 'smoothness error' 'compactness error' 'concavity error'\n",
      " 'concave points error' 'symmetry error' 'fractal dimension error'\n",
      " 'worst radius' 'worst texture' 'worst perimeter' 'worst area'\n",
      " 'worst smoothness' 'worst compactness' 'worst concavity'\n",
      " 'worst concave points' 'worst symmetry' 'worst fractal dimension']\n"
     ]
    }
   ],
   "source": [
    "bunchobject = datasets.load_breast_cancer()\n",
    "print(bunchobject.DESCR)\n",
    "print(bunchobject.feature_names)"
   ]
  },
  {
   "cell_type": "code",
   "execution_count": 19,
   "metadata": {},
   "outputs": [
    {
     "name": "stdout",
     "output_type": "stream",
     "text": [
      "mean compactness\n"
     ]
    }
   ],
   "source": [
    "print(bunchobject.feature_names[5])"
   ]
  },
  {
   "cell_type": "code",
   "execution_count": 6,
   "metadata": {},
   "outputs": [
    {
     "name": "stdout",
     "output_type": "stream",
     "text": [
      "['malignant' 'benign']\n",
      "(569, 30)\n"
     ]
    }
   ],
   "source": [
    "print(bunchobject.target_names)\n",
    "print(bunchobject.data.shape)"
   ]
  },
  {
   "cell_type": "code",
   "execution_count": 24,
   "metadata": {},
   "outputs": [
    {
     "name": "stdout",
     "output_type": "stream",
     "text": [
      "mean perimeter\n",
      "[122.8  132.9  130.    77.58 135.1   82.57 119.6   90.2   87.5   83.97\n",
      " 102.7  103.6  132.4  103.7   93.6   96.73  94.74 108.1  130.    87.46\n",
      "  85.63  60.34 102.5  137.2  110.   116.    97.41 122.1  102.4  115.\n",
      " 124.8   77.93 112.8  127.9  107.   110.1   93.63  82.61  95.54  88.4\n",
      "  86.18  71.9  128.3   87.32  85.42 123.7   51.71  85.98  78.04  86.91\n",
      "  74.72  87.21  75.71 120.3   97.26  73.34 125.5   95.55  82.61  54.34\n",
      "  64.55  54.66  96.42  59.2   82.69  97.4   60.11  71.8   58.79  81.37\n",
      " 123.6   58.79 114.2   90.43  79.19 104.1   87.91 120.2  143.7   83.19\n",
      "  73.81  86.49 171.5  129.1   76.95 121.1   94.25 122.    79.78  95.77\n",
      "  94.57 100.2   84.74  86.6  100.3  132.4   77.79  62.11  74.34  94.48\n",
      "  88.05  43.79  77.22  63.95  67.41  87.21  75.17  79.01 152.8   72.48\n",
      "  62.5   82.15  97.83  68.64  55.84  76.53  58.74  98.64 105.7  114.2\n",
      "  73.34 121.4  166.2   94.28  86.1   88.44  87.76 123.4   99.58 130.4\n",
      "  79.08 101.7  106.2  102.   120.2   81.72  74.72  73.06  96.85  73.\n",
      "  61.24 105.1   73.66  83.74  68.26  78.11  78.99  97.84  93.97  88.12\n",
      "  83.51  53.27  63.78  70.87  85.31  78.27 117.4  108.4   76.84  68.69\n",
      "  76.1  126.3  130.7   79.85 152.1   95.5   68.77 109.3  116.1   96.22\n",
      "  78.85  85.84 102.5   70.21  67.49  54.42  64.6  109.3   82.01  81.29\n",
      " 182.1  142.7  101.2   73.53  98.92  63.76 118.6   74.68  75.27  78.83\n",
      "  94.37  82.02  60.73  81.15 100.4   82.53  90.63 117.4  127.5   94.49\n",
      "  78.54 115.1  158.9   91.56  81.09  98.78  62.92 109.7   87.02  98.17\n",
      " 134.7   75.51 188.5  114.5   92.87  90.96  77.32  65.05 129.7  128.\n",
      "  87.88  88.59  65.12 102.6   84.55  92.51  66.62  97.45  81.35  85.26\n",
      " 113.4   71.76  70.79 134.4   60.21  89.79 153.5  132.5   92.55 113.4\n",
      "  87.38  78.61  73.93  88.54 129.1   66.72  84.13  84.95  68.01  73.87\n",
      " 138.9   73.28 130.7  113.   126.5   91.43 133.6  103.2  110.2  103.7\n",
      " 132.9  111.   114.4  100.   111.6  135.7   69.28  87.16  82.38  69.5\n",
      "  90.3   72.23 147.3   61.5  115.2   76.2   71.79 120.9   86.24  88.99\n",
      " 126.2   74.24 127.2  108.8   84.08  79.83  77.87  81.89  73.72  72.17\n",
      "  96.03  97.03  83.14  75.54  81.78  88.06  69.14  75.    91.22  66.85\n",
      " 129.5   80.43 134.7   66.86  73.59  74.23  84.07  56.36  85.69  82.71\n",
      "  74.33  92.68  82.29  73.73  54.09  79.19  77.25 118.7   60.07  78.6\n",
      "  66.52 131.1   82.82 135.9   78.01  81.25  90.03  76.09 106.9  107.5\n",
      " 105.8   84.52  71.94  71.38  77.88 111.8   84.08 122.9   64.41 155.1\n",
      "  94.15  61.64  71.49 129.9   75.03  66.2   76.66  94.87  73.02  77.23\n",
      "  73.7  107.1  174.2   98.    71.24  81.92  85.09  88.52  56.74  59.82\n",
      "  79.42  85.24  81.87 106.6   85.48 133.8  133.7   78.31 140.9  147.2\n",
      " 109.    97.65 141.3  134.8   87.84 106.3   70.15  85.89  88.27  73.3\n",
      "  73.16  70.67  78.75  80.64  85.79  93.97  78.78  88.37  73.38 128.9\n",
      "  65.75  55.27 102.4  144.4   78.07  89.75  88.1   83.05  70.31  75.26\n",
      " 124.4   76.14  84.18  83.18  78.29  70.39 104.3   82.63 117.8   78.41\n",
      "  72.49  70.92  59.75  97.53  96.71  76.39  59.6  102.9   80.88  70.95\n",
      "  74.2   98.22  75.46  89.46  61.93  63.19  67.49  68.79  70.47  80.98\n",
      " 102.1   81.47 133.8  123.7   94.89  91.12  82.67  89.78  88.68  89.59\n",
      "  71.73 112.4   88.37  66.82 117.5   77.61 117.3   95.88  94.25 138.1\n",
      "  76.83 127.7   76.77  93.86  80.62  86.34  74.87  84.1   82.61  61.68\n",
      " 111.2  186.9   92.25  73.88  84.28  86.87  85.98  61.06 119.    76.38\n",
      "  61.49  76.85  96.45  77.42  70.41  82.89  92.41  88.97  73.99 109.8\n",
      "  78.29  88.73  87.32  87.76 102.8   82.85  94.21 128.1   75.49 107.1\n",
      "  78.18 114.6  118.4   78.83  84.06  96.12  82.69  80.45 121.3  137.8\n",
      "  98.73  92.33  81.25 152.1   61.49  64.12  79.47  71.25 104.7  103.8\n",
      "  76.31  94.66  88.64  94.29  97.26  72.76 120.8  130.5   84.45  82.51\n",
      "  59.96 165.5   71.3   88.73  63.    54.53  87.44  78.94  90.31  77.83\n",
      "  75.89  75.21  87.76 134.7   70.79 137.8   93.77  76.37  47.98  48.34\n",
      "  74.65  95.81  94.7   84.88  89.77  87.19  65.31  65.85  61.05  68.89\n",
      "  68.51  71.49  81.35  59.01  82.5   65.67  64.73  59.26  96.39  74.52\n",
      "  91.38  70.67 103.4  143.   142.   131.2  108.3  140.1   47.92]\n",
      "569\n"
     ]
    }
   ],
   "source": [
    "column_index = 2\n",
    "print(bunchobject.feature_names[column_index])\n",
    "feature_vals_in_column = bunchobject.data[:,column_index]\n",
    "\n",
    "print(feature_vals_in_column)\n",
    "print(len(feature_vals_in_column))"
   ]
  },
  {
   "cell_type": "code",
   "execution_count": 25,
   "metadata": {},
   "outputs": [
    {
     "name": "stdout",
     "output_type": "stream",
     "text": [
      "43.79 188.5\n"
     ]
    }
   ],
   "source": [
    "print( np.min(feature_vals_in_column), np.max(feature_vals_in_column))"
   ]
  },
  {
   "cell_type": "code",
   "execution_count": 12,
   "metadata": {},
   "outputs": [
    {
     "name": "stdout",
     "output_type": "stream",
     "text": [
      "['mean radius' 'mean texture' 'mean perimeter' 'mean area'\n",
      " 'mean smoothness' 'mean compactness' 'mean concavity'\n",
      " 'mean concave points' 'mean symmetry' 'mean fractal dimension'\n",
      " 'radius error' 'texture error' 'perimeter error' 'area error'\n",
      " 'smoothness error' 'compactness error' 'concavity error'\n",
      " 'concave points error' 'symmetry error' 'fractal dimension error'\n",
      " 'worst radius' 'worst texture' 'worst perimeter' 'worst area'\n",
      " 'worst smoothness' 'worst compactness' 'worst concavity'\n",
      " 'worst concave points' 'worst symmetry' 'worst fractal dimension']\n",
      "[2.057e+01 1.777e+01 1.329e+02 1.326e+03 8.474e-02 7.864e-02 8.690e-02\n",
      " 7.017e-02 1.812e-01 5.667e-02 5.435e-01 7.339e-01 3.398e+00 7.408e+01\n",
      " 5.225e-03 1.308e-02 1.860e-02 1.340e-02 1.389e-02 3.532e-03 2.499e+01\n",
      " 2.341e+01 1.588e+02 1.956e+03 1.238e-01 1.866e-01 2.416e-01 1.860e-01\n",
      " 2.750e-01 8.902e-02]\n",
      "0\n"
     ]
    }
   ],
   "source": [
    "row_index = 1\n",
    "print(bunchobject.feature_names)\n",
    "record_vals_in_row = bunchobject.data[row_index,:]\n",
    "print(record_vals_in_row)\n",
    "print(bunchobject.target[row_index])"
   ]
  },
  {
   "cell_type": "code",
   "execution_count": 9,
   "metadata": {},
   "outputs": [
    {
     "name": "stdout",
     "output_type": "stream",
     "text": [
      "0 malignant 212\n",
      "1 benign 357\n"
     ]
    }
   ],
   "source": [
    "unique, counts = np.unique(bunchobject.target, return_counts = True)\n",
    "for i in unique:\n",
    " print(i, bunchobject.target_names[i], counts[i])"
   ]
  },
  {
   "cell_type": "code",
   "execution_count": 10,
   "metadata": {},
   "outputs": [],
   "source": [
    "actual = ['cat', 'cat', 'cat', 'cat', 'bird', 'bird','bird','bird']\n",
    "predicted = ['cat', 'cat', 'bird', 'bird', 'cat', 'bird', 'bird',\n",
    "'bird' ]"
   ]
  },
  {
   "cell_type": "code",
   "execution_count": 11,
   "metadata": {},
   "outputs": [
    {
     "name": "stdout",
     "output_type": "stream",
     "text": [
      "[[3 1]\n",
      " [2 2]]\n"
     ]
    }
   ],
   "source": [
    "from sklearn.metrics import confusion_matrix\n",
    "def get_metrics(actual_targets, predicted_targets, labels):\n",
    " c_matrix = confusion_matrix(actual_targets, predicted_targets,\n",
    "labels)\n",
    " return c_matrix\n",
    "actual = ['cat', 'cat', 'cat', 'cat', 'bird', 'bird','bird','bird']\n",
    "predicted = ['cat', 'cat', 'bird', 'bird', 'cat', 'bird', 'bird',\n",
    "'bird' ]\n",
    "labels = ['bird', 'cat']\n",
    "print(get_metrics(actual, predicted, labels) )"
   ]
  },
  {
   "cell_type": "code",
   "execution_count": 26,
   "metadata": {},
   "outputs": [
    {
     "name": "stdout",
     "output_type": "stream",
     "text": [
      "['mean radius' 'mean texture' 'mean perimeter' 'mean area'\n",
      " 'mean smoothness' 'mean compactness' 'mean concavity'\n",
      " 'mean concave points' 'mean symmetry' 'mean fractal dimension'\n",
      " 'radius error' 'texture error' 'perimeter error' 'area error'\n",
      " 'smoothness error' 'compactness error' 'concavity error'\n",
      " 'concave points error' 'symmetry error' 'fractal dimension error'\n",
      " 'worst radius' 'worst texture' 'worst perimeter' 'worst area'\n",
      " 'worst smoothness' 'worst compactness' 'worst concavity'\n",
      " 'worst concave points' 'worst symmetry' 'worst fractal dimension']\n",
      "[2.057e+01 1.777e+01 1.329e+02 1.326e+03 8.474e-02 7.864e-02 8.690e-02\n",
      " 7.017e-02 1.812e-01 5.667e-02 5.435e-01 7.339e-01 3.398e+00 7.408e+01\n",
      " 5.225e-03 1.308e-02 1.860e-02 1.340e-02 1.389e-02 3.532e-03 2.499e+01\n",
      " 2.341e+01 1.588e+02 1.956e+03 1.238e-01 1.866e-01 2.416e-01 1.860e-01\n",
      " 2.750e-01 8.902e-02]\n",
      "0\n"
     ]
    }
   ],
   "source": [
    "row_index = 1\n",
    "print(bunchobject.feature_names)\n",
    "record_vals_in_row = bunchobject.data[row_index,:]\n",
    "print(record_vals_in_row)\n",
    "print(bunchobject.target[row_index])"
   ]
  },
  {
   "cell_type": "code",
   "execution_count": 27,
   "metadata": {},
   "outputs": [
    {
     "name": "stdout",
     "output_type": "stream",
     "text": [
      "0 malignant 212\n",
      "1 benign 357\n"
     ]
    }
   ],
   "source": [
    "unique, counts = np.unique(bunchobject.target, return_counts = True)\n",
    "for i in unique:\n",
    " print(i, bunchobject.target_names[i], counts[i])"
   ]
  },
  {
   "cell_type": "code",
   "execution_count": 29,
   "metadata": {},
   "outputs": [
    {
     "name": "stdout",
     "output_type": "stream",
     "text": [
      "[[3 1]\n",
      " [2 2]]\n"
     ]
    }
   ],
   "source": [
    "from sklearn.metrics import confusion_matrix\n",
    "def get_metrics(actual_targets, predicted_targets, labels):\n",
    " c_matrix = confusion_matrix(actual_targets, predicted_targets,\n",
    "labels)\n",
    " return c_matrix\n",
    "actual = ['cat', 'cat', 'cat', 'cat', 'bird', 'bird','bird','bird']\n",
    "predicted = ['cat', 'cat', 'bird', 'bird', 'cat', 'bird', 'bird',\n",
    "'bird' ]\n",
    "labels = ['bird', 'cat']\n",
    "print(get_metrics(actual, predicted, labels) )"
   ]
  },
  {
   "cell_type": "code",
   "execution_count": null,
   "metadata": {},
   "outputs": [],
   "source": []
  }
 ],
 "metadata": {
  "kernelspec": {
   "display_name": "Python [conda root]",
   "language": "python",
   "name": "conda-root-py"
  },
  "language_info": {
   "codemirror_mode": {
    "name": "ipython",
    "version": 3
   },
   "file_extension": ".py",
   "mimetype": "text/x-python",
   "name": "python",
   "nbconvert_exporter": "python",
   "pygments_lexer": "ipython3",
   "version": "3.6.4"
  }
 },
 "nbformat": 4,
 "nbformat_minor": 2
}
