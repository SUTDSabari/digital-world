{
 "cells": [
  {
   "cell_type": "code",
   "execution_count": 71,
   "metadata": {
    "collapsed": true
   },
   "outputs": [],
   "source": [
    "import numpy as np"
   ]
  },
  {
   "cell_type": "code",
   "execution_count": 72,
   "metadata": {
    "collapsed": true
   },
   "outputs": [],
   "source": [
    "def cartesian_to_spherical(x, y, z):\n",
    "    r = np.sqrt(x**2. + y**2. + z**2.)\n",
    "    theta = np.arccos(z/r)\n",
    "    phi = np.arctan2(y,x)\n",
    "    return np.round(r,5), np.round(theta,5), np.round(phi,5)\n",
    "\n",
    "def spherical_to_cartesian(r,theta,phi):\n",
    "    x = r * np.cos(phi) * np.sin(theta)\n",
    "    z = r * np.cos(theta)\n",
    "    y = np.sqrt(np.abs(r ** 2. - x ** 2. - z ** 2.))\n",
    "    return round(x,5), round(y,5), round(z,5)\n",
    "\n",
    "def absolute(cnumber):\n",
    "    return np.absolute(cnumber)"
   ]
  },
  {
   "cell_type": "code",
   "execution_count": 73,
   "metadata": {},
   "outputs": [
    {
     "name": "stdout",
     "output_type": "stream",
     "text": [
      "[2.0, 2.5, 3.0]\n",
      "[2.0, 2.25, 2.5, 2.75, 3.0]\n",
      "[2.0, 2.02041, 2.04082, 2.06122, 2.08163, 2.10204, 2.12245, 2.14286, 2.16327, 2.18367, 2.20408, 2.22449, 2.2449, 2.26531, 2.28571, 2.30612, 2.32653, 2.34694, 2.36735, 2.38776, 2.40816, 2.42857, 2.44898, 2.46939, 2.4898, 2.5102, 2.53061, 2.55102, 2.57143, 2.59184, 2.61224, 2.63265, 2.65306, 2.67347, 2.69388, 2.71429, 2.73469, 2.7551, 2.77551, 2.79592, 2.81633, 2.83673, 2.85714, 2.87755, 2.89796, 2.91837, 2.93878, 2.95918, 2.97959, 3.0]\n"
     ]
    }
   ],
   "source": [
    "def linspace(start, end, num=50):\n",
    "    return [round(start + float(x)/(num-1.),5) for x in range(num)]\n",
    "\n",
    "print(linspace(2.0, 3.0, num=3))\n",
    "print(linspace(2.0, 3.0, num=5))\n",
    "print(linspace(2.0, 3.0))"
   ]
  },
  {
   "cell_type": "code",
   "execution_count": 74,
   "metadata": {},
   "outputs": [
    {
     "name": "stdout",
     "output_type": "stream",
     "text": [
      "test 1\n",
      "([[[1, 1], [2, 2], [3, 3]], [[1, 1], [2, 2], [3, 3]], [[1, 1], [2, 2], [3, 3]], [[1, 1], [2, 2], [3, 3]]], [[[4, 4], [4, 4], [4, 4]], [[5, 5], [5, 5], [5, 5]], [[6, 6], [6, 6], [6, 6]], [[7, 7], [7, 7], [7, 7]]], [[[8, 9], [8, 9], [8, 9]], [[8, 9], [8, 9], [8, 9]], [[8, 9], [8, 9], [8, 9]], [[8, 9], [8, 9], [8, 9]]])\n"
     ]
    }
   ],
   "source": [
    "def meshgrid(x,y,z):\n",
    "    return [[[x_ for  _ in z] for x_ in x] for  _ in y],[[[y_ for  _ in z] for  _ in x] for y_ in y],[[[z_ for z_ in z] for  _ in x] for  _ in y]\n",
    "\n",
    "# [[[x_ for  _ in z] for x_ in x] for  _ in y],\n",
    "# [[[y_ for  _ in z] for  _ in x] for y_ in y],\n",
    "# [[[z_ for z_ in z] for  _ in x] for  _ in y]\n",
    "\n",
    "x=[1,2,3] \n",
    "y=[4,5,6,7]\n",
    "z=[8,9]\n",
    "print('test 1')\n",
    "ans=meshgrid(x,y,z) \n",
    "print(ans)"
   ]
  },
  {
   "cell_type": "code",
   "execution_count": 75,
   "metadata": {},
   "outputs": [
    {
     "name": "stdout",
     "output_type": "stream",
     "text": [
      "test 1\n",
      "[array([[[1, 1],\n",
      "        [2, 2],\n",
      "        [3, 3]],\n",
      "\n",
      "       [[1, 1],\n",
      "        [2, 2],\n",
      "        [3, 3]],\n",
      "\n",
      "       [[1, 1],\n",
      "        [2, 2],\n",
      "        [3, 3]],\n",
      "\n",
      "       [[1, 1],\n",
      "        [2, 2],\n",
      "        [3, 3]]]), array([[[4, 4],\n",
      "        [4, 4],\n",
      "        [4, 4]],\n",
      "\n",
      "       [[5, 5],\n",
      "        [5, 5],\n",
      "        [5, 5]],\n",
      "\n",
      "       [[6, 6],\n",
      "        [6, 6],\n",
      "        [6, 6]],\n",
      "\n",
      "       [[7, 7],\n",
      "        [7, 7],\n",
      "        [7, 7]]]), array([[[8, 9],\n",
      "        [8, 9],\n",
      "        [8, 9]],\n",
      "\n",
      "       [[8, 9],\n",
      "        [8, 9],\n",
      "        [8, 9]],\n",
      "\n",
      "       [[8, 9],\n",
      "        [8, 9],\n",
      "        [8, 9]],\n",
      "\n",
      "       [[8, 9],\n",
      "        [8, 9],\n",
      "        [8, 9]]])]\n",
      "test 2\n",
      "[array([[[ 0. ,  0. ],\n",
      "        [ 0.5,  0.5],\n",
      "        [ 1. ,  1. ]],\n",
      "\n",
      "       [[ 0. ,  0. ],\n",
      "        [ 0.5,  0.5],\n",
      "        [ 1. ,  1. ]],\n",
      "\n",
      "       [[ 0. ,  0. ],\n",
      "        [ 0.5,  0.5],\n",
      "        [ 1. ,  1. ]],\n",
      "\n",
      "       [[ 0. ,  0. ],\n",
      "        [ 0.5,  0.5],\n",
      "        [ 1. ,  1. ]]]), array([[[ 2. ,  2. ],\n",
      "        [ 2. ,  2. ],\n",
      "        [ 2. ,  2. ]],\n",
      "\n",
      "       [[ 2.5,  2.5],\n",
      "        [ 2.5,  2.5],\n",
      "        [ 2.5,  2.5]],\n",
      "\n",
      "       [[ 3. ,  3. ],\n",
      "        [ 3. ,  3. ],\n",
      "        [ 3. ,  3. ]],\n",
      "\n",
      "       [[ 3.5,  3.5],\n",
      "        [ 3.5,  3.5],\n",
      "        [ 3.5,  3.5]]]), array([[[ 4. ,  4.5],\n",
      "        [ 4. ,  4.5],\n",
      "        [ 4. ,  4.5]],\n",
      "\n",
      "       [[ 4. ,  4.5],\n",
      "        [ 4. ,  4.5],\n",
      "        [ 4. ,  4.5]],\n",
      "\n",
      "       [[ 4. ,  4.5],\n",
      "        [ 4. ,  4.5],\n",
      "        [ 4. ,  4.5]],\n",
      "\n",
      "       [[ 4. ,  4.5],\n",
      "        [ 4. ,  4.5],\n",
      "        [ 4. ,  4.5]]])]\n"
     ]
    }
   ],
   "source": [
    "x=[1,2,3] \n",
    "y=[4,5,6,7]\n",
    "z=[8,9]\n",
    "print('test 1')\n",
    "ans=np.meshgrid(x,y,z) \n",
    "print(ans)\n",
    "\n",
    "x=[0,0.5,1] \n",
    "y=[2,2.5,3.0,3.5] \n",
    "z=[4.0,4.5] \n",
    "print('test 2')\n",
    "ans=np.meshgrid(x,y,z) \n",
    "print(ans)"
   ]
  },
  {
   "cell_type": "code",
   "execution_count": 76,
   "metadata": {
    "collapsed": true
   },
   "outputs": [],
   "source": [
    "### reference :: from somewhere\n",
    "\n",
    "\"\"\"\n",
    "outputs the value of the associated Legendre function P_l,m(x) at a given point.\n",
    "l and m must be non-negative integers.\n",
    "\"\"\"\n",
    "import numpy as np\n",
    "from math import pi, sqrt, cos, factorial, e"
   ]
  },
  {
   "cell_type": "markdown",
   "metadata": {},
   "source": [
    "# Legendre Polynomial\n",
    "$$P_l(x) = \n",
    "\\frac{1}{2^l l!} \n",
    "\\left( \\frac{\\partial}{\\partial x} \\right)^l \n",
    "(x^2 - 1)^l$$"
   ]
  },
  {
   "cell_type": "code",
   "execution_count": 77,
   "metadata": {
    "collapsed": true
   },
   "outputs": [],
   "source": [
    "def legendre(l):\n",
    "    \"\"\"returns a legendre polynomial in terms of cos(theta)\"\"\"\n",
    "    if l == 0:\n",
    "        return lambda x: 1 # return a funciton that returns 1\n",
    "    p = np.poly1d([1, 0, -1]).__pow__(l) #create polynomial\n",
    "    p_deriv = p.deriv(l) #get degree-l derivative of (x^2 - 1)^l\n",
    "    #legendre_pol = np.poly1d([i/(2**l * math.factorial(l)) for i in p_deriv])\n",
    "    legendre_pol = p_deriv/(2**l * factorial(l))\n",
    " \n",
    "    def getpol(theta):\n",
    "        \"\"\"returns the value of the legendre polynomial\n",
    "        at the point x = cos(theta)\"\"\"\n",
    "        #only required if passing the output of legendre() as a function\n",
    "        pol = 0\n",
    "        for power, coeff in enumerate(legendre_pol):\n",
    "            pol += coeff*(cos(theta)**power)\n",
    "        return pol\n",
    "     \n",
    "    return legendre_pol #returns a poly1d object"
   ]
  },
  {
   "cell_type": "markdown",
   "metadata": {
    "collapsed": true
   },
   "source": [
    "# Associated Legendre Function\n",
    "\n",
    "$$P_l^m(x) = \n",
    "(1-x^2)^\\frac{|m|}{2} \n",
    "\\left(\\frac{\\partial}{\\partial x} \\right)^{|m|} \n",
    "P_l(x)$$"
   ]
  },
  {
   "cell_type": "code",
   "execution_count": 78,
   "metadata": {
    "collapsed": true
   },
   "outputs": [],
   "source": [
    "import scipy.constants as c"
   ]
  },
  {
   "cell_type": "code",
   "execution_count": 79,
   "metadata": {
    "collapsed": true
   },
   "outputs": [],
   "source": [
    "def assoc_legendre(m,l):\n",
    "    \"\"\"returns a function in terms of cos(theta) that is \n",
    "    the associated Legendre function for m,l\"\"\"\n",
    "    if l == 0 and m == 0:\n",
    "        return lambda x: 1 #returns a function that returns 1\n",
    " \n",
    "    elif abs(m) <= l:\n",
    "        legendre_pol = legendre(l)\n",
    "        legendre_pol_deriv = legendre_pol.deriv(abs(m)) if m != 0 else legendre_pol\n",
    " \n",
    "        def getassoc(theta):\n",
    "            \"\"\"returns the associated Legendre function at\n",
    "            the point x = cos(theta)\"\"\"\n",
    "            return legendre_pol_deriv(cos(theta))*((1 - cos(theta)**2)**abs(m/2.0))\n",
    "        return getassoc #returns a function in terms of x\n",
    " \n",
    "    else:\n",
    "        return lambda x: \"m cannot be greater than l\"  # what does this mean?\n",
    "        #returns a null-returning function if |m| > l"
   ]
  },
  {
   "cell_type": "markdown",
   "metadata": {},
   "source": [
    "$$Y_l^m(\\theta,\\phi) = \\epsilon \\sqrt{\n",
    "\\frac{2l + 1}{4 \\pi} \n",
    "\\frac{(l - |m|)!}{(l - |m|)!}}\n",
    "e^{i \\phi m} P_l^m(cos \\theta) \n",
    "$$"
   ]
  },
  {
   "cell_type": "code",
   "execution_count": 80,
   "metadata": {
    "collapsed": true
   },
   "outputs": [],
   "source": [
    "def angular_wave_func(m, l, theta, phi):\n",
    "    eps = -1**m if m > 0 else 1\n",
    "#     print \"\\nepsilon = \" + str(eps) + '\\n'\n",
    "    expr = sqrt((((2*l) + 1) * factorial(l - abs(m))) / ((4.0*pi) * factorial(l + abs(m))))\n",
    "#     print \"expr value for for m = %d, l = %d: \\n %.3f \\n\" % (m, l, expr)\n",
    "    p = assoc_legendre(m, l)(theta)\n",
    "#     print \"assoc_legendre value for m = %d, l = %d at x = %.2f: %.3f \\n\" %(m,l,cos(theta),p)\n",
    "    e_part = (e**(m*phi*1j))\n",
    "#     print \"Exponential part:\"\n",
    "#     print str(round(e_part.real, 5)) + \"   \" + str(round(e_part.imag, 5)) + 'j\\n'\n",
    "    y = eps * expr * e_part * p\n",
    "    return np.round(y, 5)"
   ]
  },
  {
   "cell_type": "code",
   "execution_count": 81,
   "metadata": {},
   "outputs": [
    {
     "name": "stdout",
     "output_type": "stream",
     "text": [
      " \n",
      "1 x\n",
      "0.5\n",
      "angular_wave_func(0,0,0,0)\n",
      "(0.28209+0j)\n",
      "angular_wave_func (0,1,c.pi ,0)\n",
      "(-0.4886+0j)\n",
      "angular_wave_func(1,1,c.pi/2,c.pi)\n",
      "(0.34549-0j)\n",
      "angular_wave_func (0,2,c.pi ,0)\n",
      "(0.63078+0j)\n"
     ]
    }
   ],
   "source": [
    "print(legendre(1))\n",
    "print(assoc_legendre(1, 1)(pi/6))\n",
    " \n",
    "print('angular_wave_func(0,0,0,0)')\n",
    "ans=angular_wave_func(0,0,0,0)\n",
    "print(ans)\n",
    "print('angular_wave_func (0,1,c.pi ,0)')\n",
    "ans=angular_wave_func(0,1,pi ,0)\n",
    "print(ans)\n",
    "print('angular_wave_func(1,1,c.pi/2,c.pi)')\n",
    "ans=angular_wave_func(1,1,pi/2,pi)\n",
    "print(ans)\n",
    "print('angular_wave_func (0,2,c.pi ,0)')\n",
    "ans=angular_wave_func(0,2,pi ,0)\n",
    "print(ans)"
   ]
  },
  {
   "cell_type": "code",
   "execution_count": 82,
   "metadata": {},
   "outputs": [
    {
     "name": "stdout",
     "output_type": "stream",
     "text": [
      "angular_wave_func (2,3,c.pi,0)\n",
      "(0.63078+0j)\n"
     ]
    }
   ],
   "source": [
    "print('angular_wave_func (2,3,c.pi,0)')\n",
    "ans=angular_wave_func (0,2,pi,0)\n",
    "print(ans)"
   ]
  },
  {
   "cell_type": "code",
   "execution_count": 83,
   "metadata": {
    "collapsed": true
   },
   "outputs": [],
   "source": [
    "def radial_wave_func(n, l, r):\n",
    "    \"\"\"value of the radial wave function corresponding to n, l at a point r\"\"\"\n",
    "    a=c.physical_constants['Bohr radius'][0]\n",
    "    p = 2*l +1\n",
    "    qmp = n - l -1\n",
    "    x = (2*r)/(n*a)\n",
    "    lfunc= assoc_laguerre(p,qmp)\n",
    "    y = lfunc(x)\n",
    "    norm_rad_sol = (sqrt(((2/(n*a))**3)*((factorial(qmp)/(2.0*n*(factorial(n +l))**3))))*np.exp(-r/(n*a))*x**l*y)/a**(-1.5)\n",
    "    return np.round(norm_rad_sol,5)\n",
    "\n",
    "\"\"\"\n",
    "outputs the value of the associated Laguerre function L_p,qmp(x) at a given point.\n",
    "p and qmp must be non-negative integers.\n",
    "\"\"\"\n",
    "#==============================================================================\n",
    "# There are 3 main functions here.\n",
    "# The first returns the Laguerre function as a poly1d objectfor a given q.\n",
    "# The second returns a function of one variable that is the associated Laguerre polynomial\n",
    "# The third returns the value of the normalized radial wave function at r for any values of n, l\n",
    "#==============================================================================\n",
    " \n",
    "def laguerre(q):\n",
    "    \"\"\"returns the Laguerre polynomial as a nump[y poly1d object for a given q\"\"\"\n",
    "    def pascal(rows): \n",
    "        \"\"\"returns one row of Pascal's triangle\"\"\"\n",
    "        for rownum in range (rows):\n",
    "            newValue = 1\n",
    "            psc = [newValue]\n",
    "            for iteration in range (rownum):\n",
    "                newValue = newValue * (rownum - iteration) * 1 / (iteration + 1)\n",
    "                psc.append(int(newValue))\n",
    "        return psc\n",
    " \n",
    "    coef = []\n",
    "    for term in range(q + 1):\n",
    "        c = ((-1)**(q + term))*(pascal(q + 1)[term])*(factorial(q)/factorial(q - term))\n",
    "        coef.append(c)\n",
    "    return np.poly1d(coef) #returns a poly1d object\n",
    " \n",
    "def assoc_laguerre(p, qmp):\n",
    "    \"\"\"returns the associated Laguerre function for p, qmp\"\"\"\n",
    "    q = qmp + p\n",
    "    lag = laguerre(q)\n",
    "    lag_der = lag.deriv(p)\n",
    " \n",
    "    def getassoc(x):\n",
    "        value = (-1**p) * lag_der(x)\n",
    "        return value\n",
    " \n",
    "    return getassoc\n",
    "\n",
    " \n",
    "#don't mess with this\n",
    "def test(p,qmp,x):\n",
    "    f=assoc_laguerre(p,qmp)\n",
    "    return f(x)"
   ]
  },
  {
   "cell_type": "markdown",
   "metadata": {},
   "source": [
    "# The entire thing"
   ]
  },
  {
   "cell_type": "code",
   "execution_count": 84,
   "metadata": {
    "collapsed": true
   },
   "outputs": [],
   "source": [
    "def hydrogen_wave_func(n, l, m, roa, Nx, Ny, Nz):\n",
    "    # create linspace\n",
    "    # x = linspace(-roa, roa, Nx)\n",
    "    # y = linspace(-roa, roa, Ny)\n",
    "    # z = linspace(-roa, roa, Nz)\n",
    "    \n",
    "    # create grid\n",
    "    # xx, yy, zz = meshgrid(x,y,z)\n",
    "    # print(xx,yy,zz)\n",
    "    xx, yy, zz = np.mgrid[-roa:roa+(2*roa/(Nx-1)):(2*roa/(Nx-1)),\n",
    "                          -roa:roa+(2*roa/(Ny-1)):(2*roa/(Ny-1)),\n",
    "                          -roa:roa+(2*roa/(Nz-1)):(2*roa/(Nz-1))]\n",
    "\n",
    "    \n",
    "    # cartesian to spherical\n",
    "    cartesian_to_spherical_f = np.vectorize(cartesian_to_spherical)\n",
    "    r_, theta_, phi_ = cartesian_to_spherical_f(xx, yy, zz)\n",
    "    \n",
    "    # spherical result radial\n",
    "    radial_wave_func_f = np.vectorize(radial_wave_func)\n",
    "    a=c.physical_constants['Bohr radius'][0]\n",
    "    radial = radial_wave_func_f(n, l, a*r_)\n",
    "    \n",
    "    # spherical result angular\n",
    "    angular_wave_func_f = np.vectorize(angular_wave_func)\n",
    "    m_lp = angular_wave_func_f(m, l, theta_, phi_)\n",
    "    m_ln = angular_wave_func_f(-m, l, theta_, phi_)\n",
    "    \n",
    "    if m == 0:\n",
    "        angular = angular_wave_func_f(-m, l, theta_, phi_)\n",
    "    if m < 0:\n",
    "        angular = 1j/sqrt(2) * (m_lp - ((-1)**m) * m_ln)\n",
    "    if m > 0:\n",
    "        angular = 1j/sqrt(2) * (m_ln + ((-1)**m) * m_lp)\n",
    "    \n",
    "    # combine result, take absolute\n",
    "    absolute_f = np.vectorize(absolute)\n",
    "    result = np.power(absolute_f(np.multiply(angular, radial)),2)\n",
    "    # result = radial\n",
    "    \n",
    "    # return rounded result\n",
    "    return np.round(xx,5),np.round(yy,5),np.round(zz,5),np.round(result,5)"
   ]
  },
  {
   "cell_type": "markdown",
   "metadata": {},
   "source": [
    "dw-chem week 5 to note\n",
    "\n",
    "I reused all my function except a small edit on cartesian_to_spherical (atan2)\n",
    "\n",
    "These are the steps\n",
    "- create linspace\n",
    "- create grid\n",
    "- cartesian to spherical\n",
    "- spherical result radial\n",
    "- spherical result angular\n",
    "- multiply radial with angular\n",
    "- take square of absolute for probability\n",
    "- return rounded result\n",
    "\n",
    "magnitude all zeroes? remember to multiply by bohr’s radius\n",
    "result now reasonable but slightly too big? remember to square the magnitude for the probability\n",
    "np.vectorize can save you from rewriting functions or writing nested for loops\n",
    "use np.arctan2() rather than np.arctan() to avoid division by zero - i got 0/4 for this"
   ]
  },
  {
   "cell_type": "code",
   "execution_count": 85,
   "metadata": {
    "collapsed": true
   },
   "outputs": [],
   "source": [
    "# hydrogen_wave_func(2,1,1,8,3,3,3)"
   ]
  },
  {
   "cell_type": "code",
   "execution_count": 86,
   "metadata": {
    "collapsed": true
   },
   "outputs": [],
   "source": [
    "# hydrogen_wave_func(2,1,1,5,3,4,2)"
   ]
  },
  {
   "cell_type": "code",
   "execution_count": 87,
   "metadata": {
    "collapsed": true
   },
   "outputs": [],
   "source": [
    "# hydrogen_wave_func(2,0,0,3,5,4,3)"
   ]
  },
  {
   "cell_type": "code",
   "execution_count": 88,
   "metadata": {
    "collapsed": true
   },
   "outputs": [],
   "source": [
    "# hydrogen_wave_func(2,1,1,8,4,4,4)"
   ]
  },
  {
   "cell_type": "code",
   "execution_count": 89,
   "metadata": {
    "collapsed": true
   },
   "outputs": [],
   "source": [
    "# hydrogen_wave_func(2,1,1,5,3,4,2)"
   ]
  },
  {
   "cell_type": "code",
   "execution_count": 90,
   "metadata": {
    "collapsed": true
   },
   "outputs": [],
   "source": [
    "# hydrogen_wave_func(2,0,0,3,5,4,3)"
   ]
  },
  {
   "cell_type": "code",
   "execution_count": 91,
   "metadata": {
    "collapsed": true
   },
   "outputs": [],
   "source": [
    "# hydrogen_wave_func(3,1,0,10,6,6,6)"
   ]
  },
  {
   "cell_type": "code",
   "execution_count": 92,
   "metadata": {
    "collapsed": true
   },
   "outputs": [],
   "source": [
    "# hydrogen_wave_func(2,0,0,8,3,3,3)"
   ]
  },
  {
   "cell_type": "markdown",
   "metadata": {},
   "source": [
    "# plotting time!"
   ]
  },
  {
   "cell_type": "code",
   "execution_count": 93,
   "metadata": {},
   "outputs": [
    {
     "data": {
      "image/png": "[encoded data removed]",
      "text/plain": [
       "<matplotlib.figure.Figure at 0x1186d1a58>"
      ]
     },
     "metadata": {},
     "output_type": "display_data"
    },
    {
     "ename": "ImportError",
     "evalue": "No module named 'mayavi'",
     "output_type": "error",
     "traceback": [
      "\u001b[0;31m---------------------------------------------------------------------------\u001b[0m",
      "\u001b[0;31mImportError\u001b[0m                               Traceback (most recent call last)",
      "\u001b[0;32m<ipython-input-93-1175ac795963>\u001b[0m in \u001b[0;36m<module>\u001b[0;34m()\u001b[0m\n\u001b[1;32m     29\u001b[0m \u001b[0;31m# You can use the following code to plot using mlab Mayavi package: import numpy as np\u001b[0m\u001b[0;34m\u001b[0m\u001b[0;34m\u001b[0m\u001b[0m\n\u001b[1;32m     30\u001b[0m \u001b[0;34m\u001b[0m\u001b[0m\n\u001b[0;32m---> 31\u001b[0;31m \u001b[0;32mfrom\u001b[0m \u001b[0mmayavi\u001b[0m \u001b[0;32mimport\u001b[0m \u001b[0mmlab\u001b[0m\u001b[0;34m\u001b[0m\u001b[0m\n\u001b[0m\u001b[1;32m     32\u001b[0m \u001b[0mx\u001b[0m \u001b[0;34m=\u001b[0m \u001b[0mnp\u001b[0m\u001b[0;34m.\u001b[0m\u001b[0mload\u001b[0m\u001b[0;34m(\u001b[0m\u001b[0;34m'xdata.dat'\u001b[0m\u001b[0;34m)\u001b[0m\u001b[0;34m\u001b[0m\u001b[0m\n\u001b[1;32m     33\u001b[0m \u001b[0my\u001b[0m \u001b[0;34m=\u001b[0m \u001b[0mnp\u001b[0m\u001b[0;34m.\u001b[0m\u001b[0mload\u001b[0m\u001b[0;34m(\u001b[0m\u001b[0;34m'ydata.dat'\u001b[0m\u001b[0;34m)\u001b[0m\u001b[0;34m\u001b[0m\u001b[0m\n",
      "\u001b[0;31mImportError\u001b[0m: No module named 'mayavi'"
     ]
    }
   ],
   "source": [
    "import numpy as np\n",
    "# ######\n",
    "# write all your function definitions here #######\n",
    "x,y,z,mag=hydrogen_wave_func(3,1,0,10,20,20,20)\n",
    "x.dump('xdata.dat')\n",
    "y.dump('ydata.dat')\n",
    "z.dump('zdata.dat')\n",
    "mag.dump('density.dat')\n",
    "# You can use the following code to plot using matplotlib:\n",
    "\n",
    "import numpy as np\n",
    "import matplotlib.pyplot as plt\n",
    "from mpl_toolkits.mplot3d import Axes3D\n",
    "x = np.load('xdata.dat') \n",
    "y = np.load('ydata.dat') \n",
    "z = np.load('zdata.dat')\n",
    "mag = np.load('density.dat')\n",
    "fig = plt.figure()\n",
    "ax = fig.add_subplot(111, projection='3d')\n",
    "\n",
    "for a in range(0,len(mag)):\n",
    "    for b in range(0,len(mag)):\n",
    "        for c in range(0,len(mag)): \n",
    "            ax.scatter(x[a][b][c],y[a][b][c],z[a][b][c], \n",
    "                       marker='o', \n",
    "                       alpha=(mag[a][b][c]/np.amax(mag)))\n",
    "plt.show()\n",
    "\n",
    "# You can use the following code to plot using mlab Mayavi package: import numpy as np\n",
    "\n",
    "from mayavi import mlab\n",
    "x = np.load('xdata.dat')\n",
    "y = np.load('ydata.dat')\n",
    "z = np.load('zdata.dat')\n",
    "density = np.load('density.dat')\n",
    "figure = mlab.figure('DensityPlot')\n",
    "# you should modify the parameters\n",
    "pts = mlab.contour3d(density,contours=20,opacity=0.5) \n",
    "mlab.axes()\n",
    "mlab.show()\n"
   ]
  },
  {
   "cell_type": "code",
   "execution_count": null,
   "metadata": {
    "collapsed": true
   },
   "outputs": [],
   "source": []
  },
  {
   "cell_type": "code",
   "execution_count": null,
   "metadata": {
    "collapsed": true
   },
   "outputs": [],
   "source": []
  },
  {
   "cell_type": "code",
   "execution_count": null,
   "metadata": {
    "collapsed": true
   },
   "outputs": [],
   "source": []
  },
  {
   "cell_type": "code",
   "execution_count": null,
   "metadata": {
    "collapsed": true
   },
   "outputs": [],
   "source": []
  }
 ],
 "metadata": {
  "kernelspec": {
   "display_name": "Python 3",
   "language": "python",
   "name": "python3"
  },
  "language_info": {
   "codemirror_mode": {
    "name": "ipython",
    "version": 3
   },
   "file_extension": ".py",
   "mimetype": "text/x-python",
   "name": "python",
   "nbconvert_exporter": "python",
   "pygments_lexer": "ipython3",
   "version": "3.5.2"
  }
 },
 "nbformat": 4,
 "nbformat_minor": 2
}
