{
 "cells": [
  {
   "cell_type": "markdown",
   "metadata": {},
   "source": [
    "# Question 1\n",
    "1537 - 1601 (finds how to test for subsets) 1606 "
   ]
  },
  {
   "cell_type": "code",
   "execution_count": 53,
   "metadata": {},
   "outputs": [],
   "source": [
    "def init():\n",
    "    return [[ '_', '_', '_'] , [ '_', '_', '_'] , [ '_', '_', '_']]\n",
    "\n",
    "def show(b):\n",
    "    s = ''\n",
    "    for line in b:\n",
    "        for entry in line:\n",
    "            s += entry\n",
    "        s += '\\n'\n",
    "    return s"
   ]
  },
  {
   "cell_type": "code",
   "execution_count": 54,
   "metadata": {},
   "outputs": [
    {
     "name": "stdout",
     "output_type": "stream",
     "text": [
      "___\n",
      "___\n",
      "___\n",
      "\n"
     ]
    }
   ],
   "source": [
    "b = init()\n",
    "print(show(b))"
   ]
  },
  {
   "cell_type": "code",
   "execution_count": 55,
   "metadata": {},
   "outputs": [
    {
     "name": "stdout",
     "output_type": "stream",
     "text": [
      "[['_', '_', '_'], ['_', 'o', '_'], ['_', '_', '_']]\n"
     ]
    }
   ],
   "source": [
    "def movex(b,i,j):\n",
    "    b[i-1][j-1] = 'x'\n",
    "    \n",
    "def moveo(b,i,j):\n",
    "    b[i-1][j-1] = 'o'\n",
    "    print(b)\n",
    "    \n",
    "moveo(b,2,2)"
   ]
  },
  {
   "cell_type": "code",
   "execution_count": 56,
   "metadata": {},
   "outputs": [],
   "source": [
    "def countmoves(b):\n",
    "    return 9-[item for sublist in b for item in sublist].count('_')"
   ]
  },
  {
   "cell_type": "code",
   "execution_count": 57,
   "metadata": {},
   "outputs": [
    {
     "data": {
      "text/plain": [
       "3"
      ]
     },
     "execution_count": 57,
     "metadata": {},
     "output_type": "execute_result"
    }
   ],
   "source": [
    "countmoves([[ '_', '_', '_'] , [ 'o', 'o', 'x'] , [ '_', '_', '_']])"
   ]
  },
  {
   "cell_type": "code",
   "execution_count": 58,
   "metadata": {},
   "outputs": [
    {
     "data": {
      "text/plain": [
       "{'x': [(1, 1), (2, 3), (3, 3)], 'o': [(1, 2), (2, 2)]}"
      ]
     },
     "execution_count": 58,
     "metadata": {},
     "output_type": "execute_result"
    }
   ],
   "source": [
    "def getmoves(b):\n",
    "    dic = {'x':[], 'o':[]}\n",
    "    for i in range(3):\n",
    "        for j in range(3):\n",
    "            if b[i][j] == 'x':\n",
    "                dic['x'].append((i+1,j+1))\n",
    "            if b[i][j] == 'o':\n",
    "                dic['o'].append((i+1,j+1))\n",
    "    return dic\n",
    "\n",
    "getmoves([[ '_', '_', '_'] , [ 'o', 'o', 'x'] , [ '_', '_', '_']])\n",
    "getmoves([['x' ,'o' ,'_'] , ['_' ,'o' ,'x'] , ['_' ,'_' ,'x' ]])"
   ]
  },
  {
   "cell_type": "code",
   "execution_count": 59,
   "metadata": {},
   "outputs": [],
   "source": [
    "def winsx(b):\n",
    "    moves = set(getmoves(b)['x'])\n",
    "    print(moves)\n",
    "    if (set([(1,1),(1,2),(1,3)]).issubset(moves) or\n",
    "        set([(2,1),(2,2),(2,3)]).issubset(moves) or\n",
    "        set([(3,1),(3,2),(3,3)]).issubset(moves) or\n",
    "        set([(1,1),(2,1),(3,1)]).issubset(moves) or\n",
    "        set([(1,2),(2,2),(3,2)]).issubset(moves) or\n",
    "        set([(1,3),(2,3),(3,3)]).issubset(moves) or\n",
    "        set([(1,1),(2,2),(3,3)]).issubset(moves) or\n",
    "        set([(1,3),(2,2),(1,3)]).issubset(moves)):\n",
    "        return True\n",
    "    return False\n",
    "\n",
    "def winso(b):\n",
    "    moves = set(getmoves(b)['o'])\n",
    "    if (set([(1,1),(1,2),(1,3)]).issubset(moves) or\n",
    "        set([(2,1),(2,2),(2,3)]).issubset(moves) or\n",
    "        set([(3,1),(3,2),(3,3)]).issubset(moves) or\n",
    "        set([(1,1),(2,1),(3,1)]).issubset(moves) or\n",
    "        set([(1,2),(2,2),(3,2)]).issubset(moves) or\n",
    "        set([(1,3),(2,3),(3,3)]).issubset(moves) or\n",
    "        set([(1,1),(2,2),(3,3)]).issubset(moves) or\n",
    "        set([(1,3),(2,2),(1,3)]).issubset(moves)):\n",
    "        return True\n",
    "    return False"
   ]
  },
  {
   "cell_type": "code",
   "execution_count": 60,
   "metadata": {},
   "outputs": [
    {
     "name": "stdout",
     "output_type": "stream",
     "text": [
      "{(2, 3), (1, 1), (3, 3)}\n",
      "False\n",
      "{(1, 3), (2, 3), (1, 1), (3, 3)}\n",
      "True\n"
     ]
    }
   ],
   "source": [
    "print(winsx([['x' ,'o' ,'_'] , ['_' ,'o' ,'x'] , ['_' ,'_' ,'x']]))\n",
    "print(winsx([['x' ,'o' ,'x'] , ['_' ,'o' ,'x'] , ['_' ,'_' ,'x']]))"
   ]
  },
  {
   "cell_type": "markdown",
   "metadata": {},
   "source": [
    "# Question 2\n",
    "1608 - 1616 with searching Google on how to use class variables"
   ]
  },
  {
   "cell_type": "code",
   "execution_count": 77,
   "metadata": {},
   "outputs": [],
   "source": [
    "class Visitor:\n",
    "    visitor_counter = 1\n",
    "    \n",
    "    def __init__(self, name = None):\n",
    "        if name == None:\n",
    "            Visitor.visitor_counter += 1\n",
    "            name = \"Visitor {}\".format(Visitor.visitor_counter)\n",
    "        self.name = name\n",
    "        self.call_counter = 0\n",
    "        \n",
    "    def setName(self, name):\n",
    "        self.name = name\n",
    "        \n",
    "    def __call__(self):\n",
    "        self.call_counter += 1\n",
    "        return \"{} called the {}th time\".format(self.name, self.call_counter)"
   ]
  },
  {
   "cell_type": "code",
   "execution_count": 78,
   "metadata": {},
   "outputs": [
    {
     "name": "stdout",
     "output_type": "stream",
     "text": [
      "John called the 1th time\n",
      "Visitor 2 called the 1th time\n",
      "John called the 2th time\n",
      "Marina called the 2th time\n",
      "Visitor 3 called the 1th time\n"
     ]
    }
   ],
   "source": [
    "v1=Visitor('John')\n",
    "print(v1())\n",
    "# John called the 1th time.\n",
    "v2=Visitor()\n",
    "print(v2())\n",
    "# Visitor 2 called the 1th time.\n",
    "print(v1())\n",
    "# John called the 2th time.\n",
    "v2.setName('Marina')\n",
    "print(v2())\n",
    "# Marina called the 2th time.\n",
    "v3=Visitor()\n",
    "print(v3())\n",
    "# Visitor 3 called the 1th time."
   ]
  },
  {
   "cell_type": "markdown",
   "metadata": {},
   "source": [
    "# Question 3\n",
    "1617 - 1627 one shot one kill;"
   ]
  },
  {
   "cell_type": "code",
   "execution_count": 88,
   "metadata": {},
   "outputs": [
    {
     "data": {
      "text/plain": [
       "(-90, 0)"
      ]
     },
     "execution_count": 88,
     "metadata": {},
     "output_type": "execute_result"
    }
   ],
   "source": [
    "class Fruit:\n",
    "    def relativeMovement(self):\n",
    "        return (self.relativeRotation, self.unitsForward)\n",
    "\n",
    "class Apple(Fruit):\n",
    "    relativeRotation = 0\n",
    "    unitsForward = 1\n",
    "class Pear(Fruit):\n",
    "    relativeRotation = -90\n",
    "    unitsForward = 0\n",
    "class Plum(Fruit):\n",
    "    relativeRotation = 90\n",
    "    unitsForward = 0\n",
    "    \n",
    "\n",
    "a = Apple()\n",
    "a.relativeMovement()\n",
    "(0, 1)\n",
    "p = Pear()\n",
    "p.relativeMovement()\n",
    "(-90, 0)"
   ]
  },
  {
   "cell_type": "code",
   "execution_count": 89,
   "metadata": {},
   "outputs": [],
   "source": [
    "from libdw import sm\n",
    "\n",
    "class Herbivore(sm.SM):\n",
    "    start_state = 0, (0,0)\n",
    "    \n",
    "    def get_next_values(self, state, inp):\n",
    "        dir_, loc = state\n",
    "        \n",
    "        rot, mv = inp.relativeMovement()\n",
    "        # I think need to call the superclass function\n",
    "        \n",
    "        dir_ += rot\n",
    "        if dir_%360 == 0:\n",
    "            loc = (loc[0] + mv, loc[1])\n",
    "        if dir_%360 == 90:\n",
    "            loc = (loc[0], loc[1] + mv)\n",
    "        if dir_%360 == 180:\n",
    "            loc = (loc[0] - mv, loc[1])\n",
    "        if dir_%360 == 270:\n",
    "            loc = (loc[0], loc[1] - mv)\n",
    "        \n",
    "        state = dir_, loc\n",
    "        return state, loc"
   ]
  },
  {
   "cell_type": "code",
   "execution_count": 90,
   "metadata": {},
   "outputs": [
    {
     "data": {
      "text/plain": [
       "[(1, 0), (2, 0), (2, 0), (2, -1), (2, -1), (1, -1)]"
      ]
     },
     "execution_count": 90,
     "metadata": {},
     "output_type": "execute_result"
    }
   ],
   "source": [
    "h = Herbivore()\n",
    "fruits = [Apple(), Apple(), Pear(), Apple(), Pear(), Apple()]\n",
    "h.transduce(fruits)\n",
    "[(1,0), (2,0), (2,0), (2,-1), (2,-1), (1,-1)]"
   ]
  },
  {
   "cell_type": "code",
   "execution_count": null,
   "metadata": {},
   "outputs": [],
   "source": [
    "# skip the rest of the questions"
   ]
  },
  {
   "cell_type": "code",
   "execution_count": null,
   "metadata": {},
   "outputs": [],
   "source": []
  }
 ],
 "metadata": {
  "kernelspec": {
   "display_name": "Python [conda env:dw]",
   "language": "python",
   "name": "conda-env-dw-py"
  },
  "language_info": {
   "codemirror_mode": {
    "name": "ipython",
    "version": 3
   },
   "file_extension": ".py",
   "mimetype": "text/x-python",
   "name": "python",
   "nbconvert_exporter": "python",
   "pygments_lexer": "ipython3",
   "version": "3.6.5"
  }
 },
 "nbformat": 4,
 "nbformat_minor": 2
}
