{
 "cells": [
  {
   "cell_type": "markdown",
   "metadata": {},
   "source": [
    "# Question 1"
   ]
  },
  {
   "cell_type": "code",
   "execution_count": 1,
   "metadata": {},
   "outputs": [
    {
     "ename": "NameError",
     "evalue": "name 'sm' is not defined",
     "output_type": "error",
     "traceback": [
      "\u001b[0;31m-------------------------------------------------\u001b[0m",
      "\u001b[0;31mNameError\u001b[0m       Traceback (most recent call last)",
      "\u001b[0;32m<ipython-input-1-6f7bb6ffa0ed>\u001b[0m in \u001b[0;36m<module>\u001b[0;34m()\u001b[0m\n\u001b[0;32m----> 1\u001b[0;31m \u001b[0;32mclass\u001b[0m \u001b[0mMySMClass\u001b[0m\u001b[0;34m(\u001b[0m\u001b[0msm\u001b[0m\u001b[0;34m.\u001b[0m\u001b[0mSM\u001b[0m\u001b[0;34m)\u001b[0m\u001b[0;34m:\u001b[0m\u001b[0;34m\u001b[0m\u001b[0m\n\u001b[0m\u001b[1;32m      2\u001b[0m     \u001b[0mstartState\u001b[0m\u001b[0;34m=\u001b[0m\u001b[0;34m(\u001b[0m\u001b[0;34m'forward'\u001b[0m\u001b[0;34m,\u001b[0m\u001b[0;36m0.0\u001b[0m\u001b[0;34m)\u001b[0m\u001b[0;34m\u001b[0m\u001b[0m\n\u001b[1;32m      3\u001b[0m     \u001b[0;32mdef\u001b[0m \u001b[0mgetNextValues\u001b[0m\u001b[0;34m(\u001b[0m\u001b[0mself\u001b[0m\u001b[0;34m,\u001b[0m \u001b[0mstate\u001b[0m\u001b[0;34m,\u001b[0m \u001b[0minp\u001b[0m\u001b[0;34m)\u001b[0m\u001b[0;34m:\u001b[0m\u001b[0;34m\u001b[0m\u001b[0m\n\u001b[1;32m      4\u001b[0m         \u001b[0mstate\u001b[0m\u001b[0;34m,\u001b[0m \u001b[0morig_angle\u001b[0m \u001b[0;34m=\u001b[0m \u001b[0mstate\u001b[0m\u001b[0;34m\u001b[0m\u001b[0m\n\u001b[1;32m      5\u001b[0m         \u001b[0mangle\u001b[0m \u001b[0;34m=\u001b[0m \u001b[0mutil\u001b[0m\u001b[0;34m.\u001b[0m\u001b[0mfixAnglePlusMinusPi\u001b[0m\u001b[0;34m(\u001b[0m\u001b[0minp\u001b[0m\u001b[0;34m.\u001b[0m\u001b[0modometry\u001b[0m\u001b[0;34m.\u001b[0m\u001b[0mtheta\u001b[0m\u001b[0;34m)\u001b[0m\u001b[0;34m\u001b[0m\u001b[0m\n",
      "\u001b[0;31mNameError\u001b[0m: name 'sm' is not defined"
     ]
    }
   ],
   "source": [
    "# I give up don't know what is going on here\n",
    "class MySMClass(sm.SM):\n",
    "    startState=('forward',0.0)\n",
    "    def getNextValues(self, state, inp):\n",
    "        state, orig_angle = state\n",
    "        angle = util.fixAnglePlusMinusPi(inp.odometry.theta)\n",
    "        front_dist = inp.sonars[2]\n",
    "        eps = 0.01\n",
    "        if state=='forward':\n",
    "            if front_dist <=0.5:\n",
    "                next_state = ('rotate', angle)\n",
    "                forward = 0.0\n",
    "                rotation = 0.1\n",
    "            else:\n",
    "                next_state = (Q1, Q2)\n",
    "                forward = 0.1\n",
    "                rotation = 0.0\n",
    "        elif state == 'rotate':\n",
    "            if not util.nearAngle(abs(angle-orig_angle), math.pi/2.0,eps):\n",
    "                next_state = (Q3, Q4)\n",
    "                forward = 0.0\n",
    "                rotation = 0.1\n",
    "            else:\n",
    "                next_state = (Q5, Q6)\n",
    "                forward = 0.1\n",
    "                rotation = 0.0\n",
    "        print(next_state, forward, rotation)\n",
    "        return (next_state, io.Action(fvel = forward, rvel = rotation))"
   ]
  },
  {
   "cell_type": "markdown",
   "metadata": {},
   "source": [
    "a) 3 points Specify the values of Q1 to Q6 at lines 14, 19, and 23. \n",
    "Q1 = 'forward'\n",
    "Q2 = \n",
    "Q3 = 'rotate'\n",
    "Q4 = ''\n",
    "Q5 = 'forward'\n",
    "Q6 = "
   ]
  },
  {
   "cell_type": "markdown",
   "metadata": {},
   "source": [
    "b) 5 points Draw the state transition diagram when you consider only the first item in the tuple of your state variable. Hint: you can use ∆θ to denote abs(angle -orig_angle) in your state diagram.\n",
    "\n",
    "Two states - forward and rotate. But how about all the possible values for the rotation?"
   ]
  },
  {
   "cell_type": "markdown",
   "metadata": {},
   "source": [
    "c) 1 points Explain the purpose of using util.fixAnglePlusMinusPi(). What problems may be encountered if we do not use this function? Hint: Check libdw.util module documentation.\n",
    "\n",
    "Thymio has encoders that calculate the angle of roration."
   ]
  },
  {
   "cell_type": "markdown",
   "metadata": {},
   "source": [
    "d) 1 point Draw one kind of world with its boundary where this state machine will not work. \n",
    "\n",
    "If the boundary consists of a very thin line."
   ]
  },
  {
   "cell_type": "markdown",
   "metadata": {},
   "source": [
    "# Question 2"
   ]
  },
  {
   "cell_type": "code",
   "execution_count": 2,
   "metadata": {},
   "outputs": [
    {
     "name": "stdout",
     "output_type": "stream",
     "text": [
      "DWRULEZ\n"
     ]
    }
   ],
   "source": [
    "# probably took me about 10 mins\n",
    "alphabet = {'A':0,'B':1,'C':2,'D':3,'E':4,'F':5,'G':6,'H':7,'I':8,\n",
    "'J':9,'K':10,'L':11,'M':12,'N':13,'O':14,'P':15,'Q':16,'R':17,'S':18,\n",
    "'T':19,'U':20,'V':21,'W':22,'X':23,'Y':24,'Z':25}\n",
    "# the next line is just to create the inverse alphabet dictionary\n",
    "\n",
    "# oh this is how you make it inverse, cool\n",
    "inverse = {v: k for k, v in alphabet.items()}\n",
    "\n",
    "# Encrypting function\n",
    "def cipher(m,key):\n",
    "    c = \"\"\n",
    "    for x in m:\n",
    "        y = (alphabet[x] + key) % 26\n",
    "        c = c + inverse[y]  # appending to the end of a string\n",
    "    return c\n",
    "\n",
    "# Decrypting function\n",
    "def decipher(c,key):\n",
    "    m = \"\"\n",
    "    for y in c:\n",
    "        x = (alphabet[y] - key) % 26\n",
    "        m = m + inverse[x]  # appending to the end of a string\n",
    "    return m\n",
    "\n",
    "# I'm not sure if this was the key, I forgot!\n",
    "key = 13\n",
    "\n",
    "# But I'm pretty sure that the secret messages starts with 'D'..\n",
    "c = \"QJEHYRM\"\n",
    "\n",
    "#print cipher(m,k)\n",
    "print(decipher(c,key))"
   ]
  },
  {
   "cell_type": "markdown",
   "metadata": {},
   "source": [
    "a) 5 points Can you spot and fix the logical error in the implementation? This is the run-time error I get when running the code:\n",
    "\n",
    "```line 20, in decipher\n",
    " m = m + inverse[x]\n",
    "KeyError: -1```\n",
    "\n",
    "Z is encoded with 25 while A is encoded with 1. When you encrypt Z with a super secret constant factor of 2, Z should be encrypted as B, and this is obtained by adding the encoding of Z, which is 25, with 2, becoming 27, which is 1 after taking modulo 26. \n",
    "\n",
    "However, in the implementation, the modulo is applied to the key, not the sum. Therefore you need to put a parentheses around the sum instead.\n",
    "\n",
    "Therefore, you need to do this for line 11: <BR>\n",
    "```y = (alphabet[x] + key) % 26``` <BR>\n",
    "    \n",
    "You also need to do this similarly for decryption as well. Decrypting B with a key of 2 will result in -1, which refers. This is where key error happened, during the decryption of 'E' with key 5, resulting in -1. <BR>\n",
    "```x = (alphabet[y] - key) % 26```"
   ]
  },
  {
   "cell_type": "markdown",
   "metadata": {},
   "source": [
    "b) 5 points I thought the key was 5 but I think I forgot. Can you help me recover the secret key and the secret message? Julius-C told me that the first letter of the secret message was \"D\". Explain your answer.\n",
    "\n",
    "Q is encoded with 16 and D is encoded with 3. To get the key, we take subtract the plaintext encoding (3) from the ciphertext encoding (16). Therefore the key is 13. The plaintext is therefore `DWRULEZ`."
   ]
  },
  {
   "cell_type": "markdown",
   "metadata": {},
   "source": [
    "# Question 3"
   ]
  },
  {
   "cell_type": "code",
   "execution_count": 3,
   "metadata": {},
   "outputs": [],
   "source": [
    "# this is the giveaway question\n",
    "# 7 minutes?\n",
    "def complete_ISBN(nine_digit_string):\n",
    "    numbers_string_list = list(nine_digit_string)\n",
    "    print([int(x) for x in numbers_string_list])\n",
    "    chksum = 0\n",
    "    for i in range(9):\n",
    "        chksum += int(numbers_string_list[i]) * (i+1)\n",
    "    if chksum%11 == 10:\n",
    "        chksum_char = 'X'\n",
    "    else:\n",
    "        chksum_char = str(chksum%11) \n",
    "    \n",
    "    return nine_digit_string + str(chksum_char)"
   ]
  },
  {
   "cell_type": "code",
   "execution_count": 4,
   "metadata": {},
   "outputs": [
    {
     "name": "stdout",
     "output_type": "stream",
     "text": [
      "Test case 1: input=013601267\n",
      "[0, 1, 3, 6, 0, 1, 2, 6, 7]\n",
      "0136012671\n",
      "Test case 2: input=013031997\n",
      "[0, 1, 3, 0, 3, 1, 9, 9, 7]\n",
      "013031997X\n",
      "Test case 3: input=020139829\n",
      "[0, 2, 0, 1, 3, 9, 8, 2, 9]\n",
      "020139829X\n"
     ]
    }
   ],
   "source": [
    "print(\"Test case 1: input=013601267\")\n",
    "print(complete_ISBN(\"013601267\"))\n",
    "print(\"Test case 2: input=013031997\")\n",
    "print(complete_ISBN(\"013031997\"))\n",
    "print(\"Test case 3: input=020139829\")\n",
    "print(complete_ISBN(\"020139829\"))\n",
    "# time taken 10 minutes"
   ]
  },
  {
   "cell_type": "markdown",
   "metadata": {},
   "source": [
    "# Question 4"
   ]
  },
  {
   "cell_type": "code",
   "execution_count": 6,
   "metadata": {},
   "outputs": [],
   "source": [
    "# 20 minutes?\n",
    "inlist = [(3,5),(2,2),(2,2,3),(12,2),(7,3),(3,7,1)]\n",
    "def get_products(inlist, test):\n",
    "    dict_ = {}\n",
    "    for tuple_ in inlist:\n",
    "        product = 1\n",
    "        for j in tuple_:\n",
    "            product *= j\n",
    "        if dict_.get(product) == None:\n",
    "            dict_[product] = [tuple_]\n",
    "        else:\n",
    "            dict_[product].append(tuple_)\n",
    "\n",
    "            \n",
    "    if dict_.get(test) == None:\n",
    "        o = None\n",
    "    else:\n",
    "        o = dict_[test]\n",
    "    return dict_, o"
   ]
  },
  {
   "cell_type": "code",
   "execution_count": 7,
   "metadata": {},
   "outputs": [],
   "source": [
    "d,o = get_products(inlist,15)"
   ]
  },
  {
   "cell_type": "code",
   "execution_count": 8,
   "metadata": {},
   "outputs": [
    {
     "name": "stdout",
     "output_type": "stream",
     "text": [
      "[4, 12, 15, 21, 24]\n",
      "[[(2, 2)], [(2, 2, 3)], [(3, 5)], [(7, 3), (3, 7, 1)], [(12, 2)]]\n",
      "[(3, 5)]\n",
      "[(7, 3), (3, 7, 1)]\n",
      "None\n"
     ]
    }
   ],
   "source": [
    "print(sorted(d.keys()))\n",
    "print(sorted(d.values()))\n",
    "print(o)\n",
    "d,o = get_products(inlist, 21)\n",
    "print(o)\n",
    "d,o = get_products(inlist, 11)\n",
    "print(o)\n",
    "# time taken 15 minutes"
   ]
  },
  {
   "cell_type": "markdown",
   "metadata": {},
   "source": [
    "# Question 5"
   ]
  },
  {
   "cell_type": "code",
   "execution_count": 14,
   "metadata": {},
   "outputs": [],
   "source": [
    "# time taken: 20 mins to set up, 20 mins to find my missing self.\n",
    "\n",
    "from libdw import sm\n",
    "\n",
    "class SpellCheckSM(sm.SM):\n",
    "    c = ['k','g','s','t','d','n','h','b','m','r']\n",
    "    v = ['a','e','i','o','u']\n",
    "    start_state = 'error'\n",
    "    def get_next_values(self, state, inp):\n",
    "        if state == 'new word':\n",
    "            if inp in self.c:\n",
    "                # A1\n",
    "#                 print(\"A1\")\n",
    "                s, o = 'consonant',''\n",
    "            elif inp == ' ':\n",
    "                # E10\n",
    "#                 print(\"E10\")\n",
    "                s, o = 'new word',''\n",
    "            else:\n",
    "                # E8\n",
    "#                 print(\"E8\")\n",
    "                s, o = 'error',''\n",
    "            \n",
    "        elif state == 'consonant':\n",
    "            if inp in self.v:\n",
    "                # A2\n",
    "#                 print(\"A2\")\n",
    "                s, o = 'vowel',''\n",
    "            elif inp == ' ':\n",
    "                # E4\n",
    "#                 print(\"E4\")\n",
    "                s, o = 'new word','error'\n",
    "            else:\n",
    "                # E5\n",
    "#                 print(\"E5\")\n",
    "                s, o = 'error',''\n",
    "            \n",
    "        elif state == 'vowel':\n",
    "            if inp == ' ':\n",
    "                # A3\n",
    "#                 print(\"A3\")\n",
    "                s, o = 'new word','ok'\n",
    "            else:\n",
    "                # E6\n",
    "#                 print(\"E6\")\n",
    "                s, o = 'error',''\n",
    "            \n",
    "        elif state == 'error':\n",
    "            if inp == ' ':\n",
    "                # E7\n",
    "#                 print(\"E7\")\n",
    "                s, o = 'new word','error'\n",
    "            else:\n",
    "                # E9\n",
    "#                 print(\"E9\")\n",
    "                s, o = 'error',''\n",
    "            \n",
    "        else:\n",
    "            print('this should not happen')\n",
    "            \n",
    "#         print(state,o)\n",
    "            \n",
    "        return s, o    "
   ]
  },
  {
   "cell_type": "code",
   "execution_count": 18,
   "metadata": {},
   "outputs": [
    {
     "name": "stdout",
     "output_type": "stream",
     "text": [
      "test case A\n",
      "['', 'error', '', '', 'ok', '', '', 'ok', '', '', 'ok', '', '', '', 'error', '', '', 'ok', '', '', '', 'error', '', '', 'error']\n"
     ]
    }
   ],
   "source": [
    "print('test case A')\n",
    "a = SpellCheckSM()\n",
    "line =('a si tu ne mai me pas je ')\n",
    "print(a.transduce(line,verbose=False))"
   ]
  },
  {
   "cell_type": "code",
   "execution_count": 19,
   "metadata": {},
   "outputs": [
    {
     "name": "stdout",
     "output_type": "stream",
     "text": [
      "test case B\n",
      "['', '', 'error', '', '', 'ok', '', '', 'ok', '', '', 'ok', '', '', 'ok']\n"
     ]
    }
   ],
   "source": [
    "print('test case B')\n",
    "a = SpellCheckSM()\n",
    "line = 'hi ka ru no de '\n",
    "print(a.transduce(line,verbose=False))"
   ]
  },
  {
   "cell_type": "code",
   "execution_count": 20,
   "metadata": {},
   "outputs": [
    {
     "name": "stdout",
     "output_type": "stream",
     "text": [
      "test case C\n",
      "Start state: error\n",
      "In: m Out:  Next State: error\n",
      "In: u Out:  Next State: error\n",
      "In:   Out: error Next State: new word\n"
     ]
    },
    {
     "data": {
      "text/plain": [
       "['', '', 'error']"
      ]
     },
     "execution_count": 20,
     "metadata": {},
     "output_type": "execute_result"
    }
   ],
   "source": [
    "print('test case C')\n",
    "a = SpellCheckSM()\n",
    "line = 'mu '\n",
    "a.transduce(line,verbose=True)"
   ]
  },
  {
   "cell_type": "markdown",
   "metadata": {},
   "source": [
    "# Question 6"
   ]
  },
  {
   "cell_type": "code",
   "execution_count": 167,
   "metadata": {},
   "outputs": [],
   "source": [
    "# 1308 - 1333\n",
    "# test case fulfilled in 30 mins\n",
    "from math import sqrt\n",
    "\n",
    "class Parallelogram:\n",
    "    def __init__(self, side1, side2, diagonal):\n",
    "        self.s1 = side1\n",
    "        self.s2 = side2\n",
    "        self.d = diagonal\n",
    "    \n",
    "    def __str__(self):\n",
    "        return \"{:.2f}\".format(self.d)\n",
    "    \n",
    "        '''getter'''\n",
    "    def get_d(self):\n",
    "        print(\"calling getter\")\n",
    "        return self.d\n",
    "    \n",
    "    '''setter'''\n",
    "    def set_d(self,d):\n",
    "        print(\"calling setter\")\n",
    "        if d < 0:\n",
    "            d = 0\n",
    "            \n",
    "        self.d = d\n",
    "        \n",
    "    def __call__(self):\n",
    "        a,b,c = sorted([self.s1, self.s2, self.d])\n",
    "        if c**2 > a**2 + b**2:\n",
    "            return False\n",
    "        else:\n",
    "            return True\n",
    "        \n",
    "    def calc_area(self):\n",
    "        s = 0.5 * (self.s1 + self.s2 + self.d)\n",
    "        return 2*sqrt(s*(s-self.s1)*(s-self.s2)*(s-self.d))\n",
    "    \n",
    "    diagonal = property(get_d,\n",
    "                          set_d)"
   ]
  },
  {
   "cell_type": "code",
   "execution_count": 168,
   "metadata": {},
   "outputs": [
    {
     "name": "stdout",
     "output_type": "stream",
     "text": [
      "4.00\n"
     ]
    }
   ],
   "source": [
    "para = Parallelogram(2,3,4)\n",
    "print(para)"
   ]
  },
  {
   "cell_type": "code",
   "execution_count": 169,
   "metadata": {},
   "outputs": [
    {
     "name": "stdout",
     "output_type": "stream",
     "text": [
      "calling setter\n",
      "3.00\n"
     ]
    }
   ],
   "source": [
    "para = Parallelogram(2,3,4)\n",
    "para.diagonal = 3\n",
    "print(para)"
   ]
  },
  {
   "cell_type": "code",
   "execution_count": 170,
   "metadata": {},
   "outputs": [
    {
     "name": "stdout",
     "output_type": "stream",
     "text": [
      "calling setter\n",
      "0.00\n"
     ]
    }
   ],
   "source": [
    "para = Parallelogram(2,3,4)\n",
    "para.diagonal = -1\n",
    "print(para)"
   ]
  },
  {
   "cell_type": "code",
   "execution_count": 171,
   "metadata": {},
   "outputs": [
    {
     "name": "stdout",
     "output_type": "stream",
     "text": [
      "True\n"
     ]
    }
   ],
   "source": [
    "para = Parallelogram(3,4,5)\n",
    "print(para())"
   ]
  },
  {
   "cell_type": "code",
   "execution_count": 172,
   "metadata": {},
   "outputs": [
    {
     "name": "stdout",
     "output_type": "stream",
     "text": [
      "False\n"
     ]
    }
   ],
   "source": [
    "para = Parallelogram(3,4,8)\n",
    "print(para())"
   ]
  },
  {
   "cell_type": "code",
   "execution_count": 173,
   "metadata": {},
   "outputs": [],
   "source": [
    "class Rectangle(Parallelogram):\n",
    "    def __init__(self, side1, side2, diagonal):\n",
    "        super().__init__(side1, side2, diagonal)\n",
    "        \n",
    "    def __call__(self):\n",
    "        error = self.d**2 - self.s1**2 - self.s2**2\n",
    "        if error < 0.000000001 and error > -0.000000001:\n",
    "            return True\n",
    "        else:\n",
    "            return False\n",
    "    \n",
    "    def calc_area(self):\n",
    "        # how come no override?\n",
    "        return self.s1*self.s2"
   ]
  },
  {
   "cell_type": "code",
   "execution_count": 174,
   "metadata": {},
   "outputs": [
    {
     "name": "stdout",
     "output_type": "stream",
     "text": [
      "False\n"
     ]
    }
   ],
   "source": [
    "rect = Rectangle(3,4,6)\n",
    "print(rect())"
   ]
  },
  {
   "cell_type": "code",
   "execution_count": 196,
   "metadata": {},
   "outputs": [],
   "source": [
    "class Rhombus(Parallelogram):\n",
    "    def __init__(self, side1, side2, diagonal):\n",
    "        super().__init__(side1, side2, diagonal)\n",
    "        \n",
    "    def __call__(self):\n",
    "        if self.s1 == self.s2 and self.diagonal <= self.s1 + self.s2:\n",
    "        # diagonal cannot be twice the of both sides\n",
    "            return True\n",
    "        else:\n",
    "            return False"
   ]
  },
  {
   "cell_type": "code",
   "execution_count": 197,
   "metadata": {},
   "outputs": [
    {
     "name": "stdout",
     "output_type": "stream",
     "text": [
      "calling getter\n",
      "True\n",
      "calling getter\n",
      "False\n"
     ]
    }
   ],
   "source": [
    "rhom = Rhombus(3,3,2)\n",
    "rhom1 = Rhombus(3,3,7)\n",
    "print(rhom())\n",
    "print(rhom1())"
   ]
  },
  {
   "cell_type": "code",
   "execution_count": 198,
   "metadata": {},
   "outputs": [],
   "source": [
    "from math import sqrt\n",
    "\n",
    "class Square(Parallelogram):\n",
    "    def __init__(self, side1, side2, diagonal):\n",
    "        super().__init__(side1, side2, diagonal)\n",
    "        \n",
    "    def __call__(self):\n",
    "        error = self.d**2 - self.s1**2 - self.s2**2\n",
    "        if error < 0.000000001 and error > -0.000000001 and self.s1 ==  self.s2:\n",
    "            return True\n",
    "        else:\n",
    "            return False"
   ]
  },
  {
   "cell_type": "code",
   "execution_count": 199,
   "metadata": {},
   "outputs": [
    {
     "name": "stdout",
     "output_type": "stream",
     "text": [
      "False\n",
      "True\n"
     ]
    }
   ],
   "source": [
    "from math import sqrt\n",
    "squr = Square(2,2,3)\n",
    "print(squr())\n",
    "squr = Square(2,2,sqrt(8))\n",
    "print(squr())"
   ]
  },
  {
   "cell_type": "code",
   "execution_count": 200,
   "metadata": {},
   "outputs": [
    {
     "name": "stdout",
     "output_type": "stream",
     "text": [
      "5.809475019311125\n",
      "34.8245602987317\n",
      "12\n",
      "8.94427190999916\n",
      "3.999997524686734\n"
     ]
    }
   ],
   "source": [
    "para = Parallelogram(3,4,2)\n",
    "print(para.calc_area())\n",
    "para = Parallelogram(5,7,9)\n",
    "print(para.calc_area())\n",
    "rect = Rectangle(3,4,5)\n",
    "print(rect.calc_area())\n",
    "rhom = Rhombus(3,3,4)\n",
    "print(rhom.calc_area())\n",
    "squr= Square(2,2,2.83)\n",
    "print(squr.calc_area())"
   ]
  },
  {
   "cell_type": "markdown",
   "metadata": {},
   "source": [
    "# Question 7 "
   ]
  },
  {
   "cell_type": "code",
   "execution_count": 30,
   "metadata": {},
   "outputs": [],
   "source": [
    "#1334 - #1412 minus toilet break and talking to PF\n",
    "class MyTask(object):\n",
    "    def __init__(self, deadline, duration):\n",
    "        self.deadline = deadline\n",
    "        self.duration = duration\n",
    "    def __str__(self):\n",
    "        return 'T(%d,%d)' %(self.deadline, self.duration)\n",
    "\n",
    "def procrastination(TaskList):\n",
    "    # time recommended on this question: \n",
    "    # 120 minutes * 15/100 = 18 minutes\n",
    "    # do this question when you are done with the easy ones\n",
    "    # most likely I myself will not be attempting this question \n",
    "    # you need to know which questions to give up\n",
    "    \n",
    "    # firstly you need to be able to unpack the values\n",
    "    # you should deserve a few marks if they see that you can do this\n",
    "    # though you will not pass any test case :(\n",
    "    deadline_list = []\n",
    "    duration_list = []\n",
    "    for task in TaskList:\n",
    "        deadline_list.append(task.deadline)\n",
    "        duration_list.append(task.duration)\n",
    "    total_time = max(deadline_list)\n",
    "    print(deadline_list)\n",
    "    print(duration_list)\n",
    "   \n",
    "    # you should eliminate some cases that definitely will not work\n",
    "    # this should let you pass a few test cases\n",
    "    \n",
    "    # if the total time taken is longer than the latest deadline\n",
    "    if sum(duration_list) > max(deadline_list):\n",
    "        return -1\n",
    "\n",
    "    # for one task if the time taken is longer than the its deadline\n",
    "    for deadline,task in zip(deadline_list,duration_list):\n",
    "        # zip keyword:\n",
    "        # https://docs.python.org/3.3/library/functions.html#zip\n",
    "        if task > deadline:\n",
    "            return -1\n",
    "        \n",
    "    # beginning the algorithm proper\n",
    "   \n",
    "    # like a procastinator, we should plan from the end\n",
    "    deadline_list = [total_time-t for t in deadline_list]\n",
    "    print(deadline_list)\n",
    "    print(duration_list)\n",
    "    \n",
    "    # sorting one list w.r.t. to the other\n",
    "    # https://stackoverflow.com/questions/6618515\n",
    "    # you should not have access to stackoverflow during the exam\n",
    "    lst = [(deadline,task) for (deadline,task) in sorted(zip(deadline_list,duration_list))]\n",
    "    print(lst)\n",
    "    \n",
    "  \n",
    "    # start your plan with nothing planned\n",
    "    # 0 indicate nothing planned, 1 indicate with something planned\n",
    "    time_plan = [0]*total_time\n",
    "    \n",
    "    # fill from the task that has the latest deadline, like a pro\n",
    "    for deadline,task in lst:\n",
    "        hours = 0\n",
    "        i = 0\n",
    "        while hours < task:\n",
    "            # while we are filling the time slots a single task\n",
    "            if deadline+i == total_time:\n",
    "                # if we are exceeding the time allowed\n",
    "                # concede\n",
    "                return -1\n",
    "            if time_plan[deadline+i] == 0:\n",
    "                # if the time slot is empty\n",
    "                time_plan[deadline+i] = 1         \n",
    "                # fill it up\n",
    "                hours += 1\n",
    "                # now you have planned an(other) hour of your task\n",
    "            i += 1\n",
    "            # move on to the next hour\n",
    "                \n",
    "    # you can see your timeplan being filled\n",
    "    print(time_plan)\n",
    "    \n",
    "    # now count the number of trailing zeroes\n",
    "    count_free_time = 0\n",
    "    for i in time_plan[::-1]:\n",
    "        # a_[::-1] is the reverse of list a\n",
    "        if i == 0:\n",
    "            count_free_time += 1\n",
    "        else: \n",
    "            # stop counting when you hit a nonzero\n",
    "            break\n",
    "    return count_free_time\n",
    "        \n"
   ]
  },
  {
   "cell_type": "code",
   "execution_count": 31,
   "metadata": {},
   "outputs": [
    {
     "name": "stdout",
     "output_type": "stream",
     "text": [
      "[9, 9, 7]\n",
      "[1, 2, 1]\n",
      "[0, 0, 2]\n",
      "[1, 2, 1]\n",
      "[(0, 1), (0, 2), (2, 1)]\n",
      "[1, 1, 1, 1, 0, 0, 0, 0, 0]\n",
      "5\n"
     ]
    }
   ],
   "source": [
    "assignments = [ MyTask(9,1), MyTask(9,2), MyTask(7,1) ]\n",
    "print(procrastination(assignments))"
   ]
  },
  {
   "cell_type": "code",
   "execution_count": 32,
   "metadata": {},
   "outputs": [
    {
     "name": "stdout",
     "output_type": "stream",
     "text": [
      "[3, 3]\n",
      "[2, 2]\n",
      "-1\n"
     ]
    }
   ],
   "source": [
    "assignments1 = [MyTask(3,2), MyTask(3,2)]\n",
    "print(procrastination(assignments1))"
   ]
  },
  {
   "cell_type": "code",
   "execution_count": 33,
   "metadata": {},
   "outputs": [
    {
     "name": "stdout",
     "output_type": "stream",
     "text": [
      "[9, 9, 4]\n",
      "[1, 2, 3]\n",
      "[0, 0, 5]\n",
      "[1, 2, 3]\n",
      "[(0, 1), (0, 2), (5, 3)]\n",
      "[1, 1, 1, 0, 0, 1, 1, 1, 0]\n",
      "1\n"
     ]
    }
   ],
   "source": [
    "assignments2 = [MyTask(9,1), MyTask(9,2), MyTask(4,3)]\n",
    "print(procrastination(assignments2))"
   ]
  },
  {
   "cell_type": "code",
   "execution_count": 34,
   "metadata": {},
   "outputs": [
    {
     "name": "stdout",
     "output_type": "stream",
     "text": [
      "[14, 33, 5, 14, 10]\n",
      "[10, 2, 3, 1, 2]\n",
      "[19, 0, 28, 19, 23]\n",
      "[10, 2, 3, 1, 2]\n",
      "[(0, 2), (19, 1), (19, 10), (23, 2), (28, 3)]\n",
      "-1\n"
     ]
    }
   ],
   "source": [
    "assignments3 = [MyTask(14,10), MyTask(33,2), MyTask(5,3), MyTask(14,1), MyTask(10,2)]\n",
    "print(procrastination(assignments3))"
   ]
  },
  {
   "cell_type": "code",
   "execution_count": null,
   "metadata": {},
   "outputs": [],
   "source": []
  },
  {
   "cell_type": "code",
   "execution_count": null,
   "metadata": {},
   "outputs": [],
   "source": []
  }
 ],
 "metadata": {
  "kernelspec": {
   "display_name": "Python [conda env:dw]",
   "language": "python",
   "name": "conda-env-dw-py"
  },
  "language_info": {
   "codemirror_mode": {
    "name": "ipython",
    "version": 3
   },
   "file_extension": ".py",
   "mimetype": "text/x-python",
   "name": "python",
   "nbconvert_exporter": "python",
   "pygments_lexer": "ipython3",
   "version": "3.6.5"
  }
 },
 "nbformat": 4,
 "nbformat_minor": 2
}
