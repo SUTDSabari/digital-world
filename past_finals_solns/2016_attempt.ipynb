{
 "cells": [
  {
   "cell_type": "markdown",
   "metadata": {},
   "source": [
    "# Answers 'adapted' from Piazza: \n",
    "https://kivy.org/docs/api-kivy.app.html#kivy.app.App.build \n",
    "\n",
    "\n",
    "\n",
    "# Q.1 [15 points]\n",
    "This question is related to graphical user interface (GUI) programming using Kivy.\n",
    "a) Explain what App.build() method does and state what this method should return. [ 5 pts ]\n",
    "b) Explain what widget.bind() method does and its argument. [ 5pts ]\n",
    "c) What are the classes needed to create an application with several Screens? Show their\n",
    "relationship with each other. [ 5 pts]\n",
    "\n",
    " \n",
    "\n",
    "Ans:\n",
    "\n",
    "a) The App.build() method builds the app by adding widgets into it and this method returns the root widget, which comprises of other children widgets.\n",
    "\n",
    "https://kivy.org/docs/api-kivy.app.html#kivy.app.App.build \n",
    "\n",
    "b) The widget.bind() method binds a callback function to the widget such that whenever an event results from a change in a property of the widget, the function will be called to form another event in response. This function needs to be defined in the same class as the Widget or unless it is built-in.\n",
    "\n",
    "(find some links perhaps?)\n",
    "\n",
    "c) The classes required are:\n",
    "- class ScreenManager:\n",
    "The ScreenManager is a widget that manages the transitions between screens, and determines the current screen that is displayed to the user.\n",
    "- class Screen:\n",
    "A screen widget has a name assigned to it so that the ScreenManager can refer to it when changing screens via the sm.switch_to(name='') method or self.manager.current = name. Every screen is initialized via the Screen class.\n",
    "- class App :\n",
    "The App class is the base for creating Kivy applications, and when its App.run() is called, it starts the app's life cycle. Both ScreenManager and Screen widgets are added to the App via add_widget() so that they are part of the app's GUI.\n",
    "\n",
    " \n",
    "\n",
    "===========================================================================\n",
    "\n",
    " \n",
    "\n",
    "# Q.2 [10 points]\n",
    "In Week 9, you worked on a boundary follower problem in your 1D Mini Project.\n",
    "a) State the minimum number of sonar sensors needed in this problem. Which are the\n",
    "minimum sonar sensors needed and explain why? [ 5 pts ]\n",
    "b) The minimum number of states in this problem is two. State the two states and explain why\n",
    "at least two states are needed. [ 5 pts ]\n",
    "\n",
    " \n",
    "\n",
    "Ans:\n",
    "\n",
    "a) This problem require 2 sonar sensors, to detect the color of its floor on its left and on its right. Colors of black and white are determined by the delta values of <100 and >300 respectively by its 2 ground distance sensors via prox_ground_delta. These 2 ground distance sensors can check for the difference between reflected light and ambient light, linked to the distance and to the ground colour.\n",
    "\n",
    " \n",
    "\n",
    "b) Since the boundary follower problem involves the Thymio moving towards the boundary and moving on the left side along the boundary, therefore these 2 states that the Thymio can be in is 'forward' and 'boundary'. Depending on which state the Thymio is in, the new input provided by both the right and left sensor will result in different output of rotating left/right or continuing straight.\n",
    "\n",
    " \n",
    "\n",
    "'Forward' state: if either left or right sensor detects black, then it has reached along the boundary. Therefore the next state will be 'boundary', and it will be programmed to rotate accordingly and move along the boundary. Otherwise, it will stay in 'forward' state and keep moving forward until it reaches the boundary.\n",
    "\n",
    " \n",
    "\n",
    "'Boundary' state: if it moves almost out of the boundary, where both left and right sensors detect white, then it will rotate back to the boundary. Otherwise, depending on whether either the left or right or both sensors detect black, it will rotate and move forward accordingly.m"
   ]
  },
  {
   "cell_type": "markdown",
   "metadata": {},
   "source": [
    "# Question 3"
   ]
  },
  {
   "cell_type": "code",
   "execution_count": 14,
   "metadata": {},
   "outputs": [],
   "source": [
    "# 1506 - 1512 referencing past homework\n",
    "# Question 3\n",
    "\n",
    "import sys\n",
    "\n",
    "def maxOccurrences(inp):\n",
    "    lst = inp.split(\" \")\n",
    "    lst = [int(i) for i in lst]\n",
    "    count_dict = {}\n",
    "    for i in lst:\n",
    "        if count_dict.get(i) == None:\n",
    "            count_dict.update({i : lst.count(i)})\n",
    "    return sorted([x for x in count_dict.keys() if count_dict[x] == max(count_dict.values())]),max(count_dict.values())"
   ]
  },
  {
   "cell_type": "code",
   "execution_count": 15,
   "metadata": {},
   "outputs": [
    {
     "name": "stdout",
     "output_type": "stream",
     "text": [
      "test 1\n",
      "([3], 4)\n"
     ]
    }
   ],
   "source": [
    "print('test 1')\n",
    "inp='2 3 40 3 5 4 -3 3 3 2 0'\n",
    "print(maxOccurrences(inp))"
   ]
  },
  {
   "cell_type": "code",
   "execution_count": 16,
   "metadata": {},
   "outputs": [
    {
     "name": "stdout",
     "output_type": "stream",
     "text": [
      "test 2\n",
      "([3, 9], 2)\n"
     ]
    }
   ],
   "source": [
    "print('test 2')\n",
    "inp='9 30 3 9 3 2 4'\n",
    "print(maxOccurrences(inp))"
   ]
  },
  {
   "cell_type": "markdown",
   "metadata": {},
   "source": [
    "# Question 4"
   ]
  },
  {
   "cell_type": "code",
   "execution_count": 28,
   "metadata": {},
   "outputs": [],
   "source": [
    "# 1512 - 1518\n",
    "from libdw import sm\n",
    "\n",
    "class RingCounter(sm.SM):\n",
    "    start_state = 0\n",
    "    binaries = ['000', '001', '010', '011', '100', '101', '110', '111']\n",
    "    def get_next_values(self, state, inp):\n",
    "        if inp == 1:\n",
    "            state = 0\n",
    "            s,o = state, self.binaries[state]\n",
    "        elif inp == 0:\n",
    "            state = (state + 1)%8\n",
    "            s,o = state, self.binaries[state]\n",
    "        return s, o"
   ]
  },
  {
   "cell_type": "code",
   "execution_count": 29,
   "metadata": {},
   "outputs": [
    {
     "name": "stdout",
     "output_type": "stream",
     "text": [
      "test 1\n",
      "['001', '010', '011', '100', '101', '110', '111', '000', '001']\n",
      "test 2\n",
      "['001', '010', '011', '000', '001', '010', '011', '100', '101']\n",
      "test 3\n",
      "['001', '010', '011', '000', '001', '010', '000', '001', '010']\n"
     ]
    }
   ],
   "source": [
    "print('test 1')\n",
    "r=RingCounter()\n",
    "print(r.transduce([0,0,0,0,0,0,0,0,0]))\n",
    "print('test 2')\n",
    "r=RingCounter()\n",
    "print(r.transduce([0,0,0,1,0,0,0,0,0]))\n",
    "print('test 3')\n",
    "r=RingCounter()\n",
    "print(r.transduce([0,0,0,1,0,0,1,0,0]))"
   ]
  },
  {
   "cell_type": "markdown",
   "metadata": {},
   "source": [
    "# Question 5"
   ]
  },
  {
   "cell_type": "code",
   "execution_count": 5,
   "metadata": {},
   "outputs": [],
   "source": [
    "# 1518 - # 1527\n",
    "class Avatar:\n",
    "    def __init__(self, name, hp = 100, position = (1,1)):\n",
    "        self.name = name\n",
    "        self.hp = hp\n",
    "        self.position = position\n",
    "        \n",
    "    def getName(self):\n",
    "        return self.name\n",
    "    \n",
    "    def setName(self, name):\n",
    "        self.name = name\n",
    "    \n",
    "    def getHP(self):\n",
    "        return self.hp\n",
    "    \n",
    "    def setHP(self, hp):\n",
    "        self.hp = hp\n",
    "    \n",
    "    def getPosition(self):\n",
    "        return self.position\n",
    "    \n",
    "    def setPosition(self, position):\n",
    "        self.position = position\n",
    "        \n",
    "    def heal(self, healing=1):\n",
    "        if healing < 0:\n",
    "            healing = 0\n",
    "        self.hp += healing\n",
    "    \n",
    "    def attacked(self, damage = -1):\n",
    "        if damage > 0:\n",
    "            damage = 0\n",
    "        self.hp += damage"
   ]
  },
  {
   "cell_type": "code",
   "execution_count": 6,
   "metadata": {},
   "outputs": [
    {
     "name": "stdout",
     "output_type": "stream",
     "text": [
      "test 1: __init__\n",
      "('John', 100, (1, 1))\n",
      "test 2: __init__\n",
      "('Jane', 150, (10, 10))\n",
      "test 3: getName(), setName()\n",
      "Jude\n",
      "test 4: getPosition(), setPosition()\n",
      "(1, 3)\n",
      "test 5: getHP(), setHP()\n",
      "200\n",
      "test 6: heal()\n",
      "105\n",
      "test 7: attacked()\n",
      "100\n",
      "test 8: heal()\n",
      "101\n",
      "test 9: attacked()\n",
      "99\n",
      "test 10: heal(), attacked() \n",
      "100\n"
     ]
    }
   ],
   "source": [
    "print('test 1: __init__')\n",
    "a=Avatar('John')\n",
    "print((a.name, a.hp, a.position))\n",
    "print('test 2: __init__')\n",
    "a=Avatar('Jane',150,(10,10))\n",
    "print((a.name, a.hp, a.position))\n",
    "print('test 3: getName(), setName()')\n",
    "a=Avatar('John')\n",
    "a.setName('Jude')\n",
    "print(a.getName())\n",
    "print('test 4: getPosition(), setPosition()')\n",
    "a=Avatar('John')\n",
    "a.setPosition((1,3))\n",
    "print(a.getPosition())\n",
    "print('test 5: getHP(), setHP()')\n",
    "a=Avatar('John')\n",
    "a.setHP(200)\n",
    "print(a.getHP())\n",
    "print('test 6: heal()')\n",
    "a=Avatar('John')\n",
    "a.heal(5)\n",
    "print(a.getHP())\n",
    "print('test 7: attacked()')\n",
    "a=Avatar('John')\n",
    "a.attacked(20)\n",
    "print(a.getHP())\n",
    "print('test 8: heal()')\n",
    "a=Avatar('John')\n",
    "a.heal()\n",
    "print(a.getHP())\n",
    "print('test 9: attacked()')\n",
    "a=Avatar('John')\n",
    "a.attacked()\n",
    "print(a.getHP())\n",
    "print('test 10: heal(), attacked() ')\n",
    "a=Avatar('John')\n",
    "a.attacked(2)\n",
    "a.heal(-2)\n",
    "print(a.getHP())"
   ]
  },
  {
   "cell_type": "code",
   "execution_count": 7,
   "metadata": {},
   "outputs": [],
   "source": [
    "# 1527 - 1554\n",
    "import copy\n",
    "\n",
    "class Map():\n",
    "    def __init__(self, world):\n",
    "        self.world = copy.deepcopy(world)\n",
    "    \n",
    "    def whatIsAt(self, position):\n",
    "        try:\n",
    "            item = self.world[position]\n",
    "        except:\n",
    "#           print(\"ex getEnemyAttack\")\n",
    "            return 'Empty'\n",
    "        if item == 'x':\n",
    "            return 'Exit'\n",
    "        elif item == 0:\n",
    "            return 'Wall'\n",
    "        elif item > 0:\n",
    "            return 'Food'\n",
    "        elif item < 0:\n",
    "            return 'Enemy'\n",
    "        else:\n",
    "            return 'Empty'\n",
    "        \n",
    "    def getEnemyAttack(self, position):\n",
    "        try:\n",
    "            item = self.world[position]\n",
    "        except:\n",
    "#           print(\"ex getEnemyAttack\")\n",
    "            return False\n",
    "        item = self.world[position]\n",
    "        if item < 0:\n",
    "            return item\n",
    "        else:\n",
    "            return False\n",
    "        \n",
    "    def getFoodEnergy(self, position):\n",
    "        try:\n",
    "            item = self.world[position]\n",
    "        except:\n",
    "#             print(\"ex getFoodEnergy\")\n",
    "            return False\n",
    "        if item > 0:\n",
    "            return item\n",
    "        else:\n",
    "            return False\n",
    "        \n",
    "    def removeEnemy(self, position):\n",
    "        try:\n",
    "            item = self.world[position]\n",
    "        except:\n",
    "#             print(\"ex removeEnemy\")\n",
    "            return False\n",
    "        if item < 0:\n",
    "            del self.world[position]\n",
    "            return True\n",
    "        else:\n",
    "            return False\n",
    "        \n",
    "    def eatFood(self, position):\n",
    "        try:\n",
    "            item = self.world[position]\n",
    "        except:\n",
    "#             print(\"ex eatFood\")\n",
    "            return False\n",
    "        if item > 0:\n",
    "            del self.world[position]\n",
    "            return True\n",
    "        else:\n",
    "            return False\n",
    "        \n",
    "        \n",
    "    def getExitPosition(self):\n",
    "        # https://stackoverflow.com/questions/8023306\n",
    "        # returns dict only with keys with values that are 'x'\n",
    "        exit_dict = {k:v for k, v in self.world.items() if v == 'x'}\n",
    "        for key in exit_dict:\n",
    "            return key\n"
   ]
  },
  {
   "cell_type": "code",
   "execution_count": 8,
   "metadata": {},
   "outputs": [],
   "source": [
    "world={(0,0):0, (1,0):0 , (2,0):0, (3,0): 0, (4,0):0, (5,0): 0,\n",
    "(0,1):0, (1,1): 2, (2,1):-3, (5,1): 0, (0,2):0, (5,2): 0, (0,3):0,\n",
    "(5,3): 0, (0,4):0, (5,4): 0, (0,5):0, (1,5):0 , (2,5):0, (3,5): 0,\n",
    "(4,5):'x', (5,5): 0}"
   ]
  },
  {
   "cell_type": "code",
   "execution_count": 9,
   "metadata": {},
   "outputs": [
    {
     "name": "stdout",
     "output_type": "stream",
     "text": [
      "test 1: object instantiation\n",
      "{(0, 0): 0, (1, 0): 0, (2, 0): 0, (3, 0): 0, (4, 0): 0, (5, 0): 0, (0, 1): 0, (1, 1): 2, (2, 1): -3, (5, 1): 0, (0, 2): 0, (5, 2): 0, (0, 3): 0, (5, 3): 0, (0, 4): 0, (5, 4): 0, (0, 5): 0, (1, 5): 0, (2, 5): 0, (3, 5): 0, (4, 5): 'x', (5, 5): 0}\n"
     ]
    }
   ],
   "source": [
    "import copy\n",
    "print('test 1: object instantiation')\n",
    "m = Map(world)\n",
    "print(m.world)"
   ]
  },
  {
   "cell_type": "code",
   "execution_count": 10,
   "metadata": {},
   "outputs": [
    {
     "name": "stdout",
     "output_type": "stream",
     "text": [
      "test 2: whatIsAt\n",
      "Wall\n"
     ]
    }
   ],
   "source": [
    "print('test 2: whatIsAt')\n",
    "print(m.whatIsAt((1,0)))"
   ]
  },
  {
   "cell_type": "code",
   "execution_count": 11,
   "metadata": {},
   "outputs": [
    {
     "name": "stdout",
     "output_type": "stream",
     "text": [
      "test 3: whatIsAt\n",
      "Enemy\n",
      "test 4: whatIsAt\n",
      "Food\n",
      "test 5: getFoodEnergy\n",
      "(2, False)\n",
      "test 6: getEnemyAttack\n",
      "(-3, False)\n",
      "test 7: removeEnemy\n",
      "(-3, True, False)\n"
     ]
    }
   ],
   "source": [
    "print('test 3: whatIsAt')\n",
    "print(m.whatIsAt((2,1)))\n",
    "print('test 4: whatIsAt')\n",
    "print(m.whatIsAt((1,1)))\n",
    "print('test 5: getFoodEnergy')\n",
    "w1=m.getFoodEnergy((1,1))\n",
    "w2=m.getFoodEnergy((3,3))\n",
    "print((w1,w2))\n",
    "print('test 6: getEnemyAttack')\n",
    "w1=m.getEnemyAttack((2,1))\n",
    "w2=m.getEnemyAttack((3,3))\n",
    "print((w1,w2))\n",
    "print('test 7: removeEnemy')\n",
    "w1=m.getEnemyAttack((2,1))\n",
    "w2=m.removeEnemy((2,1))\n",
    "w3=m.getEnemyAttack((2,1))\n",
    "print((w1,w2,w3))"
   ]
  },
  {
   "cell_type": "code",
   "execution_count": 12,
   "metadata": {},
   "outputs": [
    {
     "name": "stdout",
     "output_type": "stream",
     "text": [
      "test 8: whatIsAt\n",
      "Empty\n",
      "test 9: getFoodEnergy\n",
      "False\n",
      "test 10: getEnemyAttack\n",
      "False\n",
      "test 11: whatIsAt\n",
      "Exit\n",
      "test 12: getExitPosition\n",
      "(4, 5)\n",
      "test 13: eatFood\n",
      "('Food', True, 'Empty')\n",
      "test 14: test aliasing\n",
      "False\n"
     ]
    }
   ],
   "source": [
    "print('test 8: whatIsAt')\n",
    "print(m.whatIsAt((1,4)))\n",
    "print('test 9: getFoodEnergy')\n",
    "print(m.getFoodEnergy((1,4)))\n",
    "print('test 10: getEnemyAttack')\n",
    "print(m.getEnemyAttack((1,4)))\n",
    "print('test 11: whatIsAt')\n",
    "print(m.whatIsAt((4,5)))\n",
    "print('test 12: getExitPosition')\n",
    "print(m.getExitPosition())\n",
    "print('test 13: eatFood')\n",
    "w1=m.whatIsAt((1,1))\n",
    "w2=m.eatFood((1,1))\n",
    "w3=m.whatIsAt((1,1))\n",
    "print((w1,w2,w3))\n",
    "print('test 14: test aliasing')\n",
    "print(m.world == world)"
   ]
  },
  {
   "cell_type": "markdown",
   "metadata": {},
   "source": [
    "# Question 7"
   ]
  },
  {
   "cell_type": "code",
   "execution_count": 31,
   "metadata": {},
   "outputs": [],
   "source": [
    "# waste of time should give up on this question\n",
    "# this is the result from 1527 - 1639\n",
    "\n",
    "import copy\n",
    "class DW2Game(sm.SM):\n",
    "    def __init__(self, avatar, map_):\n",
    "        print(avatar, map_)\n",
    "        self.startState = avatar, map_\n",
    "\n",
    "    def get_next_state(self, state, inp):\n",
    "        print(\"state: {}\".format(state))\n",
    "        action, direction = inp\n",
    "        print(action)\n",
    "        print(direction)\n",
    "        avatar, map_ = copy.deepcopy(state)\n",
    "        \n",
    "        if direction == 'up':\n",
    "            move = (0,1)\n",
    "        if direction == 'right':\n",
    "            move = (1,0)\n",
    "        if direction == 'down':\n",
    "            move = (0,-1)\n",
    "        if direction == 'left':\n",
    "            move = (-1,0)\n",
    "        \n",
    "        next_pos = (avatar.getPosition()[0] + move[0], \n",
    "                    avatar.getPosition()[1] + move[1])\n",
    "        if action == 'move':\n",
    "            try:\n",
    "                item = map_[next_pos]\n",
    "            except KeyError:\n",
    "                item == None\n",
    "                avatar.setPosition(next_pos)\n",
    "                s = (avatar, map_)\n",
    "            if item == 'x':\n",
    "                avatar.setPosition(next_pos)\n",
    "                s = (avatar, map_)\n",
    "            if item <= 0:\n",
    "                avatar.attacked(item)\n",
    "                s = (avatar, map_)\n",
    "            if item == 0:\n",
    "                s = (avatar, map_)\n",
    "            if item >= 0:\n",
    "                avatar.heal(map_[next_pos])\n",
    "                map_.eatFood(next_pos)\n",
    "            avatar.setPosition(next_pos)\n",
    "            \n",
    "        if action == 'attack':\n",
    "            try:\n",
    "                item = map_[next_pos]\n",
    "            except KeyError:\n",
    "                item == None\n",
    "            if item == 'x':\n",
    "                pass\n",
    "            elif item <= 0:\n",
    "                map_.removeEnemy(next_pos)\n",
    "            \n",
    "        o = avatar.getName(), avatar.getPosition(), avatar.getHP()\n",
    "        s = (avatar, map_)\n",
    "        \n",
    "        print(o)\n",
    "        return s,o\n",
    "    \n",
    "#     def done(self, state):\n",
    "#         avatar, map_ = state\n",
    "#         try:\n",
    "#             if map_[avatar.getPosition()] == 'x':\n",
    "#                 return True\n",
    "#             else:\n",
    "#                 return False\n",
    "#         except:\n",
    "#             return False"
   ]
  },
  {
   "cell_type": "code",
   "execution_count": 32,
   "metadata": {},
   "outputs": [
    {
     "name": "stdout",
     "output_type": "stream",
     "text": [
      "test 1\n",
      "<__main__.Avatar object at 0x111d21828> <__main__.Map object at 0x111d217f0>\n",
      "state: None\n",
      "move\n",
      "down\n"
     ]
    },
    {
     "ename": "TypeError",
     "evalue": "'NoneType' object is not iterable",
     "output_type": "error",
     "traceback": [
      "\u001b[0;31m--------------------------------------\u001b[0m",
      "\u001b[0;31mTypeError\u001b[0mTraceback (most recent call last)",
      "\u001b[0;32m<ipython-input-32-ed059f75544e>\u001b[0m in \u001b[0;36m<module>\u001b[0;34m()\u001b[0m\n\u001b[1;32m     10\u001b[0m \u001b[0mm\u001b[0m\u001b[0;34m=\u001b[0m\u001b[0mMap\u001b[0m\u001b[0;34m(\u001b[0m\u001b[0mworld2\u001b[0m\u001b[0;34m)\u001b[0m\u001b[0;34m\u001b[0m\u001b[0m\n\u001b[1;32m     11\u001b[0m \u001b[0mg\u001b[0m\u001b[0;34m=\u001b[0m\u001b[0mDW2Game\u001b[0m\u001b[0;34m(\u001b[0m\u001b[0mav\u001b[0m\u001b[0;34m,\u001b[0m\u001b[0mm\u001b[0m\u001b[0;34m)\u001b[0m\u001b[0;34m\u001b[0m\u001b[0m\n\u001b[0;32m---> 12\u001b[0;31m \u001b[0mprint\u001b[0m\u001b[0;34m(\u001b[0m\u001b[0mg\u001b[0m\u001b[0;34m.\u001b[0m\u001b[0mtransduce\u001b[0m\u001b[0;34m(\u001b[0m\u001b[0minp\u001b[0m\u001b[0;34m)\u001b[0m\u001b[0;34m)\u001b[0m\u001b[0;34m\u001b[0m\u001b[0m\n\u001b[0m",
      "\u001b[0;32m/anaconda3/envs/dw/lib/python3.6/site-packages/libdw/sm.py\u001b[0m in \u001b[0;36mtransduce\u001b[0;34m(self, inps, verbose, trace_tasks, compact, print_input, check)\u001b[0m\n\u001b[1;32m    148\u001b[0m         \u001b[0;31m# an output associated with a transition into a done state)\u001b[0m\u001b[0;34m\u001b[0m\u001b[0;34m\u001b[0m\u001b[0m\n\u001b[1;32m    149\u001b[0m         \u001b[0;32mwhile\u001b[0m \u001b[0mi\u001b[0m \u001b[0;34m<\u001b[0m \u001b[0mn\u001b[0m \u001b[0;32mand\u001b[0m \u001b[0;32mnot\u001b[0m \u001b[0mself\u001b[0m\u001b[0;34m.\u001b[0m\u001b[0mis_done\u001b[0m\u001b[0;34m(\u001b[0m\u001b[0;34m)\u001b[0m\u001b[0;34m:\u001b[0m\u001b[0;34m\u001b[0m\u001b[0m\n\u001b[0;32m--> 150\u001b[0;31m             \u001b[0mresult\u001b[0m\u001b[0;34m.\u001b[0m\u001b[0mappend\u001b[0m\u001b[0;34m(\u001b[0m\u001b[0mself\u001b[0m\u001b[0;34m.\u001b[0m\u001b[0mstep\u001b[0m\u001b[0;34m(\u001b[0m\u001b[0minps\u001b[0m\u001b[0;34m[\u001b[0m\u001b[0mi\u001b[0m\u001b[0;34m]\u001b[0m\u001b[0;34m)\u001b[0m\u001b[0;34m)\u001b[0m\u001b[0;34m\u001b[0m\u001b[0m\n\u001b[0m\u001b[1;32m    151\u001b[0m             \u001b[0mi\u001b[0m \u001b[0;34m=\u001b[0m \u001b[0mi\u001b[0m \u001b[0;34m+\u001b[0m \u001b[0;36m1\u001b[0m\u001b[0;34m\u001b[0m\u001b[0m\n\u001b[1;32m    152\u001b[0m             \u001b[0;32mif\u001b[0m \u001b[0mi\u001b[0m \u001b[0;34m%\u001b[0m \u001b[0;36m100\u001b[0m \u001b[0;34m==\u001b[0m \u001b[0;36m0\u001b[0m \u001b[0;32mand\u001b[0m \u001b[0mverbose\u001b[0m\u001b[0;34m:\u001b[0m\u001b[0;34m\u001b[0m\u001b[0m\n",
      "\u001b[0;32m/anaconda3/envs/dw/lib/python3.6/site-packages/libdw/sm.py\u001b[0m in \u001b[0;36mstep\u001b[0;34m(self, inp)\u001b[0m\n\u001b[1;32m    102\u001b[0m         \u001b[0;34m:\u001b[0m\u001b[0mparam\u001b[0m \u001b[0minp\u001b[0m\u001b[0;34m:\u001b[0m \u001b[0mnext\u001b[0m \u001b[0minput\u001b[0m \u001b[0mto\u001b[0m \u001b[0mthe\u001b[0m \u001b[0mmachine\u001b[0m\u001b[0;34m\u001b[0m\u001b[0m\n\u001b[1;32m    103\u001b[0m         \"\"\"\n\u001b[0;32m--> 104\u001b[0;31m         \u001b[0;34m(\u001b[0m\u001b[0ms\u001b[0m\u001b[0;34m,\u001b[0m \u001b[0mo\u001b[0m\u001b[0;34m)\u001b[0m \u001b[0;34m=\u001b[0m \u001b[0mself\u001b[0m\u001b[0;34m.\u001b[0m\u001b[0mget_next_values\u001b[0m\u001b[0;34m(\u001b[0m\u001b[0mself\u001b[0m\u001b[0;34m.\u001b[0m\u001b[0mstate\u001b[0m\u001b[0;34m,\u001b[0m \u001b[0minp\u001b[0m\u001b[0;34m)\u001b[0m\u001b[0;34m\u001b[0m\u001b[0m\n\u001b[0m\u001b[1;32m    105\u001b[0m \u001b[0;34m\u001b[0m\u001b[0m\n\u001b[1;32m    106\u001b[0m         \u001b[0;32mif\u001b[0m \u001b[0mself\u001b[0m\u001b[0;34m.\u001b[0m\u001b[0m__debug_params\u001b[0m \u001b[0;32mand\u001b[0m \u001b[0mself\u001b[0m\u001b[0;34m.\u001b[0m\u001b[0m__debug_params\u001b[0m\u001b[0;34m.\u001b[0m\u001b[0mdo_debugging\u001b[0m\u001b[0;34m:\u001b[0m\u001b[0;34m\u001b[0m\u001b[0m\n",
      "\u001b[0;32m/anaconda3/envs/dw/lib/python3.6/site-packages/libdw/sm.py\u001b[0m in \u001b[0;36mget_next_values\u001b[0;34m(self, state, inp)\u001b[0m\n\u001b[1;32m     48\u001b[0m         \u001b[0;32mis\u001b[0m \u001b[0mthe\u001b[0m \u001b[0msame\u001b[0m \u001b[0;32mas\u001b[0m \u001b[0mits\u001b[0m \u001b[0mnext\u001b[0m \u001b[0mstate\u001b[0m\u001b[0;34m.\u001b[0m\u001b[0;34m\u001b[0m\u001b[0m\n\u001b[1;32m     49\u001b[0m         \"\"\"\n\u001b[0;32m---> 50\u001b[0;31m         \u001b[0mnext_state\u001b[0m \u001b[0;34m=\u001b[0m \u001b[0mself\u001b[0m\u001b[0;34m.\u001b[0m\u001b[0mget_next_state\u001b[0m\u001b[0;34m(\u001b[0m\u001b[0mstate\u001b[0m\u001b[0;34m,\u001b[0m \u001b[0minp\u001b[0m\u001b[0;34m)\u001b[0m\u001b[0;34m\u001b[0m\u001b[0m\n\u001b[0m\u001b[1;32m     51\u001b[0m         \u001b[0;32mreturn\u001b[0m \u001b[0;34m(\u001b[0m\u001b[0mnext_state\u001b[0m\u001b[0;34m,\u001b[0m \u001b[0mnext_state\u001b[0m\u001b[0;34m)\u001b[0m\u001b[0;34m\u001b[0m\u001b[0m\n\u001b[1;32m     52\u001b[0m \u001b[0;34m\u001b[0m\u001b[0m\n",
      "\u001b[0;32m<ipython-input-31-134cb1b14f76>\u001b[0m in \u001b[0;36mget_next_state\u001b[0;34m(self, state, inp)\u001b[0m\n\u001b[1;32m     12\u001b[0m         \u001b[0mprint\u001b[0m\u001b[0;34m(\u001b[0m\u001b[0maction\u001b[0m\u001b[0;34m)\u001b[0m\u001b[0;34m\u001b[0m\u001b[0m\n\u001b[1;32m     13\u001b[0m         \u001b[0mprint\u001b[0m\u001b[0;34m(\u001b[0m\u001b[0mdirection\u001b[0m\u001b[0;34m)\u001b[0m\u001b[0;34m\u001b[0m\u001b[0m\n\u001b[0;32m---> 14\u001b[0;31m         \u001b[0mavatar\u001b[0m\u001b[0;34m,\u001b[0m \u001b[0mmap_\u001b[0m \u001b[0;34m=\u001b[0m \u001b[0mcopy\u001b[0m\u001b[0;34m.\u001b[0m\u001b[0mdeepcopy\u001b[0m\u001b[0;34m(\u001b[0m\u001b[0mstate\u001b[0m\u001b[0;34m)\u001b[0m\u001b[0;34m\u001b[0m\u001b[0m\n\u001b[0m\u001b[1;32m     15\u001b[0m \u001b[0;34m\u001b[0m\u001b[0m\n\u001b[1;32m     16\u001b[0m         \u001b[0;32mif\u001b[0m \u001b[0mdirection\u001b[0m \u001b[0;34m==\u001b[0m \u001b[0;34m'up'\u001b[0m\u001b[0;34m:\u001b[0m\u001b[0;34m\u001b[0m\u001b[0m\n",
      "\u001b[0;31mTypeError\u001b[0m: 'NoneType' object is not iterable"
     ]
    }
   ],
   "source": [
    "world2={(0,0):0, (1,0):0 , (2,0):0, (3,0): 0, \n",
    "        (4,0):0, (5,0): 0, (0,1):0, (5,1): 0, \n",
    "        (0,2):0, (1,2): -2, (5,2): 0, (0,3):0, \n",
    "        (2,3): 3, (5,3): 0, (0,4):0, (5,4): 0, \n",
    "        (0,5):0, (1,5):0, (2,5):0, (3,5): 0, \n",
    "        (4,5):'x', (5,5): 0,}\n",
    "print('test 1')\n",
    "inp=[('move','down'),('attack','down'),('move','down'),('move','down'),('move','down'),('move','right'),('move','right'),('move','right'),('move','down'),('move','down')]\n",
    "av=Avatar('John')\n",
    "m=Map(world2)\n",
    "g=DW2Game(av,m)\n",
    "print(g.transduce(inp))"
   ]
  },
  {
   "cell_type": "code",
   "execution_count": null,
   "metadata": {},
   "outputs": [],
   "source": []
  },
  {
   "cell_type": "code",
   "execution_count": null,
   "metadata": {},
   "outputs": [],
   "source": []
  }
 ],
 "metadata": {
  "kernelspec": {
   "display_name": "Python [conda env:dw]",
   "language": "python",
   "name": "conda-env-dw-py"
  },
  "language_info": {
   "codemirror_mode": {
    "name": "ipython",
    "version": 3
   },
   "file_extension": ".py",
   "mimetype": "text/x-python",
   "name": "python",
   "nbconvert_exporter": "python",
   "pygments_lexer": "ipython3",
   "version": "3.6.5"
  }
 },
 "nbformat": 4,
 "nbformat_minor": 2
}
