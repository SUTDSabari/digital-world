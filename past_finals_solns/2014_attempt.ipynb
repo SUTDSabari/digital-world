{
 "cells": [
  {
   "cell_type": "markdown",
   "metadata": {},
   "source": [
    "# Question 1\n",
    "1.1: 1445 - 1450 <BR>\n",
    "1.2: 1452 - 1455 <BR>\n",
    "1.3: 1456 - 1500 <BR>\n",
    "1.4: 1501 - 1505"
   ]
  },
  {
   "cell_type": "code",
   "execution_count": 60,
   "metadata": {},
   "outputs": [],
   "source": [
    "import math\n",
    "class Point2D:\n",
    "    def __init__(self, x, y):\n",
    "        self.x = x\n",
    "        self.y = y\n",
    "    def __str__(self):\n",
    "        return 'Point2D(' + str(self.x) + ',' + str(self.y) + ')'\n",
    "    def add(self, V):\n",
    "#         print(self.x + V.dx, self.y + V.dy)\n",
    "        return Point2D(self.x + V.dx, self.y + V.dy)\n",
    "    \n",
    "class Vector2D:\n",
    "    def __init__(self, dx, dy):\n",
    "        self.dx = dx\n",
    "        self.dy = dy\n",
    "    def length(self):\n",
    "        return math.sqrt(self.dx**2 + self.dy**2)"
   ]
  },
  {
   "cell_type": "code",
   "execution_count": 61,
   "metadata": {},
   "outputs": [],
   "source": [
    "p = Point2D(1,2)\n",
    "v = Vector2D(3,1)\n",
    "q = p.add(v)"
   ]
  },
  {
   "cell_type": "code",
   "execution_count": 62,
   "metadata": {},
   "outputs": [
    {
     "name": "stdout",
     "output_type": "stream",
     "text": [
      "Point2D(4,3)\n"
     ]
    }
   ],
   "source": [
    "print(q)\n",
    "# Point2D(4,3)"
   ]
  },
  {
   "cell_type": "code",
   "execution_count": 63,
   "metadata": {},
   "outputs": [],
   "source": [
    "import copy\n",
    "\n",
    "class Polyline2D:\n",
    "    def __init__(self, P, lst_V):\n",
    "        self.P = P\n",
    "        self.lst_V = lst_V\n",
    "    \n",
    "    def addSegment(self, V):\n",
    "        self.lst_V.append(V)\n",
    "        \n",
    "    def length(self):\n",
    "        return sum([V.length() for V in self.lst_V])\n",
    "    \n",
    "    def vertex(self, index):\n",
    "        P = copy.deepcopy(self.P)\n",
    "        for i in range(index):\n",
    "            P = P.add(self.lst_V[i])\n",
    "        return P"
   ]
  },
  {
   "cell_type": "code",
   "execution_count": 64,
   "metadata": {},
   "outputs": [
    {
     "name": "stdout",
     "output_type": "stream",
     "text": [
      "6.16227766016838\n"
     ]
    }
   ],
   "source": [
    "pline = Polyline2D(Point2D(1,2), [Vector2D(3,1)])\n",
    "pline.addSegment(Vector2D(1,0))\n",
    "pline.addSegment(Vector2D(0,2))\n",
    "print(pline.length())"
   ]
  },
  {
   "cell_type": "code",
   "execution_count": 65,
   "metadata": {},
   "outputs": [
    {
     "name": "stdout",
     "output_type": "stream",
     "text": [
      "Point2D(1,2)\n",
      "Point2D(4,3)\n",
      "Point2D(5,3)\n",
      "Point2D(5,5)\n"
     ]
    }
   ],
   "source": [
    "print(pline.vertex(0))\n",
    "print(pline.vertex(1))\n",
    "print(pline.vertex(2))\n",
    "print(pline.vertex(3))"
   ]
  },
  {
   "cell_type": "code",
   "execution_count": 66,
   "metadata": {},
   "outputs": [],
   "source": [
    "class ClosedPolyline2D(Polyline2D):\n",
    "    def length(self):\n",
    "        last_point = self.vertex(len(self.lst_V))\n",
    "        last_segment_length = math.sqrt((last_point.x - self.P.x) ** 2 + (last_point.y - self.P.y) ** 2)\n",
    "        return sum([V.length() for V in self.lst_V]) + last_segment_length"
   ]
  },
  {
   "cell_type": "code",
   "execution_count": 67,
   "metadata": {},
   "outputs": [
    {
     "name": "stdout",
     "output_type": "stream",
     "text": [
      "11.16227766016838\n"
     ]
    }
   ],
   "source": [
    "cpline = ClosedPolyline2D(Point2D(1,2), [Vector2D(3,1)])\n",
    "cpline.addSegment(Vector2D(1,0))\n",
    "cpline.addSegment(Vector2D(0,2))\n",
    "print(cpline.length())"
   ]
  },
  {
   "cell_type": "markdown",
   "metadata": {},
   "source": [
    "# Question 2\n",
    "2.1: 1506 - 1515\n",
    "2.2: 1515 - 1530 (wasted time on debugging the output)"
   ]
  },
  {
   "cell_type": "code",
   "execution_count": 125,
   "metadata": {},
   "outputs": [],
   "source": [
    "from libdw import sm\n",
    "\n",
    "class CombLock(sm.SM):\n",
    "    \n",
    "    def __init__(self, keyList):\n",
    "        self.start_state = 'locked'\n",
    "        self.keyList = keyList\n",
    "        self.attempt = []\n",
    "    \n",
    "    def get_next_values(self, state, inp):\n",
    "#         print(state)\n",
    "#         print(inp)\n",
    "        output = 'locked'\n",
    "        if inp == 0:\n",
    "            pass\n",
    "        elif inp >= 1 and inp <= 9:\n",
    "            self.attempt.append(inp)\n",
    "        elif inp == -1:\n",
    "            if self.attempt == self.keyList:\n",
    "                output = 'unlocked'\n",
    "            else:\n",
    "                pass\n",
    "            self.attempt = []\n",
    "            \n",
    "        return state, output"
   ]
  },
  {
   "cell_type": "code",
   "execution_count": 126,
   "metadata": {},
   "outputs": [
    {
     "name": "stdout",
     "output_type": "stream",
     "text": [
      "['locked', 'locked', 'locked', 'unlocked']\n",
      "['locked', 'locked', 'locked', 'locked', 'unlocked']\n",
      "['locked', 'locked', 'locked', 'locked']\n",
      "['locked', 'locked', 'locked', 'unlocked', 'locked', 'locked', 'locked', 'unlocked']\n",
      "['locked', 'locked', 'locked', 'locked', 'locked', 'locked', 'locked', 'unlocked']\n"
     ]
    }
   ],
   "source": [
    "lock = CombLock([1,2,5])\n",
    "print(lock.transduce([1,2,5,-1]))\n",
    "print(lock.transduce([1,0,2,5,-1]))\n",
    "print(lock.transduce([3,2,5,-1]))\n",
    "print(lock.transduce([1,2,5,-1,1,2,5,-1]))\n",
    "print(lock.transduce([3,2,5,-1,1,2,5,-1]))"
   ]
  },
  {
   "cell_type": "code",
   "execution_count": 127,
   "metadata": {},
   "outputs": [],
   "source": [
    "def mapT2P(x,y):\n",
    "    if 0 <= x and x <= 3:\n",
    "        if 0 <= y and y <= 3:\n",
    "            return 1\n",
    "        if 4 <= y and y <= 7:\n",
    "            return 4\n",
    "        if 8 <= y and y <= 11:\n",
    "            return 7\n",
    "    if 4 <= x and x <= 7:\n",
    "        if 0 <= y and y <= 3:\n",
    "            return 2\n",
    "        if 4 <= y and y <= 7:\n",
    "            return 5\n",
    "        if 8 <= y and y <= 11:\n",
    "            return 8\n",
    "    if 8 <= x and x <= 11:\n",
    "        if 0 <= y and y <= 3:\n",
    "            return 3\n",
    "        if 4 <= y and y <= 7:\n",
    "            return 6\n",
    "        if 8 <= y and y <= 11:\n",
    "            return 9\n",
    "        \n",
    "class TouchMap(sm.SM):\n",
    "    start_state = 0\n",
    "    \n",
    "    def get_next_state(self, state, inp):\n",
    "#         print(state,inp)\n",
    "        (e,x,y) = inp\n",
    "        new_state = mapT2P(x,y)\n",
    "#         print(new_state)\n",
    "#         print(state)\n",
    "#         print(\"x\")\n",
    "        \n",
    "        \n",
    "        \n",
    "        if state == new_state:\n",
    "            new_state = 0\n",
    "#             print(\"check\")\n",
    "#             return new_state, 0\n",
    "        if e == 'TouchUp':\n",
    "            new_state = -1\n",
    "#             return new_state, -1\n",
    "        else:\n",
    "            new_state = new_state\n",
    "#             return new_state, new_state\n",
    "        \n",
    "        return new_state\n",
    "\n",
    "# some issues with not recognising the output.\n",
    "# perhaps it is the transduce function\n",
    "# damn it"
   ]
  },
  {
   "cell_type": "code",
   "execution_count": 128,
   "metadata": {},
   "outputs": [
    {
     "name": "stdout",
     "output_type": "stream",
     "text": [
      "[1, 0, -1]\n",
      "[1, 2, -1]\n"
     ]
    }
   ],
   "source": [
    "m = TouchMap()\n",
    "print(m.transduce([('TouchDown',2,2), ('TouchUpdate',3,3), ('TouchUp',4,4)]))\n",
    "print(m.transduce([('TouchDown',3,3), ('TouchUpdate',4,3), ('TouchUp',4,4)]))"
   ]
  },
  {
   "cell_type": "code",
   "execution_count": null,
   "metadata": {},
   "outputs": [],
   "source": [
    "# skip the rest of the questions it doesn't seem to relevant :|"
   ]
  },
  {
   "cell_type": "code",
   "execution_count": null,
   "metadata": {},
   "outputs": [],
   "source": []
  }
 ],
 "metadata": {
  "kernelspec": {
   "display_name": "Python [conda env:dw]",
   "language": "python",
   "name": "conda-env-dw-py"
  },
  "language_info": {
   "codemirror_mode": {
    "name": "ipython",
    "version": 3
   },
   "file_extension": ".py",
   "mimetype": "text/x-python",
   "name": "python",
   "nbconvert_exporter": "python",
   "pygments_lexer": "ipython3",
   "version": "3.6.5"
  }
 },
 "nbformat": 4,
 "nbformat_minor": 2
}
