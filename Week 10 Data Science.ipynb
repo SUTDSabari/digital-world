{
 "cells": [
  {
   "cell_type": "markdown",
   "metadata": {},
   "source": [
    "# Digital World Week 10 - Machine Learning\n",
    "(actually it is basic data science)\n",
    "- adapted from Norman's notebooks"
   ]
  },
  {
   "cell_type": "code",
   "execution_count": 1,
   "metadata": {},
   "outputs": [],
   "source": [
    "import numpy as np\n",
    "from sklearn import datasets\n",
    "bunchobject = datasets.load_breast_cancer()\n",
    "import matplotlib.pyplot as plt"
   ]
  },
  {
   "cell_type": "code",
   "execution_count": 2,
   "metadata": {},
   "outputs": [],
   "source": [
    "def display_scatter(x,y, xlabel='x', ylabel='y',title_name ='default'): \n",
    "    plt.xlabel(xlabel)\n",
    "    plt.ylabel(ylabel)\n",
    "    plt.scatter(x,y)\n",
    "    plt.show()"
   ]
  },
  {
   "cell_type": "code",
   "execution_count": 3,
   "metadata": {},
   "outputs": [
    {
     "data": {
      "image/png": "[encoded data removed]",
      "text/plain": [
       "<matplotlib.figure.Figure at 0x1137d5780>"
      ]
     },
     "metadata": {},
     "output_type": "display_data"
    }
   ],
   "source": [
    "x_index = 0\n",
    "y_index = 3\n",
    "\n",
    "x = bunchobject.data[:,x_index]\n",
    "y = bunchobject.data[:,y_index]\n",
    "\n",
    "x_label = bunchobject.feature_names[x_index]\n",
    "y_label = bunchobject.feature_names[y_index]\n",
    "\n",
    "display_scatter(x,y,x_label,y_label)"
   ]
  },
  {
   "cell_type": "markdown",
   "metadata": {},
   "source": [
    "## Extracting one column from a numpy array gives you a 1D list i.e. a list of n elements. \n",
    "\n",
    "### the <font color = 'blue'>.shape </font> method gives you the dimensions of the array. The output tells you: \n",
    "<ul>\n",
    "<li> 1D array:  <font color = 'blue'> ( number of elements, ) </font>\n",
    "<li> 2D array <font color = 'blue'> (rows , columns) </font>\n",
    "</ul>\n",
    "\n",
    "### the <font color = 'blue'>np.newaxis </font> parameter increases the dimensions by 1.\n",
    "<ul>\n",
    "<li> add a row dimension:  <font color = 'blue'>a[np.newaxis,:] </font>\n",
    "<li> add a column dimension <font color = 'blue'>a[:,np.newaxis] </font>\n",
    "</ul>\n",
    "\n",
    "### A <font color = 'red'> 1D array </font> is like a list - there is no concept of rows or columns, just elements. \n",
    "\n",
    "### If you want a <font color = 'red'> 2D array </font>  ( n rows by 1 column array) then use the np.newaxis parameter to add a new dimension. "
   ]
  },
  {
   "cell_type": "code",
   "execution_count": 4,
   "metadata": {},
   "outputs": [
    {
     "name": "stdout",
     "output_type": "stream",
     "text": [
      "==this is a 1D array ==\n",
      "(10,)\n",
      "[0 1 2 3 4 5 6 7 8 9]\n",
      "\n",
      "==this is a 2D array ==\n",
      "(10, 1)\n",
      "[[0]\n",
      " [1]\n",
      " [2]\n",
      " [3]\n",
      " [4]\n",
      " [5]\n",
      " [6]\n",
      " [7]\n",
      " [8]\n",
      " [9]]\n",
      "\n",
      "==this is a 2D array ==\n",
      "(1, 10)\n",
      "[[0 1 2 3 4 5 6 7 8 9]]\n"
     ]
    }
   ],
   "source": [
    "z1 = np.array( range(10))\n",
    "print('==this is a 1D array ==')\n",
    "print(z1.shape)\n",
    "print(z1)\n",
    "\n",
    "print('\\n==this is a 2D array ==')\n",
    "z2 = z1[:,np.newaxis] # add a column\n",
    "print(z2.shape)\n",
    "print(z2)\n",
    "# this looks neater and shows up like a column\n",
    "\n",
    "print('\\n==this is a 2D array ==')\n",
    "z3 = z1[np.newaxis,:] # add a row\n",
    "print(z3.shape)\n",
    "print(z3)"
   ]
  },
  {
   "cell_type": "markdown",
   "metadata": {},
   "source": [
    "Visualising the dimensions of the the breast cancer dataset"
   ]
  },
  {
   "cell_type": "code",
   "execution_count": 5,
   "metadata": {},
   "outputs": [
    {
     "name": "stdout",
     "output_type": "stream",
     "text": [
      "==this is a 1D array==\n",
      "(569,)\n",
      "==this is a 2D n by 1 array==\n",
      "(569, 1)\n",
      "==this is a 2D 1 by n array==\n",
      "you are not likely to need this\n",
      "(1, 569)\n"
     ]
    }
   ],
   "source": [
    "print('==this is a 1D array==')\n",
    "x1 = bunchobject.data[:, 0]\n",
    "print(x1.shape)\n",
    "#print(x1)\n",
    "\n",
    "print('==this is a 2D n by 1 array==')\n",
    "x2 = bunchobject.data[:, np.newaxis, 0] # add a column\n",
    "print(x2.shape)\n",
    "#print(x2)\n",
    "\n",
    "print('==this is a 2D 1 by n array==')\n",
    "print('you are not likely to need this')\n",
    "x3 = bunchobject.data[np.newaxis, :, 0] # add a row\n",
    "print(x3.shape)\n",
    "#print(x3)"
   ]
  },
  {
   "cell_type": "markdown",
   "metadata": {},
   "source": [
    "# LINEAR REGRESSION"
   ]
  },
  {
   "cell_type": "code",
   "execution_count": 6,
   "metadata": {},
   "outputs": [],
   "source": [
    "from sklearn.model_selection import train_test_split\n",
    "from sklearn import linear_model\n",
    "from sklearn.metrics import mean_squared_error, r2_score\n",
    "\n",
    "def linear_regression(bunchobject, x_index, y_index, size, seed):\n",
    "    '''extracting the data'''\n",
    "    data = bunchobject.data\n",
    "    x = data[:, np.newaxis, x_index]\n",
    "    y = data[:, np.newaxis, y_index]\n",
    "    \n",
    "    '''split the data into the training and test set'''\n",
    "    '''size = fraction of records in the test set'''\n",
    "    x_train, x_test, y_train, y_test = train_test_split(x,y, test_size = size, random_state = seed)\n",
    "    \n",
    "    '''get an instance of the Linear Regression Classifier'''\n",
    "    regr = linear_model.LinearRegression()\n",
    "    \n",
    "    '''fit the model into the training set to get the equation'''\n",
    "    regr.fit(x_train, y_train)\n",
    "    \n",
    "    '''predicte the y_values given x_values from the test set'''\n",
    "    y_predicted = regr.predict(x_test)\n",
    "    \n",
    "    '''evaluate the error of the prediction from the test set'''\n",
    "    mse = mean_squared_error(y_test,y_predicted)\n",
    "    var = r2_score(y_test,y_predicted)\n",
    "    \n",
    "    '''creating the dictionary'''\n",
    "    results = {}\n",
    "    results['coefficients'] = regr.coef_\n",
    "    results['intercept'] = regr.intercept_\n",
    "    results['mean squared error'] = mse\n",
    "    results['r2 score'] = var\n",
    "    '''as stated in your problem set'''\n",
    "    \n",
    "    return x_train, y_train, x_test, y_predicted, results"
   ]
  },
  {
   "cell_type": "code",
   "execution_count": 7,
   "metadata": {},
   "outputs": [],
   "source": [
    "x_train, y_train, x_test, y_pred, results = linear_regression(bunchobject,0,3,0.4,2752)"
   ]
  },
  {
   "cell_type": "code",
   "execution_count": 8,
   "metadata": {},
   "outputs": [
    {
     "name": "stdout",
     "output_type": "stream",
     "text": [
      "{'coefficients': array([[100.16755386]]), 'intercept': array([-760.52027342]), 'mean squared error': 2631.2988797244757, 'r2 score': 0.9777253933521517}\n"
     ]
    },
    {
     "data": {
      "text/plain": [
       "{'coefficients': array([[100.16755386]]),\n",
       " 'intercept': array([-760.52027342]),\n",
       " 'mean squared error': 2631.2988797244757,\n",
       " 'r2 score': 0.9777253933521517}"
      ]
     },
     "execution_count": 8,
     "metadata": {},
     "output_type": "execute_result"
    }
   ],
   "source": [
    "print(results)\n",
    "# compare\n",
    "{'coefficients': np.array([[ 100.16755386]]),\n",
    "'intercept': np.array([-760.52027342]),\n",
    "'mean squared error': 2631.2988797244757,\n",
    "'r2 score': 0.97772539335215169}"
   ]
  },
  {
   "cell_type": "markdown",
   "metadata": {},
   "source": [
    "Exam notes: <BR>\n",
    "Check that the requested dimensions is the same. <BR>\n",
    "Do figure out what is the difference of the result of `np.shape`:\n",
    "`(227,)`\n",
    "`(227,1)`\n",
    "`(1,227)` <BR>\n",
    "SEED: please make use of the seed provided in the `train_test_split`"
   ]
  },
  {
   "cell_type": "code",
   "execution_count": 9,
   "metadata": {},
   "outputs": [],
   "source": [
    "def plot_regression (x1, y1, x2, y2, x_label= '' , y_label= '' ): \n",
    "    plt.scatter(x1,y1, color='black',label='train')\n",
    "    plt.scatter(x2,y2, color='red',label='test')\n",
    "    plt.legend(loc=\"best\")\n",
    "    plt.xlabel(x_label)\n",
    "    plt.ylabel(y_label)\n",
    "    plt.show()"
   ]
  },
  {
   "cell_type": "code",
   "execution_count": 10,
   "metadata": {},
   "outputs": [
    {
     "data": {
      "image/png": "[encoded data removed]",
      "text/plain": [
       "<matplotlib.figure.Figure at 0x1137d5550>"
      ]
     },
     "metadata": {},
     "output_type": "display_data"
    }
   ],
   "source": [
    "plot_regression(x_train, y_train, x_test, y_pred,\n",
    " bunchobject.feature_names[0],\n",
    " bunchobject.feature_names[3])"
   ]
  },
  {
   "cell_type": "markdown",
   "metadata": {
    "scrolled": false
   },
   "source": [
    "# POLYNOMIAL REGRESSION"
   ]
  },
  {
   "cell_type": "code",
   "execution_count": 11,
   "metadata": {
    "scrolled": false
   },
   "outputs": [],
   "source": [
    "from sklearn import linear_model \n",
    "from sklearn.metrics import mean_squared_error, r2_score\n",
    "from sklearn.model_selection import train_test_split \n",
    "from sklearn.preprocessing import PolynomialFeatures\n",
    "import numpy as np\n",
    "\n",
    "\n",
    "def multiple_linear_regression(bunchobject, x_index, y_index, order, size, seed):\n",
    "    '''extracting the data'''\n",
    "    data = bunchobject.data\n",
    "    x = data[:, np.newaxis, x_index]\n",
    "    y = data[:, np.newaxis, y_index]\n",
    "    \n",
    "    '''polynomalising the x?'''\n",
    "    '''need to understand WHAT IS GOING ON HERE'''\n",
    "    poly = PolynomialFeatures(order,include_bias=False)\n",
    "    c_data = poly.fit_transform(x,y)\n",
    "    '''c_data is x_, x_**2, x_**3, x_**4 for each x_'''    \n",
    "    \n",
    "    '''split the data into the training and test set'''\n",
    "    '''size = fraction of records in the test set'''\n",
    "    x_train, x_test, y_train, y_test = train_test_split(c_data, y, test_size=size, random_state=seed)\n",
    "    \n",
    "    '''fit the model into the training set to get the equation'''\n",
    "    regr = linear_model.LinearRegression()\n",
    "    regr.fit(x_train,y_train)\n",
    "    y_predicted = regr.predict(x_test)\n",
    "\n",
    "    '''evaluate the error of the prediction from the test set'''\n",
    "    mse = mean_squared_error(y_test,y_predicted)\n",
    "    var = r2_score(y_test,y_predicted)\n",
    "        \n",
    "    '''creating the dictionary of results'''\n",
    "    results = {}\n",
    "    results['coefficients'] = np.array(regr.coef_.tolist())\n",
    "    results['intercept'] = np.array(regr.intercept_)\n",
    "    results['mean squared error'] = mse\n",
    "    results['r2 score'] = var\n",
    "    '''as stated in your problem set'''\n",
    "    \n",
    "    return x_train[:,0], y_train, x_test[:,0], y_predicted, results"
   ]
  },
  {
   "cell_type": "code",
   "execution_count": 12,
   "metadata": {},
   "outputs": [],
   "source": [
    "x_train, y_train, x_test, y_pred, results = multiple_linear_regression(bunchobject,0,3,4,0.4,2752)"
   ]
  },
  {
   "cell_type": "code",
   "execution_count": 13,
   "metadata": {},
   "outputs": [
    {
     "name": "stdout",
     "output_type": "stream",
     "text": [
      "{'coefficients': array([[-1.28141031e+02,  1.57502508e+01, -5.29186793e-01,\n",
      "         7.97220165e-03]]), 'intercept': array([459.72265999]), 'mean squared error': 145.6441562985171, 'r2 score': 0.9987670855952149}\n"
     ]
    },
    {
     "data": {
      "text/plain": [
       "{'coefficients': array([[-1.28141031e+02,  1.57502508e+01, -5.29186793e-01,\n",
       "          7.97220165e-03]]),\n",
       " 'intercept': array([459.72265999]),\n",
       " 'mean squared error': 145.64415629863078,\n",
       " 'r2 score': 0.998767085595214}"
      ]
     },
     "execution_count": 13,
     "metadata": {},
     "output_type": "execute_result"
    }
   ],
   "source": [
    "print(results)\n",
    "# compare results\n",
    "{'coefficients': np.array([[ -1.28141031e+02, 1.57502508e+01, -5.29186793e-01, 7.97220165e-03]]), \n",
    " 'intercept': np.array([459.72265999]), \n",
    " 'mean squared error': 145.64415629863078, \n",
    " 'r2 score': 0.99876708559521399}"
   ]
  },
  {
   "cell_type": "code",
   "execution_count": 14,
   "metadata": {},
   "outputs": [
    {
     "data": {
      "image/png": "[encoded data removed]",
      "text/plain": [
       "<matplotlib.figure.Figure at 0x1199e4ef0>"
      ]
     },
     "metadata": {},
     "output_type": "display_data"
    }
   ],
   "source": [
    "plot_regression(x_train, y_train, x_test, y_pred,\n",
    " bunchobject.feature_names[0],\n",
    " bunchobject.feature_names[3])"
   ]
  },
  {
   "cell_type": "markdown",
   "metadata": {},
   "source": [
    "# KNN CLASSIFIERS - HELPER FUNCTIONS"
   ]
  },
  {
   "cell_type": "markdown",
   "metadata": {},
   "source": [
    "### Normalising the data\n",
    "\n",
    "Why normalize? The definition of \"nearest\" is by a distance measure. <BR>\n",
    "The default distance measure is the Euclidean distance. <BR>\n",
    "For features $x$ and $y$, the \"distance\" $= \\sqrt{ (x_1 - x_2)^2 + (y_1 - y_2)^2}$\n",
    "\n",
    "Any feature that has a larger order of magnitude will have a larger effect on this value. <BR>\n",
    "Therefore we normalize to ensure that no single feature will dominate this calculation. "
   ]
  },
  {
   "cell_type": "code",
   "execution_count": 15,
   "metadata": {},
   "outputs": [],
   "source": [
    "def normalize_minmax(data):\n",
    "    data = np.transpose(data)\n",
    "    result = []\n",
    "    for col in data:\n",
    "        col -= np.min(col)\n",
    "        col /= np.max(col)\n",
    "        result.append(col)\n",
    "    return np.transpose(result)\n",
    "# I think there is a better way to do this?\n",
    "# Try not to use `.append` because it is slow?"
   ]
  },
  {
   "cell_type": "markdown",
   "metadata": {},
   "source": [
    "### Processing actual and predicted labels\n",
    "To produce the required dictionary"
   ]
  },
  {
   "cell_type": "code",
   "execution_count": 16,
   "metadata": {},
   "outputs": [],
   "source": [
    "def get_metrics(actual_labels, predicted_labels, labels):\n",
    "    dict_ = {}\n",
    "    cm = confusion_matrix(actual_labels, predicted_labels, labels)\n",
    "    dict_[\"confusion matrix\"] = cm\n",
    "    dict_[\"total records\"] = len(actual_labels)\n",
    "    dict_[\"accuracy\"] = np.round(sum([cm[i][i] for i in range(len(cm))])/len(actual_labels),3)\n",
    "    dict_[\"false positive rate\"] = np.round(cm[0][1]/(cm[0][1] + cm[0][0]),3)\n",
    "    dict_[\"sensitivity\"] = np.round(cm[1][1]/(cm[1][0] + cm[1][1]),3)\n",
    "    return dict_"
   ]
  },
  {
   "cell_type": "markdown",
   "metadata": {},
   "source": [
    "# KNN CLASSIFIERS - GIVEN K"
   ]
  },
  {
   "cell_type": "code",
   "execution_count": 17,
   "metadata": {},
   "outputs": [
    {
     "data": {
      "image/png": "[encoded data removed]",
      "text/plain": [
       "<matplotlib.figure.Figure at 0x1137d55c0>"
      ]
     },
     "metadata": {},
     "output_type": "display_data"
    }
   ],
   "source": [
    "# an illustrating example\n",
    "bunchobject = datasets.load_iris()\n",
    "feature_index = [0,2]\n",
    "my_data = bunchobject.data[:,feature_index]\n",
    "plt.scatter(my_data[:,0],my_data[:,1],c=bunchobject.target)\n",
    "my_x = bunchobject.feature_names[0]\n",
    "my_y = bunchobject.feature_names[2]\n",
    "plt.xlabel(my_x)\n",
    "plt.ylabel(my_y)\n",
    "plt.title('The Iris Dataset')\n",
    "plt.show()"
   ]
  },
  {
   "cell_type": "markdown",
   "metadata": {},
   "source": [
    "If we had a new record to classify,  we can compare it against its neighbours and use the classification of its neighbours. This is the intuition behind the k-nearest neighbours model. <font color = 'blue'> The classification of an (unknown) record is determined by the majority of the classifications of its <font color = 'red'> k </font> nearest neighbours.</font>"
   ]
  },
  {
   "cell_type": "code",
   "execution_count": 18,
   "metadata": {},
   "outputs": [],
   "source": [
    "from sklearn.model_selection import train_test_split \n",
    "from sklearn import neighbors, datasets\n",
    "from sklearn.metrics import confusion_matrix\n",
    "import numpy as np\n",
    "\n",
    "def knn_classifier(bunchobject, feature_list, size, seed, k): \n",
    "    '''load data'''\n",
    "    bunchobject = datasets.load_breast_cancer()\n",
    "    \n",
    "    '''extract data'''\n",
    "    data = bunchobject.data[:,feature_list]\n",
    "    \n",
    "    '''normalise data'''\n",
    "    data = normalize_minmax(data)\n",
    "    \n",
    "    '''specify label'''\n",
    "    '''in this context it refers to whether the tissue is cancerous or not'''\n",
    "    label = bunchobject.target\n",
    "    \n",
    "    '''split training and test data'''\n",
    "    data_train, data_test, label_train, label_test = train_test_split(\n",
    "        data, label, test_size = size, random_state = seed)\n",
    "    \n",
    "    '''initialise classifier instance'''\n",
    "    clf =  neighbors.KNeighborsClassifier(k)\n",
    "    \n",
    "    '''train the classifier with training data and labels'''\n",
    "    clf.fit(data_train, label_train)\n",
    "    \n",
    "    '''predict the test data'''\n",
    "    label_predicted = clf.predict(data_test)    \n",
    "    \n",
    "    '''calculate the accuracy of the prediction'''\n",
    "    result = get_metrics(label_test, label_predicted, [0,1])\n",
    "    return result"
   ]
  },
  {
   "cell_type": "code",
   "execution_count": 19,
   "metadata": {},
   "outputs": [],
   "source": [
    "features = range(20)\n",
    "results = knn_classifier(bunchobject, features, 0.40, 2752, 3)"
   ]
  },
  {
   "cell_type": "code",
   "execution_count": 20,
   "metadata": {},
   "outputs": [
    {
     "name": "stdout",
     "output_type": "stream",
     "text": [
      "{'confusion matrix': array([[ 73,   9],\n",
      "       [  5, 141]]), 'total records': 228, 'accuracy': 0.939, 'false positive rate': 0.11, 'sensitivity': 0.966}\n"
     ]
    },
    {
     "data": {
      "text/plain": [
       "{'accuracy': 0.939, 'confusion matrix': array([[ 73,   9],\n",
       "        [  5, 141]]), 'false positive rate': 0.11, 'sensitivity': 0.966, 'total records': 228}"
      ]
     },
     "execution_count": 20,
     "metadata": {},
     "output_type": "execute_result"
    }
   ],
   "source": [
    "# compare results\n",
    "print(results)\n",
    "{'confusion matrix': np.array([[ 73, 9],[ 5, 141]]), \n",
    " 'total records': 228, \n",
    " 'accuracy': 0.939,\n",
    " 'sensitivity': 0.966,\n",
    " 'false positive rate': 0.11}"
   ]
  },
  {
   "cell_type": "markdown",
   "metadata": {},
   "source": [
    "# KNN CLASSIFIERS - FIND THE BEST K"
   ]
  },
  {
   "cell_type": "code",
   "execution_count": 21,
   "metadata": {},
   "outputs": [],
   "source": [
    "# it requires the definition of other functions\n",
    "\n",
    "def knn_classifier_full(bunchobject, feature_list, size, seed):\n",
    "    '''terminologies: data-data, labels-label'''\n",
    "    \n",
    "    bunchobject = datasets.load_breast_cancer() # load data\n",
    "    data = bunchobject.data[:,feature_list] # extract data\n",
    "    data = normalize_minmax(data) # normalise data\n",
    "    label = bunchobject.target # specify label\n",
    "    \n",
    "    '''training set: 60%, validation+test set 40%'''\n",
    "    data_train, data_test, label_train, label_test = train_test_split(\n",
    "        data, label, test_size = size, random_state = seed)\n",
    "    \n",
    "    '''validation set: 20%, test set 20%'''\n",
    "    data_test1, data_test2, label_test1, label_test2 = train_test_split(\n",
    "        data_test, label_test, test_size = 0.5, random_state = seed)\n",
    "    \n",
    "    # there may be a better way to do this\n",
    "    '''initialise array of accuracy and results'''\n",
    "    k_acc = []\n",
    "    k_results = []\n",
    "    \n",
    "    for k in range(1,20): \n",
    "        clf =  neighbors.KNeighborsClassifier(k) # initialise classifier instance\n",
    "        clf.fit(data_train, label_train) # train with training data and labels\n",
    "        '''predict the VALIDATION labels with VALIDATION data'''\n",
    "        label_predicted = clf.predict(data_test1)\n",
    "        '''calculate the accuracy of the prediction of VALIDATION labels'''\n",
    "        result = get_metrics(label_test1, label_predicted, [0,1])\n",
    "        \n",
    "        '''populate the array'''\n",
    "        k_acc.append(result['accuracy'])\n",
    "        k_results.append(result)\n",
    "        \n",
    "    '''find the value of k with the largest accuracy'''\n",
    "    index = np.argmax(k_acc) # finding the index with the largest k\n",
    "    k_test = index + 1 # now we know the largest k\n",
    "    \n",
    "    '''now we need to test our accuracy on training data and labels'''\n",
    "    '''WHY?'''\n",
    "    clf =  neighbors.KNeighborsClassifier(k_test) # initialise classifier instance\n",
    "    clf.fit(data_train, label_train) # train with training data and labels\n",
    "    '''predict the TEST labels with TEST data'''\n",
    "    label_predicted = clf.predict(data_test2)\n",
    "    '''calculate the accuracy of the prediction of TEST labels'''\n",
    "    test_result = get_metrics(label_test2, label_predicted, [0,1])\n",
    "    \n",
    "    '''creating the dictionary as per requirements'''\n",
    "    dict_ = {}\n",
    "    dict_['best k'] = k_test\n",
    "    dict_['validation set'] = k_results[index]\n",
    "    dict_['test set'] = test_result\n",
    "    return dict_"
   ]
  },
  {
   "cell_type": "code",
   "execution_count": 22,
   "metadata": {},
   "outputs": [],
   "source": [
    "features = range(20) #select features in cols 0 to 19\n",
    "results = knn_classifier_full(bunchobject, features, 0.40, 2752)"
   ]
  },
  {
   "cell_type": "code",
   "execution_count": 23,
   "metadata": {},
   "outputs": [
    {
     "name": "stdout",
     "output_type": "stream",
     "text": [
      "{'best k': 4, 'validation set': {'confusion matrix': array([[39,  2],\n",
      "       [ 2, 71]]), 'total records': 114, 'accuracy': 0.965, 'false positive rate': 0.049, 'sensitivity': 0.973}, 'test set': {'confusion matrix': array([[40,  1],\n",
      "       [ 4, 69]]), 'total records': 114, 'accuracy': 0.956, 'false positive rate': 0.024, 'sensitivity': 0.945}}\n"
     ]
    },
    {
     "data": {
      "text/plain": [
       "{'best k': 4,\n",
       " 'test set': {'accuracy': 0.956, 'confusion matrix': array([[40,  1],\n",
       "         [ 4, 69]]), 'false positive rate': 0.024, 'sensitivity': 0.945, 'total records': 114},\n",
       " 'validation set': {'accuracy': 0.965, 'confusion matrix': array([[39,  2],\n",
       "         [ 2, 71]]), 'false positive rate': 0.049, 'sensitivity': 0.973, 'total records': 114}}"
      ]
     },
     "execution_count": 23,
     "metadata": {},
     "output_type": "execute_result"
    }
   ],
   "source": [
    "# compare results\n",
    "print(results)\n",
    "{'best k': 4, \n",
    " 'validation set': {'confusion matrix': np.array([[39, 2], [ 2, 71]]), \n",
    "                    'total records': 114, \n",
    "                    'accuracy': 0.965, \n",
    "                    'sensitivity': 0.973, \n",
    "                    'false positive rate': 0.049}, \n",
    " 'test set': {'confusion matrix': np.array([[40, 1], [ 4, 69]]), \n",
    "              'total records': 114, \n",
    "              'accuracy': 0.956, \n",
    "              'sensitivity': 0.945, \n",
    "              'false positive rate': 0.024}}"
   ]
  },
  {
   "cell_type": "markdown",
   "metadata": {},
   "source": [
    "# LINEAR PROGRAMMING"
   ]
  },
  {
   "cell_type": "markdown",
   "metadata": {},
   "source": [
    "What does `scipy.optimize.linprog` do?\n",
    "\n",
    "Minimise $\\vec{c}^T \\vec{x}$\n",
    "\n",
    "subject to: <BR>\n",
    "    $A \\vec{x} \\leq B$ <BR>\n",
    "    $\\vec{x} \\leq \\vec{0}$\n",
    "\n",
    "reading the results:\n",
    "- fun: minimum function value\n",
    "- message: successful/unbounded/infeasible\n",
    "- nit: probably the number of points it went through?\n",
    "- slack: ???\n",
    "- status: ????\n",
    "- success: whether is it sucessful\n",
    "- x: the value of the array x at the minimum point"
   ]
  },
  {
   "cell_type": "code",
   "execution_count": 24,
   "metadata": {},
   "outputs": [
    {
     "data": {
      "text/plain": [
       "     fun: -575.0\n",
       " message: 'Optimization terminated successfully.'\n",
       "     nit: 2\n",
       "   slack: array([0., 0.])\n",
       "  status: 0\n",
       " success: True\n",
       "       x: array([250., 300.])"
      ]
     },
     "execution_count": 24,
     "metadata": {},
     "output_type": "execute_result"
    }
   ],
   "source": [
    "from scipy.optimize import linprog\n",
    "\n",
    "c = [0.5,1.5]\n",
    "A_ub = [[1,2.5],[0,1]]\n",
    "b_ub = [1000,300]\n",
    "linprog(-np.array(c), A_ub=A_ub, b_ub=b_ub)"
   ]
  },
  {
   "cell_type": "code",
   "execution_count": 25,
   "metadata": {},
   "outputs": [
    {
     "data": {
      "text/plain": [
       "     fun: -5142.857142857143\n",
       " message: 'Optimization terminated successfully.'\n",
       "     nit: 3\n",
       "   slack: array([0.        , 0.        , 1.57142857])\n",
       "  status: 0\n",
       " success: True\n",
       "       x: array([6.42857143, 4.28571429])"
      ]
     },
     "execution_count": 25,
     "metadata": {},
     "output_type": "execute_result"
    }
   ],
   "source": [
    "from scipy.optimize import linprog\n",
    "c = [-500,-450]\n",
    "A_ub = [[6,5],[1,2],[1,0]]\n",
    "b_ub = [60,15,8]\n",
    "linprog(c, A_ub=A_ub, b_ub=b_ub)"
   ]
  },
  {
   "cell_type": "code",
   "execution_count": 35,
   "metadata": {},
   "outputs": [
    {
     "data": {
      "text/plain": [
       "     fun: 40.836437521164925\n",
       " message: 'Optimization terminated successfully.'\n",
       "     nit: 5\n",
       "   slack: array([ 0., 40.,  0.,  0.,  0.])\n",
       "  status: 0\n",
       " success: True\n",
       "       x: array([  1.80607292, 889.4909132 , 108.70301388,   0.        ])"
      ]
     },
     "execution_count": 35,
     "metadata": {},
     "output_type": "execute_result"
    }
   ],
   "source": [
    "from scipy.optimize import linprog\n",
    "c = [8,\n",
    "     0.021+0.005,\n",
    "     0.025+0.005,\n",
    "     0.015+0.005]\n",
    "A_ub = [[-1,-1,-1,-1],\n",
    "        [1,1,1,1],\n",
    "        [0,-0.12,-0.03,-0.018,],\n",
    "        [-1,-0.013,-0.015,-0.012],\n",
    "        [0,0.12,0.03,0.018]]\n",
    "b_ub = [-1000,\n",
    "        1000,\n",
    "        -0.11*1000,\n",
    "        -0.015*1000,\n",
    "        0.15*1000]\n",
    "linprog(c, A_ub=A_ub, b_ub=b_ub)"
   ]
  },
  {
   "cell_type": "code",
   "execution_count": 36,
   "metadata": {},
   "outputs": [
    {
     "data": {
      "text/plain": [
       "     fun: 10490.0\n",
       " message: 'Optimization terminated successfully.'\n",
       "     nit: 7\n",
       "   slack: array([  0.,   0., 115.,  30.,  55.,   0.,   0.])\n",
       "  status: 0\n",
       " success: True\n",
       "       x: array([ 5.,  0., 85.,  0., 70.,  0.])"
      ]
     },
     "execution_count": 36,
     "metadata": {},
     "output_type": "execute_result"
    }
   ],
   "source": [
    "from scipy.optimize import linprog\n",
    "c = [4+50,9+55,8+62,\n",
    "     6+50,6+55,12+62]\n",
    "A_ub = [[-1,-1,-1,0,0,0],\n",
    "        [0,0,0,-1,-1,-1],\n",
    "        [1,0,-1,1,0,-1],\n",
    "        [3,1,-1,3,1,-1],\n",
    "        [1,0,0,1,0,0],\n",
    "        [0,1,0,0,1,0],\n",
    "        [0,0,1,0,0,1]]\n",
    "b_ub = [-90,-70,0,0,120,100,140]\n",
    "linprog(c, A_ub=A_ub, b_ub=b_ub)"
   ]
  },
  {
   "cell_type": "code",
   "execution_count": null,
   "metadata": {},
   "outputs": [],
   "source": []
  }
 ],
 "metadata": {
  "kernelspec": {
   "display_name": "Python [default]",
   "language": "python",
   "name": "python3"
  },
  "language_info": {
   "codemirror_mode": {
    "name": "ipython",
    "version": 3
   },
   "file_extension": ".py",
   "mimetype": "text/x-python",
   "name": "python",
   "nbconvert_exporter": "python",
   "pygments_lexer": "ipython3",
   "version": "3.6.4"
  }
 },
 "nbformat": 4,
 "nbformat_minor": 2
}
