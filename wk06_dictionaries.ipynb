{
 "cells": [
  {
   "cell_type": "code",
   "execution_count": 2,
   "metadata": {},
   "outputs": [],
   "source": [
    "import sys\n",
    "\n",
    "def most_frequent(lst):\n",
    "    count_dict = {}\n",
    "    for i in lst:\n",
    "        if count_dict.get(i) == None:\n",
    "            count_dict.update({i : lst.count(i)})\n",
    "    return [x for x in count_dict.keys() if count_dict[x] == max(count_dict.values())]"
   ]
  },
  {
   "cell_type": "code",
   "execution_count": 3,
   "metadata": {},
   "outputs": [],
   "source": [
    "def diff(p):   \n",
    "    if p.get(0) != None:\n",
    "        del p[0]\n",
    "    return {i-1 : p[i]*i for i in p.keys()}"
   ]
  },
  {
   "cell_type": "code",
   "execution_count": 4,
   "metadata": {},
   "outputs": [],
   "source": [
    "def get_fundamental_constants(f):\n",
    "    lines = f.readlines()\n",
    "    # the while loop will leave a trailing space, \n",
    "    # so the trailing whitespace must be dealt with\n",
    "    # before or after the while loop\n",
    "    counter = 0\n",
    "    const_dict = {}\n",
    "    for line in lines:\n",
    "        counter += 1\n",
    "        if counter < 3: # ignore headers\n",
    "            continue\n",
    "        \n",
    "        line = line.strip()\n",
    "        while '  ' in line:\n",
    "            line = line.replace('  ',' ')\n",
    "        result = line.split(' ')\n",
    "        const_dict[result[0]] = float(result[1])\n",
    "    return const_dict"
   ]
  },
  {
   "cell_type": "code",
   "execution_count": null,
   "metadata": {},
   "outputs": [],
   "source": [
    "def get_base_counts(dna):\n",
    "    base_count = {'A':0, 'T':0, 'C':0, 'G':0}\n",
    "    for base in dna:\n",
    "        if base == 'A':\n",
    "            new_count = base_count.get('A') + 1\n",
    "            base_count.update({'A' : new_count})\n",
    "        elif base == 'T':\n",
    "            new_count = base_count.get('T') + 1\n",
    "            base_count.update({'T' : new_count})\n",
    "        elif base == 'C':\n",
    "            new_count = base_count.get('C') + 1\n",
    "            base_count.update({'C' : new_count})\n",
    "        elif base == 'G':\n",
    "            new_count = base_count.get('G') + 1\n",
    "            base_count.update({'G' : new_count})\n",
    "        else:\n",
    "            return 'The input DNA string is invalid'\n",
    "    return base_count"
   ]
  },
  {
   "cell_type": "code",
   "execution_count": 1,
   "metadata": {},
   "outputs": [],
   "source": [
    "def get_base_counts2(dna):\n",
    "    base_count = {'A':0, 'T':0, 'C':0, 'G':0}\n",
    "    for base in dna:\n",
    "        if base == 'A':\n",
    "            new_count = base_count.get('A') + 1\n",
    "            base_count.update({'A' : new_count})\n",
    "        elif base == 'T':\n",
    "            new_count = base_count.get('T') + 1\n",
    "            base_count.update({'T' : new_count})\n",
    "        elif base == 'C':\n",
    "            new_count = base_count.get('C') + 1\n",
    "            base_count.update({'C' : new_count})\n",
    "        elif base == 'G':\n",
    "            new_count = base_count.get('G') + 1\n",
    "            base_count.update({'G' : new_count})\n",
    "        elif base.isalpha():\n",
    "            if base.isupper():\n",
    "                continue\n",
    "            return 'The input DNA string is invalid'\n",
    "        else:\n",
    "            return 'The input DNA string is invalid'\n",
    "    return base_count"
   ]
  },
  {
   "cell_type": "code",
   "execution_count": null,
   "metadata": {},
   "outputs": [],
   "source": []
  }
 ],
 "metadata": {
  "kernelspec": {
   "display_name": "Python [conda env:dw]",
   "language": "python",
   "name": "conda-env-dw-py"
  },
  "language_info": {
   "codemirror_mode": {
    "name": "ipython",
    "version": 3
   },
   "file_extension": ".py",
   "mimetype": "text/x-python",
   "name": "python",
   "nbconvert_exporter": "python",
   "pygments_lexer": "ipython3",
   "version": "3.6.5"
  }
 },
 "nbformat": 4,
 "nbformat_minor": 2
}
