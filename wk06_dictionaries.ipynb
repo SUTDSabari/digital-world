{
 "cells": [
  {
   "cell_type": "code",
   "execution_count": 1,
   "metadata": {},
   "outputs": [],
   "source": [
    "# DICTIONARY or MAP -------------\n",
    "# Made up of values with a unique key for each value\n",
    "# Similar to lists, but you can't join dicts with a +\n",
    "# KEY IS UNIQUE, VALUE IS NOT"
   ]
  },
  {
   "cell_type": "markdown",
   "metadata": {},
   "source": [
    "# Basic `dict` operations"
   ]
  },
  {
   "cell_type": "code",
   "execution_count": 2,
   "metadata": {},
   "outputs": [
    {
     "name": "stdout",
     "output_type": "stream",
     "text": [
      "{1: 10, '5': 20}\n",
      "True\n",
      "False\n",
      "{1: 10, '5': 10, '6': 10}\n",
      "{1: 10, '5': 10, '6': 10}\n",
      "{'5': 10, '6': 10}\n"
     ]
    }
   ],
   "source": [
    "dic = {}\n",
    "# you shall not use dict as your dictionary name\n",
    "\n",
    "# adding entries\n",
    "dic[1] = 10\n",
    "dic['5'] = 20\n",
    "# '5' is a string, btw\n",
    "print(dic)\n",
    "\n",
    "# checking whether an entry exists\n",
    "print(dic.get(1) != None)\n",
    "print(dic.get(5) != None)\n",
    "\n",
    "# changing an entry in the dictionary\n",
    "dic['5'] = 10 \n",
    "dic['6'] = 10  # this is adding not changing, so you might need to use a condition\n",
    "print(dic)\n",
    "\n",
    "if dic[1] != None:\n",
    "    dic[1] = 10 \n",
    "print(dic)\n",
    "\n",
    "# deleting an entry from the dictionary\n",
    "del dic[1]\n",
    "print(dic)"
   ]
  },
  {
   "cell_type": "markdown",
   "metadata": {},
   "source": [
    "# Getting information from your dictionary"
   ]
  },
  {
   "cell_type": "code",
   "execution_count": 3,
   "metadata": {},
   "outputs": [
    {
     "name": "stdout",
     "output_type": "stream",
     "text": [
      "dict_keys(['5', '6'])\n",
      "dict_values([10, 10])\n",
      "True\n"
     ]
    }
   ],
   "source": [
    "# getting the list of keys\n",
    "print(dic.keys())\n",
    "\n",
    "# getting the list of values\n",
    "print(dic.values())\n",
    "\n",
    "# order of the keys does not matter in the dictionary\n",
    "# these two dictionaries are the same\n",
    "print({1: 10, '5': 10, '6': 10} == {'5': 10, 1: 10, '6': 10})"
   ]
  },
  {
   "cell_type": "code",
   "execution_count": 4,
   "metadata": {},
   "outputs": [
    {
     "name": "stdout",
     "output_type": "stream",
     "text": [
      "dict_items([('5', 10), ('6', 10)])\n",
      "[('5', 10), ('6', 10)]\n"
     ]
    }
   ],
   "source": [
    "# converting a dictionary to a list\n",
    "# https://stackoverflow.com/questions/1679384/converting-python-dictionary-to-list\n",
    "print(dic.items())\n",
    "print([(k,v) for k,v in dic.items()])"
   ]
  },
  {
   "cell_type": "markdown",
   "metadata": {},
   "source": [
    "# Counting in the dictionary\n",
    "We now consider a dictionaries that its values is a list of \"items\".\n",
    "\n",
    "Each key could be considered a node, and each item could be considered a edge connected to the node. The value of each key is the list of items."
   ]
  },
  {
   "cell_type": "code",
   "execution_count": 5,
   "metadata": {},
   "outputs": [
    {
     "name": "stdout",
     "output_type": "stream",
     "text": [
      "4\n",
      "4\n",
      "4\n"
     ]
    }
   ],
   "source": [
    "# count the number of entries in your dictionary\n",
    "dic = {'1': [1], '2': [1,2,3], '3': [2,3], '4': [1,3]}\n",
    "print(len(dic))\n",
    "print(len(dic.keys()))\n",
    "print(len(dic.values()))"
   ]
  },
  {
   "cell_type": "code",
   "execution_count": 6,
   "metadata": {},
   "outputs": [
    {
     "name": "stdout",
     "output_type": "stream",
     "text": [
      "8\n"
     ]
    }
   ],
   "source": [
    "# count the how many items are there\n",
    "# https://stackoverflow.com/questions/952914/making-a-flat-list-out-of-list-of-lists-in-python\n",
    "print(len([item for sublist in dic.values() for item in sublist]))"
   ]
  },
  {
   "cell_type": "code",
   "execution_count": 22,
   "metadata": {},
   "outputs": [
    {
     "name": "stdout",
     "output_type": "stream",
     "text": [
      "3\n",
      "0\n"
     ]
    }
   ],
   "source": [
    "# count the occurance of one item\n",
    "print([item for sublist in dic.values() for item in sublist].count(1))\n",
    "# you can also check of the existence of an item\n",
    "print([item for sublist in dic.values() for item in sublist].count(999))"
   ]
  },
  {
   "cell_type": "markdown",
   "metadata": {},
   "source": [
    "# Special operations\n",
    "If I had this during midterms I could have scored higher"
   ]
  },
  {
   "cell_type": "code",
   "execution_count": 8,
   "metadata": {},
   "outputs": [
    {
     "name": "stdout",
     "output_type": "stream",
     "text": [
      "([2], 6)\n"
     ]
    }
   ],
   "source": [
    "# Counting the most frequent occuring item in list, and its frequency.\n",
    "\n",
    "lst_1 = [1,2,2,2,2,2,2,3,3,3,3,3,4,5,6,7]\n",
    "\n",
    "def most_frequent(lst):\n",
    "    count_dict = {}\n",
    "    for i in lst:\n",
    "        if count_dict.get(i) == None:\n",
    "            count_dict.update({i : lst.count(i)})\n",
    "    return [x for x in count_dict.keys() if count_dict[x] == max(count_dict.values())],max(count_dict.values())\n",
    "\n",
    "print(most_frequent(lst_1)) "
   ]
  },
  {
   "cell_type": "code",
   "execution_count": 9,
   "metadata": {},
   "outputs": [
    {
     "data": {
      "text/plain": [
       "{'bar': ['foo', 'baz'], 'world': ['hello']}"
      ]
     },
     "execution_count": 9,
     "metadata": {},
     "output_type": "execute_result"
    }
   ],
   "source": [
    "# inverting dictionaries\n",
    "# not if the values is a list\n",
    "# https://stackoverflow.com/questions/483666/python-reverse-invert-a-mapping\n",
    "dic_t = {'foo': 'bar', 'baz': 'bar', 'hello': 'world'}\n",
    "{v:[i for i in dic_t.keys() if dic_t[i] == v ] for k,v in dic_t.items()}"
   ]
  },
  {
   "cell_type": "code",
   "execution_count": 10,
   "metadata": {},
   "outputs": [
    {
     "name": "stdout",
     "output_type": "stream",
     "text": [
      "{1: ['1', '2', '4'], 2: ['2', '3'], 3: ['2', '3', '4']}\n"
     ]
    }
   ],
   "source": [
    "# inverting dictionaries\n",
    "# if the values is a list\n",
    "# https://stackoverflow.com/questions/35491223/inverting-a-dictionary-with-list-values\n",
    "new_dic = {}\n",
    "for k,v in dic.items():\n",
    "    for x in v:\n",
    "        new_dic.setdefault(x,[]).append(k)\n",
    "print(new_dic)"
   ]
  },
  {
   "cell_type": "code",
   "execution_count": 11,
   "metadata": {},
   "outputs": [
    {
     "name": "stdout",
     "output_type": "stream",
     "text": [
      "deque(['a', 'c', 'd', 'e'])\n"
     ]
    }
   ],
   "source": [
    "# Dijkstra's_algorithm\n",
    "# http://rosettacode.org/wiki/Dijkstra%27s_algorithm#Python\n",
    "from collections import namedtuple, deque\n",
    "from pprint import pprint as pp\n",
    " \n",
    "inf = float('inf')\n",
    "Edge = namedtuple('Edge', 'start, end, cost')\n",
    " \n",
    "class Graph():\n",
    "    def __init__(self, edges):\n",
    "        self.edges = edges2 = [Edge(*edge) for edge in edges]\n",
    "        self.vertices = set(sum(([e.start, e.end] for e in edges2), []))\n",
    " \n",
    "    def dijkstra(self, source, dest):\n",
    "        assert source in self.vertices\n",
    "        dist = {vertex: inf for vertex in self.vertices}\n",
    "        previous = {vertex: None for vertex in self.vertices}\n",
    "        dist[source] = 0\n",
    "        q = self.vertices.copy()\n",
    "        neighbours = {vertex: set() for vertex in self.vertices}\n",
    "        for start, end, cost in self.edges:\n",
    "            neighbours[start].add((end, cost))\n",
    "        #pp(neighbours)\n",
    " \n",
    "        while q:\n",
    "            u = min(q, key=lambda vertex: dist[vertex])\n",
    "            q.remove(u)\n",
    "            if dist[u] == inf or u == dest:\n",
    "                break\n",
    "            for v, cost in neighbours[u]:\n",
    "                alt = dist[u] + cost\n",
    "                if alt < dist[v]:                                  # Relax (u,v,a)\n",
    "                    dist[v] = alt\n",
    "                    previous[v] = u\n",
    "        #pp(previous)\n",
    "        s, u = deque(), dest\n",
    "        while previous[u]:\n",
    "            s.appendleft(u)\n",
    "            u = previous[u]\n",
    "        s.appendleft(u)\n",
    "        return s\n",
    " \n",
    " \n",
    "graph = Graph([(\"a\", \"b\", 7),  (\"a\", \"c\", 9),  (\"a\", \"f\", 14), (\"b\", \"c\", 10),\n",
    "               (\"b\", \"d\", 15), (\"c\", \"d\", 11), (\"c\", \"f\", 2),  (\"d\", \"e\", 6),\n",
    "               (\"e\", \"f\", 9)])\n",
    "pp(graph.dijkstra(\"a\", \"e\"))"
   ]
  },
  {
   "cell_type": "markdown",
   "metadata": {},
   "source": [
    "# Random code and homework submissions"
   ]
  },
  {
   "cell_type": "code",
   "execution_count": 12,
   "metadata": {},
   "outputs": [
    {
     "name": "stdout",
     "output_type": "stream",
     "text": [
      "Leonard Snart\n",
      "{'Captain Cold': 'Leonard Snart', 'Weather Wizard': 'Mark Mardon', 'Mirror Master': 'Sam Scudder', 'Pied Piper': 'Thomas Peterson'}\n",
      "4\n",
      "Hartley Rathaway\n",
      "dict_keys(['Captain Cold', 'Weather Wizard', 'Mirror Master', 'Pied Piper'])\n",
      "dict_values(['Leonard Snart', 'Mark Mardon', 'Sam Scudder', 'Hartley Rathaway'])\n"
     ]
    }
   ],
   "source": [
    "super_villains = {'Fiddler' : 'Isaac Bowin',\n",
    "                  'Captain Cold' : 'Leonard Snart',\n",
    "                  'Weather Wizard' : 'Mark Mardon',\n",
    "                  'Mirror Master' : 'Sam Scudder',\n",
    "                  'Pied Piper' : 'Thomas Peterson'}\n",
    " \n",
    "print(super_villains['Captain Cold'])\n",
    " \n",
    "# Delete an entry\n",
    "del super_villains['Fiddler']\n",
    "print(super_villains)\n",
    " \n",
    "# Replace a value\n",
    "super_villains['Pied Piper'] = 'Hartley Rathaway'\n",
    " \n",
    "# Print the number of items in the dictionary\n",
    "print(len(super_villains))\n",
    " \n",
    "# Get the value for the passed key\n",
    "print(super_villains.get(\"Pied Piper\"))\n",
    " \n",
    "# Get a list of dictionary keys\n",
    "print(super_villains.keys())\n",
    " \n",
    "# Get a list of dictionary values\n",
    "print(super_villains.values())"
   ]
  },
  {
   "cell_type": "code",
   "execution_count": 13,
   "metadata": {},
   "outputs": [
    {
     "name": "stdout",
     "output_type": "stream",
     "text": [
      "{1: 'new_1', 2: 'old_2', 3: 'new_3', 10: 'new_10', 'G': 'meh', '2': 'new_2'}\n"
     ]
    }
   ],
   "source": [
    "dict_ = {1:\"old_1\", 2:\"old_2\", 3:\"old_3\"}\n",
    "dict_[10] = \"new_10\"\n",
    "dict_[1] = \"new_1\"\n",
    "dict_.update({'G' : \"meh\", 3: \"new_3\", \"2\":\"new_2\"})\n",
    "print(dict_)\n",
    "\n",
    "# you can deepcopy a dictionary\n",
    "import copy\n",
    "\n",
    "def diff(p):\n",
    "    q = copy.deepcopy(p)\n",
    "    return None"
   ]
  },
  {
   "cell_type": "code",
   "execution_count": 14,
   "metadata": {},
   "outputs": [
    {
     "name": "stdout",
     "output_type": "stream",
     "text": [
      "[3]\n"
     ]
    }
   ],
   "source": [
    "import sys\n",
    "\n",
    "def most_frequent(lst):\n",
    "    count_dict = {}\n",
    "    for i in lst:\n",
    "        if count_dict.get(i) == None:\n",
    "            count_dict.update({i : lst.count(i)})\n",
    "    return [x for x in count_dict.keys() if count_dict[x] == max(count_dict.values())]\n",
    "\n",
    "lst_1 = [2,3,40,3,5,4,-3,3,3,2,0]\n",
    "print(most_frequent(lst_1)) "
   ]
  },
  {
   "cell_type": "code",
   "execution_count": 15,
   "metadata": {},
   "outputs": [],
   "source": [
    "def diff(p):   \n",
    "    if p.get(0) != None:\n",
    "        del p[0]\n",
    "    return {i-1 : p[i]*i for i in p.keys()}"
   ]
  },
  {
   "cell_type": "code",
   "execution_count": 16,
   "metadata": {},
   "outputs": [],
   "source": [
    "def get_fundamental_constants(f):\n",
    "    lines = f.readlines()\n",
    "    # the while loop will leave a trailing space, \n",
    "    # so the trailing whitespace must be dealt with\n",
    "    # before or after the while loop\n",
    "    counter = 0\n",
    "    const_dict = {}\n",
    "    for line in lines:\n",
    "        counter += 1\n",
    "        if counter < 3: # ignore headers\n",
    "            continue\n",
    "        \n",
    "        line = line.strip()\n",
    "        while '  ' in line:\n",
    "            line = line.replace('  ',' ')\n",
    "        result = line.split(' ')\n",
    "        const_dict[result[0]] = float(result[1])\n",
    "    return const_dict"
   ]
  },
  {
   "cell_type": "code",
   "execution_count": 17,
   "metadata": {},
   "outputs": [],
   "source": [
    "def get_base_counts(dna):\n",
    "    base_count = {'A':0, 'T':0, 'C':0, 'G':0}\n",
    "    for base in dna:\n",
    "        if base == 'A':\n",
    "            new_count = base_count.get('A') + 1\n",
    "            base_count.update({'A' : new_count})\n",
    "        elif base == 'T':\n",
    "            new_count = base_count.get('T') + 1\n",
    "            base_count.update({'T' : new_count})\n",
    "        elif base == 'C':\n",
    "            new_count = base_count.get('C') + 1\n",
    "            base_count.update({'C' : new_count})\n",
    "        elif base == 'G':\n",
    "            new_count = base_count.get('G') + 1\n",
    "            base_count.update({'G' : new_count})\n",
    "        else:\n",
    "            return 'The input DNA string is invalid'\n",
    "    return base_count"
   ]
  },
  {
   "cell_type": "code",
   "execution_count": 18,
   "metadata": {},
   "outputs": [],
   "source": [
    "def get_base_counts2(dna):\n",
    "    base_count = {'A':0, 'T':0, 'C':0, 'G':0}\n",
    "    for base in dna:\n",
    "        if base == 'A':\n",
    "            new_count = base_count.get('A') + 1\n",
    "            base_count.update({'A' : new_count})\n",
    "        elif base == 'T':\n",
    "            new_count = base_count.get('T') + 1\n",
    "            base_count.update({'T' : new_count})\n",
    "        elif base == 'C':\n",
    "            new_count = base_count.get('C') + 1\n",
    "            base_count.update({'C' : new_count})\n",
    "        elif base == 'G':\n",
    "            new_count = base_count.get('G') + 1\n",
    "            base_count.update({'G' : new_count})\n",
    "        elif base.isalpha():\n",
    "            if base.isupper():\n",
    "                continue\n",
    "            return 'The input DNA string is invalid'\n",
    "        else:\n",
    "            return 'The input DNA string is invalid'\n",
    "    return base_count"
   ]
  },
  {
   "cell_type": "code",
   "execution_count": null,
   "metadata": {},
   "outputs": [],
   "source": []
  }
 ],
 "metadata": {
  "kernelspec": {
   "display_name": "Python [conda env:dw]",
   "language": "python",
   "name": "conda-env-dw-py"
  },
  "language_info": {
   "codemirror_mode": {
    "name": "ipython",
    "version": 3
   },
   "file_extension": ".py",
   "mimetype": "text/x-python",
   "name": "python",
   "nbconvert_exporter": "python",
   "pygments_lexer": "ipython3",
   "version": "3.6.5"
  }
 },
 "nbformat": 4,
 "nbformat_minor": 2
}
