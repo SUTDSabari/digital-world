{
 "cells": [
  {
   "cell_type": "code",
   "execution_count": null,
   "metadata": {},
   "outputs": [],
   "source": [
    "# DICTIONARY or MAP -------------\n",
    "# Made up of values with a unique key for each value\n",
    "# Similar to lists, but you can't join dicts with a +\n",
    "# KEY IS UNIQUE, VALUE IS NOT\n",
    " \n",
    "super_villains = {'Fiddler' : 'Isaac Bowin',\n",
    "                  'Captain Cold' : 'Leonard Snart',\n",
    "                  'Weather Wizard' : 'Mark Mardon',\n",
    "                  'Mirror Master' : 'Sam Scudder',\n",
    "                  'Pied Piper' : 'Thomas Peterson'}\n",
    " \n",
    "print(super_villains['Captain Cold'])\n",
    " \n",
    "# Delete an entry\n",
    "del super_villains['Fiddler']\n",
    "print(super_villains)\n",
    " \n",
    "# Replace a value\n",
    "super_villains['Pied Piper'] = 'Hartley Rathaway'\n",
    " \n",
    "# Print the number of items in the dictionary\n",
    "print(len(super_villains))\n",
    " \n",
    "# Get the value for the passed key\n",
    "print(super_villains.get(\"Pied Piper\"))\n",
    " \n",
    "# Get a list of dictionary keys\n",
    "print(super_villains.keys())\n",
    " \n",
    "# Get a list of dictionary values\n",
    "print(super_villains.values())"
   ]
  },
  {
   "cell_type": "code",
   "execution_count": 3,
   "metadata": {},
   "outputs": [
    {
     "name": "stdout",
     "output_type": "stream",
     "text": [
      "{1: 'new_1', 2: 'old_2', 3: 'new_3', 10: 'new_10', 'G': 'meh', '2': 'new_2'}\n"
     ]
    }
   ],
   "source": [
    "dict_ = {1:\"old_1\", 2:\"old_2\", 3:\"old_3\"}\n",
    "dict_[10] = \"new_10\"\n",
    "dict_[1] = \"new_1\"\n",
    "dict_.update({'G' : \"meh\", 3: \"new_3\", \"2\":\"new_2\"})\n",
    "print(dict_)\n",
    "\n",
    "# you can deepcopy a dictionary\n",
    "import copy\n",
    "\n",
    "def diff(p):\n",
    "    q = copy.deepcopy(p)\n",
    "    return None"
   ]
  },
  {
   "cell_type": "code",
   "execution_count": 2,
   "metadata": {},
   "outputs": [
    {
     "name": "stdout",
     "output_type": "stream",
     "text": [
      "[3]\n"
     ]
    }
   ],
   "source": [
    "import sys\n",
    "\n",
    "def most_frequent(lst):\n",
    "    count_dict = {}\n",
    "    for i in lst:\n",
    "        if count_dict.get(i) == None:\n",
    "            count_dict.update({i : lst.count(i)})\n",
    "    return [x for x in count_dict.keys() if count_dict[x] == max(count_dict.values())]\n",
    "\n",
    "lst_1 = [2,3,40,3,5,4,-3,3,3,2,0]\n",
    "print(most_frequent(lst_1)) "
   ]
  },
  {
   "cell_type": "code",
   "execution_count": 3,
   "metadata": {},
   "outputs": [],
   "source": [
    "def diff(p):   \n",
    "    if p.get(0) != None:\n",
    "        del p[0]\n",
    "    return {i-1 : p[i]*i for i in p.keys()}"
   ]
  },
  {
   "cell_type": "code",
   "execution_count": 4,
   "metadata": {},
   "outputs": [],
   "source": [
    "def get_fundamental_constants(f):\n",
    "    lines = f.readlines()\n",
    "    # the while loop will leave a trailing space, \n",
    "    # so the trailing whitespace must be dealt with\n",
    "    # before or after the while loop\n",
    "    counter = 0\n",
    "    const_dict = {}\n",
    "    for line in lines:\n",
    "        counter += 1\n",
    "        if counter < 3: # ignore headers\n",
    "            continue\n",
    "        \n",
    "        line = line.strip()\n",
    "        while '  ' in line:\n",
    "            line = line.replace('  ',' ')\n",
    "        result = line.split(' ')\n",
    "        const_dict[result[0]] = float(result[1])\n",
    "    return const_dict"
   ]
  },
  {
   "cell_type": "code",
   "execution_count": null,
   "metadata": {},
   "outputs": [],
   "source": [
    "def get_base_counts(dna):\n",
    "    base_count = {'A':0, 'T':0, 'C':0, 'G':0}\n",
    "    for base in dna:\n",
    "        if base == 'A':\n",
    "            new_count = base_count.get('A') + 1\n",
    "            base_count.update({'A' : new_count})\n",
    "        elif base == 'T':\n",
    "            new_count = base_count.get('T') + 1\n",
    "            base_count.update({'T' : new_count})\n",
    "        elif base == 'C':\n",
    "            new_count = base_count.get('C') + 1\n",
    "            base_count.update({'C' : new_count})\n",
    "        elif base == 'G':\n",
    "            new_count = base_count.get('G') + 1\n",
    "            base_count.update({'G' : new_count})\n",
    "        else:\n",
    "            return 'The input DNA string is invalid'\n",
    "    return base_count"
   ]
  },
  {
   "cell_type": "code",
   "execution_count": 1,
   "metadata": {},
   "outputs": [],
   "source": [
    "def get_base_counts2(dna):\n",
    "    base_count = {'A':0, 'T':0, 'C':0, 'G':0}\n",
    "    for base in dna:\n",
    "        if base == 'A':\n",
    "            new_count = base_count.get('A') + 1\n",
    "            base_count.update({'A' : new_count})\n",
    "        elif base == 'T':\n",
    "            new_count = base_count.get('T') + 1\n",
    "            base_count.update({'T' : new_count})\n",
    "        elif base == 'C':\n",
    "            new_count = base_count.get('C') + 1\n",
    "            base_count.update({'C' : new_count})\n",
    "        elif base == 'G':\n",
    "            new_count = base_count.get('G') + 1\n",
    "            base_count.update({'G' : new_count})\n",
    "        elif base.isalpha():\n",
    "            if base.isupper():\n",
    "                continue\n",
    "            return 'The input DNA string is invalid'\n",
    "        else:\n",
    "            return 'The input DNA string is invalid'\n",
    "    return base_count"
   ]
  },
  {
   "cell_type": "code",
   "execution_count": null,
   "metadata": {},
   "outputs": [],
   "source": []
  }
 ],
 "metadata": {
  "kernelspec": {
   "display_name": "Python [conda env:dw]",
   "language": "python",
   "name": "conda-env-dw-py"
  },
  "language_info": {
   "codemirror_mode": {
    "name": "ipython",
    "version": 3
   },
   "file_extension": ".py",
   "mimetype": "text/x-python",
   "name": "python",
   "nbconvert_exporter": "python",
   "pygments_lexer": "ipython3",
   "version": "3.6.5"
  }
 },
 "nbformat": 4,
 "nbformat_minor": 2
}
