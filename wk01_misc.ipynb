{
 "cells": [
  {
   "cell_type": "markdown",
   "metadata": {},
   "source": [
    "# Compilation of answers to homework questions\n",
    "The functions purpose is self-explantory from the names\n",
    "Need to organise and insert examples, though"
   ]
  },
  {
   "cell_type": "code",
   "execution_count": null,
   "metadata": {
    "collapsed": true
   },
   "outputs": [],
   "source": [
    "def reverse(string):\n",
    "    length = len(string)\n",
    "    i = 0\n",
    "    result = \"\"\n",
    "    while i<length:\n",
    "        i += 1\n",
    "        result += string[-i]\n",
    "    return result"
   ]
  },
  {
   "cell_type": "code",
   "execution_count": null,
   "metadata": {
    "collapsed": true
   },
   "outputs": [],
   "source": [
    "# check if letter or is digit\n",
    "s = \"*a123b\"\n",
    "for char in s:\n",
    "    print(char.isalnum(), char.isalpha(),char.isnumeric())"
   ]
  },
  {
   "cell_type": "code",
   "execution_count": null,
   "metadata": {
    "collapsed": true
   },
   "outputs": [],
   "source": [
    "class Coordinate:\n",
    "    x = 0\n",
    "    y = 0\n",
    "\n",
    "def get_maxmin_mag(f):\n",
    "    pairs = f.readlines()\n",
    "    max_point = Coordinate()  # creating a non-static object requires parathesis\n",
    "    min_point = Coordinate()\n",
    "    \n",
    "    for index in range(len(pairs)):\n",
    "        pairs[index].strip('\\n')\n",
    "        splitted = pairs[index].split('\\t')\n",
    "        x = float(splitted[0])\n",
    "        y = float(splitted[1])\n",
    "        r = x**2 + y**2\n",
    "        if index == 0:\n",
    "            r_min = r\n",
    "            r_max = r\n",
    "            max_point.x = x\n",
    "            max_point.y = y\n",
    "            min_point.x = x\n",
    "            min_point.y = y\n",
    "        elif r > r_max:\n",
    "            r_max = r\n",
    "            r_argmax = index\n",
    "            max_point.x = x\n",
    "            max_point.y = y\n",
    "        elif r_min > r:\n",
    "            r_min = r\n",
    "            r_argmin = index\n",
    "            min_point.x = x\n",
    "            min_point.y = y\n",
    "    return max_point, min_point"
   ]
  },
  {
   "cell_type": "code",
   "execution_count": 1,
   "metadata": {},
   "outputs": [
    {
     "name": "stdout",
     "output_type": "stream",
     "text": [
      "this is string example....wow!!!\n"
     ]
    }
   ],
   "source": [
    "# https://www.tutorialspoint.com/python/string_strip.htm\n",
    "# to delete from front and back\n",
    "\n",
    "str = \"0000000this is string example....wow!!!0000000\";\n",
    "print(str.strip('0'))\n",
    "# this is string example....wow!!!"
   ]
  },
  {
   "cell_type": "code",
   "execution_count": null,
   "metadata": {
    "collapsed": true
   },
   "outputs": [],
   "source": [
    "# multiplication table\n",
    "def multiplication_table(n):\n",
    "    if n>0:\n",
    "        n_ = n+1\n",
    "        return [[a*b for a in range(1,n_)] for b in range(1,n_)]\n",
    "    else:\n",
    "        return None"
   ]
  },
  {
   "cell_type": "code",
   "execution_count": null,
   "metadata": {},
   "outputs": [],
   "source": []
  },
  {
   "cell_type": "code",
   "execution_count": null,
   "metadata": {
    "collapsed": true
   },
   "outputs": [],
   "source": [
    "def get_details(name, key, lst):\n",
    "    for item in lst:\n",
    "        if item.get('name') == name:\n",
    "            return item.get(key)\n",
    "    return None"
   ]
  },
  {
   "cell_type": "code",
   "execution_count": null,
   "metadata": {
    "collapsed": true
   },
   "outputs": [],
   "source": [
    "def transpose_matrix(matrix):\n",
    "    n = len(matrix)\n",
    "    m = len(matrix[0])\n",
    "    return [[matrix[a][b] for a in range(n)] for b in range(m)]\n",
    "\n",
    "#a = [[-11,12,3], [4,-5,6]] \n",
    "#print(transpose_matrix(a))"
   ]
  },
  {
   "cell_type": "code",
   "execution_count": null,
   "metadata": {
    "collapsed": true
   },
   "outputs": [],
   "source": []
  },
  {
   "cell_type": "code",
   "execution_count": null,
   "metadata": {
    "collapsed": true
   },
   "outputs": [],
   "source": [
    "# write the function definition and import all the necessary module\n",
    "def printvals(n):\n",
    "    i = 1\n",
    "    lst = []\n",
    "    while i<n+1:\n",
    "        if i%5==0 and i%7==0:\n",
    "            lst.append(\"AB\")\n",
    "        elif i%5==0:\n",
    "            lst.append(\"A\")\n",
    "        elif i%7==0:\n",
    "            lst.append(\"B\")\n",
    "        else:\n",
    "            lst.append(i)\n",
    "        i += 1\n",
    "    return lst"
   ]
  },
  {
   "cell_type": "code",
   "execution_count": null,
   "metadata": {
    "collapsed": true
   },
   "outputs": [],
   "source": [
    "def process_scores(lines):\n",
    "    lines = lines.strip(\"\\n\")\n",
    "    lst = lines.split(\"\\n\")\n",
    "    total = 0\n",
    "    length = 0\n",
    "    for item in lst:\n",
    "        print(item)\n",
    "        item.strip(\"\\n\")\n",
    "        items = item.split(\" \")\n",
    "        for x in items:\n",
    "            print(x)\n",
    "            print(\"x\")\n",
    "            total += float(x)\n",
    "            length += 1 \n",
    "    return total, total/length\n",
    "\n",
    "\n",
    "f = '''62.68796296\n",
    "80\n",
    "72.625\n",
    "90.925\n",
    "90.725\n",
    "87.775\n",
    "75.5837963\n",
    "81.9\n",
    "85.33657407\n",
    "81.9\n",
    "83.725\n",
    "81.82314815\n",
    "80.6587963\n",
    "69.60833333\n",
    "83.95\n",
    "'''"
   ]
  },
  {
   "cell_type": "code",
   "execution_count": null,
   "metadata": {},
   "outputs": [],
   "source": [
    "process_scores(f)"
   ]
  },
  {
   "cell_type": "code",
   "execution_count": null,
   "metadata": {
    "collapsed": true
   },
   "outputs": [],
   "source": [
    "def extract_values(values):\n",
    "    result = values.split(\" \")\n",
    "    result_ = tuple([int(x) for x in result])\n",
    "    #print(result_)\n",
    "    return result_\n",
    "\n",
    "\n",
    "def calc_ratios(values):\n",
    "    if values[1] == 0:\n",
    "        return None\n",
    "    ratio = values[0]/values[1] \n",
    "    #print(ratio)\n",
    "    return ratio\n",
    "\n",
    "def get_integer_ratio():\n",
    "    data=input('Enter integer pair (hit Enter to quit)')  \n",
    "    while data !='':\n",
    "        values=extract_values(data)\n",
    "        ratio=calc_ratios(values)\n",
    "        print('The ratio of the two integers are: {:.2f}'.format(ratio))\n",
    "        data=input('Enter integer pair (hit Enter to quit)')"
   ]
  },
  {
   "cell_type": "code",
   "execution_count": null,
   "metadata": {
    "collapsed": true
   },
   "outputs": [],
   "source": [
    "# Question 1\n",
    "import random\n",
    "\n",
    "craps=set([2,3,12])\n",
    "naturals=set([7,11])\n",
    "\n",
    "def roll_two_dices():\n",
    "    return random.randint(1,6), random.randint(1,6)\n",
    "\n",
    "def print_lose():\n",
    "    print(\"You lose\")\n",
    "    \n",
    "def print_win():\n",
    "    print(\"You win\")\n",
    "\n",
    "def print_point(p):\n",
    "    print(\"Your points are {}\".format(str(p)))\n",
    "\n",
    "def is_craps(n):\n",
    "    if n in craps:\n",
    "        return True\n",
    "    return False\n",
    " \n",
    "def is_naturals(n):\n",
    "    if n in naturals:\n",
    "        return True\n",
    "    return False\n",
    "\n",
    "def play_craps():\n",
    "    point=-1\n",
    "    while True:\n",
    "        n1,n2=roll_two_dices()\n",
    "        sumn=n1+n2\n",
    "        print ('You rolled %d + %d = %d'%(n1,n2,sumn))   \n",
    "        if point==-1:              \n",
    "            if is_craps(sumn):  \n",
    "                print_lose()     \n",
    "                return 0\n",
    "            elif is_naturals(sumn):   \n",
    "                print_win()     \n",
    "                return 1\n",
    "            point=sumn\n",
    "            print_point(point)\n",
    "        else:\n",
    "            if sumn==7:\n",
    "                print_lose()\n",
    "                return 0\n",
    "            elif sumn==point:\n",
    "                print_win()\n",
    "                return 1   \n",
    " "
   ]
  },
  {
   "cell_type": "code",
   "execution_count": null,
   "metadata": {
    "collapsed": true
   },
   "outputs": [],
   "source": [
    "def leap_year(year):\n",
    "    if year%4 == 0 and year%100 != 0 or year%400 == 0:\n",
    "        return True\n",
    "    return False\n",
    " \n",
    "def day_of_week_jan1(year):\n",
    "    y = year - 1\n",
    "    return (1+5*(y%4) + 4*(y%100) + 6*(y%400))%7\n",
    "\n",
    "def num_days_in_month(month_num, leap_year):\n",
    "    month_days = [31,28,31,30,31,30,31,31,30,31,30,31]\n",
    "    if leap_year:\n",
    "        month_days[1] = 29\n",
    "    return month_days[month_num - 1]\n",
    "\n",
    "def construct_cal_month(month_num, first_day_of_month, num_days_in_month):\n",
    "    month_name = [\"January\",\"February\",\"March\",\"April\",\"May\",\"June\",\"July\",\"August\",\"September\",\"October\",\"November\",\"December\"]\n",
    "    string = [month_name[month_num-1],'\\n']\n",
    "    string.append(\"   \"*first_day_of_month)\n",
    "    for x in range(1,10):\n",
    "        string.append(\"  \")\n",
    "        string.append(str(x))\n",
    "        if x%7 == (7 - first_day_of_month)%7:\n",
    "            string.append(\"\\n\")\n",
    "    for x in range(10,num_days_in_month+1):\n",
    "        string.append(\" \")\n",
    "        string.append(str(x))\n",
    "        if x == num_days_in_month:\n",
    "            break\n",
    "        if x%7 == (7 - first_day_of_month)%7:\n",
    "            string.append(\"\\n\")\n",
    "    string_ = ''.join(string)\n",
    "    return string_.split('\\n')\n",
    "\n",
    "def construct_cal_year(year):\n",
    "    leap_year_ = leap_year(year)\n",
    "    string = [year]\n",
    "    day = 0\n",
    "    for month_num in range(12):\n",
    "        first_day_of_month = (day_of_week_jan1(year) + day)%7\n",
    "        num_days_in_month_ = num_days_in_month(month_num+1, leap_year_)\n",
    "        day += num_days_in_month_\n",
    "        string.append(construct_cal_month(month_num+1, first_day_of_month, num_days_in_month_))\n",
    "    return string\n",
    "\n",
    "def display_calendar(year):\n",
    "    string = construct_cal_year(year)\n",
    "    for m in range(1,13):\n",
    "        string[m][0] += \"\\n  S  M  T  W  T  F  S\"\n",
    "        string[m] = '\\n'.join(string[m])\n",
    "    return '\\n\\n'.join(string[1:])"
   ]
  },
  {
   "cell_type": "code",
   "execution_count": null,
   "metadata": {
    "collapsed": true
   },
   "outputs": [],
   "source": [
    "def factorial(n):\n",
    "    if n == 0:\n",
    "        return 1\n",
    "    return n*factorial(n-1)"
   ]
  },
  {
   "cell_type": "code",
   "execution_count": null,
   "metadata": {
    "collapsed": true
   },
   "outputs": [],
   "source": [
    "def reverse(string):\n",
    "    length = len(string)\n",
    "    i = 0\n",
    "    result = \"\"\n",
    "    while i<length:\n",
    "        i += 1\n",
    "        result += string[-i]\n",
    "    return result"
   ]
  },
  {
   "cell_type": "code",
   "execution_count": null,
   "metadata": {
    "collapsed": true
   },
   "outputs": [],
   "source": [
    "def check_password(password):\n",
    "    length = len(password)\n",
    "    if length < 8:\n",
    "        return False\n",
    "    num_digits = 0\n",
    "    for char in password:\n",
    "        if not char.isalnum():\n",
    "            return False\n",
    "        if char.isnumeric():\n",
    "            num_digits += 1\n",
    "    if num_digits < 2:\n",
    "        return False\n",
    "    return True"
   ]
  },
  {
   "cell_type": "code",
   "execution_count": null,
   "metadata": {
    "collapsed": true
   },
   "outputs": [],
   "source": [
    "def longest_common_prefix(string1, string2):\n",
    "    length = min(len(string1), len(string2))\n",
    "    commonness = 0\n",
    "    for index in range(length):\n",
    "        if string1[index] != string2[index]:\n",
    "            break\n",
    "        commonness += 1\n",
    "    return string1[:commonness]"
   ]
  },
  {
   "cell_type": "code",
   "execution_count": null,
   "metadata": {
    "collapsed": true
   },
   "outputs": [],
   "source": [
    "class Coordinate:\n",
    "    x = 0\n",
    "    y = 0\n",
    "\n",
    "def get_maxmin_mag(f):\n",
    "    pairs = f.readlines()\n",
    "    max_point = Coordinate()  # creating a specific object requires parathesis\n",
    "    min_point = Coordinate()\n",
    "    \n",
    "    for index in range(len(pairs)):\n",
    "        pairs[index].strip('\\n')\n",
    "        splitted = pairs[index].split('\\t')\n",
    "        x = float(splitted[0])\n",
    "        y = float(splitted[1])\n",
    "        r = x**2 + y**2\n",
    "        if index == 0:\n",
    "            r_min = r\n",
    "            r_max = r\n",
    "            max_point.x = x\n",
    "            max_point.y = y\n",
    "            min_point.x = x\n",
    "            min_point.y = y\n",
    "        elif r > r_max:\n",
    "            r_max = r\n",
    "            r_argmax = index\n",
    "            max_point.x = x\n",
    "            max_point.y = y\n",
    "        elif r_min > r:\n",
    "            r_min = r\n",
    "            r_argmin = index\n",
    "            min_point.x = x\n",
    "            min_point.y = y\n",
    "    return max_point, min_point"
   ]
  },
  {
   "cell_type": "code",
   "execution_count": null,
   "metadata": {
    "collapsed": true
   },
   "outputs": [],
   "source": [
    "def binary_to_decimal(binstr):\n",
    "    sum = 0\n",
    "    for x in range(len(binstr)):\n",
    "    \tif binstr[-x-1] == \"1\":\n",
    "            sum += 2**x\n",
    "    return sum"
   ]
  },
  {
   "cell_type": "code",
   "execution_count": null,
   "metadata": {
    "collapsed": true
   },
   "outputs": [],
   "source": [
    "def uncompressed(string):\n",
    "    result = \"\"\n",
    "    for x in range(len(string[::2])):\n",
    "        result += string[2*x+1]*int(string[2*x])\n",
    "    return result"
   ]
  },
  {
   "cell_type": "code",
   "execution_count": null,
   "metadata": {
    "collapsed": true
   },
   "outputs": [],
   "source": []
  },
  {
   "cell_type": "code",
   "execution_count": null,
   "metadata": {
    "collapsed": true
   },
   "outputs": [],
   "source": []
  },
  {
   "cell_type": "code",
   "execution_count": null,
   "metadata": {
    "collapsed": true
   },
   "outputs": [],
   "source": [
    "def process_scores(f):\n",
    "    lines = f.read()\n",
    "    lines = lines.strip(\"\\n\")\n",
    "    lst = lines.split(\"\\n\")\n",
    "    total = 0\n",
    "    length = 0\n",
    "    for item in lst:\n",
    "        item.strip(\"\\n\")\n",
    "        items = item.split(\" \")\n",
    "        for x in items:\n",
    "            total += float(x)\n",
    "            length += 1 \n",
    "    return total, total/length"
   ]
  },
  {
   "cell_type": "code",
   "execution_count": null,
   "metadata": {},
   "outputs": [],
   "source": [
    "from hw2_others import *\n",
    "\n",
    "''' ***ATTENTION***\n",
    "do not delete the hw2_others.pyc file \n",
    "you need it for the other function definitions '''\n",
    "\n",
    "def display_calendar(year, month=None):\n",
    "    string = construct_cal_year(year)\n",
    "    if month is None:\n",
    "        for m in range(1,13):\n",
    "            string[m][0] += \"\\n  S  M  T  W  T  F  S\"\n",
    "            string[m] = '\\n'.join(string[m])\n",
    "        return '\\n\\n'.join(string[1:])\n",
    "    m = month\n",
    "    string[m][0] += \"\\n  S  M  T  W  T  F  S\"\n",
    "    return '\\n'.join(string[m])"
   ]
  },
  {
   "cell_type": "code",
   "execution_count": null,
   "metadata": {
    "collapsed": true
   },
   "outputs": [],
   "source": []
  }
 ],
 "metadata": {
  "kernelspec": {
   "display_name": "Python [default]",
   "language": "python",
   "name": "python3"
  },
  "language_info": {
   "codemirror_mode": {
    "name": "ipython",
    "version": 3
   },
   "file_extension": ".py",
   "mimetype": "text/x-python",
   "name": "python",
   "nbconvert_exporter": "python",
   "pygments_lexer": "ipython3",
   "version": "3.6.5"
  }
 },
 "nbformat": 4,
 "nbformat_minor": 2
}
