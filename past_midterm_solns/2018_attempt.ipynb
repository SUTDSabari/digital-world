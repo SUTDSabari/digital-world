{
 "cells": [
  {
   "cell_type": "code",
   "execution_count": 1,
   "metadata": {},
   "outputs": [
    {
     "ename": "SyntaxError",
     "evalue": "invalid syntax (<ipython-input-1-f76ce0fc3d08>, line 1)",
     "output_type": "error",
     "traceback": [
      "\u001b[0;36m  File \u001b[0;32m\"<ipython-input-1-f76ce0fc3d08>\"\u001b[0;36m, line \u001b[0;32m1\u001b[0m\n\u001b[0;31m    import = 1\u001b[0m\n\u001b[0m           ^\u001b[0m\n\u001b[0;31mSyntaxError\u001b[0m\u001b[0;31m:\u001b[0m invalid syntax\n"
     ]
    }
   ],
   "source": [
    "import = 1"
   ]
  },
  {
   "cell_type": "code",
   "execution_count": 6,
   "metadata": {},
   "outputs": [
    {
     "name": "stdout",
     "output_type": "stream",
     "text": [
      "C\n",
      "o\n",
      "m\n",
      "p\n",
      "u\n",
      "Found 'u' :)\n",
      "t\n",
      "i\n",
      "n\n",
      "g\n"
     ]
    }
   ],
   "source": [
    "my_string = \"Computing\"  \n",
    "for character in my_string:\n",
    "    print(character)\n",
    "    if character == \"u\":\n",
    "        print(\"Found 'u' :)\")   \n",
    "        \n",
    "        "
   ]
  },
  {
   "cell_type": "code",
   "execution_count": null,
   "metadata": {},
   "outputs": [],
   "source": [
    "def my_function(n):\n",
    "    return_value = None\n",
    "    if n == 0 or n == 1:\n",
    "        return_value = False # not run\n",
    "    i=2\n",
    "    while i<n**0.5:\n",
    "        if n%i==0:\n",
    "            return_value = False # not run\n",
    "            break # not run\n",
    "        i += 1\n",
    "        return_value = True\n",
    "    return return_value"
   ]
  },
  {
   "cell_type": "code",
   "execution_count": null,
   "metadata": {},
   "outputs": [],
   "source": [
    "def my_function(n):   \n",
    "return_value = None   \n",
    "   ﻿﻿﻿ i﻿f n == 0 or n == 1:       \n",
    "        ret﻿urn_value = False # not run   \n",
    "    i=2   \n",
    "    while i*0.5:       \n",
    "        if n%i==0:           \n",
    "            return_value = False # not run           \n",
    "        break # not run       \n",
    "        i += 1       \n",
    "        return_value = True    \n",
    "    return return_value"
   ]
  },
  {
   "cell_type": "code",
   "execution_count": null,
   "metadata": {},
   "outputs": [],
   "source": [
    "def my_function(n):   \n",
    "    return_value = None   \n",
    "    if n == 0 or n == 1:       \n",
    "        ret﻿urn_value = False # not run   \n",
    "    i=2   \n",
    "    while i*0.5:       \n",
    "        if n%i==0:           \n",
    "            return_value = False # not run           \n",
    "        break # not run       \n",
    "        i += 1       \n",
    "        return_value = True    \n",
    "    return return_value"
   ]
  },
  {
   "cell_type": "code",
   "execution_count": 7,
   "metadata": {},
   "outputs": [],
   "source": [
    "def my_function(n):   \n",
    "    return_value = None   \n",
    "    if n == 0 or n == 1:       \n",
    "        return_value = False # not run   \n",
    "    i=2   \n",
    "    while i*0.5:       \n",
    "        if n%i==0:           \n",
    "            return_value = False # not run           \n",
    "            break # not run       \n",
    "        i += 1       \n",
    "        return_value = True    \n",
    "    return return_value"
   ]
  },
  {
   "cell_type": "code",
   "execution_count": 4,
   "metadata": {},
   "outputs": [],
   "source": []
  },
  {
   "cell_type": "code",
   "execution_count": 8,
   "metadata": {},
   "outputs": [
    {
     "name": "stdout",
     "output_type": "stream",
     "text": [
      "None\n"
     ]
    }
   ],
   "source": [
    "print(my_function(37))"
   ]
  },
  {
   "cell_type": "code",
   "execution_count": 12,
   "metadata": {},
   "outputs": [],
   "source": [
    "import math\n",
    "\n",
    "def area_square(s):\n",
    "    return s**2.\n",
    "\n",
    "def vol_frustum(top_area, bottom_area, height):\n",
    "    return (height/3)*(top_area + bottom_area + math.sqrt(top_area*bottom_area))\n",
    "                       \n",
    "def get_volume(s1, s2, height):\n",
    "    return vol_frustum(area_square(s1), area_square(s2), height)\n"
   ]
  },
  {
   "cell_type": "code",
   "execution_count": 17,
   "metadata": {},
   "outputs": [],
   "source": [
    "def det(M):\n",
    "    if len(M) == 1:\n",
    "        for row in M:\n",
    "            if len(row) != 1:\n",
    "                return None\n",
    "        return M[0][0]\n",
    "    if len(M) == 2:\n",
    "        for row in M:\n",
    "            if len(row) != 2:\n",
    "                return None\n",
    "        return M[0][0] * M[1][1] - M[0][1]*M[1][0]\n",
    "    if len(M) == 3:\n",
    "        for row in M:\n",
    "            if len(row) != 3:\n",
    "                return None\n",
    "        return (M[0][0] * M[1][1] * M[2][2] \n",
    "                + M[1][0] * M[2][1] * M[0][2] \n",
    "                + M[2][0] * M[0][1] * M[1][2]\n",
    "                - M[0][2] * M[1][1] * M[2][0]\n",
    "                - M[1][0] * M[2][1] * M[0][2]\n",
    "                - M[2][0] * M[0][1] * M[1][2]\n",
    "               )\n",
    "        "
   ]
  },
  {
   "cell_type": "code",
   "execution_count": 25,
   "metadata": {},
   "outputs": [],
   "source": [
    "def determinant(matrix):\n",
    "    M = matrix\n",
    "    \n",
    "    try:\n",
    "        a = len(M)\n",
    "        a = len(M[0])\n",
    "    except:\n",
    "        return None\n",
    "    \n",
    "    if len(M) == 1:\n",
    "        for row in M:\n",
    "            if len(row) != 1:\n",
    "                return None\n",
    "        return M[0][0]\n",
    "    if len(M) == 2:\n",
    "        for row in M:\n",
    "            if len(row) != 2:\n",
    "                return None\n",
    "        return M[0][0] * M[1][1] - M[0][1]*M[1][0]\n",
    "    if len(M) == 3:\n",
    "        for row in M:\n",
    "            if len(row) != 3:\n",
    "                return None\n",
    "        return (M[0][0] * M[1][1] * M[2][2] \n",
    "                + M[1][0] * M[2][1] * M[0][2] \n",
    "                + M[2][0] * M[0][1] * M[1][2]\n",
    "                - M[0][2] * M[1][1] * M[2][0]\n",
    "                - M[1][0] * M[0][1] * M[2][2]\n",
    "                - M[0][0] * M[2][1] * M[1][2]\n",
    "               )"
   ]
  },
  {
   "cell_type": "code",
   "execution_count": 26,
   "metadata": {},
   "outputs": [],
   "source": [
    "determinant([[100,100]])"
   ]
  },
  {
   "cell_type": "code",
   "execution_count": 32,
   "metadata": {},
   "outputs": [],
   "source": [
    "\n",
    "def nroot(n,t,num):\n",
    "    x = 1\n",
    "    for i in range(t):\n",
    "        x -= ((x**n - num)/(n*(x**(n-1))))\n",
    "    return round(x,3)\n",
    "\n",
    "def nroot_complex(n,t,num):\n",
    "    if num > 0 or num == 0:\n",
    "        return nroot(n,t,num)\n",
    "    if num < 0 and n%2 == 1:\n",
    "        return -nroot(n,t,-num)\n",
    "    else:\n",
    "        return nroot(n,t,-num)*1j"
   ]
  },
  {
   "cell_type": "code",
   "execution_count": 36,
   "metadata": {},
   "outputs": [
    {
     "data": {
      "text/plain": [
       "-1.517"
      ]
     },
     "execution_count": 36,
     "metadata": {},
     "output_type": "execute_result"
    }
   ],
   "source": [
    "nroot_complex(5,5,-8)"
   ]
  },
  {
   "cell_type": "code",
   "execution_count": 89,
   "metadata": {},
   "outputs": [
    {
     "ename": "FileNotFoundError",
     "evalue": "[Errno 2] No such file or directory: 'gauss2.txt'",
     "output_type": "error",
     "traceback": [
      "\u001b[0;31m---------------------------------------------------------------------------\u001b[0m",
      "\u001b[0;31mFileNotFoundError\u001b[0m                         Traceback (most recent call last)",
      "\u001b[0;32m<ipython-input-89-4c15156b987d>\u001b[0m in \u001b[0;36m<module>\u001b[0;34m()\u001b[0m\n\u001b[1;32m      1\u001b[0m \u001b[0mfilename\u001b[0m\u001b[0;34m=\u001b[0m\u001b[0;34m\"gauss2.txt\"\u001b[0m\u001b[0;34m\u001b[0m\u001b[0m\n\u001b[0;32m----> 2\u001b[0;31m \u001b[0mf\u001b[0m\u001b[0;34m=\u001b[0m\u001b[0mopen\u001b[0m\u001b[0;34m(\u001b[0m\u001b[0mfilename\u001b[0m\u001b[0;34m,\u001b[0m\u001b[0;34m'r'\u001b[0m\u001b[0;34m)\u001b[0m\u001b[0;34m\u001b[0m\u001b[0m\n\u001b[0m\u001b[1;32m      3\u001b[0m \u001b[0ms\u001b[0m \u001b[0;34m=\u001b[0m \u001b[0mread\u001b[0m\u001b[0;34m(\u001b[0m\u001b[0mf\u001b[0m\u001b[0;34m)\u001b[0m\u001b[0;34m\u001b[0m\u001b[0m\n\u001b[1;32m      4\u001b[0m \u001b[0;34m\u001b[0m\u001b[0m\n",
      "\u001b[0;31mFileNotFoundError\u001b[0m: [Errno 2] No such file or directory: 'gauss2.txt'"
     ]
    }
   ],
   "source": [
    "filename=\"gauss2.txt\"\n",
    "f=open(filename,'r')\n",
    "s = read(f)\n",
    "\n"
   ]
  },
  {
   "cell_type": "code",
   "execution_count": 102,
   "metadata": {},
   "outputs": [],
   "source": [
    "s = '''=EastWestLine (EW)=\n",
    "Pasir Ris, Tampines, Simei, Tanah Merah, Bedok, Kembangan, Eunos, Paya Lebar, Aljuned, Kallang, Lavender, Bugis, City Hall, Raffles Place, Tanjong Pagar, Outram Park, Tiong Bahru, Redhill, Queenstown, Commonwealth, Buona Vista, Dover, Clementi, Jurong East, Chinese Garden, Lakeside, Boon Lay, Pioneer, Joo Koon, Gul Circle, Tuas Crescent, Tuas West Road, Tuas Link\n",
    "\n",
    "=EastWestLine (CG)=\n",
    "Tanah Merah, Expo, Changi Airport\n",
    "\n",
    "=NorthSouthLine=\n",
    "Jurong East, Bukit Batok, Bukit Gombak, Choa Chu Kang, Yew Tee, Kranji, Marsiling, Woodlands, Admiralty, Sembawang, Canberra, Yishun, Khatib, Yio Chu Kang, Ang Mo Kio, Bishan, Braddell, Toa Payoh, Novena, Newton, Orchard, Somerset, Dhoby Ghaut, City Hall, Raffles Place, Marina Bay, Marina South Pier\"\n",
    "'''"
   ]
  },
  {
   "cell_type": "code",
   "execution_count": 101,
   "metadata": {},
   "outputs": [
    {
     "name": "stdout",
     "output_type": "stream",
     "text": [
      "{'NorthSouthLine': ['Jurong East', 'Bukit Batok', 'Bukit Gombak', 'Choa Chu Kang', 'Yew Tee', 'Kranji', 'Marsiling', 'Woodlands', 'Admiralty', 'Sembawang', 'Canberra', 'Yishun', 'Khatib', 'Yio Chu Kang', 'Ang Mo Kio', 'Bishan', 'Braddell', 'Toa Payoh', 'Novena', 'Newton', 'Orchard', 'Somerset', 'Dhoby Ghaut', 'City Hall', 'Raffles Place', 'Marina Bay', 'Marina South Pier\"'], 'EastWestLine (CG)': ['Tanah Merah', 'Expo', 'Changi Airport'], 'EastWestLine (EW)': ['Pasir Ris', 'Tampines', 'Simei', 'Tanah Merah', 'Bedok', 'Kembangan', 'Eunos', 'Paya Lebar', 'Aljuned', 'Kallang', 'Lavender', 'Bugis', 'City Hall', 'Raffles Place', 'Tanjong Pagar', 'Outram Park', 'Tiong Bahru', 'Redhill', 'Queenstown', 'Commonwealth', 'Buona Vista', 'Dover', 'Clementi', 'Jurong East', 'Chinese Garden', 'Lakeside', 'Boon Lay', 'Pioneer', 'Joo Koon', 'Gul Circle', 'Tuas Crescent', 'Tuas West Road', 'Tuas Link']}\n"
     ]
    }
   ],
   "source": [
    "st = s.split(\"=\")\n",
    "for i in range(int((len(st)-1)/2)):\n",
    "    dict_[st[2*i+1]] = (st[2*(i+1)].strip(\"\\n\")).split(\", \")\n",
    "print(dict_)\n",
    "# print(st)\n",
    "# ew = st[2].strip(\"\\n\")\n",
    "# cg = st[4].strip(\"\\n\")\n",
    "# nl = st[6].strip(\"\\n\")\n",
    "# print(ew)\n",
    "# print(cg)\n",
    "# print(nl)\n",
    "# dict_ = {}\n",
    "# dict_[\"EastWestLine (EW)\"] = ew.split(\", \")\n",
    "# dict_[\"EastWestLine (CG)\"] = cg.split(\", \")\n",
    "# dict_[\"NorthSouthLine\"] = nl.split(\", \")\n",
    "# print(dict_)"
   ]
  },
  {
   "cell_type": "code",
   "execution_count": 97,
   "metadata": {},
   "outputs": [
    {
     "ename": "SyntaxError",
     "evalue": "EOL while scanning string literal (<ipython-input-97-bf82b0990eae>, line 2)",
     "output_type": "error",
     "traceback": [
      "\u001b[0;36m  File \u001b[0;32m\"<ipython-input-97-bf82b0990eae>\"\u001b[0;36m, line \u001b[0;32m2\u001b[0m\n\u001b[0;31m    ['Pasir Ris', 'Tampines', 'Simei', 'Tanah Merah', 'Bedok', 'Kembangan', 'Eunos', 'Paya Lebar', 'Aljuned', 'Kallang', 'L\u001b[0m\n\u001b[0m                                                                                                                           ^\u001b[0m\n\u001b[0;31mSyntaxError\u001b[0m\u001b[0;31m:\u001b[0m EOL while scanning string literal\n"
     ]
    }
   ],
   "source": [
    "{'EastWestLine (EW)': \n",
    " ['Pasir Ris', 'Tampines', 'Simei', 'Tanah Merah', 'Bedok', 'Kembangan', 'Eunos', 'Paya Lebar', 'Aljuned', 'Kallang', 'L\n",
    "avender', 'Bugis', 'City Hall', 'Raffles Place', 'Tanjong Pagar', 'Outram Park', 'Tiong Bahru', 'Redhill', 'Queenstown', 'Commonwealth', 'Buona Vista', \n",
    "'Dover', 'Clementi', 'Jurong East', 'Chinese Garden', 'Lakeside', 'Boon Lay', 'Pioneer', 'Joo Koon', 'Gul Circle', 'Tuas Crescent', 'Tuas West Road', 'T\n",
    "uas Link'], \n",
    "  'EastWestLine (CG)': \n",
    "  ['Tanah Merah', 'Expo', 'Changi Airport'], \n",
    "  'NorthSouthLine': \n",
    "  ['Jurong East', 'Bukit Batok', 'Bukit Gombak', 'Choa Chu K\n",
    "ang', 'Yew Tee', 'Kranji', 'Marsiling', 'Woodlands', 'Admiralty', 'Sembawang', 'Canberra', 'Yishun', 'Khatib', 'Yio Chu Kang', 'Ang Mo Kio', 'Bishan', '\n",
    "Braddell', 'Toa Payoh', 'Novena', 'Newton', 'Orchard', 'Somerset', 'Dhoby Ghaut', 'City Hall', 'Raffles Place', 'Marina Bay', 'Marina South Pier']} "
   ]
  },
  {
   "cell_type": "code",
   "execution_count": null,
   "metadata": {},
   "outputs": [],
   "source": [
    "{'EastWestLine (EW)': \n",
    " ['Pasir Ris', 'Tampines', 'Simei', 'Tanah Merah', 'Bedok', 'Kembangan', 'Eunos', 'Paya Lebar', 'Aljuned', 'Kallang', 'Lav\n",
    "ender', 'Bugis', 'City Hall', 'Raffles Place', 'Tanjong Pagar', 'Outram Park', 'Tiong Bahru', 'Redhill', 'Queenstown', 'Commonwealth', 'Buona Vista', 'D\n",
    "over', 'Clementi', 'Jurong East', 'Chinese Garden', 'Lakeside', 'Boon Lay', 'Pioneer', 'Joo Koon', 'Gul Circle', 'Tuas Crescent', 'Tuas West Road', 'Tua\n",
    "s Link'], \n",
    "  'EastWestLine (CG)': \n",
    "  ['Pasir Ris', 'Tampines', 'Simei', 'Tanah Merah', 'Bedok', 'Kembangan', 'Eunos', 'Paya Lebar', 'Aljuned', 'Kallang', 'Lav\n",
    "ender', 'Bugis', 'City Hall', 'Raffles Place', 'Tanjong Pagar', 'Outram Park', 'Tiong Bahru', 'Redhill', 'Queenstown', 'Commonwealth', 'Buona Vista', 'D\n",
    "over', 'Clementi', 'Jurong East', 'Chinese Garden', 'Lakeside', 'Boon Lay', 'Pioneer', 'Joo Koon', 'Gul Circle', 'Tuas Crescent', 'Tuas West Road', 'Tua\n",
    "s Link'], 'NorthSouthLine': ['Pasir Ris', 'Tampines', 'Simei', 'Tanah Merah', 'Bedok', 'Kembangan', 'Eunos', 'Paya Lebar', 'Aljuned', 'Kallang', 'Lavend\n",
    "er', 'Bugis', 'City Hall', 'Raffles Place', 'Tanjong Pagar', 'Outram Park', 'Tiong Bahru', 'Redhill', 'Queenstown', 'Commonwealth', 'Buona Vista', 'Dove\n",
    "r', 'Clementi', 'Jurong East', 'Chinese Garden', 'Lakeside', 'Boon Lay', 'Pioneer', 'Joo Koon', 'Gul Circle', 'Tuas Crescent', 'Tuas West Road', 'Tuas L\n",
    "ink']}  "
   ]
  },
  {
   "cell_type": "code",
   "execution_count": 109,
   "metadata": {},
   "outputs": [],
   "source": [
    "def read_stations(s):\n",
    "    st = s.split(\"=\")\n",
    "#     print(len(st))\n",
    "    for i in range(int((len(st)-1)/2)):\n",
    "        dict_[st[2*i+1]] = (st[2*(i+1)].strip(\"\\n\")).split(\", \")\n",
    "    return dict_"
   ]
  },
  {
   "cell_type": "code",
   "execution_count": 120,
   "metadata": {},
   "outputs": [],
   "source": [
    "mrt = read_stations(s)"
   ]
  },
  {
   "cell_type": "code",
   "execution_count": 125,
   "metadata": {},
   "outputs": [
    {
     "name": "stdout",
     "output_type": "stream",
     "text": [
      "NorthSouthLine\n",
      "EastWestLine (CG)\n",
      "EastWestLine (EW)\n"
     ]
    },
    {
     "data": {
      "text/plain": [
       "{'Admiralty': ['NorthSouthLine'],\n",
       " 'Aljuned': ['EastWestLine (EW)'],\n",
       " 'Ang Mo Kio': ['NorthSouthLine'],\n",
       " 'Bedok': ['EastWestLine (EW)'],\n",
       " 'Bishan': ['NorthSouthLine'],\n",
       " 'Boon Lay': ['EastWestLine (EW)'],\n",
       " 'Braddell': ['NorthSouthLine'],\n",
       " 'Bugis': ['EastWestLine (EW)'],\n",
       " 'Bukit Batok': ['NorthSouthLine'],\n",
       " 'Bukit Gombak': ['NorthSouthLine'],\n",
       " 'Buona Vista': ['EastWestLine (EW)'],\n",
       " 'Canberra': ['NorthSouthLine'],\n",
       " 'Changi Airport': ['EastWestLine (CG)'],\n",
       " 'Chinese Garden': ['EastWestLine (EW)'],\n",
       " 'Choa Chu Kang': ['NorthSouthLine'],\n",
       " 'City Hall': ['NorthSouthLine', 'EastWestLine (EW)'],\n",
       " 'Clementi': ['EastWestLine (EW)'],\n",
       " 'Commonwealth': ['EastWestLine (EW)'],\n",
       " 'Dhoby Ghaut': ['NorthSouthLine'],\n",
       " 'Dover': ['EastWestLine (EW)'],\n",
       " 'Eunos': ['EastWestLine (EW)'],\n",
       " 'Expo': ['EastWestLine (CG)'],\n",
       " 'Gul Circle': ['EastWestLine (EW)'],\n",
       " 'Joo Koon': ['EastWestLine (EW)'],\n",
       " 'Jurong East': ['NorthSouthLine', 'EastWestLine (EW)'],\n",
       " 'Kallang': ['EastWestLine (EW)'],\n",
       " 'Kembangan': ['EastWestLine (EW)'],\n",
       " 'Khatib': ['NorthSouthLine'],\n",
       " 'Kranji': ['NorthSouthLine'],\n",
       " 'Lakeside': ['EastWestLine (EW)'],\n",
       " 'Lavender': ['EastWestLine (EW)'],\n",
       " 'Marina Bay': ['NorthSouthLine'],\n",
       " 'Marina South Pier\"': ['NorthSouthLine'],\n",
       " 'Marsiling': ['NorthSouthLine'],\n",
       " 'Newton': ['NorthSouthLine'],\n",
       " 'Novena': ['NorthSouthLine'],\n",
       " 'Orchard': ['NorthSouthLine'],\n",
       " 'Outram Park': ['EastWestLine (EW)'],\n",
       " 'Pasir Ris': ['EastWestLine (EW)'],\n",
       " 'Paya Lebar': ['EastWestLine (EW)'],\n",
       " 'Pioneer': ['EastWestLine (EW)'],\n",
       " 'Queenstown': ['EastWestLine (EW)'],\n",
       " 'Raffles Place': ['NorthSouthLine', 'EastWestLine (EW)'],\n",
       " 'Redhill': ['EastWestLine (EW)'],\n",
       " 'Sembawang': ['NorthSouthLine'],\n",
       " 'Simei': ['EastWestLine (EW)'],\n",
       " 'Somerset': ['NorthSouthLine'],\n",
       " 'Tampines': ['EastWestLine (EW)'],\n",
       " 'Tanah Merah': ['EastWestLine (CG)', 'EastWestLine (EW)'],\n",
       " 'Tanjong Pagar': ['EastWestLine (EW)'],\n",
       " 'Tiong Bahru': ['EastWestLine (EW)'],\n",
       " 'Toa Payoh': ['NorthSouthLine'],\n",
       " 'Tuas Crescent': ['EastWestLine (EW)'],\n",
       " 'Tuas Link': ['EastWestLine (EW)'],\n",
       " 'Tuas West Road': ['EastWestLine (EW)'],\n",
       " 'Woodlands': ['NorthSouthLine'],\n",
       " 'Yew Tee': ['NorthSouthLine'],\n",
       " 'Yio Chu Kang': ['NorthSouthLine'],\n",
       " 'Yishun': ['NorthSouthLine']}"
      ]
     },
     "execution_count": 125,
     "metadata": {},
     "output_type": "execute_result"
    }
   ],
   "source": [
    "get_stationline(mrt)"
   ]
  },
  {
   "cell_type": "code",
   "execution_count": null,
   "metadata": {},
   "outputs": [],
   "source": [
    "def get_stationline(mrt):\n",
    "    ans = {}\n",
    "    for lines in mrt:\n",
    "        print(lines)\n",
    "        for station in mrt[lines]:\n",
    "            if station not in ans:\n",
    "                ans[station] = []\n",
    "                ans[station].append(lines)\n",
    "            else:\n",
    "                ans[station].append(lines)\n",
    "    return ans"
   ]
  },
  {
   "cell_type": "code",
   "execution_count": null,
   "metadata": {},
   "outputs": [],
   "source": [
    "def get_interchange(stationline):\n",
    "    ans = {}\n",
    "    for stations in stationline\n",
    "        if len(stationline[stations] > 1):\n",
    "            ans[stations] = stationline[stations]\n",
    "    return ans"
   ]
  },
  {
   "cell_type": "code",
   "execution_count": 126,
   "metadata": {},
   "outputs": [
    {
     "ename": "AttributeError",
     "evalue": "'list' object has no attribute 'find'",
     "output_type": "error",
     "traceback": [
      "\u001b[0;31m---------------------------------------------------------------------------\u001b[0m",
      "\u001b[0;31mAttributeError\u001b[0m                            Traceback (most recent call last)",
      "\u001b[0;32m<ipython-input-126-a63bbb37ed3a>\u001b[0m in \u001b[0;36m<module>\u001b[0;34m()\u001b[0m\n\u001b[1;32m      1\u001b[0m \u001b[0ma\u001b[0m \u001b[0;34m=\u001b[0m \u001b[0;34m[\u001b[0m\u001b[0;36m1\u001b[0m\u001b[0;34m,\u001b[0m\u001b[0;36m2\u001b[0m\u001b[0;34m,\u001b[0m\u001b[0;36m23\u001b[0m\u001b[0;34m,\u001b[0m\u001b[0;36m4\u001b[0m\u001b[0;34m,\u001b[0m\u001b[0;36m5\u001b[0m\u001b[0;34m]\u001b[0m\u001b[0;34m\u001b[0m\u001b[0m\n\u001b[0;32m----> 2\u001b[0;31m \u001b[0ma\u001b[0m\u001b[0;34m.\u001b[0m\u001b[0mfind\u001b[0m\u001b[0;34m(\u001b[0m\u001b[0;36m1\u001b[0m\u001b[0;34m)\u001b[0m\u001b[0;34m\u001b[0m\u001b[0m\n\u001b[0m",
      "\u001b[0;31mAttributeError\u001b[0m: 'list' object has no attribute 'find'"
     ]
    }
   ],
   "source": [
    "a = [1,2,23,4,5]\n",
    "a.find(1)"
   ]
  },
  {
   "cell_type": "code",
   "execution_count": null,
   "metadata": {},
   "outputs": [],
   "source": [
    "def create_nodes(nodes):\n",
    "    ans = {}\n",
    "    for edge in nodes:\n",
    "        if edge[0] not in ans:\n",
    "            ans[edge[0]] = {edge[1]:1}\n",
    "        if edge[1] not in ans[edge[0]]:\n",
    "            ans[edge[0]][edge[1]] = 1\n",
    "        if edge[1] not in ans:\n",
    "            ans[edge[1]] = {edge[0]:1}\n",
    "        elif edge[0] not in ans[edge[1]]:\n",
    "            ans[edge[1]][edge[0]] = 1\n",
    "    return ans"
   ]
  },
  {
   "cell_type": "code",
   "execution_count": 129,
   "metadata": {},
   "outputs": [
    {
     "name": "stdout",
     "output_type": "stream",
     "text": [
      "Object `arg` not found.\n"
     ]
    }
   ],
   "source": [
    "arg?"
   ]
  },
  {
   "cell_type": "code",
   "execution_count": 24,
   "metadata": {},
   "outputs": [],
   "source": [
    "# my submission\n",
    "def decompose(n):\n",
    "    circulation = [1,2,5,10,20,50,100,200]\n",
    "    lst = [1]*(n+1)\n",
    "    for n in circulation[1:]:\n",
    "        for i in range(len(lst[n:])):\n",
    "            lst[i] += lst[i-n]\n",
    "    return(lst[-1])"
   ]
  },
  {
   "cell_type": "code",
   "execution_count": 25,
   "metadata": {},
   "outputs": [
    {
     "data": {
      "text/plain": [
       "1"
      ]
     },
     "execution_count": 25,
     "metadata": {},
     "output_type": "execute_result"
    }
   ],
   "source": [
    "decompose(700)"
   ]
  },
  {
   "cell_type": "code",
   "execution_count": 28,
   "metadata": {},
   "outputs": [],
   "source": [
    "# what did I need to do to save my submission :(\n",
    "def decompose(n):\n",
    "    circulation = [1,2,5,10,20,50,100,200]\n",
    "    lst = [1]*(n+1)\n",
    "    for c in circulation[1:]:\n",
    "        for i in range(len(lst[c:])):\n",
    "            lst[i+c] += lst[i]\n",
    "    return(lst[-1])"
   ]
  },
  {
   "cell_type": "code",
   "execution_count": 29,
   "metadata": {},
   "outputs": [
    {
     "data": {
      "text/plain": [
       "40208370"
      ]
     },
     "execution_count": 29,
     "metadata": {},
     "output_type": "execute_result"
    }
   ],
   "source": [
    "decompose(700)"
   ]
  },
  {
   "cell_type": "code",
   "execution_count": 4,
   "metadata": {},
   "outputs": [
    {
     "name": "stdout",
     "output_type": "stream",
     "text": [
      "40208370\n"
     ]
    }
   ],
   "source": [
    "# model answer\n",
    "def changes(amount, coins):\n",
    "    ways = [0] * (amount + 1)\n",
    "    ways[0] = 1\n",
    "    for coin in coins:\n",
    "        for j in range(coin, amount + 1):\n",
    "            ways[j] += ways[j - coin]\n",
    "    return ways[amount]\n",
    " \n",
    "print(changes(700, [1,2,5,10,20,50,100,200]))"
   ]
  },
  {
   "cell_type": "code",
   "execution_count": null,
   "metadata": {},
   "outputs": [],
   "source": []
  },
  {
   "cell_type": "code",
   "execution_count": null,
   "metadata": {},
   "outputs": [],
   "source": []
  }
 ],
 "metadata": {
  "kernelspec": {
   "display_name": "Python [default]",
   "language": "python",
   "name": "python3"
  },
  "language_info": {
   "codemirror_mode": {
    "name": "ipython",
    "version": 3
   },
   "file_extension": ".py",
   "mimetype": "text/x-python",
   "name": "python",
   "nbconvert_exporter": "python",
   "pygments_lexer": "ipython3",
   "version": "3.6.5"
  }
 },
 "nbformat": 4,
 "nbformat_minor": 2
}
