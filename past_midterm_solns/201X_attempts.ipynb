{
 "cells": [
  {
   "cell_type": "code",
   "execution_count": 116,
   "metadata": {},
   "outputs": [],
   "source": [
    "# random attempts"
   ]
  },
  {
   "cell_type": "code",
   "execution_count": 115,
   "metadata": {},
   "outputs": [],
   "source": [
    "# Y2015Q7\n",
    "# waiting for solutions\n",
    "\n",
    "import numpy as np\n",
    "import copy\n",
    "def countLitPixel(x, y, r):\n",
    "    x = x%1\n",
    "    y = y%1\n",
    "    counter = 0\n",
    "    for i in np.arange(-r-5.5,r+5.5):\n",
    "        for j in np.arange(-r-5.5,r+5.5):\n",
    "            i = copy.copy(i)\n",
    "#             if i > 0.5:\n",
    "#                 i -= 0.5\n",
    "#             elif i < -0.5:\n",
    "#                 i += 0.5\n",
    "#             if j > 0.5:\n",
    "#                 j -= 0.5\n",
    "#             elif j < -0.5:\n",
    "#                 j += 0.5\n",
    "            if (i-x)**2 + (j-y)**2 < r**2 - 0.00001:\n",
    "                counter += 1\n",
    "                print(\"x\", end=\"\")\n",
    "            else:\n",
    "                print(\"o\", end=\"\")\n",
    "        print(\"\")\n",
    "    return counter"
   ]
  },
  {
   "cell_type": "code",
   "execution_count": 113,
   "metadata": {},
   "outputs": [
    {
     "name": "stdout",
     "output_type": "stream",
     "text": [
      "ooooooooooooooooooooo\n",
      "ooooooooooooooooooooo\n",
      "ooooooooooooooooooooo\n",
      "ooooooooooooooooooooo\n",
      "ooooooooooooooooooooo\n",
      "ooooooooooooooooooooo\n",
      "oooooooooxxxxoooooooo\n",
      "oooooooxxxxxxxxoooooo\n",
      "oooooooxxxxxxxxoooooo\n",
      "ooooooxxxxxxxxxxooooo\n",
      "ooooooxxxxxxxxxxooooo\n",
      "ooooooxxxxxxxxxxooooo\n",
      "ooooooxxxxxxxxxxooooo\n",
      "oooooooxxxxxxxxoooooo\n",
      "oooooooxxxxxxxxoooooo\n",
      "oooooooooxxxxoooooooo\n",
      "ooooooooooooooooooooo\n",
      "ooooooooooooooooooooo\n",
      "ooooooooooooooooooooo\n",
      "ooooooooooooooooooooo\n",
      "ooooooooooooooooooooo\n"
     ]
    },
    {
     "data": {
      "text/plain": [
       "80"
      ]
     },
     "execution_count": 113,
     "metadata": {},
     "output_type": "execute_result"
    }
   ],
   "source": [
    "countLitPixel(5, 2, 5)"
   ]
  },
  {
   "cell_type": "code",
   "execution_count": 114,
   "metadata": {},
   "outputs": [
    {
     "name": "stdout",
     "output_type": "stream",
     "text": [
      "ooooooooooooo\n",
      "ooooooooooooo\n",
      "ooooooooooooo\n",
      "ooooooooooooo\n",
      "ooooooooooooo\n",
      "ooooooooooooo\n",
      "ooooooxxooooo\n",
      "ooooooxxooooo\n",
      "ooooooooooooo\n",
      "ooooooooooooo\n",
      "ooooooooooooo\n",
      "ooooooooooooo\n",
      "ooooooooooooo\n"
     ]
    },
    {
     "data": {
      "text/plain": [
       "4"
      ]
     },
     "execution_count": 114,
     "metadata": {},
     "output_type": "execute_result"
    }
   ],
   "source": [
    "countLitPixel(1,1,1)"
   ]
  },
  {
   "cell_type": "code",
   "execution_count": 72,
   "metadata": {},
   "outputs": [
    {
     "data": {
      "text/plain": [
       "0.0"
      ]
     },
     "execution_count": 72,
     "metadata": {},
     "output_type": "execute_result"
    }
   ],
   "source": [
    "1.0%1 "
   ]
  },
  {
   "cell_type": "code",
   "execution_count": 1,
   "metadata": {},
   "outputs": [
    {
     "data": {
      "text/plain": [
       "[[Fraction(1, 1), Fraction(0, 1), Fraction(0, 1)],\n",
       " [Fraction(0, 1), Fraction(1, 1), Fraction(0, 1)],\n",
       " [Fraction(0, 1), Fraction(0, 1), Fraction(1, 1)]]"
      ]
     },
     "execution_count": 1,
     "metadata": {},
     "output_type": "execute_result"
    }
   ],
   "source": [
    "# Gassian elimination Y2016Q6\n",
    "# work from Rosetta code?\n",
    "# The 'gauss' function takes two matrices, 'a' and 'b', with 'a' square, and it return the determinant of 'a' and a matrix 'x' such that a*x = b.\n",
    "# If 'b' is the identity, then 'x' is the inverse of 'a'.\n",
    "\n",
    "import copy\n",
    "from fractions import Fraction\n",
    " \n",
    "def gauss(a, b):\n",
    "    a = copy.deepcopy(a)\n",
    "    b = copy.deepcopy(b)\n",
    "    n = len(a)\n",
    "    p = len(b[0])\n",
    "    det = 1\n",
    "    for i in range(n - 1):\n",
    "        k = i\n",
    "        for j in range(i + 1, n):\n",
    "            if abs(a[j][i]) > abs(a[k][i]):\n",
    "                k = j\n",
    "        if k != i:\n",
    "            a[i], a[k] = a[k], a[i]\n",
    "            b[i], b[k] = b[k], b[i]\n",
    "            det = -det\n",
    " \n",
    "        for j in range(i + 1, n):\n",
    "            t = a[j][i]/a[i][i]\n",
    "            for k in range(i + 1, n):\n",
    "                a[j][k] -= t*a[i][k]\n",
    "            for k in range(p):\n",
    "                b[j][k] -= t*b[i][k]\n",
    " \n",
    "    for i in range(n - 1, -1, -1):\n",
    "        for j in range(i + 1, n):\n",
    "            t = a[i][j]\n",
    "            for k in range(p):\n",
    "                b[i][k] -= t*b[j][k]\n",
    "        t = 1/a[i][i]\n",
    "        det *= a[i][i]\n",
    "        for j in range(p):\n",
    "            b[i][j] *= t\n",
    "    return det, b\n",
    " \n",
    "def zeromat(p, q):\n",
    "    return [[0]*q for i in range(p)]\n",
    " \n",
    "def matmul(a, b):\n",
    "    n, p = len(a), len(a[0])\n",
    "    p1, q = len(b), len(b[0])\n",
    "    if p != p1:\n",
    "        raise ValueError(\"Incompatible dimensions\")\n",
    "    c = zeromat(n, q)\n",
    "    for i in range(n):\n",
    "        for j in range(q):\n",
    "                c[i][j] = sum(a[i][k]*b[k][j] for k in range(p))\n",
    "    return c\n",
    "\n",
    "def mapmat(f, a):\n",
    "    return [list(map(f, v)) for v in a]\n",
    " \n",
    "def ratmat(a):\n",
    "    return mapmat(Fraction, a)\n",
    " \n",
    "# As an example, compute the determinant and inverse of 3x3 magic square\n",
    " \n",
    "a = [[2, 9, 4], [7, 5, 3], [6, 1, 8]]\n",
    "b = [[1, 0, 0], [0, 1, 0], [0, 0, 1]]\n",
    "det, c = gauss(a, b)\n",
    " \n",
    "det\n",
    "-360.0\n",
    " \n",
    "c\n",
    "[[-0.10277777777777776, 0.18888888888888888, -0.019444444444444438],\n",
    "[0.10555555555555554, 0.02222222222222223, -0.061111111111111116],\n",
    "[0.0638888888888889, -0.14444444444444446, 0.14722222222222223]]\n",
    " \n",
    "# Check product\n",
    "matmul(a, c)\n",
    "[[1.0, 0.0, 0.0], [5.551115123125783e-17, 1.0, 0.0],\n",
    "[1.1102230246251565e-16, -2.220446049250313e-16, 1.0]]\n",
    " \n",
    "# Same with fractions, so the result is exact\n",
    " \n",
    "det, c = gauss(ratmat(a), ratmat(b))\n",
    " \n",
    "det\n",
    "Fraction(-360, 1)\n",
    " \n",
    "c\n",
    "[[Fraction(-37, 360), Fraction(17, 90), Fraction(-7, 360)],\n",
    "[Fraction(19, 180), Fraction(1, 45), Fraction(-11, 180)],\n",
    "[Fraction(23, 360), Fraction(-13, 90), Fraction(53, 360)]]\n",
    " \n",
    "matmul(a, c)\n",
    "[[Fraction(1, 1), Fraction(0, 1), Fraction(0, 1)],\n",
    "[Fraction(0, 1), Fraction(1, 1), Fraction(0, 1)],\n",
    "[Fraction(0, 1), Fraction(0, 1), Fraction(1, 1)]]"
   ]
  },
  {
   "cell_type": "code",
   "execution_count": null,
   "metadata": {},
   "outputs": [],
   "source": []
  }
 ],
 "metadata": {
  "kernelspec": {
   "display_name": "Python [conda env:dw]",
   "language": "python",
   "name": "conda-env-dw-py"
  },
  "language_info": {
   "codemirror_mode": {
    "name": "ipython",
    "version": 3
   },
   "file_extension": ".py",
   "mimetype": "text/x-python",
   "name": "python",
   "nbconvert_exporter": "python",
   "pygments_lexer": "ipython3",
   "version": "3.6.5"
  }
 },
 "nbformat": 4,
 "nbformat_minor": 2
}
