{
 "cells": [
  {
   "cell_type": "code",
   "execution_count": 1,
   "metadata": {},
   "outputs": [
    {
     "name": "stdout",
     "output_type": "stream",
     "text": [
      "0.289050497375\n",
      "16.0\n",
      "None\n"
     ]
    }
   ],
   "source": [
    "import math\n",
    "def combination(credit):\n",
    "    credit = (credit - 10.0)/20.0  # 3\n",
    "    out = 2.0*credit - 1.5\n",
    "    \n",
    "    return out\n",
    "\n",
    "def activation(a):\n",
    "    \n",
    "    probability = 1.0/(1 + math.exp(-a))\n",
    "    print(probability)\n",
    "    \n",
    "credit = 16.0\n",
    "output = activation( combination(credit) )  # 14\n",
    "print(credit)\n",
    "print(output)  # 16"
   ]
  },
  {
   "cell_type": "markdown",
   "metadata": {},
   "source": [
    "(a) A student calculates that when line 3 is executed, credit will have a value of 0.3. However, when line 15 is executed, he is surprised to see 16.0 displayed on the screen. Explain why this is the case. (4 points)\n",
    "\n",
    "- `credit` in the function `combination` refers to the function parameter `credit` from the local namespace, instead of the `credit` from the global namespace. This is because the local namespace takes precedence over the global namespace. Hence `credit` at line 3 is the assigned value resulting for the set of operations on the right. The change value of `credit` from the local namespace does not affect `credit` from the global namespace. Hence `credit` in the global namespace remains as `16.0` as is printed as such.\n",
    "\n",
    "> We have seen that multiple namespaces can exist independently from each other and that they can contain the same variable names on different hierachy levels. The “scope” defines on which hierarchy level Python searches for a particular “variable name” for its associated object. Now, the next question is: “In which order does Python search the different levels of namespaces before it finds the name-to-object’ mapping?”\n",
    "\n",
    "> To answer is: It uses the LEGB-rule, which stands for\n",
    "> Local -> Enclosed -> Global -> Built-in,\n",
    "> where the arrows should denote the direction of the namespace-hierarchy search order.\n",
    "> - Local can be inside a function or class method, for example.\n",
    "> - Enclosed can be its enclosing function, e.g., if a function is wrapped inside another function.\n",
    "> - Global refers to the uppermost level of the executing script itself, and\n",
    "> - Built-in are special names that Python reserves for itself.\n",
    ">\n",
    "> So, if a particular name:object mapping cannot be found in the local namespaces, the namespaces of the enclosed scope are being searched next. If the search in the enclosed scope is unsuccessful, too, Python moves on to the global namespace, and eventually, it will search the built-in namespace (side note: if a name cannot found in any of the namespaces, a NameError will is raised).\n",
    "\n",
    "(b) When line 14 is executed, describe the sequence of the function calls and how data is passed among these functions and back to the variable output.\n",
    "Hence, explain why when line 16 is executed, None is displayed on the screen. (6 points)\n",
    "\n",
    "- `activation` is called, but it requires an argument `a`\n",
    "- `combination` is called, and passes credit as a argument\n",
    "- `combination` returns `out`, which is passed into activation\n",
    "- `activation` only prints probability but does not return anything\n",
    "- `output` is `None`, and is printed as such in line 16.\n",
    "\n",
    "> A parameter is a variable in a method definition. When a method is called, the arguments are the data you pass into the method's parameters. Parameter is variable in the declaration of function. Argument is the actual value of this variable that gets passed to function."
   ]
  },
  {
   "cell_type": "code",
   "execution_count": 2,
   "metadata": {},
   "outputs": [
    {
     "ename": "SyntaxError",
     "evalue": "invalid syntax (<ipython-input-2-97f12515ea9e>, line 2)",
     "output_type": "error",
     "traceback": [
      "\u001b[0;36m  File \u001b[0;32m\"<ipython-input-2-97f12515ea9e>\"\u001b[0;36m, line \u001b[0;32m2\u001b[0m\n\u001b[0;31m    import import time  # error, double import\u001b[0m\n\u001b[0m                ^\u001b[0m\n\u001b[0;31mSyntaxError\u001b[0m\u001b[0;31m:\u001b[0m invalid syntax\n"
     ]
    }
   ],
   "source": [
    "from eBot import eBot\n",
    "import import time  # error, double import\n",
    "\n",
    "# Rotate and conquer\n",
    "def one_round(speed):  # no directional input\n",
    "    if direction = ‘clockwise’:  # wrong inverted comma\n",
    "        ebot.wheels(0,1) \n",
    "    elif direction = ‘counter clockwise’:  # wrong inverted comma\n",
    "        ebot.wheels(1,0)\n",
    "    time.sleep(2.5)\n",
    "    \n",
    "def rotate(times, direction):  # wrong inverted comma\n",
    "    print “Rotating “ + times + \\\n",
    "          “ times in direction: “ + direction  # where is the for loop?\n",
    "    for i in range(1,times):\n",
    "        one_round(speed)  # no directional input\n",
    "        \n",
    "ebot = eBot.eBot() # create an eBot object \n",
    "ebot.connect() # connect to the eBot via Bluetooth\n",
    "#Test case, this should rotate 3 full times clockwise... \n",
    "rotate(3, clockwise)\n",
    "#Prof! My code does not work!\n",
    "ebot.disconnect() # disconnect the Bluetooth communication"
   ]
  },
  {
   "cell_type": "code",
   "execution_count": 3,
   "metadata": {},
   "outputs": [],
   "source": [
    "import math\n",
    "\n",
    "def area_r_polygon(n,s):\n",
    "    return round(n*s**2/(4*math.tan(math.pi/n)),3)"
   ]
  },
  {
   "cell_type": "code",
   "execution_count": 4,
   "metadata": {},
   "outputs": [
    {
     "name": "stdout",
     "output_type": "stream",
     "text": [
      "Test case 1: n=5, s=6.5\n",
      "72.69\n",
      "Test case 2: n=7, s=3.25\n",
      "38.383\n",
      "Test case 3: n=2, s=12.5\n",
      "0.0\n"
     ]
    }
   ],
   "source": [
    "print('Test case 1: n=5, s=6.5')\n",
    "print(area_r_polygon(5, 6.5))\n",
    "print('Test case 2: n=7, s=3.25')\n",
    "print(area_r_polygon(7, 3.25))\n",
    "print('Test case 3: n=2, s=12.5')\n",
    "print(area_r_polygon(2, 12.5))"
   ]
  },
  {
   "cell_type": "code",
   "execution_count": 5,
   "metadata": {},
   "outputs": [],
   "source": [
    "def mysum(a,b,limit):\n",
    "    try:\n",
    "        if a >= limit or b >= limit or a <= 0 or b <= 0:\n",
    "            return 'Wrong input'\n",
    "        if type(a) != int or type(b) != int:\n",
    "            return 'Wrong input'\n",
    "    except:\n",
    "        return 'Wrong input'\n",
    "    sum_ = 0\n",
    "    for i in range(int(limit/a)+1):\n",
    "        if i*a < limit:\n",
    "            sum_ += i*a\n",
    "#             print(sum_)\n",
    "    for j in range(int(limit/b)+1):\n",
    "        if j*b < limit:\n",
    "            sum_ += j*b\n",
    "#             print(sum_)\n",
    "    for k in range(int(limit/(a*b))+1):\n",
    "        if k*a*b < limit:\n",
    "            sum_ -= k*a*b\n",
    "#             print(sum_)\n",
    "    return sum_\n",
    "            \n",
    "            "
   ]
  },
  {
   "cell_type": "code",
   "execution_count": 6,
   "metadata": {},
   "outputs": [
    {
     "name": "stdout",
     "output_type": "stream",
     "text": [
      "23\n",
      "34\n",
      "51\n",
      "1266\n",
      "3783486\n",
      "Wrong input\n",
      "Wrong input\n",
      "Wrong input\n",
      "Wrong input\n"
     ]
    }
   ],
   "source": [
    "print(mysum(3,5,10))\n",
    "print(mysum(2,4,12))\n",
    "print(mysum(3,3,15))\n",
    "print(mysum(7,9,100))\n",
    "print(mysum(21,34,10000))\n",
    "print(mysum(0,5,10))\n",
    "print(mysum(0.5,5,10))\n",
    "print(mysum(3,'x',10))\n",
    "print(mysum(2,3,0))  # this should print wrong input right?\n",
    "# The arguments a and b are integers greater than zero \n",
    "# and lesser than limit."
   ]
  },
  {
   "cell_type": "code",
   "execution_count": 7,
   "metadata": {},
   "outputs": [],
   "source": [
    "students = [(\"Alan\", [\"CompSci\", \"Physics\", \"Math\"]), \n",
    "            (\"Justin\", [\"Math\", \"CompSci\", \"Stats\"]),\n",
    "            (\"Edward\", [\"CompSci\", \"Philosophy\", \"Economics\"]),\n",
    "            (\"Margaret\", [\"InfSys\", \"Accounting\", \"Economics\", \"CommLaw\"]),\n",
    "            (\"Philip\", [\"Sociology\", \"Economics\", \"Law\", \"Stats\", \"Music\"]),\n",
    "            (\"Mary\", [\"Math\", \"CompSci\", \"Stats\"]),\n",
    "            (\"Vera\", [\"CompSci\", \"Philosophy\", \"Economics\"]),\n",
    "            (\"Mike\", [\"InfSys\", \"Accounting\", \"Economics\", \"CommLaw\"]),\n",
    "            (\"Donna\", [\"Sociology\", \"Economics\", \"Law\", \"Stats\"])]\n",
    "\n",
    "def get_students(students, subject):\n",
    "    lst = []\n",
    "    for i in range(len(students)):\n",
    "        if subject in students[i][1]: # students[i] is a tuple apparaently\n",
    "            lst.append(students[i][0])\n",
    "    return lst"
   ]
  },
  {
   "cell_type": "code",
   "execution_count": 8,
   "metadata": {},
   "outputs": [
    {
     "name": "stdout",
     "output_type": "stream",
     "text": [
      "['Edward', 'Vera']\n",
      "[]\n",
      "['Alan', 'Justin', 'Mary']\n",
      "['Alan', 'Justin', 'Edward', 'Mary', 'Vera']\n"
     ]
    }
   ],
   "source": [
    "print(get_students(students, 'Philosophy'))\n",
    "print(get_students(students, 'History'))\n",
    "print(get_students(students, 'Math'))\n",
    "print(get_students(students, 'CompSci'))"
   ]
  },
  {
   "cell_type": "code",
   "execution_count": 9,
   "metadata": {},
   "outputs": [
    {
     "ename": "NameError",
     "evalue": "name 'get_nodes' is not defined",
     "output_type": "error",
     "traceback": [
      "\u001b[0;31m---------------------------------------------------------------------------\u001b[0m",
      "\u001b[0;31mNameError\u001b[0m                                 Traceback (most recent call last)",
      "\u001b[0;32m<ipython-input-9-bf994d3e16b2>\u001b[0m in \u001b[0;36m<module>\u001b[0;34m()\u001b[0m\n\u001b[1;32m      1\u001b[0m \u001b[0mf\u001b[0m\u001b[0;34m=\u001b[0m\u001b[0mopen\u001b[0m\u001b[0;34m(\u001b[0m\u001b[0;34m'facebook_less.txt'\u001b[0m\u001b[0;34m,\u001b[0m\u001b[0;34m'r'\u001b[0m\u001b[0;34m)\u001b[0m\u001b[0;34m\u001b[0m\u001b[0m\n\u001b[0;32m----> 2\u001b[0;31m \u001b[0mnodes\u001b[0m\u001b[0;34m=\u001b[0m \u001b[0mget_nodes\u001b[0m\u001b[0;34m(\u001b[0m\u001b[0mf\u001b[0m\u001b[0;34m)\u001b[0m\u001b[0;34m\u001b[0m\u001b[0m\n\u001b[0m\u001b[1;32m      3\u001b[0m \u001b[0mG\u001b[0m\u001b[0;34m=\u001b[0m \u001b[0mcreate_graph\u001b[0m\u001b[0;34m(\u001b[0m\u001b[0mnodes\u001b[0m\u001b[0;34m)\u001b[0m\u001b[0;34m\u001b[0m\u001b[0m\n\u001b[1;32m      4\u001b[0m \u001b[0;32mprint\u001b[0m \u001b[0;34m'Friends of 1 from facebook_less.txt'\u001b[0m\u001b[0;34m\u001b[0m\u001b[0m\n\u001b[1;32m      5\u001b[0m \u001b[0;32mprint\u001b[0m \u001b[0mget_friends\u001b[0m\u001b[0;34m(\u001b[0m\u001b[0mG\u001b[0m\u001b[0;34m,\u001b[0m\u001b[0;36m1\u001b[0m\u001b[0;34m)\u001b[0m\u001b[0;34m\u001b[0m\u001b[0m\n",
      "\u001b[0;31mNameError\u001b[0m: name 'get_nodes' is not defined"
     ]
    }
   ],
   "source": [
    "f=open('facebook_less.txt','r')\n",
    "nodes= get_nodes(f)\n",
    "G= create_graph(nodes)\n",
    "print 'Friends of 1 from facebook_less.txt'\n",
    "print get_friends(G,1)\n",
    "print 'Suggested new friends for 1'\n",
    "print suggested_new_friends(G,1)\n",
    "f.close()\n",
    "f=open('sutdbook1.txt','r')\n",
    "nodes= get_nodes(f)\n",
    "G= create_graph(nodes)\n",
    "print 'Friends of 0 from sutdbook1.txt'\n",
    "print get_friends(G,0)\n",
    "print 'Suggested new friends for 0'\n",
    "print suggested_new_friends(G,0)\n",
    "f.close()\n",
    "f=open('sutdbook2.txt','r')\n",
    "nodes= get_nodes(f)\n",
    "G= create_graph(nodes)\n",
    "print 'Friends of 0 from sutdbook2.txt'\n",
    "print get_friends(G,0)\n",
    "print 'Suggested new friends for 0'\n",
    "print suggested_new_friends(G,0)\n",
    "f.close()"
   ]
  },
  {
   "cell_type": "code",
   "execution_count": 10,
   "metadata": {},
   "outputs": [],
   "source": []
  },
  {
   "cell_type": "code",
   "execution_count": 11,
   "metadata": {},
   "outputs": [],
   "source": [
    "def get_nodes(fid):\n",
    "    lines = fid.readlines()\n",
    "    lines_s = [line.strip(\"\\n\") for line in lines]\n",
    "    lines_r = [line.strip(\"\\r\") for line in lines_s]\n",
    "    tuples_ = [line.split(\" \") for line in lines_r]\n",
    "    tuples_i = [tuple([int(number) for number in pair]) for pair in tuples_]    \n",
    "#     print(tuples_i)\n",
    "    return tuples_i"
   ]
  },
  {
   "cell_type": "code",
   "execution_count": 25,
   "metadata": {},
   "outputs": [
    {
     "name": "stdout",
     "output_type": "stream",
     "text": [
      "[(0, 1), (0, 2), (0, 3), (1, 48), (1, 53)]\n"
     ]
    }
   ],
   "source": [
    "f=open('sutdbook1.txt','r')\n",
    "nodes=get_nodes(f)\n",
    "print(result)"
   ]
  },
  {
   "cell_type": "code",
   "execution_count": 42,
   "metadata": {},
   "outputs": [
    {
     "name": "stdout",
     "output_type": "stream",
     "text": [
      "{0: {1: 1, 2: 1, 3: 1}, 1: {0: 1, 48: 1, 53: 1}, 2: {0: 1}, 3: {0: 1}, 48: {1: 1}, 53: {1: 1}}\n"
     ]
    }
   ],
   "source": [
    "def create_nodes(nodes):\n",
    "    ans = {}\n",
    "    for edge in nodes:\n",
    "        if edge[0] not in ans:\n",
    "            ans[edge[0]] = {edge[1]:1}\n",
    "        if edge[1] not in ans[edge[0]]:\n",
    "            ans[edge[0]][edge[1]] = 1\n",
    "        if edge[1] not in ans:\n",
    "            ans[edge[1]] = {edge[0]:1}\n",
    "        elif edge[0] not in ans[edge[1]]:\n",
    "            ans[edge[1]][edge[0]] = 1\n",
    "    return ans\n",
    "\n",
    "print(create_nodes(nodes))"
   ]
  },
  {
   "cell_type": "code",
   "execution_count": 32,
   "metadata": {},
   "outputs": [],
   "source": [
    "G={0: {1:1, 2:1, 3:1},\n",
    "   1: {0:1, 48: 1, 53:1},\n",
    "   2: {0:1},\n",
    "   3: {0:1},\n",
    "   48:{1:1},\n",
    "   53:{1:1}}"
   ]
  },
  {
   "cell_type": "code",
   "execution_count": 14,
   "metadata": {},
   "outputs": [
    {
     "name": "stdout",
     "output_type": "stream",
     "text": [
      "[1, 2, 3]\n",
      "[0, 48, 53]\n",
      "[0]\n"
     ]
    }
   ],
   "source": [
    "def get_friends(G,user):\n",
    "    return list(G[user])\n",
    "\n",
    "print(get_friends(G,0))\n",
    "print(get_friends(G,1))\n",
    "print(get_friends(G,2))"
   ]
  },
  {
   "cell_type": "code",
   "execution_count": 15,
   "metadata": {},
   "outputs": [],
   "source": [
    "def most_frequent(lst):\n",
    "    count_dict = {}\n",
    "    for i in lst:\n",
    "        if count_dict.get(i) == None:\n",
    "            count_dict.update({i : lst.count(i)})\n",
    "    return [x for x in count_dict.keys() if count_dict[x] == max(count_dict.values())], max(count_dict.values())\n",
    "\n",
    "def suggested_new_friends(G,node):\n",
    "    friends_list = get_friends(G,node)\n",
    "    friend_friend_list = []\n",
    "    for friend_friend in friends_list:\n",
    "        for friend_friend in get_friends(G,friend_friend):\n",
    "            if friend_friend != node:\n",
    "                friend_friend_list.append(friend_friend)\n",
    "    return most_frequent(friend_friend_list)\n",
    "\n"
   ]
  },
  {
   "cell_type": "code",
   "execution_count": 16,
   "metadata": {},
   "outputs": [
    {
     "data": {
      "text/plain": [
       "([5], 3)"
      ]
     },
     "execution_count": 16,
     "metadata": {},
     "output_type": "execute_result"
    }
   ],
   "source": [
    "G={0:{1:1, 2:1, 3:1}, \n",
    "   1:{0:1, 5:1, 6:1, 7:1}, \n",
    "   2:{0:1, 5:1, 7:1}, \n",
    "   3:{0:1, 4:1, 5:1}, \n",
    "   4:{3:1}, \n",
    "   5:{1:1, 2:1, 3:1}, \n",
    "   6:{1:1}, \n",
    "   7:{1:1, 2:1}}\n",
    "\n",
    "suggested_new_friends(G,0)"
   ]
  },
  {
   "cell_type": "code",
   "execution_count": 17,
   "metadata": {},
   "outputs": [],
   "source": [
    "def num_of_sol_given_number(n,b):\n",
    "    if b == 1:\n",
    "        return 1\n",
    "    if n == 1:\n",
    "        return b\n",
    "    if n == 0:\n",
    "        return 1\n",
    "    return sum([num_of_sol_given_number(n-m,b-1) for m in range(n+1)])\n",
    "\n",
    "def num_of_sol(n):\n",
    "    return num_of_sol_given_number(n,5)\n",
    "    "
   ]
  },
  {
   "cell_type": "code",
   "execution_count": 22,
   "metadata": {},
   "outputs": [
    {
     "name": "stdout",
     "output_type": "stream",
     "text": [
      "35\n",
      "70\n",
      "22533126\n",
      "Time taken by MBP 2017: 3.94823217392s\n"
     ]
    }
   ],
   "source": [
    "print(num_of_sol(3))\n",
    "print(num_of_sol(4))\n",
    "\n",
    "import time\n",
    "time_ = time.time()\n",
    "print(num_of_sol(150))\n",
    "print(\"Time taken by MBP 2017: {}s\".format(time.time() - time_))"
   ]
  },
  {
   "cell_type": "code",
   "execution_count": null,
   "metadata": {},
   "outputs": [],
   "source": []
  }
 ],
 "metadata": {
  "kernelspec": {
   "display_name": "Python 2",
   "language": "python",
   "name": "python2"
  },
  "language_info": {
   "codemirror_mode": {
    "name": "ipython",
    "version": 2
   },
   "file_extension": ".py",
   "mimetype": "text/x-python",
   "name": "python",
   "nbconvert_exporter": "python",
   "pygments_lexer": "ipython2",
   "version": "2.7.14"
  }
 },
 "nbformat": 4,
 "nbformat_minor": 2
}
