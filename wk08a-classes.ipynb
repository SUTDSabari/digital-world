{
 "cells": [
  {
   "cell_type": "code",
   "execution_count": 1,
   "metadata": {},
   "outputs": [
    {
     "name": "stdout",
     "output_type": "stream",
     "text": [
      "/anaconda3/envs/dw/bin/python\r\n"
     ]
    }
   ],
   "source": [
    "!which python\n"
   ]
  },
  {
   "cell_type": "code",
   "execution_count": 2,
   "metadata": {},
   "outputs": [
    {
     "ename": "SyntaxError",
     "evalue": "Missing parentheses in call to 'print'. Did you mean print(x)? (<ipython-input-2-0b640320f694>, line 1)",
     "output_type": "error",
     "traceback": [
      "\u001b[0;36m  File \u001b[0;32m\"<ipython-input-2-0b640320f694>\"\u001b[0;36m, line \u001b[0;32m1\u001b[0m\n\u001b[0;31m    print x\u001b[0m\n\u001b[0m          ^\u001b[0m\n\u001b[0;31mSyntaxError\u001b[0m\u001b[0;31m:\u001b[0m Missing parentheses in call to 'print'. Did you mean print(x)?\n"
     ]
    }
   ],
   "source": [
    "print x"
   ]
  },
  {
   "cell_type": "markdown",
   "metadata": {},
   "source": [
    "https://stackoverflow.com/questions/3931541/how-to-check-if-all-of-the-following-items-are-in-a-list\n",
    "\n",
    "Both ways aren't correct or incorrect, they are just two different kind of class elements:\n",
    "\n",
    "Elements outside the __init__ method are static elements, it means, they belong to the class.\n",
    "Elements inside the __init__ method are elements of the object (self), they don't belong to the class.\n",
    "You'll see it more clearly with some code:"
   ]
  },
  {
   "cell_type": "code",
   "execution_count": 1,
   "metadata": {},
   "outputs": [
    {
     "name": "stdout",
     "output_type": "stream",
     "text": [
      "John called the 1th time\n",
      "Visitor 2 called the 1th time\n",
      "John called the 2th time\n",
      "Marina called the 2th time\n",
      "Visitor 3 called the 1th time\n"
     ]
    }
   ],
   "source": [
    "class Visitor:\n",
    "    visitor_counter = 1\n",
    "    \n",
    "    def __init__(self, name = None):\n",
    "        if name == None:\n",
    "            Visitor.visitor_counter += 1\n",
    "            name = \"Visitor {}\".format(Visitor.visitor_counter)\n",
    "        self.name = name\n",
    "        self.call_counter = 0\n",
    "        \n",
    "    def setName(self, name):\n",
    "        self.name = name\n",
    "        \n",
    "    def __call__(self):\n",
    "        self.call_counter += 1\n",
    "        return \"{} called the {}th time\".format(self.name, self.call_counter)\n",
    "    \n",
    "v1=Visitor('John')\n",
    "print(v1())\n",
    "# John called the 1th time.\n",
    "v2=Visitor()\n",
    "print(v2())\n",
    "# Visitor 2 called the 1th time.\n",
    "print(v1())\n",
    "# John called the 2th time.\n",
    "v2.setName('Marina')\n",
    "print(v2())\n",
    "# Marina called the 2th time.\n",
    "v3=Visitor()\n",
    "print(v3())\n",
    "# Visitor 3 called the 1th time."
   ]
  },
  {
   "cell_type": "code",
   "execution_count": 3,
   "metadata": {},
   "outputs": [
    {
     "name": "stdout",
     "output_type": "stream",
     "text": [
      "x = 3, y = 2 check\n",
      "x = 3.5, y = 2.3 check\n",
      "True\n",
      "x = 0, y = 0 check\n",
      "True\n"
     ]
    }
   ],
   "source": [
    "class Coordinate: # there is no parentheses here\n",
    "    \n",
    "    def __init__(self,x = 0, y = 0):\n",
    "        self.x = x  # you need to initialise here\n",
    "        self.y = y\n",
    "    \n",
    "    def magnitude(self):\n",
    "        return (self.x**2. + self.y**2.)**0.5\n",
    "    \n",
    "    def translate(self,dx,dy):\n",
    "        # return Coordinate(x+dx, y+dy) # no need to define \n",
    "        self.x += dx\n",
    "        self.y += dy\n",
    "    \n",
    "    def __eq__(self, other):\n",
    "        # what is the default behaviour?\n",
    "        return self.x == other.x and self.y == other.y\n",
    "    \n",
    "    def __str__(self):\n",
    "        return \"x = {}, y = {} check\".format(self.x, self.y)\n",
    "    \n",
    "    def __lt__(self, other): # less than\n",
    "        # default behavior:\n",
    "        # TypeError: unorderable types: Coordinate() < Coordinate()\n",
    "        return self.x < other.x and self.y < other.y\n",
    "    \n",
    "p1 = Coordinate(3,2)\n",
    "print(p1)\n",
    "p1.translate(0.5,0.3)\n",
    "print(p1)\n",
    "p2 = Coordinate(3.5,2.3)\n",
    "print(p1 == p2)\n",
    "p3 = Coordinate()\n",
    "print(p3)\n",
    "print(p3 < p2)"
   ]
  },
  {
   "cell_type": "code",
   "execution_count": 7,
   "metadata": {},
   "outputs": [
    {
     "name": "stdout",
     "output_type": "stream",
     "text": [
      "setting\n",
      "calling setter\n",
      "getting\n",
      "calling getter\n",
      "-273\n"
     ]
    }
   ],
   "source": [
    "# apparently my cv environment gave the wrong values\n",
    "class Celsius:\n",
    "    \n",
    "    def __init__(self,temperature = 0): \n",
    "        self._temperature = temperature    \n",
    "        \n",
    "    def to_fahrenheit(self):\n",
    "        return self._temperature * 1.8 + 32.\n",
    "    \n",
    "    '''getter'''\n",
    "    def get_temperature(self):\n",
    "        print(\"calling getter\")\n",
    "        return self._temperature\n",
    "    \n",
    "    '''setter'''\n",
    "    def set_temperature(self,t):\n",
    "        print(\"calling setter\")\n",
    "        if t < -273:\n",
    "            t = -273\n",
    "            \n",
    "        self._temperature = t\n",
    "        \n",
    "    temperature = property(get_temperature,\n",
    "                          set_temperature)\n",
    "    \n",
    "t = Celsius(-300)\n",
    "print(\"setting\")\n",
    "t.temperature = -300\n",
    "print(\"getting\")\n",
    "print(t.temperature)"
   ]
  },
  {
   "cell_type": "code",
   "execution_count": 5,
   "metadata": {},
   "outputs": [],
   "source": [
    "import time\n",
    "\n",
    "class StopWatch:\n",
    "    def __init__(self):\n",
    "        self.start_time = 0\n",
    "        self.end_time = -1\n",
    "        self.start()\n",
    "        \n",
    "    def start(self):\n",
    "        self.start_time = time.time()\n",
    "        self.end_time = -1\n",
    "        \n",
    "    def stop(self):\n",
    "        self.end_time = time.time()\n",
    "        \n",
    "    def elapsed_time(self):\n",
    "        if self.end_time < 0:\n",
    "            return None\n",
    "        return round(self.end_time - self.start_time,2)"
   ]
  },
  {
   "cell_type": "code",
   "execution_count": null,
   "metadata": {},
   "outputs": [],
   "source": [
    "import numpy as np\n",
    "\n",
    "class Line:\n",
    "    def __init__(self, c0, c1):\n",
    "        self.c0 = c0\n",
    "        self.c1 = c1\n",
    "        \n",
    "    def __call__(self, x):\n",
    "        return self.c0 + self.c1*x\n",
    "    \n",
    "    def table(self, L, R, n):\n",
    "        if n == 0:\n",
    "            return \"Error in printing table\"\n",
    "        elif R == L or n == 1:\n",
    "            return \"{:10.2f}{:10.2f}\\n\".format(R,self. __call__(R)) * n\n",
    "        lines = []\n",
    "        for x in np.arange(L, R + 0.5*(R-L)/(n-1), (R-L)/(n-1)):\n",
    "            lines.append(\"{:10.2f}{:10.2f}\\n\".format(x,self. __call__(x)))\n",
    "        return \"\".join(lines)\n",
    "     "
   ]
  },
  {
   "cell_type": "code",
   "execution_count": null,
   "metadata": {},
   "outputs": [],
   "source": [
    "class Time:\n",
    "    def __init__(self, hours, minutes, seconds):\n",
    "        self._hours = hours\n",
    "        self._minutes = minutes\n",
    "        self._seconds = seconds\n",
    "        \n",
    "    def get_time(self):\n",
    "        return self._hours*3600 + self._minutes*60 + self._seconds\n",
    "    \n",
    "    def set_time(self, seconds_):\n",
    "        self._seconds = seconds_ % 60\n",
    "        self._minutes = int(((seconds_ - self._seconds) / 60) % 60)\n",
    "        self._hours = int((seconds_ - 60*self._minutes - self._seconds)/3600 % 24)\n",
    "\n",
    "    def __str__(self):\n",
    "        return \"Time: {:02d}:{:02d}:{:02d}\".format(self._hours,self._minutes,self._seconds)\n",
    "        \n",
    "    elapsed_time = property(get_time, set_time)\n",
    "         \n"
   ]
  },
  {
   "cell_type": "code",
   "execution_count": null,
   "metadata": {},
   "outputs": [],
   "source": [
    "class Polynomial(object):\n",
    "    def __init__(self, lst_ = []): \n",
    "        self.coeff = lst_\n",
    "        \n",
    "    def __call__(self, x):\n",
    "        return sum([self.coeff[a]*(x**a) for a in range(len(self.coeff))])\n",
    "            \n",
    "    def __add__(self, other):\n",
    "        if len(other.coeff) > len(self.coeff):\n",
    "            coeff = other.coeff[:]\n",
    "            for i in range(len(self.coeff)):\n",
    "                coeff[i] += self.coeff[i]\n",
    "        else:\n",
    "            coeff = self.coeff[:]\n",
    "            for i in range(len(other.coeff)):\n",
    "                self.coeff[i] += other.coeff[i]\n",
    "        return Polynomial(coeff)\n",
    "    \n",
    "    def __sub__(self, other):\n",
    "        if len(other.coeff) > len(self.coeff):\n",
    "            coeff = [-x for x in other.coeff]\n",
    "            for i in range(len(self.coeff)):\n",
    "                coeff[i] += self.coeff[i]\n",
    "        else:\n",
    "            coeff = [x for x in self.coeff]\n",
    "            for i in range(len(other.coeff)):\n",
    "                coeff[i] -= other.coeff[i]\n",
    "        return Polynomial(coeff)\n",
    "        \n",
    "    def __mul__(self, other):\n",
    "        coeff = [0]*(len(other.coeff)+len(self.coeff)-1)\n",
    "        for i in range(len(self.coeff)):\n",
    "            for j in range(len(other.coeff)):\n",
    "                coeff[i+j] += self.coeff[i]*other.coeff[j]\n",
    "        return Polynomial(coeff)\n",
    "        \n",
    "    def derivative(self):\n",
    "        return Polynomial([(i+1)*self.coeff[i+1] for i in range(len(self.coeff)-1)])\n",
    "    \n",
    "    def differentiate(self):\n",
    "        self.coeff = [(i+1)*self.coeff[i+1] for i in range(len(self.coeff)-1)]\n",
    "        return None\n",
    "        \n",
    "p1 = Polynomial ([1 , -1])\n",
    "p2 = Polynomial ([0 , 1 , 0 , 0 , -6 , -1])\n",
    "p3 = p1 + p2\n",
    "print(p3.coeff)\n",
    "p4 = p1 * p2\n",
    "print (p4.coeff)"
   ]
  },
  {
   "cell_type": "code",
   "execution_count": null,
   "metadata": {},
   "outputs": [],
   "source": [
    "class Diff:\n",
    "    def __init__(self, f, h = 1e-4):\n",
    "        self._f = f\n",
    "        self._h = h\n",
    "        \n",
    "    def __call__(self, x):\n",
    "        return (self._f(x+self._h) - self._f(x))/self._h"
   ]
  },
  {
   "cell_type": "code",
   "execution_count": null,
   "metadata": {},
   "outputs": [],
   "source": [
    "class Time:\n",
    "    def __init__(self, hours, minutes, seconds):\n",
    "        self._hours = hours\n",
    "        self._minutes = minutes\n",
    "        self._seconds = seconds\n",
    "        \n",
    "    def get_time(self):\n",
    "        return self._hours*3600 + self._minutes*60 + self._seconds\n",
    "    \n",
    "    def set_time(self, seconds_):\n",
    "        self._seconds = seconds_ % 60\n",
    "        self._minutes = int(((seconds_ - self._seconds) / 60) % 60)\n",
    "        self._hours = int((seconds_ - 60*self._minutes - self._seconds)/3600 % 24)\n",
    "\n",
    "    def __str__(self):\n",
    "        return \"Time: {:02d}:{:02d}:{:02d}\".format(self._hours,self._minutes,self._seconds)\n",
    "        \n",
    "    elapsed_time = property(get_time, set_time)\n",
    "         "
   ]
  },
  {
   "cell_type": "code",
   "execution_count": null,
   "metadata": {},
   "outputs": [],
   "source": [
    "class Triangle:\n",
    "    def __init__(self, color = \"green\", filled = True, side1 = 1.0, side2 = 1.0, side3 = 1.0):\n",
    "        self.color = color\n",
    "        self.filled = filled\n",
    "        self.side1 = side1\n",
    "        self.side2 = side2\n",
    "        self.side3 = side3\n",
    "        \n",
    "    def perimeter(self):\n",
    "        return self.side1 + self.side2 + self.side3\n",
    "        "
   ]
  },
  {
   "cell_type": "code",
   "execution_count": null,
   "metadata": {},
   "outputs": [],
   "source": [
    "# magic methods\n",
    "class Money:\n",
    "    def __init__(self, value):\n",
    "        self.value = value\n",
    "    \n",
    "    def __eq__(self, other):\n",
    "        return other.value == 2*self.value\n",
    "    \n",
    "# list of magic methods here:\n",
    "# file:///Users/hkmac/Desktop/python-3.6.4-docs-html/reference/datamodel.html\n",
    "\n",
    "print(Money(100) == Money(200))\n",
    "print(Money(200) == Money(100))\n",
    "print(Money(100) == Money(100))"
   ]
  }
 ],
 "metadata": {
  "kernelspec": {
   "display_name": "Python [conda env:dw]",
   "language": "python",
   "name": "conda-env-dw-py"
  },
  "language_info": {
   "codemirror_mode": {
    "name": "ipython",
    "version": 3
   },
   "file_extension": ".py",
   "mimetype": "text/x-python",
   "name": "python",
   "nbconvert_exporter": "python",
   "pygments_lexer": "ipython3",
   "version": "3.6.5"
  }
 },
 "nbformat": 4,
 "nbformat_minor": 2
}
