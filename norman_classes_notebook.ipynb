{
 "cells": [
  {
   "cell_type": "markdown",
   "metadata": {},
   "source": [
    "## 1. A list object can be initialized with a list() function\n",
    "\n",
    "like tuples and dictionaries, no input means an empty list"
   ]
  },
  {
   "cell_type": "code",
   "execution_count": 1,
   "metadata": {},
   "outputs": [
    {
     "name": "stdout",
     "output_type": "stream",
     "text": [
      "[]\n"
     ]
    }
   ],
   "source": [
    "my_list = list()\n",
    "print(my_list)"
   ]
  },
  {
   "cell_type": "markdown",
   "metadata": {},
   "source": [
    "## 2. you may pass inputs to your list() function, and that will initialize your list \n",
    "\n",
    "recall that objects store data, so lists store data! "
   ]
  },
  {
   "cell_type": "code",
   "execution_count": 8,
   "metadata": {},
   "outputs": [
    {
     "name": "stdout",
     "output_type": "stream",
     "text": [
      "[0, 1, 2, 3, 4, 5, 6, 7, 8, 9]\n",
      "[-20, -15, -10, -5, 0, 5, 10, 15, 20, 25, 30, 35, 40, 45, 50, 55, 60, 65, 70, 75, 80, 85]\n"
     ]
    }
   ],
   "source": [
    "my_list1 = list(range(10))\n",
    "my_list2 = list(range(-20,90,5))\n",
    "print(my_list1)\n",
    "print(my_list2)"
   ]
  },
  {
   "cell_type": "markdown",
   "metadata": {},
   "source": [
    "## 3. list have many methods attached to them\n",
    "\n",
    "### you have used append(), but there are others ... "
   ]
  },
  {
   "cell_type": "code",
   "execution_count": 7,
   "metadata": {},
   "outputs": [
    {
     "name": "stdout",
     "output_type": "stream",
     "text": [
      "my_list1 has 1 elements of zero\n",
      "the value of 10 is at index 6 in my_list2\n"
     ]
    }
   ],
   "source": [
    "print( 'my_list1 has', my_list1.count(0), 'elements of zero')\n",
    "print( 'the value of 10 is at index', my_list2.index(10),'in my_list2')"
   ]
  },
  {
   "cell_type": "markdown",
   "metadata": {},
   "source": [
    "## 4. you may compare lists"
   ]
  },
  {
   "cell_type": "markdown",
   "metadata": {},
   "source": [
    "You could say that one list is equal to another if the contents are identical.\n",
    "\n",
    "Question. What is the difference between the operators `==` and `is`? <br\\>\n",
    "`==` operator checks for <br\\>\n",
    "`is` operator checks for whether two objects point to the same location???"
   ]
  },
  {
   "cell_type": "code",
   "execution_count": 30,
   "metadata": {},
   "outputs": [
    {
     "name": "stdout",
     "output_type": "stream",
     "text": [
      "Equality operator: True\n",
      "is operator: False\n",
      "is operator: True\n"
     ]
    }
   ],
   "source": [
    "a1 = list(range(4))\n",
    "a2 = list(range(4))\n",
    "print( 'Equality operator:', a1 == a2)\n",
    "print('is operator:', a1 is a2)\n",
    "b = a2\n",
    "print('is operator:', b is a2)"
   ]
  },
  {
   "cell_type": "markdown",
   "metadata": {},
   "source": [
    "## Which operator checks if two variables point to the same object? \n",
    "\n",
    "### A.  `==` \n",
    "### B.  `is` (this one)"
   ]
  },
  {
   "cell_type": "markdown",
   "metadata": {},
   "source": [
    "### You could also check if list is less than another list"
   ]
  },
  {
   "cell_type": "code",
   "execution_count": 11,
   "metadata": {},
   "outputs": [
    {
     "name": "stdout",
     "output_type": "stream",
     "text": [
      "True\n"
     ]
    }
   ],
   "source": [
    "a1 = [10,20]\n",
    "a2 = [5,15]\n",
    "print( a2 < a1)"
   ]
  },
  {
   "cell_type": "markdown",
   "metadata": {},
   "source": [
    "### but what is to say these lists below are \"less than\" each other? \n",
    "we would have to define what is the meaning of \"less than\"\n",
    "\n",
    "IF AND ONLY IF THE FIRST ELEMMENT IS LESS"
   ]
  },
  {
   "cell_type": "code",
   "execution_count": 3,
   "metadata": {},
   "outputs": [
    {
     "name": "stdout",
     "output_type": "stream",
     "text": [
      "True\n",
      "False\n"
     ]
    }
   ],
   "source": [
    "aa = [10,20]\n",
    "bb = [5, 35]\n",
    "print( bb < aa )\n",
    "cc = [15, 15]\n",
    "print( cc < bb )"
   ]
  },
  {
   "cell_type": "markdown",
   "metadata": {},
   "source": [
    "### here is another extreme example "
   ]
  },
  {
   "cell_type": "code",
   "execution_count": 4,
   "metadata": {},
   "outputs": [
    {
     "name": "stdout",
     "output_type": "stream",
     "text": [
      "True\n"
     ]
    }
   ],
   "source": [
    "a = [6 , 9, 19, 29]\n",
    "b = [5 , 1000, 20000, 30000]\n",
    "print( b < a)"
   ]
  },
  {
   "cell_type": "markdown",
   "metadata": {},
   "source": [
    "# What you have learnt before "
   ]
  },
  {
   "cell_type": "markdown",
   "metadata": {},
   "source": [
    "## In problem set 1, you defined your own custom data type to represent a coordinate\n",
    "\n",
    "We recall that an \"object\" stores data. \n",
    "\n",
    "At this stage, data has not been stored yet, this is just a blueprint"
   ]
  },
  {
   "cell_type": "code",
   "execution_count": 22,
   "metadata": {
    "collapsed": true
   },
   "outputs": [],
   "source": [
    "class Coordinate:\n",
    "    x = 1\n",
    "    y = 2"
   ]
  },
  {
   "cell_type": "markdown",
   "metadata": {},
   "source": [
    "## Then with the following code, we are making two instances of the Coordinate class.\n",
    "\n",
    "This is called instantiation\n",
    "\n",
    "Analogy: in the cell above, you have a blueprint for a house (class definition), now you have built two houses (instantiation), each house has their own contents (each object contains different data)"
   ]
  },
  {
   "cell_type": "code",
   "execution_count": 25,
   "metadata": {},
   "outputs": [
    {
     "name": "stdout",
     "output_type": "stream",
     "text": [
      "1 2\n",
      "10 20\n"
     ]
    }
   ],
   "source": [
    "p1 = Coordinate()\n",
    "p2 = Coordinate()\n",
    "p2.x = 10\n",
    "p2.y = 20\n",
    "print(p1.x, p1.y)\n",
    "print(p2.x, p2.y)"
   ]
  },
  {
   "cell_type": "markdown",
   "metadata": {},
   "source": [
    "In Problem Set 2, you saw that you can write functions that take your custom objects as input\n",
    "\n",
    "in the function, you can access the object's attributes"
   ]
  },
  {
   "cell_type": "code",
   "execution_count": 28,
   "metadata": {
    "collapsed": true
   },
   "outputs": [],
   "source": [
    "'''shorter lines make for clearer code''' \n",
    "''' have just one pair of brackets''' \n",
    "from math import sqrt \n",
    "def area_of_triangle(p1,p2,p3):\n",
    "    side1 = (p1.x - p2.x)**2 + (p1.y - p2.y)**2\n",
    "    side1 = sqrt(side1)\n",
    "    side2 = (p1.x - p3.x)**2 + (p1.y - p3.y)**2\n",
    "    side2 = sqrt(side2)\n",
    "    side3 = (p2.x - p3.x)**2 + (p2.y - p3.y)**2\n",
    "    side3 = sqrt(side3)\n",
    "    \n",
    "    s = (side1 + side2 + side3)/2\n",
    "    a = s - side1\n",
    "    b = s - side2\n",
    "    c = s - side3\n",
    "    area = sqrt(s*a*b*c)\n",
    "    return area "
   ]
  },
  {
   "cell_type": "markdown",
   "metadata": {},
   "source": [
    "## Let's apply the print function to the coordinate. Not very informative, huh? "
   ]
  },
  {
   "cell_type": "code",
   "execution_count": 29,
   "metadata": {},
   "outputs": [
    {
     "name": "stdout",
     "output_type": "stream",
     "text": [
      "<__main__.Coordinate object at 0x10d66d470>\n"
     ]
    }
   ],
   "source": [
    "print(p1)"
   ]
  },
  {
   "cell_type": "markdown",
   "metadata": {},
   "source": [
    "## So what haven't we done? \n",
    "\n",
    "### Methods.\n",
    "You saw the list object (and strings and dictionaries) have methods attached to them. These methods operate on the data. --> We haven't written anything like that. \n",
    "\n",
    "### Operators \n",
    "You also saw that we can say one list object is less than, equal to another list object. The behaviour was rather strange though. --> We will also have to write methods for this. \n",
    "\n",
    "### Print \n",
    "We will make the printing of an object more informative. \n",
    "\n"
   ]
  },
  {
   "cell_type": "markdown",
   "metadata": {},
   "source": [
    "# CLASS\n",
    "\n",
    "## Previously you would ask: \n",
    "\n",
    "Given a pair of coordinates, how do we calculate the displacement? "
   ]
  },
  {
   "cell_type": "markdown",
   "metadata": {},
   "source": [
    "## Now we would ask: \n",
    "\n",
    "Given a pair of coordinates, what are some things we can do/calculate? "
   ]
  },
  {
   "cell_type": "markdown",
   "metadata": {},
   "source": [
    "# Anatomy \n",
    "\n",
    "## Initializer/Constructor \n",
    "\n",
    "this is where you initialize your instance variables  \n",
    "\n",
    "all python classes ought to start with this method \n",
    "\n",
    "## methods attached to the object\n",
    "\n",
    "this is where your design comes in\n",
    "\n",
    "## magic methods\n",
    "\n",
    "comparison methods (recall we could say one list is equal/less than another?) \n",
    "\n",
    "string conversion methods (recall we could apply the print function directly) "
   ]
  },
  {
   "cell_type": "code",
   "execution_count": 37,
   "metadata": {},
   "outputs": [],
   "source": [
    "class Coordinate: # there is no parentheses here\n",
    "    \n",
    "    def __init__(self,x = 0, y = 0):\n",
    "        self.x = x  # you need to initialise here\n",
    "        self.y = y\n",
    "    \n",
    "    def magnitude(self):\n",
    "        return (x**2. + y**2.)**0.5\n",
    "    \n",
    "    def translate(self,dx,dy):\n",
    "        # return Coordinate(x+dx, y+dy) # no need to define \n",
    "        self.x += dx\n",
    "        self.y += dy\n",
    "    \n",
    "    def __eq__(self, other):\n",
    "        # what is the default behaviour?\n",
    "        return self.x == other.x and self.y == other.y\n",
    "    \n",
    "    def __str__(self):\n",
    "        return \"x = {}, y = {} check\".format(self.x, self.y)\n",
    "    \n",
    "    def __lt__(self, other): # less than\n",
    "        # default behavior:\n",
    "        # TypeError: unorderable types: Coordinate() < Coordinate()\n",
    "        return self.x < other.x and self.y < other.y"
   ]
  },
  {
   "cell_type": "code",
   "execution_count": 38,
   "metadata": {},
   "outputs": [
    {
     "name": "stdout",
     "output_type": "stream",
     "text": [
      "x = 1, y = 3 check\n"
     ]
    }
   ],
   "source": [
    "p1 = Coordinate(1,3)\n",
    "print(p1)"
   ]
  },
  {
   "cell_type": "code",
   "execution_count": 39,
   "metadata": {},
   "outputs": [
    {
     "name": "stdout",
     "output_type": "stream",
     "text": [
      "x = 1.1, y = 3.5 check\n"
     ]
    }
   ],
   "source": [
    "p1.translate(0.1,0.5)\n",
    "print(p1)"
   ]
  },
  {
   "cell_type": "code",
   "execution_count": 40,
   "metadata": {},
   "outputs": [
    {
     "name": "stdout",
     "output_type": "stream",
     "text": [
      "True\n"
     ]
    }
   ],
   "source": [
    "p2 = Coordinate(1.1,3.5)\n",
    "print(p1 == p2)  # but then, don't compare float please"
   ]
  },
  {
   "cell_type": "code",
   "execution_count": 41,
   "metadata": {
    "scrolled": true
   },
   "outputs": [
    {
     "name": "stdout",
     "output_type": "stream",
     "text": [
      "False\n"
     ]
    }
   ],
   "source": [
    "p2 = Coordinate(1.1,3.5)\n",
    "print(p1 < p2)  # but then, don't compare float please"
   ]
  },
  {
   "cell_type": "code",
   "execution_count": 4,
   "metadata": {},
   "outputs": [],
   "source": [
    "class Celsius:\n",
    "    def __init__(self, temp = 0): \n",
    "        self._temperature = temp\n",
    "    \n",
    "    def to_fahrenheit(self):\n",
    "        return self._temperature * 1.8 + 32.\n",
    "    \n",
    "    '''getter'''\n",
    "    def get_temperature(self):\n",
    "        return self._temperature\n",
    "    \n",
    "    '''setter'''\n",
    "    def set_temperature(self,value):\n",
    "        if value < -273:\n",
    "            value = -273\n",
    "        self._temperature = value\n",
    "        \n",
    "    temperature = property(get_temperature, set_temperature)"
   ]
  },
  {
   "cell_type": "code",
   "execution_count": 5,
   "metadata": {},
   "outputs": [
    {
     "name": "stdout",
     "output_type": "stream",
     "text": [
      "0\n"
     ]
    }
   ],
   "source": [
    "c = Celsius()\n",
    "print(c.temperature)"
   ]
  },
  {
   "cell_type": "code",
   "execution_count": 3,
   "metadata": {},
   "outputs": [
    {
     "name": "stdout",
     "output_type": "stream",
     "text": [
      "-273\n"
     ]
    }
   ],
   "source": [
    "c.temperature = 32\n",
    "c.to_fahrenheit()\n",
    "c.temperature = -300\n",
    "print(c.temperature)"
   ]
  },
  {
   "cell_type": "code",
   "execution_count": 11,
   "metadata": {},
   "outputs": [],
   "source": [
    "import numpy as np\n",
    "\n",
    "class Line:\n",
    "    def __init__(self, c0, c1):\n",
    "        self.c0 = c0\n",
    "        self.c1 = c1\n",
    "        \n",
    "    def __call__(self, x):\n",
    "        return self.c0 + self.c1*x\n",
    "    \n",
    "    def table(self, L, R, n):\n",
    "        if n == 0:\n",
    "            return \"Error in printing table\"\n",
    "        elif R == L or n == 1:\n",
    "            return \"{:10.2f}{:10.2f}\\n\".format(R,self. __call__(R)) * n\n",
    "        lines = []\n",
    "        for x in np.arange(L, R + 0.5*(R-L)/(n-1), (R-L)/(n-1)):\n",
    "            lines.append(\"{:10.2f}{:10.2f}\\n\".format(x,self. __call__(x)))\n",
    "        return \"\".join(lines)\n",
    "     "
   ]
  },
  {
   "cell_type": "code",
   "execution_count": 12,
   "metadata": {},
   "outputs": [
    {
     "ename": "SyntaxError",
     "evalue": "invalid syntax (<ipython-input-12-625b1dc180ea>, line 1)",
     "output_type": "error",
     "traceback": [
      "\u001b[0;36m  File \u001b[0;32m\"<ipython-input-12-625b1dc180ea>\"\u001b[0;36m, line \u001b[0;32m1\u001b[0m\n\u001b[0;31m    Test case 1 : c0 = 1, c1 = 2, x = 2, L = 1, R = 5, N = 4\u001b[0m\n\u001b[0m            ^\u001b[0m\n\u001b[0;31mSyntaxError\u001b[0m\u001b[0;31m:\u001b[0m invalid syntax\n"
     ]
    }
   ],
   "source": [
    "Test case 1 : c0 = 1, c1 = 2, x = 2, L = 1, R = 5, N = 4\n",
    "ans = (5.0, ' 1.00 3.00\\n 2.33 5.67\\n 3.67 8.33\\n 5.00 11.00\\n')\n",
    "Test case 1 : c0 = 1, c1 = 2, x = 2, L = 1, R = 5, N = 4\n",
    "ans = (5, ' 1.00 3.00\\n 2.33 5.67\\n 3.67 8.33\\n 5.00 11.00\\n')\n",
    "Pass: True\n",
    "Error running test case: 0\n",
    "Test case 2 : c0 = -1, c1 = 2, x = 2, L = -1, R = 5, N = 10\n",
    "Test case 2 : c0 = -1, c1 = 2, x = 2, L = -1, R = 5, N = 10\n",
    "Error running test case: 1\n",
    "Test case 3 : c0 = 3, c1 = 4, x = 2, L = 1, R = 5, N = 15\n",
    "Test case 3 : c0 = 3, c1 = 4, x = 2, L = 1, R = 5, N = 15\n",
    "Pass: True\n",
    "Error running test case: 2\n",
    "Test case 4 : c0 = 3, c1 = 4, x = 2, L = 1, R = 1, N = 15\n",
    "Test case 4 : c0 = 3, c1 = 4, x = 2, L = 1, R = 1, N = 15"
   ]
  },
  {
   "cell_type": "code",
   "execution_count": null,
   "metadata": {},
   "outputs": [],
   "source": []
  },
  {
   "cell_type": "code",
   "execution_count": 15,
   "metadata": {},
   "outputs": [
    {
     "name": "stdout",
     "output_type": "stream",
     "text": [
      "Error in printing table\n"
     ]
    }
   ],
   "source": [
    "line = Line(2,2)\n",
    "print(line.table(-1,5,0))"
   ]
  },
  {
   "cell_type": "code",
   "execution_count": null,
   "metadata": {},
   "outputs": [],
   "source": []
  },
  {
   "cell_type": "code",
   "execution_count": null,
   "metadata": {},
   "outputs": [],
   "source": []
  }
 ],
 "metadata": {
  "kernelspec": {
   "display_name": "Python [default]",
   "language": "python",
   "name": "python3"
  },
  "language_info": {
   "codemirror_mode": {
    "name": "ipython",
    "version": 3
   },
   "file_extension": ".py",
   "mimetype": "text/x-python",
   "name": "python",
   "nbconvert_exporter": "python",
   "pygments_lexer": "ipython3",
   "version": "3.6.4"
  }
 },
 "nbformat": 4,
 "nbformat_minor": 2
}
