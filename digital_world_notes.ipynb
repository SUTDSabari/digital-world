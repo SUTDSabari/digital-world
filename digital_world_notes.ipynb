{
 "cells": [
  {
   "cell_type": "markdown",
   "metadata": {},
   "source": [
    "# Notes for digital world\n",
    "This is coming from someone who have spent quite a lot of time on Python already. Therefore, it is not meant as an introduction for beginners. This is mainly meant for myself. I will record the new things I have learnt during DW tutorials, and pointers that I should remember to avoid making inefficient errors."
   ]
  },
  {
   "cell_type": "markdown",
   "metadata": {},
   "source": [
    "You need to define your function first before calling it. Rough reason why: Python execute code line by line. Other \n",
    "programming language have similar rules too."
   ]
  },
  {
   "cell_type": "code",
   "execution_count": 1,
   "metadata": {
    "collapsed": true
   },
   "outputs": [],
   "source": [
    "# In Python the name convention is to separate words with underscores\n",
    "something_just_like_this = 10"
   ]
  },
  {
   "cell_type": "code",
   "execution_count": 2,
   "metadata": {},
   "outputs": [
    {
     "name": "stdout",
     "output_type": "stream",
     "text": [
      "1.6666666666666667\n",
      "1\n"
     ]
    }
   ],
   "source": [
    "# double upslash is floor division, btw\n",
    "print(5 / 3)\n",
    "print(5 // 3)"
   ]
  },
  {
   "cell_type": "code",
   "execution_count": 6,
   "metadata": {},
   "outputs": [
    {
     "name": "stdout",
     "output_type": "stream",
     "text": [
      "196608\n",
      "196608\n",
      "768\n"
     ]
    }
   ],
   "source": [
    "# order of exponentation \n",
    "print(2**2**4*3)\n",
    "print(2**(2**4)*3)\n",
    "print((2**2)**4*3)"
   ]
  },
  {
   "cell_type": "code",
   "execution_count": 1,
   "metadata": {
    "collapsed": true
   },
   "outputs": [],
   "source": [
    "#limit yourself to one pair of brackets per line"
   ]
  },
  {
   "cell_type": "code",
   "execution_count": 1,
   "metadata": {},
   "outputs": [
    {
     "name": "stdout",
     "output_type": "stream",
     "text": [
      "True\n",
      "True\n",
      "True\n",
      "True\n",
      "<class 'dict'>\n",
      "<class 'list'>\n"
     ]
    }
   ],
   "source": [
    "# To determine type of object\n",
    "# https://stackoverflow.com/questions/2225038/determine-the-type-of-an-object\n",
    "print(type([]) is list)\n",
    "print(type({}) is dict)\n",
    "print(type('') is str)\n",
    "print(type(0) is int)\n",
    "print(type({}))\n",
    "print(type([]))"
   ]
  },
  {
   "cell_type": "code",
   "execution_count": null,
   "metadata": {
    "collapsed": true
   },
   "outputs": [],
   "source": [
    "# Comparing with None on Python 3\n",
    "# https://stackoverflow.com/questions/2214194/is-everything-greater-than-none"
   ]
  },
  {
   "cell_type": "code",
   "execution_count": null,
   "metadata": {
    "collapsed": true
   },
   "outputs": [],
   "source": [
    "# inner functions\n",
    "# https://realpython.com/blog/python/inner-functions-what-are-they-good-for/"
   ]
  },
  {
   "cell_type": "code",
   "execution_count": 1,
   "metadata": {},
   "outputs": [
    {
     "name": "stdout",
     "output_type": "stream",
     "text": [
      "24\n"
     ]
    }
   ],
   "source": [
    "# making error handling happen only once in a recursive function\n",
    "def factorial(number):\n",
    "\n",
    "    # error handling\n",
    "    if not isinstance(number, int):\n",
    "        raise TypeError(\"Sorry. 'number' must be an integer.\")\n",
    "    if not number >= 0:\n",
    "        raise ValueError(\"Sorry. 'number' must be zero or positive.\")\n",
    "\n",
    "    def inner_factorial(number):\n",
    "        if number <= 1:\n",
    "            return 1\n",
    "        return number*inner_factorial(number-1)\n",
    "    return inner_factorial(number)\n",
    "\n",
    "# call the outer function\n",
    "print(factorial(4))"
   ]
  },
  {
   "cell_type": "code",
   "execution_count": 2,
   "metadata": {},
   "outputs": [
    {
     "name": "stdout",
     "output_type": "stream",
     "text": [
      "128\n",
      "243\n"
     ]
    }
   ],
   "source": [
    "# generate functions, and each of these functions are different\n",
    "def generate_power(number):\n",
    "    \"\"\"\n",
    "    Examples of use:\n",
    "\n",
    "    >>> raise_two = generate_power(2)\n",
    "    >>> raise_three = generate_power(3)\n",
    "    >>> print(raise_two(7))\n",
    "    128\n",
    "    >>> print(raise_three(5))\n",
    "    243\n",
    "    \"\"\"\n",
    "\n",
    "    # define the inner function ...\n",
    "    def nth_power(power):\n",
    "        return number ** power\n",
    "    # ... which is returned by the factory function\n",
    "\n",
    "    return nth_power\n",
    "\n",
    "raise_two = generate_power(2)\n",
    "raise_three = generate_power(3)\n",
    "print(raise_two(7))\n",
    "print(raise_three(5))"
   ]
  },
  {
   "cell_type": "code",
   "execution_count": null,
   "metadata": {
    "collapsed": true
   },
   "outputs": [],
   "source": [
    "# the lambda function\n",
    "# basically an inline function definition?\n",
    "# https://stackoverflow.com/questions/890128/why-are-python-lambdas-useful\n",
    "# http://math.andrej.com/2009/04/09/pythons-lambda-is-broken/"
   ]
  },
  {
   "cell_type": "code",
   "execution_count": 4,
   "metadata": {},
   "outputs": [
    {
     "name": "stdout",
     "output_type": "stream",
     "text": [
      "Once deleted, variables cannot be recovered. Proceed (y/[n])? y\n"
     ]
    }
   ],
   "source": [
    "# to reset\n",
    "%reset"
   ]
  },
  {
   "cell_type": "code",
   "execution_count": 5,
   "metadata": {},
   "outputs": [
    {
     "ename": "NameError",
     "evalue": "name 'time' is not defined",
     "output_type": "error",
     "traceback": [
      "\u001b[0;31m---------------------------------------------------------------------------\u001b[0m",
      "\u001b[0;31mNameError\u001b[0m                                 Traceback (most recent call last)",
      "\u001b[0;32m<ipython-input-5-e8f946b1a95c>\u001b[0m in \u001b[0;36m<module>\u001b[0;34m()\u001b[0m\n\u001b[1;32m      1\u001b[0m \u001b[0;32mfrom\u001b[0m \u001b[0mtime\u001b[0m \u001b[0;32mimport\u001b[0m \u001b[0msleep\u001b[0m\u001b[0;34m\u001b[0m\u001b[0m\n\u001b[0;32m----> 2\u001b[0;31m \u001b[0mtime\u001b[0m\u001b[0;34m.\u001b[0m\u001b[0msleep\u001b[0m\u001b[0;34m(\u001b[0m\u001b[0;36m1\u001b[0m\u001b[0;34m)\u001b[0m\u001b[0;34m\u001b[0m\u001b[0m\n\u001b[0m",
      "\u001b[0;31mNameError\u001b[0m: name 'time' is not defined"
     ]
    }
   ],
   "source": [
    "from time import sleep\n",
    "time.sleep(1)"
   ]
  },
  {
   "cell_type": "code",
   "execution_count": null,
   "metadata": {
    "collapsed": true
   },
   "outputs": [],
   "source": []
  }
 ],
 "metadata": {
  "kernelspec": {
   "display_name": "Python 3",
   "language": "python",
   "name": "python3"
  },
  "language_info": {
   "codemirror_mode": {
    "name": "ipython",
    "version": 3
   },
   "file_extension": ".py",
   "mimetype": "text/x-python",
   "name": "python",
   "nbconvert_exporter": "python",
   "pygments_lexer": "ipython3",
   "version": "3.5.2"
  }
 },
 "nbformat": 4,
 "nbformat_minor": 2
}
