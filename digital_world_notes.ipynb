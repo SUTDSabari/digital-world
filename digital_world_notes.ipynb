{
 "cells": [
  {
   "cell_type": "markdown",
   "metadata": {},
   "source": [
    "# Notes for digital world\n",
    "This is coming from someone who have spent quite a lot of time on Python already. Therefore, it is not meant as an introduction for beginners. This is mainly meant for myself. I will record the new things I have learnt during DW tutorials, and pointers that I should remember to avoid making inefficient errors."
   ]
  },
  {
   "cell_type": "markdown",
   "metadata": {},
   "source": [
    "You need to define your function first before calling it. Rough reason why: Python execute code line by line. Other \n",
    "programming language have similar rules too."
   ]
  },
  {
   "cell_type": "code",
   "execution_count": 1,
   "metadata": {
    "collapsed": true
   },
   "outputs": [],
   "source": [
    "# In Python the name convention is to separate words with underscores\n",
    "something_just_like_this = 10"
   ]
  },
  {
   "cell_type": "code",
   "execution_count": 2,
   "metadata": {},
   "outputs": [
    {
     "name": "stdout",
     "output_type": "stream",
     "text": [
      "1.6666666666666667\n",
      "1\n"
     ]
    }
   ],
   "source": [
    "# double upslash is floor division, btw\n",
    "print(5 / 3)\n",
    "print(5 // 3)"
   ]
  },
  {
   "cell_type": "code",
   "execution_count": 6,
   "metadata": {},
   "outputs": [
    {
     "name": "stdout",
     "output_type": "stream",
     "text": [
      "196608\n",
      "196608\n",
      "768\n"
     ]
    }
   ],
   "source": [
    "# order of exponentation \n",
    "print(2**2**4*3)\n",
    "print(2**(2**4)*3)\n",
    "print((2**2)**4*3)"
   ]
  },
  {
   "cell_type": "code",
   "execution_count": 1,
   "metadata": {
    "collapsed": true
   },
   "outputs": [],
   "source": [
    "#limit yourself to one pair of brackets per line"
   ]
  },
  {
   "cell_type": "code",
   "execution_count": null,
   "metadata": {
    "collapsed": true
   },
   "outputs": [],
   "source": []
  }
 ],
 "metadata": {
  "kernelspec": {
   "display_name": "Python 3",
   "language": "python",
   "name": "python3"
  },
  "language_info": {
   "codemirror_mode": {
    "name": "ipython",
    "version": 3
   },
   "file_extension": ".py",
   "mimetype": "text/x-python",
   "name": "python",
   "nbconvert_exporter": "python",
   "pygments_lexer": "ipython3",
   "version": "3.5.2"
  }
 },
 "nbformat": 4,
 "nbformat_minor": 2
}
