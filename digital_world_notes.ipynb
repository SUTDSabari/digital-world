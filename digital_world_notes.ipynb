{
 "cells": [
  {
   "cell_type": "markdown",
   "metadata": {},
   "source": [
    "# Notes for digital world\n",
    "This is coming from someone who have spent quite a lot of time on Python already. Therefore, it is not meant as an introduction for beginners. This is mainly meant for myself. I will record the new things I have learnt during DW tutorials, and pointers that I should remember to avoid making inefficient errors."
   ]
  },
  {
   "cell_type": "markdown",
   "metadata": {},
   "source": [
    "You need to define your function first before calling it. Rough reason why: Python execute code line by line. Other \n",
    "programming language have similar rules too."
   ]
  },
  {
   "cell_type": "code",
   "execution_count": 1,
   "metadata": {
    "collapsed": true
   },
   "outputs": [],
   "source": [
    "# In Python the name convention is to separate words with underscores\n",
    "something_just_like_this = 10"
   ]
  },
  {
   "cell_type": "code",
   "execution_count": 2,
   "metadata": {},
   "outputs": [
    {
     "name": "stdout",
     "output_type": "stream",
     "text": [
      "1.6666666666666667\n",
      "1\n"
     ]
    }
   ],
   "source": [
    "# double upslash is floor division, btw\n",
    "print(5 / 3)\n",
    "print(5 // 3)"
   ]
  },
  {
   "cell_type": "code",
   "execution_count": 3,
   "metadata": {},
   "outputs": [
    {
     "name": "stdout",
     "output_type": "stream",
     "text": [
      "196608\n",
      "196608\n",
      "768\n"
     ]
    }
   ],
   "source": [
    "# order of exponentation \n",
    "print(2**2**4*3)\n",
    "print(2**(2**4)*3)\n",
    "print((2**2)**4*3)"
   ]
  },
  {
   "cell_type": "code",
   "execution_count": 4,
   "metadata": {
    "collapsed": true
   },
   "outputs": [],
   "source": [
    "#limit yourself to one pair of brackets per line"
   ]
  },
  {
   "cell_type": "code",
   "execution_count": 5,
   "metadata": {},
   "outputs": [
    {
     "name": "stdout",
     "output_type": "stream",
     "text": [
      "True\n",
      "True\n",
      "True\n",
      "True\n",
      "<class 'dict'>\n",
      "<class 'list'>\n"
     ]
    }
   ],
   "source": [
    "# To determine type of object\n",
    "# https://stackoverflow.com/questions/2225038/determine-the-type-of-an-object\n",
    "print(type([]) is list)\n",
    "print(type({}) is dict)\n",
    "print(type('') is str)\n",
    "print(type(0) is int)\n",
    "print(type({}))\n",
    "print(type([]))"
   ]
  },
  {
   "cell_type": "code",
   "execution_count": 6,
   "metadata": {
    "collapsed": true
   },
   "outputs": [],
   "source": [
    "# Comparing with None on Python 3\n",
    "# https://stackoverflow.com/questions/2214194/is-everything-greater-than-none"
   ]
  },
  {
   "cell_type": "code",
   "execution_count": 7,
   "metadata": {
    "collapsed": true
   },
   "outputs": [],
   "source": [
    "# inner functions\n",
    "# https://realpython.com/blog/python/inner-functions-what-are-they-good-for/"
   ]
  },
  {
   "cell_type": "code",
   "execution_count": 8,
   "metadata": {},
   "outputs": [
    {
     "name": "stdout",
     "output_type": "stream",
     "text": [
      "24\n"
     ]
    }
   ],
   "source": [
    "# making error handling happen only once in a recursive function\n",
    "def factorial(number):\n",
    "\n",
    "    # error handling\n",
    "    if not isinstance(number, int):\n",
    "        raise TypeError(\"Sorry. 'number' must be an integer.\")\n",
    "    if not number >= 0:\n",
    "        raise ValueError(\"Sorry. 'number' must be zero or positive.\")\n",
    "\n",
    "    def inner_factorial(number):\n",
    "        if number <= 1:\n",
    "            return 1\n",
    "        return number*inner_factorial(number-1)\n",
    "    return inner_factorial(number)\n",
    "\n",
    "# call the outer function\n",
    "print(factorial(4))"
   ]
  },
  {
   "cell_type": "code",
   "execution_count": 9,
   "metadata": {},
   "outputs": [
    {
     "name": "stdout",
     "output_type": "stream",
     "text": [
      "128\n",
      "243\n"
     ]
    }
   ],
   "source": [
    "# generate functions, and each of these functions are different\n",
    "def generate_power(number):\n",
    "    \"\"\"\n",
    "    Examples of use:\n",
    "\n",
    "    >>> raise_two = generate_power(2)\n",
    "    >>> raise_three = generate_power(3)\n",
    "    >>> print(raise_two(7))\n",
    "    128\n",
    "    >>> print(raise_three(5))\n",
    "    243\n",
    "    \"\"\"\n",
    "\n",
    "    # define the inner function ...\n",
    "    def nth_power(power):\n",
    "        return number ** power\n",
    "    # ... which is returned by the factory function\n",
    "\n",
    "    return nth_power\n",
    "\n",
    "raise_two = generate_power(2)\n",
    "raise_three = generate_power(3)\n",
    "print(raise_two(7))\n",
    "print(raise_three(5))"
   ]
  },
  {
   "cell_type": "code",
   "execution_count": 10,
   "metadata": {
    "collapsed": true
   },
   "outputs": [],
   "source": [
    "# the lambda function\n",
    "# basically an inline function definition?\n",
    "# https://stackoverflow.com/questions/890128/why-are-python-lambdas-useful\n",
    "# http://math.andrej.com/2009/04/09/pythons-lambda-is-broken/"
   ]
  },
  {
   "cell_type": "code",
   "execution_count": 11,
   "metadata": {},
   "outputs": [
    {
     "name": "stdout",
     "output_type": "stream",
     "text": [
      "Once deleted, variables cannot be recovered. Proceed (y/[n])? \n",
      "Nothing done.\n"
     ]
    }
   ],
   "source": [
    "# to reset\n",
    "%reset"
   ]
  },
  {
   "cell_type": "code",
   "execution_count": 12,
   "metadata": {},
   "outputs": [
    {
     "ename": "NameError",
     "evalue": "name 'time' is not defined",
     "output_type": "error",
     "traceback": [
      "\u001b[0;31m---------------------------------------------------------------------------\u001b[0m",
      "\u001b[0;31mNameError\u001b[0m                                 Traceback (most recent call last)",
      "\u001b[0;32m<ipython-input-12-e8f946b1a95c>\u001b[0m in \u001b[0;36m<module>\u001b[0;34m()\u001b[0m\n\u001b[1;32m      1\u001b[0m \u001b[0;32mfrom\u001b[0m \u001b[0mtime\u001b[0m \u001b[0;32mimport\u001b[0m \u001b[0msleep\u001b[0m\u001b[0;34m\u001b[0m\u001b[0m\n\u001b[0;32m----> 2\u001b[0;31m \u001b[0mtime\u001b[0m\u001b[0;34m.\u001b[0m\u001b[0msleep\u001b[0m\u001b[0;34m(\u001b[0m\u001b[0;36m1\u001b[0m\u001b[0;34m)\u001b[0m\u001b[0;34m\u001b[0m\u001b[0m\n\u001b[0m",
      "\u001b[0;31mNameError\u001b[0m: name 'time' is not defined"
     ]
    }
   ],
   "source": [
    "from time import sleep\n",
    "time.sleep(1)"
   ]
  },
  {
   "cell_type": "code",
   "execution_count": null,
   "metadata": {
    "collapsed": true
   },
   "outputs": [],
   "source": []
  },
  {
   "cell_type": "code",
   "execution_count": 13,
   "metadata": {},
   "outputs": [
    {
     "ename": "NameError",
     "evalue": "name 'y1' is not defined",
     "output_type": "error",
     "traceback": [
      "\u001b[0;31m---------------------------------------------------------------------------\u001b[0m",
      "\u001b[0;31mNameError\u001b[0m                                 Traceback (most recent call last)",
      "\u001b[0;32m<ipython-input-13-a5c57edebcb8>\u001b[0m in \u001b[0;36m<module>\u001b[0;34m()\u001b[0m\n\u001b[1;32m      1\u001b[0m \u001b[0;32mimport\u001b[0m \u001b[0mcopy\u001b[0m\u001b[0;34m\u001b[0m\u001b[0m\n\u001b[1;32m      2\u001b[0m \u001b[0;31m# create an entirely new set of object that is entirely identical\u001b[0m\u001b[0;34m\u001b[0m\u001b[0;34m\u001b[0m\u001b[0m\n\u001b[0;32m----> 3\u001b[0;31m \u001b[0my2\u001b[0m\u001b[0;34m=\u001b[0m\u001b[0mcopy\u001b[0m\u001b[0;34m.\u001b[0m\u001b[0mdeepcopy\u001b[0m\u001b[0;34m(\u001b[0m\u001b[0my1\u001b[0m\u001b[0;34m)\u001b[0m\u001b[0;34m\u001b[0m\u001b[0m\n\u001b[0m",
      "\u001b[0;31mNameError\u001b[0m: name 'y1' is not defined"
     ]
    }
   ],
   "source": [
    "import copy\n",
    "# create an entirely new set of object that is entirely identical\n",
    "y2=copy.deepcopy(y1)"
   ]
  },
  {
   "cell_type": "code",
   "execution_count": 14,
   "metadata": {
    "collapsed": true
   },
   "outputs": [],
   "source": [
    "# you can delete entries with this code\n",
    "l=[1,2,3]\n",
    "l[2:]=[] "
   ]
  },
  {
   "cell_type": "code",
   "execution_count": 15,
   "metadata": {},
   "outputs": [
    {
     "name": "stdout",
     "output_type": "stream",
     "text": [
      "Leonard Snart\n",
      "{'Mirror Master': 'Sam Scudder', 'Pied Piper': 'Thomas Peterson', 'Captain Cold': 'Leonard Snart', 'Weather Wizard': 'Mark Mardon'}\n",
      "4\n",
      "Hartley Rathaway\n",
      "dict_keys(['Mirror Master', 'Pied Piper', 'Captain Cold', 'Weather Wizard'])\n",
      "dict_values(['Sam Scudder', 'Hartley Rathaway', 'Leonard Snart', 'Mark Mardon'])\n",
      "[3]\n",
      "{1: 'new_1', 2: 'old_2', 3: 'new_3', '2': 'new_2', 'G': 'meh', 10: 'new_10'}\n"
     ]
    }
   ],
   "source": [
    "# DICTIONARY or MAP -------------\n",
    "# Made up of values with a unique key for each value\n",
    "# Similar to lists, but you can't join dicts with a +\n",
    "# KEY IS UNIQUE, VALUE IS NOT\n",
    " \n",
    "super_villains = {'Fiddler' : 'Isaac Bowin',\n",
    "                  'Captain Cold' : 'Leonard Snart',\n",
    "                  'Weather Wizard' : 'Mark Mardon',\n",
    "                  'Mirror Master' : 'Sam Scudder',\n",
    "                  'Pied Piper' : 'Thomas Peterson'}\n",
    " \n",
    "print(super_villains['Captain Cold'])\n",
    " \n",
    "# Delete an entry\n",
    "del super_villains['Fiddler']\n",
    "print(super_villains)\n",
    " \n",
    "# Replace a value\n",
    "super_villains['Pied Piper'] = 'Hartley Rathaway'\n",
    " \n",
    "# Print the number of items in the dictionary\n",
    "print(len(super_villains))\n",
    " \n",
    "# Get the value for the passed key\n",
    "print(super_villains.get(\"Pied Piper\"))\n",
    " \n",
    "# Get a list of dictionary keys\n",
    "print(super_villains.keys())\n",
    " \n",
    "# Get a list of dictionary values\n",
    "print(super_villains.values())\n",
    "\n",
    "def most_frequent(lst):\n",
    "    count_dict = {}\n",
    "    for i in lst:\n",
    "        if count_dict.get(i) == None:\n",
    "            count_dict.update({i : lst.count(i)})\n",
    "    return [x for x in count_dict.keys() if count_dict[x] == max(count_dict.values())]\n",
    "\n",
    "lst_1 = [2,3,40,3,5,4,-3,3,3,2,0]\n",
    "print(most_frequent(lst_1)) \n",
    "\n",
    "\n",
    "dict_ = {1:\"old_1\", 2:\"old_2\", 3:\"old_3\"}\n",
    "dict_[10] = \"new_10\"\n",
    "dict_[1] = \"new_1\"\n",
    "dict_.update({'G' : \"meh\", 3: \"new_3\", \"2\":\"new_2\"})\n",
    "print(dict_)\n",
    "\n",
    "\n",
    "# you can deepcopy a dictionary\n",
    "import copy\n",
    "\n",
    "def diff(p):\n",
    "    q = copy.deepcopy(p)\n",
    "    return None\n"
   ]
  },
  {
   "cell_type": "markdown",
   "metadata": {
    "collapsed": true
   },
   "source": [
    "## Python sets\n",
    "https://docs.python.org/2/library/sets.html\n",
    "Basically an unordered list."
   ]
  },
  {
   "cell_type": "code",
   "execution_count": 16,
   "metadata": {
    "collapsed": true
   },
   "outputs": [],
   "source": [
    "# some examples please\n",
    "# what is it for, anyway?"
   ]
  },
  {
   "cell_type": "markdown",
   "metadata": {
    "collapsed": true
   },
   "source": [
    "## np.vectorise\n",
    "https://docs.scipy.org/doc/numpy/reference/generated/numpy.vectorize.html\n"
   ]
  },
  {
   "cell_type": "code",
   "execution_count": null,
   "metadata": {
    "collapsed": true
   },
   "outputs": [],
   "source": []
  }
 ],
 "metadata": {
  "kernelspec": {
   "display_name": "Python 3",
   "language": "python",
   "name": "python3"
  },
  "language_info": {
   "codemirror_mode": {
    "name": "ipython",
    "version": 3
   },
   "file_extension": ".py",
   "mimetype": "text/x-python",
   "name": "python",
   "nbconvert_exporter": "python",
   "pygments_lexer": "ipython3",
   "version": "3.5.2"
  }
 },
 "nbformat": 4,
 "nbformat_minor": 2
}
