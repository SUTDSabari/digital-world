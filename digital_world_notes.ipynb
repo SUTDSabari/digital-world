{
 "cells": [
  {
   "cell_type": "markdown",
   "metadata": {},
   "source": [
    "# Notes for digital world\n",
    "This is coming from someone who have spent quite a lot of time on Python already. Therefore, it is not meant as an introduction for beginners. This is mainly meant for myself. I will record the new things I have learnt during DW tutorials, and pointers that I should remember to avoid making inefficient errors."
   ]
  },
  {
   "cell_type": "markdown",
   "metadata": {},
   "source": [
    "You need to define your function first before calling it. Rough reason why: Python execute code line by line. Other \n",
    "programming language have similar rules too."
   ]
  },
  {
   "cell_type": "markdown",
   "metadata": {
    "collapsed": true
   },
   "source": [
    "# Writing Conventions\n",
    "https://www.python.org/dev/peps/pep-0008/#class-names\n",
    "\n",
    "Class names should normally use the CapWords convention. \n",
    "\n",
    "Function names should be lowercase, with words separated by underscores as necessary to improve readability.\n",
    "Variable names follow the same convention as function names.\n",
    "\n",
    "Constants are usually defined on a module level and written in all capital letters with underscores separating words. Examples include `MAX_OVERFLOW` and `TOTAL`.\n",
    "\n",
    "Always use `self` for the first argument to instance methods. Always use `cls` for the first argument to class methods.\n",
    "\n",
    "In Python, single-quoted strings and double-quoted strings are the same. This PEP does not make a recommendation for this. Pick a rule and stick to it. When a string contains single or double quote characters, however, use the other one to avoid backslashes in the string. It improves readability.\n",
    "\n",
    "For triple-quoted strings, always use double quote characters to be consistent with the docstring convention in PEP 257.\n",
    "\n",
    "### Commenting\n",
    "\n",
    "Comments that contradict the code are worse than no comments. Always make a priority of keeping the comments up-to-date when the code changes!\n",
    "\n",
    "Comments should be complete sentences. The first word should be capitalized, unless it is an identifier that begins with a lower case letter (never alter the case of identifiers!).\n",
    "\n",
    "Block comments generally consist of one or more paragraphs built out of complete sentences, with each sentence ending in a period.\n",
    "\n",
    "You should use two spaces after a sentence-ending period in multi- sentence comments, except after the final sentence.\n",
    "\n",
    "When writing English, follow Strunk and White.\n",
    "\n",
    "Python coders from non-English speaking countries: please write your comments in English, unless you are 120% sure that the code will never be read by people who don't speak your language.\n"
   ]
  },
  {
   "cell_type": "code",
   "execution_count": 1,
   "metadata": {},
   "outputs": [],
   "source": [
    "something_just_like_this = 10"
   ]
  },
  {
   "cell_type": "markdown",
   "metadata": {},
   "source": [
    "# The order of exponentation \n",
    "Exponetation happens before multiplication"
   ]
  },
  {
   "cell_type": "code",
   "execution_count": 2,
   "metadata": {},
   "outputs": [
    {
     "name": "stdout",
     "output_type": "stream",
     "text": [
      "196608\n",
      "196608\n",
      "768\n"
     ]
    }
   ],
   "source": [
    "print(2**2**4*3)\n",
    "print(2**(2**4)*3)\n",
    "print((2**2)**4*3)"
   ]
  },
  {
   "cell_type": "markdown",
   "metadata": {},
   "source": [
    "# To determine type of object\n",
    "https://stackoverflow.com/questions/2225038/determine-the-type-of-an-object"
   ]
  },
  {
   "cell_type": "code",
   "execution_count": 3,
   "metadata": {},
   "outputs": [
    {
     "name": "stdout",
     "output_type": "stream",
     "text": [
      "True\n",
      "True\n",
      "True\n",
      "True\n",
      "<class 'dict'>\n",
      "<class 'list'>\n"
     ]
    }
   ],
   "source": [
    "print(type([]) is list)\n",
    "print(type({}) is dict)\n",
    "print(type('') is str)\n",
    "print(type(0) is int)\n",
    "print(type({}))\n",
    "print(type([]))"
   ]
  },
  {
   "cell_type": "markdown",
   "metadata": {
    "collapsed": true
   },
   "source": [
    "# Inner functions\n",
    "https://realpython.com/blog/python/inner-functions-what-are-they-good-for/"
   ]
  },
  {
   "cell_type": "code",
   "execution_count": 4,
   "metadata": {},
   "outputs": [
    {
     "name": "stdout",
     "output_type": "stream",
     "text": [
      "24\n"
     ]
    }
   ],
   "source": [
    "# making error handling happen only once in a recursive function\n",
    "def factorial(number):\n",
    "\n",
    "    # error handling\n",
    "    if not isinstance(number, int):\n",
    "        raise TypeError(\"Sorry. 'number' must be an integer.\")\n",
    "    if not number >= 0:\n",
    "        raise ValueError(\"Sorry. 'number' must be zero or positive.\")\n",
    "\n",
    "    def inner_factorial(number):\n",
    "        if number <= 1:\n",
    "            return 1\n",
    "        return number*inner_factorial(number-1)\n",
    "    return inner_factorial(number)\n",
    "\n",
    "# call the outer function\n",
    "print(factorial(4))"
   ]
  },
  {
   "cell_type": "code",
   "execution_count": 5,
   "metadata": {},
   "outputs": [
    {
     "name": "stdout",
     "output_type": "stream",
     "text": [
      "128\n",
      "243\n"
     ]
    }
   ],
   "source": [
    "# generate functions, and each of these functions are different\n",
    "def generate_power(number):\n",
    "    \"\"\"\n",
    "    Examples of use:\n",
    "\n",
    "    >>> raise_two = generate_power(2)\n",
    "    >>> raise_three = generate_power(3)\n",
    "    >>> print(raise_two(7))\n",
    "    128\n",
    "    >>> print(raise_three(5))\n",
    "    243\n",
    "    \"\"\"\n",
    "\n",
    "    # define the inner function ...\n",
    "    def nth_power(power):\n",
    "        return number ** power\n",
    "    # ... which is returned by the factory function\n",
    "\n",
    "    return nth_power\n",
    "\n",
    "raise_two = generate_power(2)\n",
    "raise_three = generate_power(3)\n",
    "print(raise_two(7))\n",
    "print(raise_three(5))"
   ]
  },
  {
   "cell_type": "markdown",
   "metadata": {
    "collapsed": true
   },
   "source": [
    "# The `lambda`  keyword\n",
    "basically an inline function definition?\n",
    "\n",
    "https://stackoverflow.com/questions/890128/why-are-python-lambdas-useful\n",
    "http://math.andrej.com/2009/04/09/pythons-lambda-is-broken/\n",
    "\n",
    "Are you talking about [lambda functions][1]? Like\n",
    "\n",
    "    lambda x: x**2 + 2*x - 5\n",
    "\n",
    "Those things are actually quite useful.  Python supports a style of programming called _functional programming_ where you can pass functions to other functions to do stuff. Example:\n",
    "\n",
    "    mult3 = filter(lambda x: x % 3 == 0, [1, 2, 3, 4, 5, 6, 7, 8, 9])\n",
    "\n",
    "sets `mult3` to `[3, 6, 9]`, those elements of the original list that are multiples of 3. This is shorter (and, one could argue, clearer) than\n",
    "\n",
    "    def filterfunc(x):\n",
    "        return x % 3 == 0\n",
    "    mult3 = filter(filterfunc, [1, 2, 3, 4, 5, 6, 7, 8, 9])\n",
    "\n",
    "Of course, in this particular case, you could do the same thing as a list comprehension:\n",
    "\n",
    "    mult3 = [x for x in [1, 2, 3, 4, 5, 6, 7, 8, 9] if x % 3 == 0]\n",
    "\n",
    "(or even as `range(3,10,3)`), but there are many other, more sophisticated use cases where you can't use a list comprehension and a lambda function may be the shortest way to write something out.\n",
    "\n",
    "- Returning a function from another function\n",
    "\n",
    "        >>> def transform(n):\n",
    "        ...     return lambda x: x + n\n",
    "        ...\n",
    "        >>> f = transform(3)\n",
    "        >>> f(4)\n",
    "        7\n",
    "\n",
    "    This is often used to create function wrappers, such as Python's decorators.\n",
    "- Combining elements of an iterable sequence with `reduce()`\n",
    "\n",
    "        >>> reduce(lambda a, b: '{}, {}'.format(a, b), [1, 2, 3, 4, 5, 6, 7, 8, 9])\n",
    "        '1, 2, 3, 4, 5, 6, 7, 8, 9'\n",
    "- Sorting by an alternate key\n",
    "\n",
    "        >>> sorted([1, 2, 3, 4, 5, 6, 7, 8, 9], key=lambda x: abs(5-x))\n",
    "        [5, 4, 6, 3, 7, 2, 8, 1, 9]\n",
    "\n",
    "I use lambda functions on a regular basis. It took me a while to get used to them, but eventually I came to understand that they're a very valuable part of the language.\n",
    "\n",
    "[1]: https://docs.python.org/3.5/tutorial/controlflow.html#lambda-expressions"
   ]
  },
  {
   "cell_type": "markdown",
   "metadata": {},
   "source": [
    "# Resetting on jupyter\n",
    "So you do not need to go to kernel something or use shortcuts"
   ]
  },
  {
   "cell_type": "code",
   "execution_count": 10,
   "metadata": {},
   "outputs": [
    {
     "name": "stdout",
     "output_type": "stream",
     "text": [
      "Once deleted, variables cannot be recovered. Proceed (y/[n])? \n",
      "Nothing done.\n"
     ]
    }
   ],
   "source": [
    "%reset"
   ]
  },
  {
   "cell_type": "code",
   "execution_count": 11,
   "metadata": {},
   "outputs": [],
   "source": [
    "# you can delete entries with this code\n",
    "l=[1,2,3]\n",
    "l[2:]=[] "
   ]
  },
  {
   "cell_type": "markdown",
   "metadata": {
    "collapsed": true
   },
   "source": [
    "## Python sets\n",
    "https://docs.python.org/2/library/sets.html\n",
    "Basically an unordered list."
   ]
  },
  {
   "cell_type": "code",
   "execution_count": 12,
   "metadata": {},
   "outputs": [],
   "source": [
    "# some examples please\n",
    "# what is it for, anyway?"
   ]
  },
  {
   "cell_type": "markdown",
   "metadata": {
    "collapsed": true
   },
   "source": [
    "## np.vectorise\n",
    "https://docs.scipy.org/doc/numpy/reference/generated/numpy.vectorize.html\n"
   ]
  },
  {
   "cell_type": "markdown",
   "metadata": {
    "collapsed": true
   },
   "source": [
    "## Difference between shallow copy and deep copy"
   ]
  },
  {
   "cell_type": "markdown",
   "metadata": {},
   "source": [
    "https://stackoverflow.com/questions/17246693/what-exactly-is-the-difference-between-shallow-copy-deepcopy-and-normal-assignm\n",
    "\n",
    "Normal assignment operations will simply point the new variable towards the existing object. The [docs](http://docs.python.org/2/library/copy.html) explain the difference between shallow and deep copies:\n",
    "\n",
    "> The difference between shallow and deep copying is only relevant for\n",
    "> compound objects (objects that contain other objects, like lists or\n",
    "> class instances):\n",
    "> \n",
    ">  - A shallow copy constructs a new compound object and then (to the    extent possible) inserts references into it to the objects found in the original.\n",
    ">\n",
    ">  - A deep copy constructs a new compound object and then, recursively,    inserts copies into it of the objects found in the\n",
    "> original.\n",
    "\n",
    "Here's a little demonstration:\n",
    "\n",
    "    import copy\n",
    "    \n",
    "    a = [1, 2, 3]\n",
    "    b = [4, 5, 6]\n",
    "    c = [a, b]\n",
    "\n",
    "Using normal assignment operatings to copy:\n",
    "\n",
    "    d = c\n",
    "    \n",
    "    print id(c) == id(d)          # True - d is the same object as c\n",
    "    print id(c[0]) == id(d[0])    # True - d[0] is the same object as c[0]\n",
    "\n",
    "Using a shallow copy:\n",
    "\n",
    "    d = copy.copy(c)\n",
    "    \n",
    "    print id(c) == id(d)          # False - d is now a new object\n",
    "    print id(c[0]) == id(d[0])    # True - d[0] is the same object as c[0]\n",
    "\n",
    "Using a deep copy:\n",
    "\n",
    "    d = copy.deepcopy(c)\n",
    "    \n",
    "    print id(c) == id(d)          # False - d is now a new object\n",
    "    print id(c[0]) == id(d[0])    # False - d[0] is now a new object"
   ]
  },
  {
   "cell_type": "markdown",
   "metadata": {},
   "source": [
    "https://stackoverflow.com/questions/38841875/copying-a-list-using-a-or-copy-in-python-is-shallow\n",
    "\n",
    "Apparently doing `d = c[:]` is a shallow copy\n",
    "\n",
    "\n",
    "    d = c[:]\n",
    "    \n",
    "    print id(c) == id(d)          # False - d is now a new object\n",
    "    print id(c[0]) == id(d[0])    # False - d[0] is now a new object\n",
    "\n"
   ]
  },
  {
   "cell_type": "markdown",
   "metadata": {},
   "source": [
    "# the `for-else` loop\n",
    "\n",
    "https://stackoverflow.com/questions/9979970/why-does-python-use-else-after-for-and-while-loops\n",
    "\n",
    "It's a strange construct even to seasoned Python coders. When used in conjunction with for-loops it basically means \"find some item in the iterable, else if none was found do ...\". As in:\n",
    "\n",
    "    found_obj = None\n",
    "    for obj in objects:\n",
    "        if obj.key == search_key:\n",
    "            found_obj = obj\n",
    "            break\n",
    "    else:\n",
    "        print 'No object found.'\n",
    "\n",
    "But anytime you see this construct, a better alternative is to either encapsulate the search in a function:\n",
    "\n",
    "    def find_obj(search_key):\n",
    "        for obj in objects:\n",
    "            if obj.key == search_key:\n",
    "                return obj\n",
    "\n",
    "Or use a list comprehension:\n",
    "\n",
    "    matching_objs = [o for o in objects if o.key == search_key]\n",
    "    if matching_objs:\n",
    "        print 'Found', matching_objs[0]\n",
    "    else:\n",
    "        print 'No object found.'\n",
    "\n",
    "It is not semantically equivalent to the other two versions, but works good enough in non-performance critical code where it doesn't matter whether you iterate the whole list or not. Others may disagree, but I personally would avoid ever using the for-else or while-else blocks in production code. \n",
    "\n",
    "See also [[Python-ideas] Summary of for...else threads][1]\n",
    "\n",
    "\n",
    "  [1]: http://mail.python.org/pipermail/python-ideas/2009-October/006155.html"
   ]
  },
  {
   "cell_type": "markdown",
   "metadata": {},
   "source": [
    "# the `while-else` loop"
   ]
  },
  {
   "cell_type": "code",
   "execution_count": 13,
   "metadata": {},
   "outputs": [
    {
     "name": "stdout",
     "output_type": "stream",
     "text": [
      "5\n",
      "4\n",
      "3\n",
      "2\n",
      "1\n",
      "what the...\n"
     ]
    }
   ],
   "source": [
    "n = 5\n",
    "while n != 0:\n",
    "    print(n)\n",
    "    n -= 1\n",
    "else:\n",
    "    print(\"what the...\")"
   ]
  },
  {
   "cell_type": "markdown",
   "metadata": {},
   "source": [
    "The else-clause is executed when the while-condition evaluates to false.\n",
    "\n",
    "\n",
    "From the [documentation][1]:\n",
    "\n",
    "> The while statement is used for repeated execution as long as an expression is true:\n",
    "\n",
    ">     while_stmt ::=  \"while\" expression \":\" suite\n",
    ">                     [\"else\" \":\" suite]\n",
    "\n",
    "> This repeatedly tests the expression and, if it is true, executes the first suite; if the expression is false (which may be the first time it is tested) the suite of the `else` clause, if present, is executed and the loop terminates.\n",
    "\n",
    "> A `break` statement executed in the first suite terminates the loop without executing the `else` clause’s suite. A `continue` statement executed in the first suite skips the rest of the suite and goes back to testing the expression.\n",
    "\n",
    "\n",
    "  [1]: https://docs.python.org/2/reference/compound_stmts.html#the-while-statement"
   ]
  },
  {
   "cell_type": "markdown",
   "metadata": {},
   "source": [
    "# What is the difference between `property` and attribute of a `class`?\n",
    "\n",
    "From piazza:\n",
    "> An attribute is a variable of a class. You can get or set variables.\n",
    "> A method is a function of a class. You can call functions.\n",
    "> A property acts like a variable of a class (attribute), but instead calls functions (methods) to do the actual work.\n",
    "> You can think of a property as methods \"pretending\" to be attributes. To do so, you need two functions (getter and setter) to mimic an attribute.\n",
    "\n",
    "https://stackoverflow.com/questions/7374748/whats-the-difference-between-a-python-property-and-attribute/7374811\n",
    "\n",
    "Properties are a special kind of attribute.  Basically, when Python encounters the following code:\n",
    "\n",
    "    spam = SomeObject()\n",
    "    print(spam.eggs)\n",
    "\n",
    "it looks up `eggs` in `spam`, and then examines `eggs` to see if it has a `__get__`, `__set__`, or `__delete__` method&thinsp;&mdash;&thinsp;if it does, it's a property.  If it *is* a property, instead of just returning the `eggs` object (as it would for any other attribute) it will call the `__get__` method (since we were doing lookup) and return whatever that method returns.\n",
    "\n",
    "More information about [Python's data model and descriptors](http://docs.python.org/reference/datamodel.html#implementing-descriptors)."
   ]
  },
  {
   "cell_type": "code",
   "execution_count": null,
   "metadata": {},
   "outputs": [],
   "source": []
  },
  {
   "cell_type": "code",
   "execution_count": null,
   "metadata": {},
   "outputs": [],
   "source": []
  }
 ],
 "metadata": {
  "kernelspec": {
   "display_name": "Python [conda env:dw]",
   "language": "python",
   "name": "conda-env-dw-py"
  },
  "language_info": {
   "codemirror_mode": {
    "name": "ipython",
    "version": 3
   },
   "file_extension": ".py",
   "mimetype": "text/x-python",
   "name": "python",
   "nbconvert_exporter": "python",
   "pygments_lexer": "ipython3",
   "version": "3.6.5"
  }
 },
 "nbformat": 4,
 "nbformat_minor": 2
}
