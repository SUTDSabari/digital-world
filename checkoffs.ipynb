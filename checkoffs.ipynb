{
 "cells": [
  {
   "cell_type": "markdown",
   "metadata": {},
   "source": [
    "# week 2 checkoff"
   ]
  },
  {
   "cell_type": "markdown",
   "metadata": {},
   "source": [
    "### question 3"
   ]
  },
  {
   "cell_type": "code",
   "execution_count": 1,
   "metadata": {},
   "outputs": [
    {
     "name": "stdout",
     "output_type": "stream",
     "text": [
      "Enter the number of minutes: 20\n"
     ]
    }
   ],
   "source": [
    "minutes = int(input(\"Enter the number of minutes: \"))"
   ]
  },
  {
   "cell_type": "code",
   "execution_count": 2,
   "metadata": {
    "collapsed": true
   },
   "outputs": [],
   "source": [
    "def minutes_to_years_days(minutes):\n",
    "\tyears = minutes // (60*24*365) \n",
    "\tdays = (minutes // (60*24)) % 365\n",
    "\treturn (years, days)"
   ]
  },
  {
   "cell_type": "code",
   "execution_count": 3,
   "metadata": {},
   "outputs": [
    {
     "name": "stdout",
     "output_type": "stream",
     "text": [
      "20 minutes is approximately 0 years and 0 days.\n"
     ]
    }
   ],
   "source": [
    "result = minutes_to_years_days(minutes)\n",
    "print(\"{} minutes is approximately {} years and {} days.\"\n",
    "      .format(minutes,result[0],result[1]))"
   ]
  },
  {
   "cell_type": "markdown",
   "metadata": {},
   "source": [
    "### question 4"
   ]
  },
  {
   "cell_type": "code",
   "execution_count": 4,
   "metadata": {
    "collapsed": true
   },
   "outputs": [],
   "source": [
    "from math import sqrt\n",
    "\n",
    "class Coordinate:\n",
    "    x = 0\n",
    "    y = 0\n",
    "\n",
    "def area_of_triangle(p1,p2,p3):\n",
    "\tline_1 = sqrt((p1.x - p2.x)**2. + (p1.y - p2.y)**2.)\n",
    "\tline_2 = sqrt((p2.x - p3.x)**2. + (p2.y - p3.y)**2.)\n",
    "\tline_3 = sqrt((p3.x - p1.x)**2. + (p3.y - p1.y)**2.)\n",
    "\tsp = (line_1 + line_2 + line_3)/2.\n",
    "\tarea = round(sqrt(sp*(sp-line_1)*(sp-line_2)*(sp-line_3)),2)\n",
    "\treturn area"
   ]
  },
  {
   "cell_type": "code",
   "execution_count": 5,
   "metadata": {},
   "outputs": [
    {
     "name": "stdout",
     "output_type": "stream",
     "text": [
      "Test Case 1\n",
      "33.6\n"
     ]
    }
   ],
   "source": [
    "print(\"Test Case 1\")\n",
    "p1 = Coordinate ()\n",
    "p1.x = 1.5\n",
    "p1.y = -3.4\n",
    "p2 = Coordinate ()\n",
    "p2.x = 4.6\n",
    "p2.y = 5\n",
    "p3 = Coordinate ()\n",
    "p3.x = 9.5\n",
    "p3.y = -3.4\n",
    "ans = area_of_triangle ( p1 , p2 , p3 )\n",
    "print(ans)"
   ]
  },
  {
   "cell_type": "code",
   "execution_count": 6,
   "metadata": {},
   "outputs": [
    {
     "name": "stdout",
     "output_type": "stream",
     "text": [
      "Test Case 2\n",
      "28.9\n"
     ]
    }
   ],
   "source": [
    "print(\"Test Case 2\")\n",
    "p1 = Coordinate ()\n",
    "p1.x =2.0\n",
    "p1.y = -3.4\n",
    "p2 = Coordinate ()\n",
    "p2.x =4.6\n",
    "p2.y =5\n",
    "\n",
    "p3 = Coordinate ()\n",
    "p3.x =9.5\n",
    "p3.y = -1.4\n",
    "ans = area_of_triangle ( p1 , p2 , p3 )\n",
    "print(ans)"
   ]
  },
  {
   "cell_type": "code",
   "execution_count": 7,
   "metadata": {},
   "outputs": [
    {
     "name": "stdout",
     "output_type": "stream",
     "text": [
      "Test Case 3\n",
      "2.4\n"
     ]
    }
   ],
   "source": [
    "print(\"Test Case 3\")\n",
    "p1 = Coordinate ()\n",
    "p1.x =1.5\n",
    "p1.y =3.4\n",
    "p2 = Coordinate ()\n",
    "p2.x =4.6\n",
    "p2.y =5\n",
    "p3 = Coordinate ()\n",
    "p3.x = -1.5\n",
    "p3.y =3.4\n",
    "ans = area_of_triangle ( p1 , p2 , p3 )\n",
    "print(ans)"
   ]
  },
  {
   "cell_type": "code",
   "execution_count": 8,
   "metadata": {},
   "outputs": [
    {
     "name": "stdout",
     "output_type": "stream",
     "text": [
      "Test Case 4\n",
      "25.38\n"
     ]
    }
   ],
   "source": [
    "print(\"Test Case 4\")\n",
    "p1 = Coordinate ()\n",
    "p1.x = -1.5\n",
    "p1.y = 3.4\n",
    "p2 = Coordinate ()\n",
    "p2.x = 4.6\n",
    "p2.y = 5\n",
    "p3 = Coordinate ()\n",
    "p3.x = 4.3\n",
    "p3.y = -3.4\n",
    "ans = area_of_triangle(p1,p2,p3)\n",
    "print(ans)"
   ]
  },
  {
   "cell_type": "code",
   "execution_count": 9,
   "metadata": {},
   "outputs": [
    {
     "name": "stdout",
     "output_type": "stream",
     "text": [
      "Test Case 4\n",
      "Enter x coordinate of the first point of a triangle: 32\n",
      "Enter y coordinate of the first point of a triangle: 31\n",
      "Enter x coordinate of the second point of a triangle: 51\n",
      "Enter y coordinate of the second point of a triangle: 62\n",
      "Enter x coordinate of the third point of a triangle: 878\n",
      "Enter y coordinate of the third point of a triangle: 1234\n",
      "The area of the triangle is 1684.5\n"
     ]
    }
   ],
   "source": [
    "print(\"Test Case 4\")\n",
    "p1 = Coordinate()\n",
    "p2 = Coordinate()\n",
    "p3 = Coordinate()\n",
    "\n",
    "p1.x = int(input(\"Enter x coordinate of the first point of a triangle: \"))\n",
    "p1.y = int(input(\"Enter y coordinate of the first point of a triangle: \"))\n",
    "p2.x = int(input(\"Enter x coordinate of the second point of a triangle: \"))\n",
    "p2.y = int(input(\"Enter y coordinate of the second point of a triangle: \"))\n",
    "p3.x = int(input(\"Enter x coordinate of the third point of a triangle: \"))\n",
    "p3.y = int(input(\"Enter y coordinate of the third point of a triangle: \"))\n",
    "\n",
    "ans = area_of_triangle(p1,p2,p3)\n",
    "print(\"The area of the triangle is {}\".format(ans))"
   ]
  },
  {
   "cell_type": "markdown",
   "metadata": {},
   "source": [
    "### Question 5"
   ]
  },
  {
   "cell_type": "code",
   "execution_count": 10,
   "metadata": {},
   "outputs": [
    {
     "name": "stdout",
     "output_type": "stream",
     "text": [
      "Enter the monthly saving amount: 100\n"
     ]
    }
   ],
   "source": [
    "amt = float(input(\"Enter the monthly saving amount: \"))"
   ]
  },
  {
   "cell_type": "code",
   "execution_count": 11,
   "metadata": {},
   "outputs": [
    {
     "name": "stdout",
     "output_type": "stream",
     "text": [
      "Enter annual interest rate: 0.05\n"
     ]
    }
   ],
   "source": [
    "rate = float(input(\"Enter annual interest rate: \"))"
   ]
  },
  {
   "cell_type": "code",
   "execution_count": 12,
   "metadata": {
    "collapsed": true
   },
   "outputs": [],
   "source": [
    "def compound_value_sixth_month(amt, rate):\n",
    "\tamt_ = 0.\n",
    "\tfor _ in range(6):\n",
    "\t\tamt_ += amt\n",
    "\t\tamt_ *= (1.+rate/12.)\n",
    "\treturn round(amt_,2)\n",
    "\n",
    "result = compound_value_sixth_month(amt, rate)"
   ]
  },
  {
   "cell_type": "code",
   "execution_count": 13,
   "metadata": {},
   "outputs": [
    {
     "name": "stdout",
     "output_type": "stream",
     "text": [
      "After the sixth month, the account value is 608.81\n"
     ]
    }
   ],
   "source": [
    "print(\"After the sixth month, the account value is {}\".format(result))"
   ]
  },
  {
   "cell_type": "markdown",
   "metadata": {},
   "source": [
    "# Week 1"
   ]
  },
  {
   "cell_type": "markdown",
   "metadata": {},
   "source": [
    "# part a\n",
    "\n",
    "(a) The program takes input of a student name, his or her student id, and his marks for a quiz, a project, and a final paper. The program then computes the average of the mark and displays the student’s information and the average mark on the screen."
   ]
  },
  {
   "cell_type": "code",
   "execution_count": 14,
   "metadata": {},
   "outputs": [
    {
     "name": "stdout",
     "output_type": "stream",
     "text": [
      "Insert student name:\n",
      "lee\n",
      "Insert student id:\n",
      "1002705\n",
      "Insert student marks for quiz\n",
      "37\n",
      "Insert student marks for project\n",
      "99\n",
      "Insert student marks for final paper\n",
      "88\n"
     ]
    }
   ],
   "source": [
    "print(\"Insert student name:\")\n",
    "student_name = input()\n",
    "\n",
    "print(\"Insert student id:\")\n",
    "student_id = input()\n",
    "\n",
    "print(\"Insert student marks for quiz\")\n",
    "score_quiz = int(input())\n",
    "\n",
    "print(\"Insert student marks for project\")\n",
    "score_project = int(input())\n",
    "\n",
    "print(\"Insert student marks for final paper\")\n",
    "score_finalpaper = int(input())"
   ]
  },
  {
   "cell_type": "code",
   "execution_count": 15,
   "metadata": {
    "collapsed": true
   },
   "outputs": [],
   "source": [
    "score_average = (score_quiz + score_project + score_finalpaper)/3."
   ]
  },
  {
   "cell_type": "code",
   "execution_count": 16,
   "metadata": {},
   "outputs": [
    {
     "name": "stdout",
     "output_type": "stream",
     "text": [
      "Student lee (ID: 1002705) has scored an average of 74.67\n"
     ]
    }
   ],
   "source": [
    "print(\"Student {} (ID: {}) has scored an average of {:.2f}\"\n",
    "      .format(student_name,student_id,score_average))"
   ]
  },
  {
   "cell_type": "markdown",
   "metadata": {
    "collapsed": true
   },
   "source": [
    "# part b\n",
    "(b) The program takes input of a student name, his or her student id, and his marks for\n",
    "a quiz, a project, and a final paper. The program then computes the average of the\n",
    "mark and determines whether the student pass or fail. If the average is equal to or\n",
    "greater than 50, the student passes, otherwise he fails. The program then displays\n",
    "the student’s information, the average mark, and the status pass or fail on the screen."
   ]
  },
  {
   "cell_type": "code",
   "execution_count": 17,
   "metadata": {
    "collapsed": true
   },
   "outputs": [],
   "source": [
    "# print(\"Insert student name:\")\n",
    "# student_name = input()\n",
    "\n",
    "# print(\"Insert student id:\")\n",
    "# student_id = input()\n",
    "\n",
    "# print(\"Insert student marks for quiz\")\n",
    "# score_quiz = int(input())\n",
    "\n",
    "# print(\"Insert student marks for project\")\n",
    "# score_project = int(input())\n",
    "\n",
    "# print(\"Insert student marks for final paper\")\n",
    "# score_finalpaper = int(input())"
   ]
  },
  {
   "cell_type": "code",
   "execution_count": 18,
   "metadata": {
    "collapsed": true
   },
   "outputs": [],
   "source": [
    "score_average = (score_quiz + score_project + score_finalpaper)/3."
   ]
  },
  {
   "cell_type": "code",
   "execution_count": 19,
   "metadata": {},
   "outputs": [
    {
     "name": "stdout",
     "output_type": "stream",
     "text": [
      "Student lee (ID: 1002705) has scored an average of 74.67\n"
     ]
    }
   ],
   "source": [
    "print(\"Student {} (ID: {}) has scored an average of {:.2f}\"\n",
    "      .format(student_name,student_id,score_average))"
   ]
  },
  {
   "cell_type": "code",
   "execution_count": 20,
   "metadata": {},
   "outputs": [
    {
     "name": "stdout",
     "output_type": "stream",
     "text": [
      "You passed\n"
     ]
    }
   ],
   "source": [
    "if score_average < 50:\n",
    "    print(\"You failed\")\n",
    "else:\n",
    "    print(\"You passed\")"
   ]
  },
  {
   "cell_type": "markdown",
   "metadata": {},
   "source": [
    "# part c\n",
    "(c) The program takes input of a student name, his or her student id, and his marks for\n",
    "a quiz, a project, and a final paper. The program then computes the average of the\n",
    "mark and determines the grade of the students according to the following rules:\n",
    "5\n",
    "- if average mark is greater or equal to 90, the grade is ’A’.\n",
    "- if average mark is greater or equal to 80 but less than 90, the grade is ’B’.\n",
    "- if average mark is greater or equal to 70 but less than 80, the grade is ’C’.\n",
    "- if average mark is greater or equal to 60 but less than 70, the grade is ’D’.\n",
    "- if average mark is less than 60, the grade is ’F’.\n",
    "\n",
    "The program then displays the student’s information, the average mark, and the\n",
    "letter grade on the screen."
   ]
  },
  {
   "cell_type": "code",
   "execution_count": 21,
   "metadata": {
    "collapsed": true
   },
   "outputs": [],
   "source": [
    "# print(\"Insert student name:\")\n",
    "# student_name = input()\n",
    "\n",
    "# print(\"Insert student id:\")\n",
    "# student_id = input()\n",
    "\n",
    "# print(\"Insert student marks for quiz\")\n",
    "# score_quiz = int(input())\n",
    "\n",
    "# print(\"Insert student marks for project\")\n",
    "# score_project = int(input())\n",
    "\n",
    "# print(\"Insert student marks for final paper\")\n",
    "# score_finalpaper = int(input())"
   ]
  },
  {
   "cell_type": "code",
   "execution_count": 22,
   "metadata": {
    "collapsed": true
   },
   "outputs": [],
   "source": [
    "letter_grade = \"\"\n",
    "\n",
    "if score_average < 60:\n",
    "    letter_grade = \"F\"\n",
    "elif score_average < 70:\n",
    "    letter_grade = \"D\"\n",
    "elif score_average < 80:\n",
    "    letter_grade = \"C\"\n",
    "elif score_average < 90:\n",
    "    letter_grade = \"B\"\n",
    "else:\n",
    "    letter_grade = \"A\""
   ]
  },
  {
   "cell_type": "code",
   "execution_count": 23,
   "metadata": {},
   "outputs": [
    {
     "name": "stdout",
     "output_type": "stream",
     "text": [
      "Student lee (ID: 1002705) has scored an average of 74.66666666666667\n"
     ]
    }
   ],
   "source": [
    "print(\"Student {} (ID: {}) has scored an average of {}\"\n",
    "      .format(student_name,student_id,score_average))"
   ]
  },
  {
   "cell_type": "code",
   "execution_count": null,
   "metadata": {},
   "outputs": [
    {
     "name": "stdout",
     "output_type": "stream",
     "text": [
      "His/her letter grade is C\n"
     ]
    }
   ],
   "source": [
    "print(\"His/her letter grade is {}\".format(letter_grade))"
   ]
  },
  {
   "cell_type": "markdown",
   "metadata": {},
   "source": [
    "# part d\n",
    "\n",
    "(d) The program takes input of a student name, his or her student id, and his marks for\n",
    "a quiz, a project, and a final paper. The program then computes the average of the\n",
    "mark and determines the grade of the students according to the following rules:\n",
    "- if average mark is greater or equal to 90, the grade is ’A’.\n",
    "- if average mark is greater or equal to 80 but less than 90, the grade is ’B’.\n",
    "- if average mark is greater or equal to 70 but less than 80, the grade is ’C’.\n",
    "- if average mark is greater or equal to 60 but less than 70, the grade is ’D’.\n",
    "- if average mark is less than 60, the grade is ’F’.\n",
    "The program then displays the student’s information, the average mark, and the\n",
    "letter grade on the screen. \n",
    "\n",
    "Do this for 40 students in a class."
   ]
  },
  {
   "cell_type": "code",
   "execution_count": null,
   "metadata": {},
   "outputs": [
    {
     "name": "stdout",
     "output_type": "stream",
     "text": [
      "Insert student name:\n",
      "lee\n",
      "Insert student id:\n",
      "1001\n",
      "Insert student marks for quiz\n",
      "31\n",
      "Insert student marks for project\n",
      "99\n",
      "Insert student marks for final paper\n",
      "88\n",
      "Student lee (ID: 1001) has scored an average of 72.66666666666667\n",
      "His/her letter grade is C\n",
      "Insert student name:\n"
     ]
    }
   ],
   "source": [
    "for x in range(40):\n",
    "    print(\"Insert student name:\")\n",
    "    student_name = input()\n",
    "\n",
    "    print(\"Insert student id:\")\n",
    "    student_id = input()\n",
    "\n",
    "    print(\"Insert student marks for quiz\")\n",
    "    score_quiz = int(input())\n",
    "\n",
    "    print(\"Insert student marks for project\")\n",
    "    score_project = int(input())\n",
    "\n",
    "    print(\"Insert student marks for final paper\")\n",
    "    score_finalpaper = int(input())\n",
    "    \n",
    "    score_average = (score_quiz + score_project + score_finalpaper)/3.\n",
    "    \n",
    "    letter_grade = \"\"\n",
    "\n",
    "    if score_average < 60:\n",
    "        letter_grade = \"F\"\n",
    "    elif score_average < 70:\n",
    "        letter_grade = \"D\"\n",
    "    elif score_average < 80:\n",
    "        letter_grade = \"C\"\n",
    "    elif score_average < 90:\n",
    "        letter_grade = \"B\"\n",
    "    else:\n",
    "        letter_grade = \"A\"\n",
    "        \n",
    "    print(\"Student {} (ID: {}) has scored an average of {}\"\n",
    "            .format(student_name,student_id,score_average))\n",
    "    \n",
    "    print(\"His/her letter grade is {}\".format(letter_grade))"
   ]
  },
  {
   "cell_type": "code",
   "execution_count": null,
   "metadata": {
    "collapsed": true
   },
   "outputs": [],
   "source": []
  }
 ],
 "metadata": {
  "kernelspec": {
   "display_name": "Python 3",
   "language": "python",
   "name": "python3"
  },
  "language_info": {
   "codemirror_mode": {
    "name": "ipython",
    "version": 3
   },
   "file_extension": ".py",
   "mimetype": "text/x-python",
   "name": "python",
   "nbconvert_exporter": "python",
   "pygments_lexer": "ipython3",
   "version": "3.5.2"
  }
 },
 "nbformat": 4,
 "nbformat_minor": 2
}
