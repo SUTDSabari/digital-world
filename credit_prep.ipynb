{
 "cells": [
  {
   "cell_type": "markdown",
   "metadata": {},
   "source": [
    "# dijkstra algorithm\n",
    "the code from rosettacode is wrong :/"
   ]
  },
  {
   "cell_type": "code",
   "execution_count": 1,
   "metadata": {},
   "outputs": [],
   "source": [
    "edge_list = [(\"a\", \"b\", 7),  (\"a\", \"c\", 9),  (\"a\", \"f\", 14), (\"b\", \"c\", 10),\n",
    "               (\"b\", \"d\", 15), (\"c\", \"d\", 11), (\"c\", \"f\", 2),  (\"d\", \"e\", 6),\n",
    "               (\"e\", \"f\", 9)]"
   ]
  },
  {
   "cell_type": "code",
   "execution_count": 2,
   "metadata": {},
   "outputs": [],
   "source": [
    "# http://rosettacode.org/wiki/Dijkstra%27s_algorithm#Python\n",
    "from collections import namedtuple, deque\n",
    "from pprint import pprint as pp\n",
    " \n",
    " \n",
    "inf = float('inf')\n",
    "Edge = namedtuple('Edge', 'start, end, cost')\n",
    " \n",
    "class Graph():\n",
    "    def __init__(self, edges):\n",
    "        edges2 = [Edge(*edge) for edge in edges]\n",
    "        self.edges = edges2\n",
    "        self.vertices = set(sum(([e.start, e.end] for e in edges2), []))\n",
    " \n",
    "    def dijkstra(self, source, dest):\n",
    "        assert source in self.vertices\n",
    "        dist = {vertex: inf for vertex in self.vertices}\n",
    "        previous = {vertex: None for vertex in self.vertices}\n",
    "        dist[source] = 0\n",
    "        q = self.vertices.copy()\n",
    "        neighbours = {vertex: set() for vertex in self.vertices}\n",
    "        for start, end, cost in self.edges:\n",
    "            neighbours[start].add((end, cost))\n",
    "#         pp(neighbours)\n",
    " \n",
    "        while q:\n",
    "            u = min(q, key=lambda vertex: dist[vertex])\n",
    "            q.remove(u)\n",
    "            if dist[u] == inf or u == dest:\n",
    "                break\n",
    "            for v, cost in neighbours[u]:\n",
    "                alt = dist[u] + cost\n",
    "                if alt < dist[v]:                                  # Relax (u,v,a)\n",
    "                    dist[v] = alt\n",
    "                    previous[v] = u\n",
    "#         pp(previous)\n",
    "        \n",
    "        s, u = deque(), dest\n",
    "        while previous[u]:\n",
    "            s.appendleft(u)\n",
    "            u = previous[u]\n",
    "        s.appendleft(u)\n",
    "        \n",
    "        print(s)\n",
    "        return s,dist,previous"
   ]
  },
  {
   "cell_type": "code",
   "execution_count": 3,
   "metadata": {},
   "outputs": [],
   "source": [
    "start_node = \"a\"\n",
    "end_node = \"e\""
   ]
  },
  {
   "cell_type": "code",
   "execution_count": 4,
   "metadata": {},
   "outputs": [
    {
     "name": "stdout",
     "output_type": "stream",
     "text": [
      "deque(['a', 'c', 'd', 'e'])\n",
      "deque(['a', 'c', 'd', 'e'])\n",
      "{'a': 0, 'b': 7, 'c': 9, 'd': 20, 'e': 26, 'f': 11}\n",
      "{'a': None, 'b': 'a', 'c': 'a', 'd': 'c', 'e': 'd', 'f': 'c'}\n"
     ]
    }
   ],
   "source": [
    "graph = Graph(edge_list)\n",
    "s,dist,previous = graph.dijkstra(start_node, end_node)\n",
    "pp(s)\n",
    "pp(dist)\n",
    "pp(previous) ## the path is wrong"
   ]
  },
  {
   "cell_type": "code",
   "execution_count": 5,
   "metadata": {},
   "outputs": [
    {
     "name": "stdout",
     "output_type": "stream",
     "text": [
      "\n"
     ]
    }
   ],
   "source": [
    "import networkx as nx\n",
    "g = nx.Graph()\n",
    "\n",
    "g.add_weighted_edges_from(edge_list)\n",
    "\n",
    "pos=nx.spring_layout(g,weight=None)\n",
    "labels = nx.get_edge_attributes(g,'weight')\n",
    "\n",
    "nx.draw_networkx(g,pos,node_color='yellow')\n",
    "nx.draw_networkx_edge_labels(g,pos,edge_labels=labels)\n",
    "print()"
   ]
  },
  {
   "cell_type": "code",
   "execution_count": 6,
   "metadata": {},
   "outputs": [
    {
     "name": "stdout",
     "output_type": "stream",
     "text": [
      "\n"
     ]
    },
    {
     "data": {
      "image/png": "[encoded data removed]",
      "text/plain": [
       "<Figure size 432x288 with 1 Axes>"
      ]
     },
     "metadata": {},
     "output_type": "display_data"
    }
   ],
   "source": [
    "import networkx as nx\n",
    "g = nx.Graph()\n",
    "\n",
    "\n",
    "g.add_weighted_edges_from(edge_list)\n",
    "\n",
    "# pos = nx.spring_layout(g,weight=None)  # uncomment to re-position randomly\n",
    "labels = nx.get_edge_attributes(g,'weight')\n",
    "\n",
    "nx.draw_networkx_edge_labels(g,pos,edge_labels=labels)\n",
    "nx.draw_networkx(g,\n",
    "                 pos,\n",
    "                 with_labels=True,\n",
    "                 labels=dist,\n",
    "                 node_color='yellow')\n",
    "\n",
    "nx.draw_networkx(g,\n",
    "                 pos,\n",
    "                 edgelist=list({key:val for key, val in previous.items() if val != None}.items()),\n",
    "                 with_labels=False,\n",
    "                 width = 5.0,\n",
    "                 edge_color='lightblue',\n",
    "                 node_color='yellow')\n",
    "\n",
    "nx.draw_networkx(g,\n",
    "                 pos,\n",
    "                 edgelist=[(s[i],s[i+1]) for i in range(len(s)-1)],\n",
    "                 with_labels=False,\n",
    "                 width = 5.0,\n",
    "                 edge_color='red',\n",
    "                 node_color='yellow')\n",
    "\n",
    "nx.draw_networkx(g,\n",
    "                 pos,\n",
    "                 node_color='red',\n",
    "                 with_labels=False,\n",
    "                 nodelist=(start_node,end_node))\n",
    "\n",
    "print()"
   ]
  },
  {
   "cell_type": "markdown",
   "metadata": {},
   "source": [
    "# positional arguments and keyword arguments"
   ]
  },
  {
   "cell_type": "code",
   "execution_count": 7,
   "metadata": {},
   "outputs": [],
   "source": [
    "# https://medium.com/understand-the-python/understanding-the-asterisk-of-python-8b9daaa4a558"
   ]
  },
  {
   "cell_type": "code",
   "execution_count": 8,
   "metadata": {},
   "outputs": [],
   "source": [
    "def save_ranking(*args, **kwargs):\n",
    "    print(args)     \n",
    "    print(kwargs)"
   ]
  },
  {
   "cell_type": "code",
   "execution_count": 9,
   "metadata": {},
   "outputs": [
    {
     "name": "stdout",
     "output_type": "stream",
     "text": [
      "('ming', 'alice', 'tom')\n",
      "{'fourth': 'wilson', 'fifth': 'roy'}\n"
     ]
    }
   ],
   "source": [
    "save_ranking('ming', 'alice', 'tom', fourth='wilson', fifth='roy')     \n",
    "# ('ming', 'alice', 'tom')\n",
    "# {'fourth': 'wilson', 'fifth': 'roy'}"
   ]
  },
  {
   "cell_type": "markdown",
   "metadata": {},
   "source": [
    "# unpacking with asterisk"
   ]
  },
  {
   "cell_type": "code",
   "execution_count": 10,
   "metadata": {},
   "outputs": [],
   "source": [
    "numbers = [1, 2, 3, 4, 5, 6]"
   ]
  },
  {
   "cell_type": "code",
   "execution_count": 11,
   "metadata": {},
   "outputs": [
    {
     "name": "stdout",
     "output_type": "stream",
     "text": [
      "[1, 2, 3, 4, 5, 6]\n"
     ]
    }
   ],
   "source": [
    "# The left side of unpacking should be list or tuple.\n",
    "*a, = numbers\n",
    "print(a)"
   ]
  },
  {
   "cell_type": "code",
   "execution_count": 12,
   "metadata": {},
   "outputs": [
    {
     "name": "stdout",
     "output_type": "stream",
     "text": [
      "[1, 2, 3, 4, 5]\n",
      "6\n"
     ]
    }
   ],
   "source": [
    "*a, b = numbers\n",
    "print(a)\n",
    "print(b) "
   ]
  },
  {
   "cell_type": "code",
   "execution_count": 13,
   "metadata": {},
   "outputs": [
    {
     "name": "stdout",
     "output_type": "stream",
     "text": [
      "1\n",
      "[2, 3, 4, 5, 6]\n"
     ]
    }
   ],
   "source": [
    "a, *b, = numbers\n",
    "print(a)\n",
    "print(b)"
   ]
  },
  {
   "cell_type": "code",
   "execution_count": 14,
   "metadata": {},
   "outputs": [
    {
     "name": "stdout",
     "output_type": "stream",
     "text": [
      "1\n",
      "[2, 3, 4, 5]\n",
      "6\n"
     ]
    }
   ],
   "source": [
    "a, *b, c = numbers\n",
    "print(a)\n",
    "print(b)\n",
    "print(c)"
   ]
  },
  {
   "cell_type": "markdown",
   "metadata": {},
   "source": [
    "# `reduce` function"
   ]
  },
  {
   "cell_type": "markdown",
   "metadata": {},
   "source": [
    "Apply function of two arguments cumulatively to the items of iterable, from left to right, so as to reduce the iterable to a single value. For example, `reduce(lambda x, y: x+y, [1, 2, 3, 4, 5])` calculates `((((1+2)+3)+4)+5)`. "
   ]
  },
  {
   "cell_type": "code",
   "execution_count": 15,
   "metadata": {},
   "outputs": [
    {
     "name": "stdout",
     "output_type": "stream",
     "text": [
      "30030\n",
      "[2, 3, 5, 7, 11, 13]\n"
     ]
    }
   ],
   "source": [
    "from functools import reduce\n",
    "\n",
    "primes = [2, 3, 5, 7, 11, 13]\n",
    "\n",
    "def product(*numbers):\n",
    "    p = reduce(lambda x, y: x * y, numbers)\n",
    "    return p \n",
    "\n",
    "print(product(*primes))\n",
    "# 30030\n",
    "\n",
    "print(product(primes))\n",
    "# [2, 3, 5, 7, 11, 13]"
   ]
  },
  {
   "cell_type": "markdown",
   "metadata": {},
   "source": [
    "# coin change problem, revisited\n",
    "with `lru_cache` - to be continued"
   ]
  },
  {
   "cell_type": "code",
   "execution_count": 16,
   "metadata": {},
   "outputs": [
    {
     "name": "stdout",
     "output_type": "stream",
     "text": [
      "[0, 1, 1, 2, 3, 5, 8, 13, 21, 34, 55, 89, 144, 233, 377, 610]\n",
      "CacheInfo(hits=28, misses=16, maxsize=None, currsize=16)\n"
     ]
    }
   ],
   "source": [
    "from functools import lru_cache\n",
    "\n",
    "@lru_cache(maxsize=None)\n",
    "def fib(n):\n",
    "    if n < 2:\n",
    "        return n\n",
    "    return fib(n-1) + fib(n-2)\n",
    "\n",
    "print([fib(n) for n in range(16)])\n",
    "# [0, 1, 1, 2, 3, 5, 8, 13, 21, 34, 55, 89, 144, 233, 377, 610]\n",
    "\n",
    "print(fib.cache_info())\n",
    "# CacheInfo(hits=28, misses=16, maxsize=None, currsize=16)"
   ]
  },
  {
   "cell_type": "markdown",
   "metadata": {},
   "source": [
    "# Python threading\n",
    "Other than getting network resources I am not sure why would we need to thread in Python."
   ]
  },
  {
   "cell_type": "code",
   "execution_count": 17,
   "metadata": {},
   "outputs": [],
   "source": [
    "import requests\n",
    "from bs4 import BeautifulSoup\n",
    "import unicodedata\n",
    "import numpy as np\n",
    "import time\n",
    "# import pandas as pd\n",
    "\n",
    "def get_articles_from_page(page_num, debug = False):\n",
    "    '''\n",
    "    given page_num\n",
    "    returns category_name_texts, \n",
    "            category_name_links, \n",
    "            article_title_links,\n",
    "            article_title_texts\n",
    "    '''\n",
    "    \n",
    "    category_name_texts = []\n",
    "    category_name_links = []\n",
    "    article_title_texts = []\n",
    "    article_title_links = []\n",
    "    \n",
    "    try:\n",
    "        page = requests.get('http://statestimesreview.com/page/{}/'.format(page_num))\n",
    "        soup = BeautifulSoup(page.text, 'html.parser')\n",
    "\n",
    "        soup = soup.find(class_=\"masonry penci-masonry\")\n",
    "        # narrow down to this section\n",
    "\n",
    "        grid_items = soup.find_all(class_=\"item item-masonry grid-masonry\")\n",
    "        for grid_item in grid_items:\n",
    "\n",
    "            try:\n",
    "                category_item = grid_item.find(class_=\"penci-cat-name\")\n",
    "                category_name_text = category_item.text\n",
    "                category_name_text = category_name_text.strip()\n",
    "                category_name_link = category_item.get('href')\n",
    "\n",
    "                article_title_item = grid_item.find(class_=\"grid-title\")\n",
    "                article_title_text = article_title_item.text\n",
    "                article_title_link = article_title_item.find('a').get('href')\n",
    "\n",
    "                category_name_texts.append(category_name_text)\n",
    "                category_name_links.append(category_name_link)\n",
    "                article_title_texts.append(article_title_text)\n",
    "                article_title_links.append(article_title_link)\n",
    "\n",
    "            except:\n",
    "                print(page_num, \"error\")\n",
    "                \n",
    "        print(str(page_num) + \" \", end=\"\")\n",
    "\n",
    "    except:\n",
    "        print(page_num, \"ERROR\")\n",
    "    \n",
    "    return (category_name_texts, \n",
    "            category_name_links, \n",
    "            article_title_texts,\n",
    "            article_title_links)"
   ]
  },
  {
   "cell_type": "code",
   "execution_count": 19,
   "metadata": {},
   "outputs": [
    {
     "name": "stdout",
     "output_type": "stream",
     "text": [
      "12 16 6 18 4 14 9 7 5 17 20 3 13 10 2 11 8 19 15 1 22 27 21 28 23 30 26 34 37 29 25 24 31 32 38 35 39 36 33 40 43 41 45 48 47 49 50 42 46 44 16.93876600265503\n",
      "[(['Conscription', 'Propaganda fake news', 'Editorial Opinions', 'Censorship', 'Corruption', 'Transport', 'Employment', 'Immigration', 'Cost of Living', 'HDB'], ['http://statestimesreview.com/category/conscription/', 'http://statestimesreview.com/category/propaganda-fake-news/', 'http://statestimesreview.com/category/editorial-opinions/', 'http://statestimesreview.com/category/censorship/', 'http://statestimesreview.com/category/corruption/', 'http://statestimesreview.com/category/transport/', 'http://statestimesreview.com/category/employment/', 'http://statestimesreview.com/category/immigration/', 'http://statestimesreview.com/category/cost-of-living/', 'http://statestimesreview.com/category/hdb/'], ['Minister Ng Eng Hen: 4% become mentally ill due to National Service', 'Ministry of Communications: Millionaire ministerial salaries is “falsehood”', 'PAP MP Murali: My Chinese name is “Ah Mu”, not “Mou Nah Li”', 'Minister Ong Ye Kung: Facebook is breeding angst and impatience among people', 'One year of Halimah Yacob: Still a useless President', 'SMRT lose undisclosed millions after shutting down subsidiary', 'MOM: Unemployment rate rises because “people look for work”', 'Linkedin: Foreigners take up more than 50% of high paying digital jobs', 'Government to force 200 coffee shops offer cashless transactions', 'Minister Lawrence Wong: I don’t know anything about VERS'], ['http://statestimesreview.com/2018/09/16/minister-ng-eng-hen-4-become-mentally-ill-due-to-national-service/', 'http://statestimesreview.com/2018/09/16/ministry-of-communications-millionaire-ministerial-salaries-is-falsehood/', 'http://statestimesreview.com/2018/09/16/pap-mp-murali-my-chinese-name-is-ah-mu-not-mou-nah-li/', 'http://statestimesreview.com/2018/09/16/minister-ong-ye-kung-facebook-is-breeding-angst-and-impatience-among-people/', 'http://statestimesreview.com/2018/09/15/one-year-of-halimah-yacob-still-a-useless-president/', 'http://statestimesreview.com/2018/09/15/smrt-lose-undisclosed-millions-after-shutting-down-subsidiary/', 'http://statestimesreview.com/2018/09/13/mom-unemployment-rate-rises-because-people-look-for-work/', 'http://statestimesreview.com/2018/09/13/linkedin-foreigners-take-up-more-than-50-of-high-paying-digital-jobs/', 'http://statestimesreview.com/2018/09/12/government-to-force-200-coffee-shops-offer-cashless-transactions/', 'http://statestimesreview.com/2018/09/12/minister-lawrence-wong-i-dont-know-anything-about-vers/']), (['Latest News', 'Corruption', 'Corruption', 'Corruption', 'Employment', 'HDB', 'Corruption', 'CPF', 'Propaganda fake news', 'Diplomacy'], ['http://statestimesreview.com/category/latest-news/', 'http://statestimesreview.com/category/corruption/', 'http://statestimesreview.com/category/corruption/', 'http://statestimesreview.com/category/corruption/', 'http://statestimesreview.com/category/employment/', 'http://statestimesreview.com/category/hdb/', 'http://statestimesreview.com/category/corruption/', 'http://statestimesreview.com/category/cpf/', 'http://statestimesreview.com/category/propaganda-fake-news/', 'http://statestimesreview.com/category/diplomacy/'], ['PAP MP: I am deeply impressed with North Koreans’ “diligence and discipline”', 'Singapore government ordered by court to return S$15 million to Malaysia', 'Lee Hsien Loong: I made about S$770,000 in bonus on average each year', 'Minister Chan Chun Sing: No recount needed even when voting slips are missing', 'Singapore graduate salaries stagnate for 2 years', 'Lee Hsien Loong cause HDB resale to crash 18.6% in a single month', 'Only solution to keeping HDB wealth', 'Singaporean elderly kill daughter and commit suicide due to poverty', 'Lee Hsien Loong: Singaporeans should only read “credible” Singapore media', 'Minister Teo Chee Hean: We inflated HSR pricing by ballooning land costs'], ['http://statestimesreview.com/2018/09/11/pap-mp-i-am-deeply-impressed-with-north-koreans-diligence-and-discipline/', 'http://statestimesreview.com/2018/09/11/singapore-government-ordered-by-court-to-return-s15-million-to-malaysia/', 'http://statestimesreview.com/2018/09/10/lee-hsien-loong-i-made-about-s770000-in-bonus-on-average-each-year/', 'http://statestimesreview.com/2018/09/10/minister-chan-chun-sing-no-recount-needed-even-when-voting-slips-are-missing/', 'http://statestimesreview.com/2018/09/10/singapore-graduate-salaries-stagnate-for-2-years/', 'http://statestimesreview.com/2018/09/09/lee-hsien-loong-cause-hdb-resale-to-crash-18-6-in-a-single-month/', 'http://statestimesreview.com/2018/09/09/only-solution-to-keeping-hdb-wealth/', 'http://statestimesreview.com/2018/09/08/singaporean-elderly-kill-daughter-and-commit-suicide-due-to-poverty/', 'http://statestimesreview.com/2018/09/06/lee-hsien-loong-singaporeans-should-only-read-credible-singapore-media/', 'http://statestimesreview.com/2018/09/06/minister-teo-chee-hean-we-inflated-hsr-pricing-by-ballooning-land-costs/'])]\n"
     ]
    }
   ],
   "source": [
    "# import urllib.request as urllib2\n",
    "from multiprocessing.dummy import Pool as ThreadPool \n",
    "import time\n",
    "\n",
    "start_time = time.time()\n",
    "\n",
    "# make the Pool of workers\n",
    "pool = ThreadPool(20) \n",
    "\n",
    "# open the urls in their own threads\n",
    "# and return the results\n",
    "results = pool.map(get_articles_from_page, range(1,51))  # CHANGE THIS\n",
    "\n",
    "# close the pool and wait for the work to finish \n",
    "pool.close()\n",
    "pool.join()\n",
    "\n",
    "print(time.time() - start_time)\n",
    "\n",
    "print(results[:2])"
   ]
  },
  {
   "cell_type": "markdown",
   "metadata": {},
   "source": [
    "# Python async and callback\n",
    "To think of a use case"
   ]
  },
  {
   "cell_type": "code",
   "execution_count": null,
   "metadata": {},
   "outputs": [],
   "source": []
  }
 ],
 "metadata": {
  "kernelspec": {
   "display_name": "Python [conda env:dw]",
   "language": "python",
   "name": "conda-env-dw-py"
  },
  "language_info": {
   "codemirror_mode": {
    "name": "ipython",
    "version": 3
   },
   "file_extension": ".py",
   "mimetype": "text/x-python",
   "name": "python",
   "nbconvert_exporter": "python",
   "pygments_lexer": "ipython3",
   "version": "3.6.5"
  }
 },
 "nbformat": 4,
 "nbformat_minor": 2
}
