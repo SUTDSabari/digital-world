{
 "cells": [
  {
   "cell_type": "code",
   "execution_count": 48,
   "metadata": {},
   "outputs": [
    {
     "name": "stdout",
     "output_type": "stream",
     "text": [
      "   S7ay Up Ti1l Da3n     \n"
     ]
    }
   ],
   "source": [
    "# making a string\n",
    "str_ = '   S7ay Up Ti1l Da3n     '\n",
    "print(str_)"
   ]
  },
  {
   "cell_type": "code",
   "execution_count": 49,
   "metadata": {},
   "outputs": [
    {
     "name": "stdout",
     "output_type": "stream",
     "text": [
      "S7ay Up Ti1l Da3n\n",
      "   S7ay Up Ti1l Da3n     don't start till afternoon\n",
      "don't start till afternoon   S7ay Up Ti1l Da3n     \n"
     ]
    }
   ],
   "source": [
    "# remove heading and trailing spaces\n",
    "print(str_.strip(\" \"))\n",
    "\n",
    "# appending to the end\n",
    "print(str_ + \"don't start till afternoon\")\n",
    "\n",
    "# appending to the front\n",
    "print(\"don't start till afternoon\" + str_)"
   ]
  },
  {
   "cell_type": "code",
   "execution_count": 50,
   "metadata": {},
   "outputs": [
    {
     "name": "stdout",
     "output_type": "stream",
     "text": [
      "   S74y Up Ti1l D43n     \n",
      "   s7ay up ti1l da3n     \n",
      "   S7AY UP TI1L DA3N     \n"
     ]
    }
   ],
   "source": [
    "# replace characters \n",
    "# https://www.tutorialspoint.com/python/string_replace.htm\n",
    "print(str_.replace('a', '4'))\n",
    "\n",
    "# make all lowercase/uppercase\n",
    "# https://stackoverflow.com/questions/6797984/how-to-convert-string-to-lowercase-in-python\n",
    "print(str_.lower())\n",
    "print(str_.upper())"
   ]
  },
  {
   "cell_type": "code",
   "execution_count": 51,
   "metadata": {},
   "outputs": [
    {
     "name": "stdout",
     "output_type": "stream",
     "text": [
      "   Say Up Til Dan     \n",
      "SayUpTilDan\n"
     ]
    }
   ],
   "source": [
    "# remove numbers from string\n",
    "print(''.join([i for i in str_ if not i.isdigit()]))\n",
    "# remove everything except letters from string\n",
    "print(''.join([i for i in str_ if i.isalpha()]))\n",
    "\n",
    "# str.isalnum() \n",
    "# Return true if all characters in the string are alphanumeric and there is at least one character, false otherwise.\n",
    "\n",
    "# str.isalpha()\n",
    "# Return true if all characters in the string are alphabetic and there is at least one character, false otherwise.\n",
    "\n",
    "# str.isdigit()\n",
    "# Return true if all characters in the string are digits and there is at least one character, false otherwise.\n",
    "\n",
    "# str.isdecimal()\n",
    "# Return true if all characters in the string are decimal characters and there is at least one character, false otherwise.\n",
    "\n",
    "# str.islower()\n",
    "# Return true if all cased characters [4] in the string are lowercase and there is at least one cased character, false otherwise.\n",
    "# str.isupper()\n",
    "# Return true if all cased characters [4] in the string are uppercase and there is at least one cased character, false otherwise.\n",
    "\n",
    "# str.isnumeric()\n",
    "# Return true if all characters in the string are numeric characters, and there is at least one character, false otherwise.\n",
    "\n",
    "# str.isspace()\n",
    "# Return true if there are only whitespace characters in the string and there is at least one character, false otherwise.\n",
    "\n",
    "# str.istitle() \n",
    "# Return true if the string is a titlecased string and there is at least one character, \n",
    "# for example uppercase characters may only follow uncased characters and lowercase characters only cased ones. \n",
    "# Return false otherwise.\n",
    "\n",
    "# go find yourself\n",
    "# str.isidentifier()\n",
    "# str.isprintable()"
   ]
  },
  {
   "cell_type": "code",
   "execution_count": 52,
   "metadata": {},
   "outputs": [
    {
     "name": "stdout",
     "output_type": "stream",
     "text": [
      "     n3aD l1iT pU ya7S   \n",
      "  7yU ilD3   \n"
     ]
    }
   ],
   "source": [
    "# reverse a string\n",
    "print(str_[::-1])\n",
    "\n",
    "# take alternate values from a string\n",
    "print(str_[::2])"
   ]
  },
  {
   "cell_type": "code",
   "execution_count": 53,
   "metadata": {},
   "outputs": [
    {
     "name": "stdout",
     "output_type": "stream",
     "text": [
      "The quick brown fox jumped over the lazy dogs\n",
      "ESPBFTNVMCZHYQZIUFXAPOZGPCESPWLKJOZRD\n",
      "THEQUICKBROWNFOXJUMPEDOVERTHELAZYDOGS\n"
     ]
    }
   ],
   "source": [
    "# Caesar cipher\n",
    "# http://rosettacode.org/wiki/Caesar_cipher#Python\n",
    "def caesar(s, k, decode = False):\n",
    "    if decode: k = 26 - k\n",
    "    return \"\".join([chr((ord(i) - 65 + k) % 26 + 65)\n",
    "                    for i in s.upper()\n",
    "                    if ord(i) >= 65 and ord(i) <= 90 ])\n",
    " \n",
    "msg = \"The quick brown fox jumped over the lazy dogs\"\n",
    "print(msg)\n",
    "enc = caesar(msg, 11)\n",
    "print(enc)\n",
    "print(caesar(enc, 11, decode = True))"
   ]
  },
  {
   "cell_type": "code",
   "execution_count": 54,
   "metadata": {},
   "outputs": [
    {
     "name": "stdout",
     "output_type": "stream",
     "text": [
      "Beware the Jabberwock, my son! The jaws that bite, the claws that catch!\n",
      "WMCEEIKLGRPIFVMEUGXQPWQVIOIAVEYXUEKFKBTALVXTGAFXYEVKPAGY\n",
      "BEWARETHEJABBERWOCKMYSONTHEJAWSTHATBITETHECLAWSTHATCATCH\n"
     ]
    }
   ],
   "source": [
    "# Vigenere cipher\n",
    "# http://rosettacode.org/wiki/Vigen%C3%A8re_cipher#Python\n",
    "from itertools import starmap, cycle\n",
    " \n",
    "def encrypt(message, key):\n",
    " \n",
    "    # convert to uppercase.\n",
    "    # strip out non-alpha characters.\n",
    "    message = filter(str.isalpha, message.upper())\n",
    " \n",
    "    # single letter encrpytion.\n",
    "    def enc(c,k): return chr(((ord(k) + ord(c) - 2*ord('A')) % 26) + ord('A'))\n",
    " \n",
    "    return \"\".join(starmap(enc, zip(message, cycle(key))))\n",
    " \n",
    "def decrypt(message, key):\n",
    " \n",
    "    # single letter decryption.\n",
    "    def dec(c,k): return chr(((ord(c) - ord(k) - 2*ord('A')) % 26) + ord('A'))\n",
    " \n",
    "    return \"\".join(starmap(dec, zip(message, cycle(key))))\n",
    "\n",
    "text = \"Beware the Jabberwock, my son! The jaws that bite, the claws that catch!\"\n",
    "key = \"VIGENERECIPHER\"\n",
    " \n",
    "encr = encrypt(text, key)\n",
    "decr = decrypt(encr, key)\n",
    " \n",
    "print(text)\n",
    "print(encr)\n",
    "print(decr)"
   ]
  },
  {
   "cell_type": "code",
   "execution_count": 55,
   "metadata": {},
   "outputs": [
    {
     "name": "stdout",
     "output_type": "stream",
     "text": [
      "The original is: A simple example.\n",
      "\n",
      "\n",
      "Encoding it with the key: yRuA])9M^@\ta\\1=?jb#<toI2P`Li-EW0|N&%;K5CgD8ch\r",
      ">G, ~Jk!s/Uel'n+:VqdvO}\n",
      "$m6ZQBX3{4YF\f",
      "ST[zrx7H\"_fwp*.(\u000b",
      "\n",
      "\n",
      "\n",
      "Gives: ;w-#I`o=w=N\tI`o=B\n",
      "\n",
      "\n",
      "Decoding it by the same key gives: A simple example.\n"
     ]
    }
   ],
   "source": [
    "# Substitution Cipher\n",
    "#http://rosettacode.org/wiki/Substitution_Cipher#Python\n",
    "\n",
    "from string import printable\n",
    "import random\n",
    " \n",
    "EXAMPLE_KEY = ''.join(sorted(printable, key=lambda _:random.random()))\n",
    " \n",
    "def encode(plaintext, key):\n",
    "    return ''.join(key[printable.index(char)] for char in plaintext)\n",
    " \n",
    "def decode(plaintext, key):\n",
    "    return ''.join(printable[key.index(char)] for char in plaintext)\n",
    " \n",
    "original = \"A simple example.\"\n",
    "encoded = encode(original, EXAMPLE_KEY)\n",
    "decoded = decode(encoded, EXAMPLE_KEY)\n",
    "print(\"\"\"The original is: {}\\n\\n\n",
    "Encoding it with the key: {}\\n\\n\n",
    "Gives: {}\\n\\n\n",
    "Decoding it by the same key gives: {}\"\"\".format(original, EXAMPLE_KEY, encoded, decoded))"
   ]
  },
  {
   "cell_type": "markdown",
   "metadata": {},
   "source": [
    "# File IO\n",
    "Refer to mD notes."
   ]
  },
  {
   "cell_type": "code",
   "execution_count": 1,
   "metadata": {},
   "outputs": [],
   "source": [
    "# make a Python list of the files in the directory\n",
    "# https://stackoverflow.com/questions/3207219/how-do-i-list-all-files-of-a-directory\n",
    "import os\n",
    "def findfiles(directory):\n",
    "    objects = os.listdir(directory)  # find all objects in a dir\n",
    "\n",
    "    files = []\n",
    "    for i in objects:  # check if very object in the folder ...\n",
    "        if isFile(directory + i):  # ... is a file.\n",
    "            files.append(i)  # if yes, append it.\n",
    "    return files\n",
    "\n",
    "def isFile(object):\n",
    "    try:\n",
    "        os.listdir(object)  # tries to get the objects inside of this object\n",
    "        return False  # if it worked, it's a folder\n",
    "    except Exception:  # if not, it's a file\n",
    "        return True"
   ]
  },
  {
   "cell_type": "code",
   "execution_count": null,
   "metadata": {},
   "outputs": [],
   "source": []
  }
 ],
 "metadata": {
  "kernelspec": {
   "display_name": "Python [conda env:dw]",
   "language": "python",
   "name": "conda-env-dw-py"
  },
  "language_info": {
   "codemirror_mode": {
    "name": "ipython",
    "version": 3
   },
   "file_extension": ".py",
   "mimetype": "text/x-python",
   "name": "python",
   "nbconvert_exporter": "python",
   "pygments_lexer": "ipython3",
   "version": "3.6.5"
  }
 },
 "nbformat": 4,
 "nbformat_minor": 2
}
