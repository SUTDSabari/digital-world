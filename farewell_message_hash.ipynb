{
 "cells": [
  {
   "cell_type": "markdown",
   "metadata": {},
   "source": [
    "- In my personalised namecard to you it is encrypted with a one-line note. \n",
    "- Some are earnest well-wishes, and some are (un)secretly shade. \n",
    "- Some express appreciation, and some express regret. \n",
    "- There are some that are just filler text because I don't know what to write."
   ]
  },
  {
   "cell_type": "markdown",
   "metadata": {},
   "source": [
    "- Put inside 5w/w% NaCl to activate the enzyme into its 1D-2D-3D configuration.\n",
    "- Put the namecard under a Peltier chip and let it cool to negative 23 degree Celcius. \n",
    "- Heat the name card to 60 degree Celcius to make the message visible. \n",
    "- Use (integer) linear programming to guess the missing letters.\n",
    "- Check the integrity of the message with the checksum (in orange) - below"
   ]
  },
  {
   "cell_type": "code",
   "execution_count": 1,
   "metadata": {},
   "outputs": [],
   "source": [
    "import re\n",
    "import hashlib"
   ]
  },
  {
   "cell_type": "code",
   "execution_count": 2,
   "metadata": {},
   "outputs": [],
   "source": [
    "message_list_str = '''Snake.\n",
    "You can talk.'''"
   ]
  },
  {
   "cell_type": "code",
   "execution_count": 3,
   "metadata": {},
   "outputs": [
    {
     "name": "stdout",
     "output_type": "stream",
     "text": [
      "['Snake', 'Youcantalk']\n"
     ]
    }
   ],
   "source": [
    "# processing the message list to include only (lower)alphanumeric text\n",
    "message_list = message_list_str.split(\"\\n\")  # for each person\n",
    "for i,message in enumerate(message_list):\n",
    "    # remove everything except (lower)alphanumeric text\n",
    "    message = re.sub(r'\\W+', '', message)\n",
    "    message_list[i] = message\n",
    "print(message_list)"
   ]
  },
  {
   "cell_type": "code",
   "execution_count": 4,
   "metadata": {},
   "outputs": [
    {
     "name": "stdout",
     "output_type": "stream",
     "text": [
      "7BCE3D4A06FBFF4AE04AA106\n",
      "8AA0B2158A114E9EE5C39540\n"
     ]
    }
   ],
   "source": [
    "# making the hash\n",
    "hash_list = []\n",
    "for i,message in enumerate(message_list):\n",
    "    hash_ = hashlib.sha224(str(message).encode(encoding='ascii')).hexdigest()[:24]\n",
    "    hash_list.append(hash_)\n",
    "    print(hash_.upper())  # because I write in caps"
   ]
  },
  {
   "cell_type": "code",
   "execution_count": 5,
   "metadata": {},
   "outputs": [
    {
     "data": {
      "text/plain": [
       "'\\nFF6ED4EB36932D04B1FC3F96\\n8AA0B2158A114E9EE5C39540\\n358C91C098B1EAAF73615DC2\\n160D7B869EBDE045B57A7CEC\\n0626D401A7191185EC495B04\\nF8E742BA84538AF6A9D96526\\n8D3C2474BBCC470C3B0F4C88\\n0B4CAE2344B78F228605E6E3\\nBD9D4B20EFC90F20D408F805\\n1A938B8A9025E1C9B1A2A07D\\n197EA33F5DA4EBB58913DD76\\nCF02F54B713BEA5A39242B14\\n127BE495A34ADACF836A4A08\\n07182F6782715652295C5080\\n48A52CB718CC67056F4A0A07\\n89020B21A96B8BCF780E86CF\\nDC8C2DD490893E7B10DA020D\\nEE270AD26040EE6AFC75F55A\\n0E94AA5290F83F638761B450\\n9C7DF887454459F95E9B88A3\\n3C55D7AF19CB22D184125AF8\\nB08541C518B59B3F4B40C596\\nFA37B8AD57B318509C060519\\n4F4A6A0E3B16355DFCE7B1A9\\n36118D6166B49CB0E7CCEB5A\\nBD5CE14FAA6806E420A65FFA\\nCBBD8BC43ED091697F9B3B52\\n418A0219A9D130B903450C70\\n4E00A2900766F058CA3D70BE\\n8F7A4431997DC058811E14D5\\nB4471E0DC78890E4A921CDA3\\n9B0EEABFCFD3FBCEAE595BD4\\n7BCE3D4A06FBFF4AE04AA106\\n72A59E8A1A1BD9E82145AA3A\\nFFA82A52DD2435292513BF5D\\n1440BC3BC7B7C6E13E10EEDD\\n5ADF2EF11ACB56F55EDC1255\\n745AC42C0635D93F7B23868B\\nCE48A5AA0AC5F108806E229A\\n481D671CEDD2C31854DA9C56\\nD1E992E8100A2F3372FD1F6C\\nF6C0CB99A0BFF9CD4BE744C7\\n19A82F557646B4024910D4EC\\nC4F73DF22A0907599C8375BD\\n5D91BB93BCB87621C983B40D\\n72B6203F729C399FDD1B8895\\n8D6338294134DE4D0C960098\\nB5F10B9EAE5449C5E0231E70\\nF9981156A64F76ED1D6F173C\\n'"
      ]
     },
     "execution_count": 5,
     "metadata": {},
     "output_type": "execute_result"
    }
   ],
   "source": [
    "# all the hashes\n",
    "'''\n",
    "FF6ED4EB36932D04B1FC3F96\n",
    "8AA0B2158A114E9EE5C39540\n",
    "358C91C098B1EAAF73615DC2\n",
    "160D7B869EBDE045B57A7CEC\n",
    "0626D401A7191185EC495B04\n",
    "F8E742BA84538AF6A9D96526\n",
    "8D3C2474BBCC470C3B0F4C88\n",
    "0B4CAE2344B78F228605E6E3\n",
    "BD9D4B20EFC90F20D408F805\n",
    "1A938B8A9025E1C9B1A2A07D\n",
    "197EA33F5DA4EBB58913DD76\n",
    "CF02F54B713BEA5A39242B14\n",
    "127BE495A34ADACF836A4A08\n",
    "07182F6782715652295C5080\n",
    "48A52CB718CC67056F4A0A07\n",
    "89020B21A96B8BCF780E86CF\n",
    "DC8C2DD490893E7B10DA020D\n",
    "EE270AD26040EE6AFC75F55A\n",
    "0E94AA5290F83F638761B450\n",
    "9C7DF887454459F95E9B88A3\n",
    "3C55D7AF19CB22D184125AF8\n",
    "B08541C518B59B3F4B40C596\n",
    "FA37B8AD57B318509C060519\n",
    "4F4A6A0E3B16355DFCE7B1A9\n",
    "36118D6166B49CB0E7CCEB5A\n",
    "BD5CE14FAA6806E420A65FFA\n",
    "CBBD8BC43ED091697F9B3B52\n",
    "418A0219A9D130B903450C70\n",
    "4E00A2900766F058CA3D70BE\n",
    "8F7A4431997DC058811E14D5\n",
    "B4471E0DC78890E4A921CDA3\n",
    "9B0EEABFCFD3FBCEAE595BD4\n",
    "7BCE3D4A06FBFF4AE04AA106\n",
    "72A59E8A1A1BD9E82145AA3A\n",
    "FFA82A52DD2435292513BF5D\n",
    "1440BC3BC7B7C6E13E10EEDD\n",
    "5ADF2EF11ACB56F55EDC1255\n",
    "745AC42C0635D93F7B23868B\n",
    "CE48A5AA0AC5F108806E229A\n",
    "481D671CEDD2C31854DA9C56\n",
    "D1E992E8100A2F3372FD1F6C\n",
    "F6C0CB99A0BFF9CD4BE744C7\n",
    "19A82F557646B4024910D4EC\n",
    "C4F73DF22A0907599C8375BD\n",
    "5D91BB93BCB87621C983B40D\n",
    "72B6203F729C399FDD1B8895\n",
    "8D6338294134DE4D0C960098\n",
    "B5F10B9EAE5449C5E0231E70\n",
    "F9981156A64F76ED1D6F173C\n",
    "'''"
   ]
  },
  {
   "cell_type": "code",
   "execution_count": 6,
   "metadata": {},
   "outputs": [],
   "source": [
    "# Not all messages correspond to its hash.\n",
    "# I have mispelt or copied the wrong word in some of your plaintext messages.\n",
    "# Apologies for some of the cringeworthy sentences that I have written :("
   ]
  },
  {
   "cell_type": "code",
   "execution_count": null,
   "metadata": {},
   "outputs": [],
   "source": []
  }
 ],
 "metadata": {
  "kernelspec": {
   "display_name": "Python [default]",
   "language": "python",
   "name": "python3"
  },
  "language_info": {
   "codemirror_mode": {
    "name": "ipython",
    "version": 3
   },
   "file_extension": ".py",
   "mimetype": "text/x-python",
   "name": "python",
   "nbconvert_exporter": "python",
   "pygments_lexer": "ipython3",
   "version": "3.6.5"
  }
 },
 "nbformat": 4,
 "nbformat_minor": 2
}
