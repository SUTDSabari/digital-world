{
 "cells": [
  {
   "cell_type": "code",
   "execution_count": 4,
   "metadata": {},
   "outputs": [
    {
     "name": "stdout",
     "output_type": "stream",
     "text": [
      "(50, '--', 0)\n",
      "(0, 'coke', 0)\n",
      "(0, 'coke', 0)\n",
      "(0, '--', 10)\n",
      "(50, '--', 0)\n",
      "(0, 'coke', 50)\n",
      "(0, '--', 10)\n"
     ]
    }
   ],
   "source": [
    "from libdw import sm\n",
    "\n",
    "class CM(sm.SM):\n",
    "    start_state = 0\n",
    "    \n",
    "    def get_next_values(self, state, inp):\n",
    "        if state == 0: \n",
    "            if inp == 100:\n",
    "                next_state = 0\n",
    "                output = (0,'coke',0)\n",
    "            elif inp == 50:\n",
    "                next_state = 50\n",
    "                output = (50, '--', 0)\n",
    "            else:\n",
    "                next_state = state\n",
    "                output = (state, '--', inp)\n",
    "            \n",
    "        if state == 50:\n",
    "            if inp == 100:\n",
    "                next_state = 0\n",
    "                output = (0,'coke',50)\n",
    "            elif inp == 50:\n",
    "                next_state = 0\n",
    "                output = (0,'coke',0)\n",
    "            else:\n",
    "                next_state = state\n",
    "                output = (state, '--', inp)\n",
    "            \n",
    "        return next_state, output\n",
    "    \n",
    "c=CM()\n",
    "c.start()\n",
    "print(c.step(50))  # (50, '--', 0)\n",
    "print(c.step(50))  # (0, 'coke', 0)\n",
    "print(c.step(100)) # (0, 'coke', 0)\n",
    "print(c.step(10))  # (0, '--', 10)\n",
    "print(c.step(50))  # (50, '--', 0)\n",
    "print(c.step(100)) # (0, 'coke', 50)\n",
    "print(c.step(10))  # (0, '--', 10)"
   ]
  },
  {
   "cell_type": "code",
   "execution_count": 13,
   "metadata": {},
   "outputs": [
    {
     "name": "stdout",
     "output_type": "stream",
     "text": [
      "120\n",
      "95\n",
      "80\n",
      "70\n",
      "90\n",
      "110\n"
     ]
    }
   ],
   "source": [
    "from libdw import sm\n",
    "\n",
    "class SimpleAccount(sm.SM):\n",
    "    def __init__(self, start_deposit):\n",
    "        self.start_state = start_deposit\n",
    "        \n",
    "    def get_next_values(self, state, inp):\n",
    "        if state < 100 and inp < 0:\n",
    "            next_state = state + inp - 5\n",
    "        else:\n",
    "            next_state = state + inp\n",
    "        return next_state, next_state  # because the next_state is also the output\n",
    "    \n",
    "acct = SimpleAccount(110)\n",
    "acct.start()\n",
    "print(acct.step(10))  # 120\n",
    "print(acct.step(-25)) # 95\n",
    "print(acct.step(-10)) # 80\n",
    "print(acct.step(-5))  # 70\n",
    "print(acct.step(20))  # 90\n",
    "print(acct.step(20))  # 110"
   ]
  },
  {
   "cell_type": "code",
   "execution_count": 33,
   "metadata": {},
   "outputs": [
    {
     "name": "stdout",
     "output_type": "stream",
     "text": [
      "[None, None, None, None, None, None, None, None, None, None, '#', ' ', 'c', 'o', 'm', 'm', 'e', 'n', 't', None, None, None, None, None, None, None, None, None, None, None, None]\n"
     ]
    },
    {
     "data": {
      "text/plain": [
       "\"[None, None, None, None, None, None, None, None, None, None, '#', ' ' ,'c' ,'o' ,'m' ,'m' ,'e', 'n', 't', None, None, None, None, None, None, None, None, None, None, None, None]\""
      ]
     },
     "execution_count": 33,
     "metadata": {},
     "output_type": "execute_result"
    }
   ],
   "source": [
    "from libdw import sm\n",
    "\n",
    "class CommentsSM(sm.SM):\n",
    "    start_state = False  \n",
    "    # True of in comment\n",
    "    \n",
    "    def get_next_values(self, state, inp):\n",
    "        if state == False:\n",
    "            if inp == \"#\":\n",
    "                return True, inp\n",
    "            else:\n",
    "                return False, None\n",
    "        else:\n",
    "            if inp == '\\n':\n",
    "                return False, None\n",
    "            else:\n",
    "                return True, inp\n",
    "            \n",
    "inputstr = 'def f(x): # comment\\n   return 1'\n",
    "m = CommentsSM()\n",
    "print(m.transduce(inputstr))\n",
    "'''[None, None, None, None, None, None, None, None, None, None, '#', ' ' ,'c' ,'o' ,'m' ,'m' ,'e', 'n', 't', None, None, None, None, None, None, None, None, None, None, None, None]'''"
   ]
  },
  {
   "cell_type": "code",
   "execution_count": 35,
   "metadata": {},
   "outputs": [
    {
     "name": "stdout",
     "output_type": "stream",
     "text": [
      "['d', 'e', 'f', None, None, None, None, None, None, None, None, None, None, None, None, None, None, None, None, None, None, None, None, 'r', 'e', 't', 'u', 'r', 'n', None, None]\n"
     ]
    },
    {
     "data": {
      "text/plain": [
       "\"['d', 'e', 'f', None, None, None, None, None, None, None, None, None, None, None, None, None, None, None, None, None, None, None, None, 'r', 'e', 't', 'u', 'r', 'n', None, None]\""
      ]
     },
     "execution_count": 35,
     "metadata": {},
     "output_type": "execute_result"
    }
   ],
   "source": [
    "from libdw import sm\n",
    "\n",
    "class FirstWordSM(sm.SM):\n",
    "    start_state = (False, False)\n",
    "    # is in first word, is after first word\n",
    "    \n",
    "    def get_next_values(self, state, inp):\n",
    "        if inp == \"\\n\":  # if newline, reset state\n",
    "            return (False, False), None\n",
    "        \n",
    "        if state == (False, False): # finding the first word\n",
    "            if inp != \" \": \n",
    "                return (True, False), inp\n",
    "            else:\n",
    "                return (False, False), None\n",
    "\n",
    "        if state == (True, False): # finding the stop of the first word\n",
    "            if inp == \" \":\n",
    "                return (False, True), None\n",
    "            else:\n",
    "                return (True, False), inp\n",
    "            \n",
    "        else: # don't care after the first word ended until the newline\n",
    "            return (False,True), None\n",
    "        \n",
    "inputstr = 'def f(x): # comment\\n   return 1'\n",
    "m = FirstWordSM()\n",
    "print(m.transduce(inputstr))\n",
    "'''['d', 'e', 'f', None, None, None, None, None, None, None, None, None, None, None, None, None, None, None, None, None, None, None, None, 'r', 'e', 't', 'u', 'r', 'n', None, None]'''"
   ]
  },
  {
   "cell_type": "code",
   "execution_count": 9,
   "metadata": {},
   "outputs": [
    {
     "data": {
      "text/plain": [
       "[0, 0, 1, 2, 3, 4, 0, 1, 0]"
      ]
     },
     "execution_count": 9,
     "metadata": {},
     "output_type": "execute_result"
    }
   ],
   "source": [
    "from libdw import sm\n",
    "\n",
    "class RunOfOddNumbers(sm.SM):\n",
    "    start_state = 0\n",
    "    \n",
    "    def get_next_values(self, state, inp):\n",
    "        if inp % 2 == 1:\n",
    "            next_state = state + 1 \n",
    "            output = next_state\n",
    "        else:\n",
    "            next_state = 0\n",
    "            output = 0\n",
    "        return next_state, next_state\n",
    "    \n",
    "c=RunOfOddNumbers()\n",
    "c.start()\n",
    "c.transduce((10,20,3,5,7,9,4,1,6))"
   ]
  },
  {
   "cell_type": "code",
   "execution_count": null,
   "metadata": {},
   "outputs": [],
   "source": []
  }
 ],
 "metadata": {
  "kernelspec": {
   "display_name": "Python [conda env:dw]",
   "language": "python",
   "name": "conda-env-dw-py"
  },
  "language_info": {
   "codemirror_mode": {
    "name": "ipython",
    "version": 3
   },
   "file_extension": ".py",
   "mimetype": "text/x-python",
   "name": "python",
   "nbconvert_exporter": "python",
   "pygments_lexer": "ipython3",
   "version": "3.6.5"
  }
 },
 "nbformat": 4,
 "nbformat_minor": 2
}
