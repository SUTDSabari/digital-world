{
 "cells": [
  {
   "cell_type": "code",
   "execution_count": 2,
   "metadata": {},
   "outputs": [],
   "source": [
    "from libdw import sm\n",
    "\n",
    "class CM(sm.SM):\n",
    "    start_state = 0\n",
    "    \n",
    "    def get_next_values(self, state, inp):\n",
    "        if state == 0: \n",
    "            if inp == 100:\n",
    "                next_state = 0\n",
    "                output = (0,'coke',0)\n",
    "            elif inp == 50:\n",
    "                next_state = 50\n",
    "                output = (50, '--', 0)\n",
    "            else:\n",
    "                next_state = state\n",
    "                output = (state, '--', inp)\n",
    "            \n",
    "        if state == 50:\n",
    "            if inp == 100:\n",
    "                next_state = 0\n",
    "                output = (0,'coke',50)\n",
    "            elif inp == 50:\n",
    "                next_state = 0\n",
    "                output = (0,'coke',0)\n",
    "            else:\n",
    "                next_state = state\n",
    "                output = (state, '--', inp)\n",
    "            \n",
    "        return next_state, output"
   ]
  },
  {
   "cell_type": "code",
   "execution_count": 3,
   "metadata": {},
   "outputs": [],
   "source": [
    "############################ QUESTION 1 #############################\n",
    "from libdw import sm\n",
    "class CM(sm.SM):\n",
    "    start_state = 0\n",
    "\n",
    "    def get_next_values(self,state, inp):\n",
    "        if inp != 50 and inp != 100:\n",
    "            next_state = state\n",
    "            output = (0, '--', inp)\n",
    "        elif state == 0 and inp == 100:\n",
    "            next_state = 0\n",
    "            output = (0,'coke',0)\n",
    "        elif state == 0 and inp == 50:\n",
    "            next_state = 1\n",
    "            output = (50, '--', 0)\n",
    "        elif state == 1 and inp == 100:\n",
    "            next_state = 0\n",
    "            output = (0, 'coke', 50)\n",
    "        elif state == 1 and inp == 50:\n",
    "            next_state = 0\n",
    "            output = (0, 'coke', 0)\n",
    "        return next_state, output"
   ]
  },
  {
   "cell_type": "code",
   "execution_count": 4,
   "metadata": {},
   "outputs": [],
   "source": [
    "############################ QUESTION 2 #############################\n",
    "from libdw import sm\n",
    "\n",
    "class SimpleAccount(sm.SM):\n",
    "    def __init__(self, start_deposit):\n",
    "        self.start_state = start_deposit\n",
    "        \n",
    "    def get_next_values(self, state, inp):\n",
    "        if state < 100 and inp < 0:\n",
    "            next_state = state + inp - 5\n",
    "        else:\n",
    "            next_state = state + inp\n",
    "        return next_state, next_state"
   ]
  },
  {
   "cell_type": "code",
   "execution_count": 5,
   "metadata": {},
   "outputs": [],
   "source": [
    "from libdw import sm\n",
    "#implement your class below\n",
    "\n",
    "class RunOfOddNumbers(sm.SM):\n",
    "    \n",
    "    start_state = 0\n",
    "    \n",
    "    def get_next_values(self, state, inp):\n",
    "        if inp % 2 == 1:\n",
    "            next_state = state + 1 \n",
    "            output = next_state\n",
    "        else:\n",
    "            next_state = 0\n",
    "            output = 0\n",
    "        return next_state, next_state"
   ]
  },
  {
   "cell_type": "code",
   "execution_count": null,
   "metadata": {},
   "outputs": [],
   "source": []
  }
 ],
 "metadata": {
  "kernelspec": {
   "display_name": "Python [conda env:dw]",
   "language": "python",
   "name": "conda-env-dw-py"
  },
  "language_info": {
   "codemirror_mode": {
    "name": "ipython",
    "version": 3
   },
   "file_extension": ".py",
   "mimetype": "text/x-python",
   "name": "python",
   "nbconvert_exporter": "python",
   "pygments_lexer": "ipython3",
   "version": "3.6.5"
  }
 },
 "nbformat": 4,
 "nbformat_minor": 2
}
