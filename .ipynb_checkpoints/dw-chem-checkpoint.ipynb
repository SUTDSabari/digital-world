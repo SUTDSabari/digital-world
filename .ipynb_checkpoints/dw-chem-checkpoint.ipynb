{
 "cells": [
  {
   "cell_type": "code",
   "execution_count": 4,
   "metadata": {
    "collapsed": true
   },
   "outputs": [],
   "source": [
    "### reference\n",
    "\n",
    "\"\"\"\n",
    "outputs the value of the associated Legendre function P_l,m(x) at a given point.\n",
    "l and m must be non-negative integers.\n",
    "\"\"\"\n",
    "import numpy as np\n",
    "from math import pi, sqrt, cos, factorial, e"
   ]
  },
  {
   "cell_type": "markdown",
   "metadata": {},
   "source": [
    "# Legendre Polynomial\n",
    "$$P_l(x) = \n",
    "\\frac{1}{2^l l!} \n",
    "\\left( \\frac{\\partial}{\\partial x} \\right)^l \n",
    "(x^2 - 1)^l$$"
   ]
  },
  {
   "cell_type": "code",
   "execution_count": 5,
   "metadata": {
    "collapsed": true
   },
   "outputs": [],
   "source": [
    "def legendre(l):\n",
    "    \"\"\"returns a legendre polynomial in terms of cos(theta)\"\"\"\n",
    "    if l == 0:\n",
    "        return lambda x: 1 # return a funciton that returns 1\n",
    "    p = np.poly1d([1, 0, -1]).__pow__(l) #create polynomial\n",
    "    p_deriv = p.deriv(l) #get degree-l derivative of (x^2 - 1)^l\n",
    "    #legendre_pol = np.poly1d([i/(2**l * math.factorial(l)) for i in p_deriv])\n",
    "    legendre_pol = p_deriv/(2**l * factorial(l))\n",
    " \n",
    "    def getpol(theta):\n",
    "        \"\"\"returns the value of the legendre polynomial\n",
    "        at the point x = cos(theta)\"\"\"\n",
    "        #only required if passing the output of legendre() as a function\n",
    "        pol = 0\n",
    "        for power, coeff in enumerate(legendre_pol):\n",
    "            pol += coeff*(cos(theta)**power)\n",
    "        return pol\n",
    "     \n",
    "    return legendre_pol #returns a poly1d object"
   ]
  },
  {
   "cell_type": "markdown",
   "metadata": {
    "collapsed": true
   },
   "source": [
    "# Associated Legendre Function\n",
    "\n",
    "$$P_l^m(x) = \n",
    "(1-x^2)^\\frac{|m|}{2} \n",
    "\\left(\\frac{\\partial}{\\partial x} \\right)^{|m|} \n",
    "P_l(x)$$"
   ]
  },
  {
   "cell_type": "code",
   "execution_count": 6,
   "metadata": {
    "collapsed": true
   },
   "outputs": [],
   "source": [
    "def assoc_legendre(m,l):\n",
    "    \"\"\"returns a function in terms of cos(theta) that is \n",
    "    the associated Legendre function for m,l\"\"\"\n",
    "    if l == 0 and m == 0:\n",
    "        return lambda x: 1 #returns a function that returns 1\n",
    " \n",
    "    elif abs(m) <= l:\n",
    "        legendre_pol = legendre(l)\n",
    "        legendre_pol_deriv = legendre_pol.deriv(abs(m)) if m != 0 else legendre_pol\n",
    " \n",
    "        def getassoc(theta):\n",
    "            \"\"\"returns the associated Legendre function at\n",
    "            the point x = cos(theta)\"\"\"\n",
    "            return legendre_pol_deriv(cos(theta))*((1 - cos(theta)**2)**abs(m/2.0))\n",
    "        return getassoc #returns a function in terms of x\n",
    " \n",
    "    else:\n",
    "        return lambda x: \"m cannot be greater than l\"  # what does this mean?\n",
    "        #returns a null-returning function if |m| > l"
   ]
  },
  {
   "cell_type": "markdown",
   "metadata": {},
   "source": [
    "$$Y_l^m(\\theta,\\phi) = \\epsilon \\sqrt{\n",
    "\\frac{2l + 1}{4 \\pi} \n",
    "\\frac{(l - |m|)!}{(l - |m|)!}}\n",
    "e^{i \\phi m} P_l^m(cos \\theta) \n",
    "$$"
   ]
  },
  {
   "cell_type": "code",
   "execution_count": 11,
   "metadata": {
    "collapsed": true
   },
   "outputs": [],
   "source": [
    "def angular_wave_func(m, l, theta, phi):\n",
    "    eps = -1**m if m > 0 else 1\n",
    "#     print \"\\nepsilon = \" + str(eps) + '\\n'\n",
    "    expr = sqrt((((2*l) + 1) * factorial(l - abs(m))) / ((4.0*pi) * factorial(l + abs(m))))\n",
    "#     print \"expr value for for m = %d, l = %d: \\n %.3f \\n\" % (m, l, expr)\n",
    "    p = assoc_legendre(m, l)(theta)\n",
    "#     print \"assoc_legendre value for m = %d, l = %d at x = %.2f: %.3f \\n\" %(m,l,cos(theta),p)\n",
    "    e_part = (e**(m*phi*1j))\n",
    "#     print \"Exponential part:\"\n",
    "#     print str(round(e_part.real, 5)) + \"   \" + str(round(e_part.imag, 5)) + 'j\\n'\n",
    "    y = eps * expr * e_part * p\n",
    "    return np.round(y, 5)"
   ]
  },
  {
   "cell_type": "code",
   "execution_count": 12,
   "metadata": {},
   "outputs": [
    {
     "name": "stdout",
     "output_type": "stream",
     "text": [
      " \n",
      "1 x\n",
      "0.5\n",
      "angular_wave_func(0,0,0,0)\n",
      "\n",
      "epsilon = 1\n",
      "\n",
      "expr value for for m = 0, l = 0: \n",
      " 0.282 \n",
      "\n",
      "assoc_legendre value for m = 0, l = 0 at x = 1.00: 1.000 \n",
      "\n",
      "Exponential part:\n",
      "1.0   0.0j\n",
      "\n",
      "(0.28209+0j)\n",
      "angular_wave_func (0,1,c.pi ,0)\n",
      "\n",
      "epsilon = 1\n",
      "\n",
      "expr value for for m = 0, l = 1: \n",
      " 0.489 \n",
      "\n",
      "assoc_legendre value for m = 0, l = 1 at x = -1.00: -1.000 \n",
      "\n",
      "Exponential part:\n",
      "1.0   0.0j\n",
      "\n",
      "(-0.4886+0j)\n",
      "angular_wave_func(1,1,c.pi/2,c.pi)\n",
      "\n",
      "epsilon = -1\n",
      "\n",
      "expr value for for m = 1, l = 1: \n",
      " 0.345 \n",
      "\n",
      "assoc_legendre value for m = 1, l = 1 at x = 0.00: 1.000 \n",
      "\n",
      "Exponential part:\n",
      "-1.0   0.0j\n",
      "\n",
      "(0.34549-0j)\n",
      "angular_wave_func (0,2,c.pi ,0)\n",
      "\n",
      "epsilon = 1\n",
      "\n",
      "expr value for for m = 0, l = 2: \n",
      " 0.631 \n",
      "\n",
      "assoc_legendre value for m = 0, l = 2 at x = -1.00: 1.000 \n",
      "\n",
      "Exponential part:\n",
      "1.0   0.0j\n",
      "\n",
      "(0.63078+0j)\n"
     ]
    }
   ],
   "source": [
    "print legendre(1)\n",
    "print assoc_legendre(1, 1)(pi/6)\n",
    " \n",
    "print 'angular_wave_func(0,0,0,0)'\n",
    "ans=angular_wave_func(0,0,0,0)\n",
    "print ans\n",
    "print 'angular_wave_func (0,1,c.pi ,0)'\n",
    "ans=angular_wave_func (0,1,pi ,0)\n",
    "print ans\n",
    "print 'angular_wave_func(1,1,c.pi/2,c.pi)'\n",
    "ans=angular_wave_func(1,1,pi/2,pi)\n",
    "print ans\n",
    "print 'angular_wave_func (0,2,c.pi ,0)'\n",
    "ans=angular_wave_func (0,2,pi ,0)\n",
    "print ans"
   ]
  },
  {
   "cell_type": "code",
   "execution_count": 9,
   "metadata": {},
   "outputs": [
    {
     "name": "stdout",
     "output_type": "stream",
     "text": [
      "angular_wave_func (2,3,c.pi ,0)\n",
      "(0.63078+0j)\n"
     ]
    }
   ],
   "source": [
    "print 'angular_wave_func (2,3,c.pi ,0)'\n",
    "ans=angular_wave_func (0,2,pi ,0)\n",
    "print ans"
   ]
  },
  {
   "cell_type": "code",
   "execution_count": null,
   "metadata": {
    "collapsed": true
   },
   "outputs": [],
   "source": []
  }
 ],
 "metadata": {
  "kernelspec": {
   "display_name": "Python 2",
   "language": "python",
   "name": "python2"
  },
  "language_info": {
   "codemirror_mode": {
    "name": "ipython",
    "version": 2
   },
   "file_extension": ".py",
   "mimetype": "text/x-python",
   "name": "python",
   "nbconvert_exporter": "python",
   "pygments_lexer": "ipython2",
   "version": "2.7.14"
  }
 },
 "nbformat": 4,
 "nbformat_minor": 2
}
