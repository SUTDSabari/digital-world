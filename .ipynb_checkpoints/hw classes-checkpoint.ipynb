{
 "cells": [
  {
   "cell_type": "code",
   "execution_count": 1,
   "metadata": {},
   "outputs": [
    {
     "name": "stdout",
     "output_type": "stream",
     "text": [
      "/anaconda3/bin/python\r\n"
     ]
    }
   ],
   "source": [
    "!which python\n"
   ]
  },
  {
   "cell_type": "code",
   "execution_count": 2,
   "metadata": {},
   "outputs": [
    {
     "ename": "NameError",
     "evalue": "name 'x' is not defined",
     "output_type": "error",
     "traceback": [
      "\u001b[0;31m---------------------------------------------------------------------------\u001b[0m",
      "\u001b[0;31mNameError\u001b[0m                                 Traceback (most recent call last)",
      "\u001b[0;32m<ipython-input-2-2d264e11d975>\u001b[0m in \u001b[0;36m<module>\u001b[0;34m()\u001b[0m\n\u001b[0;32m----> 1\u001b[0;31m \u001b[0;32mprint\u001b[0m \u001b[0mx\u001b[0m\u001b[0;34m\u001b[0m\u001b[0m\n\u001b[0m",
      "\u001b[0;31mNameError\u001b[0m: name 'x' is not defined"
     ]
    }
   ],
   "source": [
    "print x\n"
   ]
  },
  {
   "cell_type": "code",
   "execution_count": 3,
   "metadata": {},
   "outputs": [],
   "source": [
    "class Coordinate: # there is no parentheses here\n",
    "    \n",
    "    def __init__(self,x = 0, y = 0):\n",
    "        self.x = x  # you need to initialise here\n",
    "        self.y = y\n",
    "    \n",
    "    def magnitude(self):\n",
    "        return (self.x**2. + self.y**2.)**0.5\n",
    "    \n",
    "    def translate(self,dx,dy):\n",
    "        # return Coordinate(x+dx, y+dy) # no need to define \n",
    "        self.x += dx\n",
    "        self.y += dy\n",
    "    \n",
    "    def __eq__(self, other):\n",
    "        # what is the default behaviour?\n",
    "        return self.x == other.x and self.y == other.y\n",
    "    \n",
    "    def __str__(self):\n",
    "        return \"x = {}, y = {} check\".format(self.x, self.y)\n",
    "    \n",
    "    def __lt__(self, other): # less than\n",
    "        # default behavior:\n",
    "        # TypeError: unorderable types: Coordinate() < Coordinate()\n",
    "        return self.x < other.x and self.y < other.y"
   ]
  },
  {
   "cell_type": "code",
   "execution_count": null,
   "metadata": {},
   "outputs": [],
   "source": [
    "class Celsius:\n",
    "    def __init__(self,temperature = 0): \n",
    "        self._temperature = temperature\n",
    "        \n",
    "    def to_fahrenheit(self):\n",
    "        return self._temperature * 1.8 + 32.\n",
    "    \n",
    "    '''getter'''\n",
    "    def get_temperature(self):\n",
    "        return self._temperature\n",
    "    \n",
    "    '''setter'''\n",
    "    def set_temperature(self,value):\n",
    "        if value < -273:\n",
    "            value = -273\n",
    "        self._temperature = value\n",
    "        \n",
    "    temperature = property(get_temperature,\n",
    "                          set_temperature)\n",
    "        \n",
    "        "
   ]
  },
  {
   "cell_type": "code",
   "execution_count": null,
   "metadata": {},
   "outputs": [],
   "source": [
    "import time\n",
    "\n",
    "class StopWatch:\n",
    "    def __init__(self):\n",
    "        self.start_time = 0\n",
    "        self.end_time = -1\n",
    "        self.start()\n",
    "        \n",
    "    def start(self):\n",
    "        self.start_time = time.time()\n",
    "        self.end_time = -1\n",
    "        \n",
    "    def stop(self):\n",
    "        self.end_time = time.time()\n",
    "        \n",
    "    def elapsed_time(self):\n",
    "        if self.end_time < 0:\n",
    "            return None\n",
    "        return round(self.end_time - self.start_time,2)"
   ]
  },
  {
   "cell_type": "code",
   "execution_count": null,
   "metadata": {},
   "outputs": [],
   "source": [
    "import numpy as np\n",
    "\n",
    "class Line:\n",
    "    def __init__(self, c0, c1):\n",
    "        self.c0 = c0\n",
    "        self.c1 = c1\n",
    "        \n",
    "    def __call__(self, x):\n",
    "        return self.c0 + self.c1*x\n",
    "    \n",
    "    def table(self, L, R, n):\n",
    "        if n == 0:\n",
    "            return \"Error in printing table\"\n",
    "        elif R == L or n == 1:\n",
    "            return \"{:10.2f}{:10.2f}\\n\".format(R,self. __call__(R)) * n\n",
    "        lines = []\n",
    "        for x in np.arange(L, R + 0.5*(R-L)/(n-1), (R-L)/(n-1)):\n",
    "            lines.append(\"{:10.2f}{:10.2f}\\n\".format(x,self. __call__(x)))\n",
    "        return \"\".join(lines)\n",
    "     "
   ]
  },
  {
   "cell_type": "code",
   "execution_count": null,
   "metadata": {},
   "outputs": [],
   "source": [
    "from libdw import sm\n",
    "class CM(sm.SM):\n",
    "    start_state = 0\n",
    "    \n",
    "    def get_next_values(self, state, inp):\n",
    "        if state == 0: \n",
    "            if inp == 100:\n",
    "                next_state = 0\n",
    "                output = (0,'coke',0)\n",
    "            elif inp == 50:\n",
    "                next_state = 50\n",
    "                output = (50, '--', 0)\n",
    "            else:\n",
    "                next_state = state\n",
    "                output = (state, '--', inp)\n",
    "            \n",
    "        if state == 50:\n",
    "            if inp == 100:\n",
    "                next_state = 0\n",
    "                output = (0,'coke',50)\n",
    "            elif inp == 50:\n",
    "                next_state = 0\n",
    "                output = (0,'coke',0)\n",
    "            else:\n",
    "                next_state = state\n",
    "                output = (state, '--', inp)\n",
    "            \n",
    "        return next_state, output"
   ]
  },
  {
   "cell_type": "code",
   "execution_count": 4,
   "metadata": {},
   "outputs": [
    {
     "ename": "ImportError",
     "evalue": "No module named libdw",
     "output_type": "error",
     "traceback": [
      "\u001b[0;31m---------------------------------------------------------------------------\u001b[0m",
      "\u001b[0;31mImportError\u001b[0m                               Traceback (most recent call last)",
      "\u001b[0;32m<ipython-input-4-5b106b352e79>\u001b[0m in \u001b[0;36m<module>\u001b[0;34m()\u001b[0m\n\u001b[0;32m----> 1\u001b[0;31m \u001b[0;32mfrom\u001b[0m \u001b[0mlibdw\u001b[0m \u001b[0;32mimport\u001b[0m \u001b[0msm\u001b[0m\u001b[0;34m\u001b[0m\u001b[0m\n\u001b[0m\u001b[1;32m      2\u001b[0m \u001b[0;32mclass\u001b[0m \u001b[0mCM\u001b[0m\u001b[0;34m(\u001b[0m\u001b[0msm\u001b[0m\u001b[0;34m.\u001b[0m\u001b[0mSM\u001b[0m\u001b[0;34m)\u001b[0m\u001b[0;34m:\u001b[0m\u001b[0;34m\u001b[0m\u001b[0m\n\u001b[1;32m      3\u001b[0m     \u001b[0mstart_state\u001b[0m \u001b[0;34m=\u001b[0m \u001b[0;36m0\u001b[0m\u001b[0;34m\u001b[0m\u001b[0m\n\u001b[1;32m      4\u001b[0m \u001b[0;34m\u001b[0m\u001b[0m\n\u001b[1;32m      5\u001b[0m     \u001b[0;32mdef\u001b[0m \u001b[0mget_next_values\u001b[0m\u001b[0;34m(\u001b[0m\u001b[0mself\u001b[0m\u001b[0;34m,\u001b[0m \u001b[0mstate\u001b[0m\u001b[0;34m,\u001b[0m \u001b[0minp\u001b[0m\u001b[0;34m)\u001b[0m\u001b[0;34m:\u001b[0m\u001b[0;34m\u001b[0m\u001b[0m\n",
      "\u001b[0;31mImportError\u001b[0m: No module named libdw"
     ]
    }
   ],
   "source": []
  },
  {
   "cell_type": "code",
   "execution_count": null,
   "metadata": {},
   "outputs": [],
   "source": [
    "class Time:\n",
    "    def __init__(self, hours, minutes, seconds):\n",
    "        self._hours = hours\n",
    "        self._minutes = minutes\n",
    "        self._seconds = seconds\n",
    "        \n",
    "    def get_time(self):\n",
    "        return self._hours*3600 + self._minutes*60 + self._seconds\n",
    "    \n",
    "    def set_time(self, seconds_):\n",
    "        self._seconds = seconds_ % 60\n",
    "        self._minutes = int(((seconds_ - self._seconds) / 60) % 60)\n",
    "        self._hours = int((seconds_ - 60*self._minutes - self._seconds)/3600 % 24)\n",
    "\n",
    "    def __str__(self):\n",
    "        return \"Time: {:02d}:{:02d}:{:02d}\".format(self._hours,self._minutes,self._seconds)\n",
    "        \n",
    "    elapsed_time = property(get_time, set_time)\n",
    "         \n"
   ]
  },
  {
   "cell_type": "code",
   "execution_count": null,
   "metadata": {},
   "outputs": [],
   "source": [
    "class Polynomial(object):\n",
    "    def __init__(self, lst_ = []): \n",
    "        self.coeff = lst_\n",
    "        \n",
    "    def __call__(self, x):\n",
    "        return sum([self.coeff[a]*(x**a) for a in range(len(self.coeff))])\n",
    "            \n",
    "    def __add__(self, other):\n",
    "        if len(other.coeff) > len(self.coeff):\n",
    "            coeff = other.coeff[:]\n",
    "            for i in range(len(self.coeff)):\n",
    "                coeff[i] += self.coeff[i]\n",
    "        else:\n",
    "            coeff = self.coeff[:]\n",
    "            for i in range(len(other.coeff)):\n",
    "                self.coeff[i] += other.coeff[i]\n",
    "        return Polynomial(coeff)\n",
    "    \n",
    "    def __sub__(self, other):\n",
    "        if len(other.coeff) > len(self.coeff):\n",
    "            coeff = [-x for x in other.coeff]\n",
    "            for i in range(len(self.coeff)):\n",
    "                coeff[i] += self.coeff[i]\n",
    "        else:\n",
    "            coeff = [x for x in self.coeff]\n",
    "            for i in range(len(other.coeff)):\n",
    "                coeff[i] -= other.coeff[i]\n",
    "        return Polynomial(coeff)\n",
    "        \n",
    "    def __mul__(self, other):\n",
    "        coeff = [0]*(len(other.coeff)+len(self.coeff)-1)\n",
    "        for i in range(len(self.coeff)):\n",
    "            for j in range(len(other.coeff)):\n",
    "                coeff[i+j] += self.coeff[i]*other.coeff[j]\n",
    "        return Polynomial(coeff)\n",
    "        \n",
    "    def derivative(self):\n",
    "        return Polynomial([(i+1)*self.coeff[i+1] for i in range(len(self.coeff)-1)])\n",
    "    \n",
    "    def differentiate(self):\n",
    "        self.coeff = [(i+1)*self.coeff[i+1] for i in range(len(self.coeff)-1)]\n",
    "        return None\n",
    "        \n",
    "     "
   ]
  },
  {
   "cell_type": "code",
   "execution_count": null,
   "metadata": {},
   "outputs": [],
   "source": [
    "class Diff:\n",
    "    def __init__(self, f, h = 1e-4):\n",
    "        self._f = f\n",
    "        self._h = h\n",
    "        \n",
    "    def __call__(self, x):\n",
    "        return (self._f(x+self._h) - self._f(x))/self._h"
   ]
  },
  {
   "cell_type": "code",
   "execution_count": null,
   "metadata": {},
   "outputs": [],
   "source": [
    "class Time:\n",
    "    def __init__(self, hours, minutes, seconds):\n",
    "        self._hours = hours\n",
    "        self._minutes = minutes\n",
    "        self._seconds = seconds\n",
    "        \n",
    "    def get_time(self):\n",
    "        return self._hours*3600 + self._minutes*60 + self._seconds\n",
    "    \n",
    "    def set_time(self, seconds_):\n",
    "        self._seconds = seconds_ % 60\n",
    "        self._minutes = int(((seconds_ - self._seconds) / 60) % 60)\n",
    "        self._hours = int((seconds_ - 60*self._minutes - self._seconds)/3600 % 24)\n",
    "\n",
    "    def __str__(self):\n",
    "        return \"Time: {:02d}:{:02d}:{:02d}\".format(self._hours,self._minutes,self._seconds)\n",
    "        \n",
    "    elapsed_time = property(get_time, set_time)\n",
    "         "
   ]
  },
  {
   "cell_type": "code",
   "execution_count": null,
   "metadata": {},
   "outputs": [],
   "source": [
    "class Triangle:\n",
    "    def __init__(self, color = \"green\", filled = True, side1 = 1.0, side2 = 1.0, side3 = 1.0):\n",
    "        self.color = color\n",
    "        self.filled = filled\n",
    "        self.side1 = side1\n",
    "        self.side2 = side2\n",
    "        self.side3 = side3\n",
    "        \n",
    "    def perimeter(self):\n",
    "        return self.side1 + self.side2 + self.side3\n",
    "        "
   ]
  },
  {
   "cell_type": "code",
   "execution_count": null,
   "metadata": {},
   "outputs": [],
   "source": []
  }
 ],
 "metadata": {
  "kernelspec": {
   "display_name": "Python [conda env:cv]",
   "language": "python",
   "name": "conda-env-cv-py"
  },
  "language_info": {
   "codemirror_mode": {
    "name": "ipython",
    "version": 2
   },
   "file_extension": ".py",
   "mimetype": "text/x-python",
   "name": "python",
   "nbconvert_exporter": "python",
   "pygments_lexer": "ipython2",
   "version": "2.7.14"
  }
 },
 "nbformat": 4,
 "nbformat_minor": 2
}
