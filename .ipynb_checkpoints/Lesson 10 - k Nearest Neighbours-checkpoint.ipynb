{
 "cells": [
  {
   "cell_type": "markdown",
   "metadata": {},
   "source": []
  },
  {
   "cell_type": "markdown",
   "metadata": {},
   "source": [
    "# Recall \n",
    " <ul> <li>confusion matrix </li> <li>positive case </li><li>accuracy / sensitivity </li></ul>\n",
    " \n",
    " accuracy = (predicted true and actually true + predicted false and actually false)/total\n",
    " \n",
    " sensitivity = (predicted true and actually true) / all that is actually true\n",
    " \n",
    " In the prediction of diseases like cancer, we are "
   ]
  },
  {
   "cell_type": "code",
   "execution_count": null,
   "metadata": {
    "collapsed": true
   },
   "outputs": [],
   "source": [
    "import numpy as np\n",
    "from sklearn import linear_model, datasets\n",
    "from sklearn.model_selection import train_test_split \n",
    "from sklearn.metrics import mean_squared_error\n",
    "import matplotlib.pyplot as plt"
   ]
  },
  {
   "cell_type": "markdown",
   "metadata": {},
   "source": [
    "# The Iris Dataset \n",
    "\n",
    "## The Iris dataset has four features <BR> In the target, three categories (type of flower)\n",
    "\n",
    "## When we plot them on a graph, records from <BR>each category seem to be near each other.\n",
    "\n",
    "I chose the Iris dataset to illustrate this because the groupings are really obvious."
   ]
  },
  {
   "cell_type": "code",
   "execution_count": null,
   "metadata": {},
   "outputs": [],
   "source": [
    "bunchobject = datasets.load_iris()\n",
    "feature_index = [0,2]\n",
    "my_data = bunchobject.data[:,feature_index]\n",
    "''' the colours are according to the category'''\n",
    "plt.scatter(my_data[:,0],my_data[:,1],c=bunchobject.target)\n",
    "my_x = bunchobject.feature_names[0]\n",
    "my_y = bunchobject.feature_names[2]\n",
    "plt.xlabel(my_x)\n",
    "plt.ylabel(my_y)\n",
    "plt.title('The Iris Dataset')\n",
    "plt.show()"
   ]
  },
  {
   "cell_type": "markdown",
   "metadata": {},
   "source": [
    "# The k-Nearest Neighbours model (kNN)\n",
    "\n",
    "## So it would seem that if we had a new record to classify, <BR>  we can compare it against its neighbours <BR> and use the classification of its neighbours.\n",
    "\n",
    "## This is the intuition behind the k-Nearest Neighbours model"
   ]
  },
  {
   "cell_type": "markdown",
   "metadata": {},
   "source": [
    "## <font color = 'blue'> The classification of an (unknown) record is determined by <br>the majority of the classifications of its <font color = 'red'> k </font> nearest neighbours.</font>"
   ]
  },
  {
   "cell_type": "markdown",
   "metadata": {
    "collapsed": true
   },
   "source": [
    "## Let's begin. Put your code for get_metrics and <BR>normalize_minmax in these cells."
   ]
  },
  {
   "cell_type": "code",
   "execution_count": null,
   "metadata": {
    "collapsed": true
   },
   "outputs": [],
   "source": []
  },
  {
   "cell_type": "code",
   "execution_count": null,
   "metadata": {
    "collapsed": true
   },
   "outputs": [],
   "source": []
  },
  {
   "cell_type": "markdown",
   "metadata": {},
   "source": [
    "# The Python Code"
   ]
  },
  {
   "cell_type": "markdown",
   "metadata": {},
   "source": [
    "## Load the data and select the features you want to include \n",
    "\n",
    "For now the selection of features is an arbitrary decision"
   ]
  },
  {
   "cell_type": "code",
   "execution_count": null,
   "metadata": {
    "collapsed": true
   },
   "outputs": [],
   "source": []
  },
  {
   "cell_type": "markdown",
   "metadata": {},
   "source": [
    "## Normalize the data \n",
    "\n",
    "### Why normalize? The definition of \"nearest\" is by a distance measure \n",
    "\n",
    "### The default distance measure is the euclidean distance\n",
    "\n",
    "For features $x$ and $y$, the \"distance\" $= \\sqrt{ (x_1 - x_2)^2 + (y_1 - y_2)^2} $\n",
    "\n",
    "### Any feature that has a larger order of magnitude will have a <BR>larger effect on this value. \n",
    "\n",
    "### Therefore we normalize to ensure that no single feature <BR>will dominate this calculation. "
   ]
  },
  {
   "cell_type": "code",
   "execution_count": null,
   "metadata": {
    "collapsed": true
   },
   "outputs": [],
   "source": []
  },
  {
   "cell_type": "markdown",
   "metadata": {},
   "source": [
    "## Split the data into the training and test set "
   ]
  },
  {
   "cell_type": "code",
   "execution_count": null,
   "metadata": {
    "collapsed": true
   },
   "outputs": [],
   "source": []
  },
  {
   "cell_type": "markdown",
   "metadata": {},
   "source": [
    "## Get an instance of the classifier and fit it to the training set\n",
    "\n",
    "## The training set now becomes the nearest neighbours <BR> for the model to make predictions on the test set. \n",
    "\n",
    "## <font color = 'blue'> Your training set data IS the model</font>\n",
    "\n",
    "## Arbitrarily select the value of <font color = 'red'> k </font> (for now)"
   ]
  },
  {
   "cell_type": "code",
   "execution_count": null,
   "metadata": {
    "collapsed": true
   },
   "outputs": [],
   "source": []
  },
  {
   "cell_type": "markdown",
   "metadata": {},
   "source": [
    "## Make predictions on the test set "
   ]
  },
  {
   "cell_type": "code",
   "execution_count": null,
   "metadata": {
    "collapsed": true
   },
   "outputs": [],
   "source": []
  },
  {
   "cell_type": "markdown",
   "metadata": {},
   "source": [
    "## Generate the confusion matrix"
   ]
  },
  {
   "cell_type": "code",
   "execution_count": null,
   "metadata": {
    "collapsed": true
   },
   "outputs": [],
   "source": []
  },
  {
   "cell_type": "markdown",
   "metadata": {},
   "source": [
    "# Actually, divide your dataset into three parts\n",
    "\n",
    "## We need a validation process to select the value of <font color ='red'> k </font>\n",
    "\n",
    "Because you arbitrarily selected it just now. How do you know it produces the best accuracy? \n",
    "\n",
    "## The sets are now <ul> <li> training set</li><li><font color='red'>validation set</font></li> <li>test set </li></ul>\n",
    "### Make predictions on the <font color = 'red'>validation set</font> for different values of <font color = 'red'>k </font>. \n",
    "\n",
    "### Choose the <font color = 'red'> k </font> that gives you the best accuracy (or your chosen metric)\n",
    "\n",
    "### With this value of <font color = 'red'>k</font>, you have your final model. \n",
    "\n",
    "### Use the <font color = 'blue'>test set</font> to get an idea of how your model will perform on data that it has not seen. "
   ]
  },
  {
   "cell_type": "code",
   "execution_count": null,
   "metadata": {
    "collapsed": true
   },
   "outputs": [],
   "source": []
  }
 ],
 "metadata": {
  "kernelspec": {
   "display_name": "Python [default]",
   "language": "python",
   "name": "python3"
  },
  "language_info": {
   "codemirror_mode": {
    "name": "ipython",
    "version": 3
   },
   "file_extension": ".py",
   "mimetype": "text/x-python",
   "name": "python",
   "nbconvert_exporter": "python",
   "pygments_lexer": "ipython3",
   "version": "3.6.4"
  }
 },
 "nbformat": 4,
 "nbformat_minor": 2
}
