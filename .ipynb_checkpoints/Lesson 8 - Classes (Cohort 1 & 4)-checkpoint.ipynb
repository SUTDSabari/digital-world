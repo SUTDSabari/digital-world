{
 "cells": [
  {
   "cell_type": "markdown",
   "metadata": {},
   "source": [
    "## Previously you would ask: <BR> Given a pair of coordinates, how do we calculate the displacement? "
   ]
  },
  {
   "cell_type": "markdown",
   "metadata": {},
   "source": [
    "## Now we would ask: <BR> Given a pair of coordinates, what are some things we can do/calculate? "
   ]
  },
  {
   "cell_type": "markdown",
   "metadata": {},
   "source": [
    "# Anatomy \n",
    "\n",
    "## Initializer/Constructor \n",
    "\n",
    "this is where you initialize your instance variables  \n",
    "\n",
    "all python classes ought to start with this method \n",
    "\n",
    "## methods attached to the object\n",
    "\n",
    "this is where your design comes in\n",
    "\n",
    "## magic methods\n",
    "\n",
    "comparison methods (recall we could say one list is equal/less than another?) \n",
    "\n",
    "string conversion methods (recall we could apply the print function directly) "
   ]
  },
  {
   "cell_type": "code",
   "execution_count": 1,
   "metadata": {},
   "outputs": [],
   "source": [
    "import math \n",
    "\n",
    "class Coordinate:\n",
    "    \n",
    "    def __init__(self,x = 0, y = 0):\n",
    "        self.x = x \n",
    "        self.y = y \n",
    "    \n",
    "    def magnitude(self):\n",
    "        mag = math.sqrt( self.x*self.x + self.y*self.y)\n",
    "        return mag \n",
    "    \n",
    "    def translate(self,dx,dy):\n",
    "        self.x = self.x + dx\n",
    "        self.y = self.y + dy\n",
    "        '''no need to return anything'''\n",
    "    \n",
    "    def __eq__(self, other):\n",
    "        is_x_equal = self.x == other.x \n",
    "        is_y_equal = self.y == other.y \n",
    "        return is_x_equal and is_y_equal \n",
    "    \n",
    "    def __str__(self):\n",
    "        '''up to you to define what\n",
    "        you want the print statement to show'''\n",
    "        output = 'x = ' + str(self.x) + ',y = '+ str(self.y)\n",
    "        return output \n",
    "    \n",
    "    def __lt__(self, other):\n",
    "        is_x_less = self.x < other.x\n",
    "        is_y_less = self.y < other.y \n",
    "        return is_x_less and is_y_less\n",
    "    "
   ]
  },
  {
   "cell_type": "code",
   "execution_count": 2,
   "metadata": {},
   "outputs": [
    {
     "name": "stdout",
     "output_type": "stream",
     "text": [
      "x = 3,y = 2\n",
      "x = 3.5,y = 2.3\n",
      "True\n",
      "x = 0,y = 0\n",
      "True\n"
     ]
    }
   ],
   "source": [
    "p1 = Coordinate(3,2)\n",
    "print(p1)\n",
    "p1.translate(0.5,0.3)\n",
    "print(p1)\n",
    "p2 = Coordinate(3.5,2.3)\n",
    "print(p1 == p2)\n",
    "\n",
    "p3 = Coordinate()\n",
    "print(p3)\n",
    "print(p3 < p2)"
   ]
  },
  {
   "cell_type": "code",
   "execution_count": 3,
   "metadata": {},
   "outputs": [],
   "source": [
    "'''Cohort Question 2'''\n",
    "class Celsius:\n",
    "    \n",
    "    def __init__(self, temp):\n",
    "        self._temperature = temp #<-- make one change\n",
    "    \n",
    "    '''getter'''\n",
    "    def get_temperature(self):\n",
    "        print(\"getter is called\") #<---\n",
    "        return self._temperature\n",
    "    \n",
    "    '''setter: takes care of validity'''\n",
    "    def set_temperature(self, t):\n",
    "        print(\"setter is called\") #<----\n",
    "        if( t < -273):\n",
    "            self._temperature = -273\n",
    "        else:\n",
    "            self._temperature = t \n",
    "            \n",
    "    temperature = property(get_temperature,\n",
    "                          set_temperature)\n"
   ]
  },
  {
   "cell_type": "code",
   "execution_count": 4,
   "metadata": {},
   "outputs": [
    {
     "name": "stdout",
     "output_type": "stream",
     "text": [
      "setter is called\n",
      "getter is called\n",
      "-273\n"
     ]
    }
   ],
   "source": [
    "t = Celsius(-300)\n",
    "t.temperature = -300\n",
    "print(t.temperature)"
   ]
  },
  {
   "cell_type": "markdown",
   "metadata": {},
   "source": [
    "## Reminders for Mid-Term\n",
    "\n",
    "### Put your code in Vocareum regularly. It autosaves your work. \n",
    "\n",
    "### Do not wait till the end to submit or put your code at the last 15 mins <BR> because of network congestion. \n",
    "\n",
    "### Please read the announcement on Piazza"
   ]
  },
  {
   "cell_type": "code",
   "execution_count": null,
   "metadata": {
    "collapsed": true
   },
   "outputs": [],
   "source": []
  },
  {
   "cell_type": "markdown",
   "metadata": {},
   "source": [
    "# More on the python property\n",
    "\n",
    "## The python property makes classes easier to update. <BR> There will not be a need to make users of your class change code. \n",
    "\n",
    "### Let's say your version 1 of Celsius class was written like this.\n",
    "\n",
    "### The temperature attribute is designed to be modified directly. "
   ]
  },
  {
   "cell_type": "code",
   "execution_count": 5,
   "metadata": {
    "collapsed": true
   },
   "outputs": [],
   "source": [
    "class Celsius:\n",
    "    \n",
    "    def __init__(self, t):\n",
    "        self.temperature = t\n",
    "    \n",
    "    def to_fahrenheit(self):\n",
    "        pass"
   ]
  },
  {
   "cell_type": "markdown",
   "metadata": {},
   "source": [
    "### Then users of your class could write code like that. "
   ]
  },
  {
   "cell_type": "code",
   "execution_count": 7,
   "metadata": {},
   "outputs": [
    {
     "name": "stdout",
     "output_type": "stream",
     "text": [
      "-300\n"
     ]
    }
   ],
   "source": [
    "c = Celsius(100)\n",
    "c.temperature = -300\n",
    "print(c.temperature)"
   ]
  },
  {
   "cell_type": "markdown",
   "metadata": {},
   "source": [
    "### Hey, the temperature is invalid. \n",
    "\n",
    "### We'll put in code to tackle that. \n",
    "\n",
    "### We'll put in a \"private\" attribute with getter & setter methods. \n",
    "\n",
    "\n",
    "A private attribute means that users are not allowed to access it directly. \n",
    "\n",
    "Attributes with a leading underscore is a convention that indicates that it is private. \n",
    "It tells programmers using your class not to access it directly. \n",
    "\n",
    "However, in practice, Python doesn't stop you from doing so. \n",
    "\n",
    "It's like, you can cross the road at the red light if there are no cars, but you are actually not supposed to do it, and you should not do it :D\n",
    "\n",
    "### This is Version 2"
   ]
  },
  {
   "cell_type": "code",
   "execution_count": 3,
   "metadata": {
    "collapsed": true
   },
   "outputs": [],
   "source": [
    "'''Cohort Question 2'''\n",
    "class Celsius:\n",
    "    \n",
    "    def __init__(self, temp):\n",
    "        self._temperature = temp #<-- make one change\n",
    "    \n",
    "    '''getter'''\n",
    "    def get_temperature(self):\n",
    "        print(\"getter is called\") #<---\n",
    "        return self._temperature\n",
    "    \n",
    "    '''setter: takes care of validity'''\n",
    "    def set_temperature(self, t):\n",
    "        print(\"setter is called\") #<----\n",
    "        if( t < -273):\n",
    "            self._temperature = -273\n",
    "        else:\n",
    "            self._temperature = t "
   ]
  },
  {
   "cell_type": "markdown",
   "metadata": {},
   "source": [
    "### Notice the property definition is not included. So, at this stage, if your class was left as it is, it will not work with the original code that used Version 1 of your class. Instead, users would have to modify their code like this to use Version 2. This is a problem when there are many lines of code to maintain. "
   ]
  },
  {
   "cell_type": "code",
   "execution_count": 6,
   "metadata": {},
   "outputs": [
    {
     "name": "stdout",
     "output_type": "stream",
     "text": [
      "setter is called\n",
      "getter is called\n",
      "-273\n"
     ]
    }
   ],
   "source": [
    "c = Celsius(100)\n",
    "c.set_temperature(-300)\n",
    "print(c.get_temperature())"
   ]
  },
  {
   "cell_type": "markdown",
   "metadata": {},
   "source": [
    "### By putting in the property definition in your class, the user of your class need not change any code, and can use the same code that makes use of Version 1 of your class. \n",
    "\n",
    "### The following cell shows Version 3 of the Celsius class with the property definition. "
   ]
  },
  {
   "cell_type": "code",
   "execution_count": 4,
   "metadata": {
    "collapsed": true
   },
   "outputs": [],
   "source": [
    "class Celsius:\n",
    "    \n",
    "    def __init__(self, temp):\n",
    "        self._temperature = temp #<-- make one change\n",
    "    \n",
    "    '''getter'''\n",
    "    def get_temperature(self):\n",
    "        print(\"getter is called\") #<---\n",
    "        return self._temperature\n",
    "    \n",
    "    '''setter: takes care of validity'''\n",
    "    def set_temperature(self, t):\n",
    "        print(\"setter is called\") #<----\n",
    "        if( t < -273):\n",
    "            self._temperature = -273\n",
    "        else:\n",
    "            self._temperature = t \n",
    "    \n",
    "    temperature = property(get_temperature,set_temperature)"
   ]
  },
  {
   "cell_type": "markdown",
   "metadata": {},
   "source": [
    "### Users of your class can now go back to the original version 1 code. \n",
    "\n",
    "Everyone is happy because you modified your class but it doesn't translate into more work for those programmers who use your class ... "
   ]
  },
  {
   "cell_type": "code",
   "execution_count": 5,
   "metadata": {},
   "outputs": [
    {
     "name": "stdout",
     "output_type": "stream",
     "text": [
      "setter is called\n",
      "getter is called\n",
      "-273\n"
     ]
    }
   ],
   "source": [
    "c = Celsius(100)\n",
    "c.temperature = -300\n",
    "print(c.temperature)"
   ]
  },
  {
   "cell_type": "markdown",
   "metadata": {},
   "source": [
    "### Ok, this is the end of the discussion on the property. \n",
    "\n",
    "### Side note: The __eq__ magic method is up to you to define. In an extre"
   ]
  },
  {
   "cell_type": "code",
   "execution_count": 14,
   "metadata": {
    "collapsed": true
   },
   "outputs": [],
   "source": [
    "# magic methods\n",
    "class Money:\n",
    "    def __init__(self, value):\n",
    "        self.value = value\n",
    "    \n",
    "    def __eq__(self, other):\n",
    "        return other.value == 2*self.value\n",
    "    \n",
    "# list of magic methods here:\n",
    "# file:///Users/hkmac/Desktop/python-3.6.4-docs-html/reference/datamodel.html\n",
    "\n",
    "print(Money(100) == Money(200))\n",
    "print(Money(200) == Money(100))\n",
    "print(Money(100) == Money(100))"
   ]
  },
  {
   "cell_type": "code",
   "execution_count": null,
   "metadata": {},
   "outputs": [],
   "source": []
  },
  {
   "cell_type": "code",
   "execution_count": null,
   "metadata": {},
   "outputs": [],
   "source": []
  },
  {
   "cell_type": "code",
   "execution_count": 44,
   "metadata": {},
   "outputs": [],
   "source": [
    "class Polynomial(object):\n",
    "    def __init__(self, lst_): \n",
    "        print(\"hey_i\")\n",
    "        self.coeff = lst_\n",
    "    \n",
    "    def to_fahrenheit(self):\n",
    "        print(\"hey_t\")\n",
    "        return self.coeff * 1.8 + 32.\n",
    "    \n",
    "    #'''getter'''\n",
    "    #def get_temperature(self):\n",
    "     #   print(\"hey_g\")\n",
    "     #   return self.coeff\n",
    "    \n",
    "    #'''setter'''\n",
    "    #def set_temperature(self,value):\n",
    "     #   print(\"hey_s\")\n",
    "     #   self.coeff = value\n",
    "        \n",
    "    #coeff = property(get_temperature, set_temperature)\n",
    "\n",
    "\n",
    "#class Polynomial:\n",
    "#    def __init__(self, lst_):\n",
    "#        self._coeff = lst_\n",
    "#        \n",
    "#    '''getter'''\n",
    "#    def get_coeff(self):\n",
    "#        return self.coeff\n",
    "#    \n",
    "#    '''setter'''\n",
    "#    def set_coeff(self, lst):\n",
    "#        self.coeff = lst\n",
    "#        \n",
    "#    \n",
    "#    \n",
    "#    coeff = property(get_coeff, set_coeff)\n",
    "#    \n",
    "        \n",
    "    def __add__(self, other):\n",
    "        if len(other.coeff) > len(self.coeff):\n",
    "            coeff = other.coeff[:]\n",
    "            for i in range(len(self.coeff)):\n",
    "                coeff[i] += self.coeff[i]\n",
    "        else:\n",
    "            coeff = self.coeff[:]\n",
    "            for i in range(len(other.coeff)):\n",
    "                self.coeff[i] += other.coeff[i]\n",
    "        return Polynomial(coeff)\n",
    "    \n",
    "    def __sub__(self, other):\n",
    "        pass\n",
    "        #if len(other.coeff) > len(self.coeff):\n",
    "        #    for i in range(len(self.coeff)):\n",
    "        #        other.coeff[i] -= self.coeff[i]\n",
    "        #    self.coeff[i] = other.coeff[i]\n",
    "        #else:\n",
    "        #    for i in range(len(other.coeff)):\n",
    "        #        self.coeff[i] -= other.coeff[i]\n",
    "        \n",
    "    def __mul__(self, other):\n",
    "        coeff = [0]*(len(other.coeff)+len(self.coeff))\n",
    "        for i in range(len(self.coeff)):\n",
    "            for j in range(len(other.coeff)):\n",
    "                coeff[i+j] += self.coeff[i]*other.coeff[j]\n",
    "        return Polynomial(coeff)\n"
   ]
  },
  {
   "cell_type": "code",
   "execution_count": 48,
   "metadata": {},
   "outputs": [
    {
     "name": "stdout",
     "output_type": "stream",
     "text": [
      "hey_i\n",
      "hey_i\n",
      "hey_i\n",
      "[1, 0, 0, 0, -6, -1]\n"
     ]
    }
   ],
   "source": []
  },
  {
   "cell_type": "code",
   "execution_count": 49,
   "metadata": {},
   "outputs": [
    {
     "name": "stdout",
     "output_type": "stream",
     "text": [
      "hey_i\n",
      "[0, 1, -1, 0, -6, 5, 1, 0]\n"
     ]
    }
   ],
   "source": [
    "\n"
   ]
  },
  {
   "cell_type": "code",
   "execution_count": 14,
   "metadata": {},
   "outputs": [
    {
     "name": "stdout",
     "output_type": "stream",
     "text": [
      "hey_i\n",
      "hey_i\n",
      "hey\n",
      "[1, 0, 0, 0, -6, -1]\n"
     ]
    }
   ],
   "source": []
  },
  {
   "cell_type": "code",
   "execution_count": null,
   "metadata": {},
   "outputs": [],
   "source": [
    "class Polynomial(object):\n",
    "    def __init__(self, lst_): \n",
    "        print(\"hey_i\")\n",
    "        self.coeff = lst_\n",
    "        \n",
    "    def __add__(self, other):\n",
    "        print(\"hey\")\n",
    "        if len(other.coeff) > len(self.coeff):\n",
    "            for i in range(len(self.coeff)):\n",
    "                other.coeff[i] += self.coeff[i]\n",
    "            self.coeff[:] = other.coeff[:]\n",
    "            \n",
    "        else:\n",
    "            for i in range(len(other.coeff)):\n",
    "                self.coeff[i] += other.coeff[i]\n",
    "        return self\n",
    "    \n",
    "            \n",
    "    \n",
    "    def __sub__(self, other):\n",
    "        pass\n",
    "        #if len(other.coeff) > len(self.coeff):\n",
    "        #    for i in range(len(self.coeff)):\n",
    "        #        other.coeff[i] -= self.coeff[i]\n",
    "        #    self.coeff[i] = other.coeff[i]\n",
    "        #else:\n",
    "        #    for i in range(len(other.coeff)):\n",
    "        #        self.coeff[i] -= other.coeff[i]\n",
    "        \n",
    "    def __mul__(self, other):\n",
    "        pass"
   ]
  },
  {
   "cell_type": "code",
   "execution_count": null,
   "metadata": {},
   "outputs": [],
   "source": []
  }
 ],
 "metadata": {
  "kernelspec": {
   "display_name": "Python [default]",
   "language": "python",
   "name": "python3"
  },
  "language_info": {
   "codemirror_mode": {
    "name": "ipython",
    "version": 3
   },
   "file_extension": ".py",
   "mimetype": "text/x-python",
   "name": "python",
   "nbconvert_exporter": "python",
   "pygments_lexer": "ipython3",
   "version": "3.6.5"
  }
 },
 "nbformat": 4,
 "nbformat_minor": 2
}
