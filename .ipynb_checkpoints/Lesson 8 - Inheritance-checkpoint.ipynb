{
 "cells": [
  {
   "cell_type": "markdown",
   "metadata": {},
   "source": [
    "# Inheritance \n",
    "\n",
    "### This material is adapted from Chapter 12 of \"Introduction to Programming Using Python\" by Liang. \n",
    "\n",
    "## Suppose you want to model geometric objects like circles, squares.  Hence you write the following class to model some properties that all geometric objects would have. \n",
    "\n",
    "You realize that all of them have very similar properties, like its color, line thickness and whether it is filled or not. So you have the following class. "
   ]
  },
  {
   "cell_type": "code",
   "execution_count": null,
   "metadata": {
    "collapsed": true
   },
   "outputs": [],
   "source": [
    "class GeometricObject(object):\n",
    "    \n",
    "    def __init__(self, color = 'green'):\n",
    "        self.color = color\n",
    "    \n",
    "    def get_color(self):\n",
    "        return self._color\n",
    "    \n",
    "    def set_color(self,color):\n",
    "        allowed = ['green','blue','red','white']\n",
    "        self._color = color if color in allowed else 'white'\n",
    "        \n",
    "    color = property(get_color,set_color)\n",
    "    \n",
    "    def __str__(self):\n",
    "        return 'GeometricObject: ' + self.color"
   ]
  },
  {
   "cell_type": "code",
   "execution_count": null,
   "metadata": {},
   "outputs": [],
   "source": [
    "a = GeometricObject()\n",
    "print(a.color)"
   ]
  },
  {
   "cell_type": "markdown",
   "metadata": {},
   "source": [
    "## Now you want to write a class for Circles. Do you <BR>(a) write a completely new class or <BR>(b) reuse the existing code? \n",
    "\n",
    "## Using inheritance, python allows us to go for Option (b)"
   ]
  },
  {
   "cell_type": "code",
   "execution_count": null,
   "metadata": {},
   "outputs": [],
   "source": [
    "class Circle(GeometricObject):\n",
    "    def __init__(self, color = 'green', radius = 10):\n",
    "        super().__init__(color)\n",
    "        self.radius = radius \n",
    "        \n",
    "    def get_radius(self):\n",
    "        return self._radius\n",
    "    \n",
    "    def set_radius(self,radius):\n",
    "        self._radius = radius if radius > 0 else 0\n",
    "        \n",
    "    radius = property(get_radius, set_radius)\n",
    "    \n",
    "    def __str__(self):\n",
    "        return 'Circle: ' + self.color + ',radius: ' + str(self.radius)\n",
    "    "
   ]
  },
  {
   "cell_type": "code",
   "execution_count": null,
   "metadata": {},
   "outputs": [],
   "source": [
    "b = Circle()\n",
    "print(b.color, b.radius)\n",
    "print('b is an instance of GeometricObject:',isinstance(b,GeometricObject))"
   ]
  },
  {
   "cell_type": "markdown",
   "metadata": {},
   "source": [
    "## Is-A relationship\n",
    "\n",
    "### You realize that you have reused the code from your GeometricObject class in your circle class. \n",
    "\n",
    "### We say that the Circle class is a <font color = 'red'> sub-class, child class</font> of GeometricObject.  \n",
    "\n",
    "### We say that the GeometricObject class is a <font color = 'red'> super-class, parent class </font> of Circle. \n",
    "\n",
    "### The Circle class and the GeometricObject class have an <font color = 'red'> is-a </font> relationship. \n",
    "\n",
    "### A sub-class is NOT a subset of a super-class. \n",
    "\n",
    "### On the contrary, a sub-class would have more information than a super-class. "
   ]
  },
  {
   "cell_type": "markdown",
   "metadata": {},
   "source": [
    "## Clicker Question \n",
    "\n",
    "### I want to design two classes, one for SoccerPlayer, one for GoalKeeper. <BR>Which statement is True? \n",
    "\n",
    "### (a) SoccerPlayer will be a sub-class of GoalKeeper\n",
    "### (b) SoccerPlayer will be a super-class of GoalKeeper\n",
    "\n",
    "#### End ---"
   ]
  },
  {
   "cell_type": "markdown",
   "metadata": {},
   "source": [
    "## Overriding \n",
    "\n",
    "### A method in a sub-class overrides a method <font color = 'red'> of the same name </font> in the super-class. \n",
    "\n",
    "### This means that when such a method is executed, the new definition will be used. \n",
    "\n",
    "### What would happen when you delete the __str__ method in Circle class? "
   ]
  },
  {
   "cell_type": "code",
   "execution_count": null,
   "metadata": {},
   "outputs": [],
   "source": [
    "print(a)\n",
    "print(b)"
   ]
  },
  {
   "cell_type": "markdown",
   "metadata": {},
   "source": [
    "## Example \n",
    "\n",
    "### From the Coordinate class in Cohort Question 1, <BR>write a class Coordinate3D for three-dimensional coordinates. "
   ]
  },
  {
   "cell_type": "code",
   "execution_count": null,
   "metadata": {
    "collapsed": true
   },
   "outputs": [],
   "source": [
    "import math\n",
    "class Coordinate:\n",
    "    \n",
    "    def __init__(self,x = 0, y = 0):\n",
    "        self.x = x\n",
    "        self.y = y\n",
    "    \n",
    "    def magnitude(self):\n",
    "        mag = math.sqrt( self.x*self.x + self.y*self.y)\n",
    "        return mag\n",
    "    \n",
    "    def translate(self,dx,dy):\n",
    "        self.x = self.x + dx \n",
    "        self.y = self.y + dy\n",
    "    \n",
    "    def __eq__(self, other):\n",
    "        print('eq magic method is called')\n",
    "        eps = 1e-6\n",
    "        is_x_equal = abs( self.x - other.x) < eps \n",
    "        is_y_equal = abs( self.y - other.y) < eps \n",
    "        return is_x_equal and is_y_equal "
   ]
  },
  {
   "cell_type": "code",
   "execution_count": null,
   "metadata": {
    "collapsed": true
   },
   "outputs": [],
   "source": []
  },
  {
   "cell_type": "markdown",
   "metadata": {},
   "source": [
    "## Has-A relationship\n",
    "\n",
    "### A class can have an instance or instances of another class, stored as attributes.\n",
    "\n",
    "### In the example below, the manager attribute of SoccerPlayer is an instance of the Manager class. "
   ]
  },
  {
   "cell_type": "code",
   "execution_count": null,
   "metadata": {
    "collapsed": true
   },
   "outputs": [],
   "source": [
    "class SoccerPlayer:\n",
    "    \n",
    "    def __init__ (self, name, jersey):\n",
    "        self.name = name\n",
    "        self.jersey = jersey \n",
    "        \n",
    "    def set_manager(self, manager):\n",
    "        self.manager = manager\n",
    "        \n",
    "class Manager:\n",
    "    \n",
    "    def __init__ (self, name, country):\n",
    "        self.name = name\n",
    "        self.country = country\n",
    "        self.starting_lineup = []\n",
    "    \n",
    "    def add_player(self, player):\n",
    "        self.starting_lineup.append(player)\n",
    "    "
   ]
  },
  {
   "cell_type": "markdown",
   "metadata": {},
   "source": [
    "### The following code adds a manager instance to a player instance. \n",
    "\n",
    "### A SoccerPlayer <font color='red'> has a </font> Manager. "
   ]
  },
  {
   "cell_type": "code",
   "execution_count": null,
   "metadata": {},
   "outputs": [],
   "source": [
    "romero_player = SoccerPlayer('Romero',20)\n",
    "morinho_manager = Manager('Morinho','Portugal')\n",
    "romero_player.set_manager(morinho_manager)\n",
    "\n",
    "print(romero_player.manager.name)"
   ]
  },
  {
   "cell_type": "markdown",
   "metadata": {},
   "source": [
    "### The following code adds two player instances to a manager instance\n",
    "\n",
    "### A Manager <font color = 'red'> has </font> SoccerPlayer(s)\n",
    "\n",
    "### You can store object instances in a list. \n"
   ]
  },
  {
   "cell_type": "code",
   "execution_count": null,
   "metadata": {},
   "outputs": [],
   "source": [
    "ibrahimovic = SoccerPlayer('Ibrahimovic',10)\n",
    "pereira = SoccerPlayer('Pereira', 15)\n",
    "\n",
    "morinho_manager.add_player(ibrahimovic)\n",
    "morinho_manager.add_player(pereira)\n",
    "for i in morinho_manager.starting_lineup:\n",
    "    print(i.name)"
   ]
  },
  {
   "cell_type": "markdown",
   "metadata": {},
   "source": [
    "## Clicker Question \n",
    "\n",
    "## In the following class names, which would most likely be a has-a relationship? \n",
    "\n",
    "### (a) Vehicle and Car \n",
    "### (b) Aircraft and Drone \n",
    "### (c) TennisPlayer and Racket \n",
    "### (d)  Periodical and Magazine\n",
    "\n",
    "#### End"
   ]
  }
 ],
 "metadata": {
  "kernelspec": {
   "display_name": "Python 3",
   "language": "python",
   "name": "python3"
  },
  "language_info": {
   "codemirror_mode": {
    "name": "ipython",
    "version": 3
   },
   "file_extension": ".py",
   "mimetype": "text/x-python",
   "name": "python",
   "nbconvert_exporter": "python",
   "pygments_lexer": "ipython3",
   "version": "3.5.2"
  }
 },
 "nbformat": 4,
 "nbformat_minor": 2
}
